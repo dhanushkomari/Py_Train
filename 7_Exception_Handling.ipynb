{
 "cells": [
  {
   "cell_type": "markdown",
   "id": "b769888a-ecf8-44a5-bad2-6848287e0846",
   "metadata": {},
   "source": [
    "# Exception Handling\n",
    "* Exception is nothing but an error\n",
    "* Exception handling is defined as how we are handling the errors.\n",
    "* Types of Errors:\n",
    "  * Syntax Errors\n",
    "  * Name Errors\n",
    "  * Type Errors\n",
    "  * Index Errors\n",
    "  * Key Errors\n",
    "  * Value Errors\n",
    "  * Attribute Errors\n",
    "  * IO Error\n",
    "  * ZeroDivision Errors\n",
    "  * Import Errors\n",
    " \n",
    "* try, except, finally\n",
    "* except will only works when the try block is failed, whereas fnally block is executed always."
   ]
  },
  {
   "cell_type": "code",
   "execution_count": 6,
   "id": "368f7ece-d0cc-4e36-b8f6-ca63716189b1",
   "metadata": {},
   "outputs": [
    {
     "ename": "NameError",
     "evalue": "name 'pritn' is not defined",
     "output_type": "error",
     "traceback": [
      "\u001b[1;31m---------------------------------------------------------------------------\u001b[0m",
      "\u001b[1;31mNameError\u001b[0m                                 Traceback (most recent call last)",
      "Cell \u001b[1;32mIn[6], line 1\u001b[0m\n\u001b[1;32m----> 1\u001b[0m \u001b[43mpritn\u001b[49m(\u001b[38;5;124m\"\u001b[39m\u001b[38;5;124mDhanush\u001b[39m\u001b[38;5;124m\"\u001b[39m)\n",
      "\u001b[1;31mNameError\u001b[0m: name 'pritn' is not defined"
     ]
    }
   ],
   "source": [
    "pritn(\"Dhanush\")"
   ]
  },
  {
   "cell_type": "code",
   "execution_count": 7,
   "id": "e141d9ee-b8d3-49f7-a751-50b7be93970a",
   "metadata": {},
   "outputs": [
    {
     "ename": "SyntaxError",
     "evalue": "invalid syntax (2572104303.py, line 1)",
     "output_type": "error",
     "traceback": [
      "\u001b[1;36m  Cell \u001b[1;32mIn[7], line 1\u001b[1;36m\u001b[0m\n\u001b[1;33m    for i inn range(1, 10):\u001b[0m\n\u001b[1;37m          ^\u001b[0m\n\u001b[1;31mSyntaxError\u001b[0m\u001b[1;31m:\u001b[0m invalid syntax\n"
     ]
    }
   ],
   "source": [
    "for i inn range(1, 10):\n",
    "    print(i)"
   ]
  },
  {
   "cell_type": "code",
   "execution_count": 9,
   "id": "1bbd1b2b-9107-45e3-985a-a59f43121312",
   "metadata": {},
   "outputs": [
    {
     "ename": "ValueError",
     "evalue": "invalid literal for int() with base 10: 'Dhanush'",
     "output_type": "error",
     "traceback": [
      "\u001b[1;31m---------------------------------------------------------------------------\u001b[0m",
      "\u001b[1;31mValueError\u001b[0m                                Traceback (most recent call last)",
      "Cell \u001b[1;32mIn[9], line 1\u001b[0m\n\u001b[1;32m----> 1\u001b[0m \u001b[38;5;28;43mint\u001b[39;49m\u001b[43m(\u001b[49m\u001b[38;5;124;43m\"\u001b[39;49m\u001b[38;5;124;43mDhanush\u001b[39;49m\u001b[38;5;124;43m\"\u001b[39;49m\u001b[43m)\u001b[49m\n",
      "\u001b[1;31mValueError\u001b[0m: invalid literal for int() with base 10: 'Dhanush'"
     ]
    }
   ],
   "source": [
    "int(\"Dhanush\")"
   ]
  },
  {
   "cell_type": "code",
   "execution_count": 11,
   "id": "b523dfde-31be-4a11-8c94-e2eb1b06cf51",
   "metadata": {},
   "outputs": [
    {
     "ename": "TypeError",
     "evalue": "unsupported operand type(s) for +: 'int' and 'str'",
     "output_type": "error",
     "traceback": [
      "\u001b[1;31m---------------------------------------------------------------------------\u001b[0m",
      "\u001b[1;31mTypeError\u001b[0m                                 Traceback (most recent call last)",
      "Cell \u001b[1;32mIn[11], line 3\u001b[0m\n\u001b[0;32m      1\u001b[0m \u001b[38;5;28;01mdef\u001b[39;00m \u001b[38;5;21madd\u001b[39m(a, b):\n\u001b[0;32m      2\u001b[0m     \u001b[38;5;28;01mreturn\u001b[39;00m a\u001b[38;5;241m+\u001b[39mb\n\u001b[1;32m----> 3\u001b[0m \u001b[43madd\u001b[49m\u001b[43m(\u001b[49m\u001b[38;5;241;43m1\u001b[39;49m\u001b[43m,\u001b[49m\u001b[43m \u001b[49m\u001b[38;5;124;43m\"\u001b[39;49m\u001b[38;5;124;43mNiharika\u001b[39;49m\u001b[38;5;124;43m\"\u001b[39;49m\u001b[43m)\u001b[49m\n",
      "Cell \u001b[1;32mIn[11], line 2\u001b[0m, in \u001b[0;36madd\u001b[1;34m(a, b)\u001b[0m\n\u001b[0;32m      1\u001b[0m \u001b[38;5;28;01mdef\u001b[39;00m \u001b[38;5;21madd\u001b[39m(a, b):\n\u001b[1;32m----> 2\u001b[0m     \u001b[38;5;28;01mreturn\u001b[39;00m \u001b[43ma\u001b[49m\u001b[38;5;241;43m+\u001b[39;49m\u001b[43mb\u001b[49m\n",
      "\u001b[1;31mTypeError\u001b[0m: unsupported operand type(s) for +: 'int' and 'str'"
     ]
    }
   ],
   "source": [
    "def add(a, b):\n",
    "    return a+b\n",
    "add(1, \"Niharika\")"
   ]
  },
  {
   "cell_type": "code",
   "execution_count": 13,
   "id": "f29d86dd-3363-4abf-ae92-28512230f1f7",
   "metadata": {},
   "outputs": [
    {
     "ename": "IndexError",
     "evalue": "list index out of range",
     "output_type": "error",
     "traceback": [
      "\u001b[1;31m---------------------------------------------------------------------------\u001b[0m",
      "\u001b[1;31mIndexError\u001b[0m                                Traceback (most recent call last)",
      "Cell \u001b[1;32mIn[13], line 2\u001b[0m\n\u001b[0;32m      1\u001b[0m a \u001b[38;5;241m=\u001b[39m [\u001b[38;5;241m1\u001b[39m, \u001b[38;5;241m2\u001b[39m, \u001b[38;5;241m3\u001b[39m]\n\u001b[1;32m----> 2\u001b[0m \u001b[43ma\u001b[49m\u001b[43m[\u001b[49m\u001b[38;5;241;43m3\u001b[39;49m\u001b[43m]\u001b[49m\n",
      "\u001b[1;31mIndexError\u001b[0m: list index out of range"
     ]
    }
   ],
   "source": [
    "a = [1, 2, 3]\n",
    "a[3]"
   ]
  },
  {
   "cell_type": "code",
   "execution_count": 16,
   "id": "d3046f33-b4da-4a90-845e-cd50c0194d8a",
   "metadata": {},
   "outputs": [
    {
     "data": {
      "text/plain": [
       "100"
      ]
     },
     "execution_count": 16,
     "metadata": {},
     "output_type": "execute_result"
    }
   ],
   "source": [
    "b = {\"Value_1\": 100,\"value_2\":200}\n",
    "b['Value_1']"
   ]
  },
  {
   "cell_type": "code",
   "execution_count": 17,
   "id": "f08fed7b-9be3-41ae-bf3c-98cb9f17c9f1",
   "metadata": {},
   "outputs": [
    {
     "ename": "KeyError",
     "evalue": "'name'",
     "output_type": "error",
     "traceback": [
      "\u001b[1;31m---------------------------------------------------------------------------\u001b[0m",
      "\u001b[1;31mKeyError\u001b[0m                                  Traceback (most recent call last)",
      "Cell \u001b[1;32mIn[17], line 1\u001b[0m\n\u001b[1;32m----> 1\u001b[0m \u001b[43mb\u001b[49m\u001b[43m[\u001b[49m\u001b[38;5;124;43m'\u001b[39;49m\u001b[38;5;124;43mname\u001b[39;49m\u001b[38;5;124;43m'\u001b[39;49m\u001b[43m]\u001b[49m\n",
      "\u001b[1;31mKeyError\u001b[0m: 'name'"
     ]
    }
   ],
   "source": [
    "b['name']"
   ]
  },
  {
   "cell_type": "code",
   "execution_count": 18,
   "id": "2e64bfdb-173f-4267-bf97-843990f7c19d",
   "metadata": {},
   "outputs": [],
   "source": [
    "import test"
   ]
  },
  {
   "cell_type": "code",
   "execution_count": 19,
   "id": "935518ce-9137-4373-b193-8af5b092829a",
   "metadata": {},
   "outputs": [
    {
     "ename": "ModuleNotFoundError",
     "evalue": "No module named 'test1'",
     "output_type": "error",
     "traceback": [
      "\u001b[1;31m---------------------------------------------------------------------------\u001b[0m",
      "\u001b[1;31mModuleNotFoundError\u001b[0m                       Traceback (most recent call last)",
      "Cell \u001b[1;32mIn[19], line 1\u001b[0m\n\u001b[1;32m----> 1\u001b[0m \u001b[38;5;28;01mimport\u001b[39;00m \u001b[38;5;21;01mtest1\u001b[39;00m\n",
      "\u001b[1;31mModuleNotFoundError\u001b[0m: No module named 'test1'"
     ]
    }
   ],
   "source": [
    "import test1"
   ]
  },
  {
   "cell_type": "code",
   "execution_count": 20,
   "id": "ff544046-ebbf-452b-ae6f-b134aef7ee3d",
   "metadata": {},
   "outputs": [
    {
     "ename": "ZeroDivisionError",
     "evalue": "division by zero",
     "output_type": "error",
     "traceback": [
      "\u001b[1;31m---------------------------------------------------------------------------\u001b[0m",
      "\u001b[1;31mZeroDivisionError\u001b[0m                         Traceback (most recent call last)",
      "Cell \u001b[1;32mIn[20], line 1\u001b[0m\n\u001b[1;32m----> 1\u001b[0m \u001b[38;5;241;43m100\u001b[39;49m\u001b[38;5;241;43m/\u001b[39;49m\u001b[38;5;241;43m0\u001b[39;49m\n",
      "\u001b[1;31mZeroDivisionError\u001b[0m: division by zero"
     ]
    }
   ],
   "source": [
    "100/0"
   ]
  },
  {
   "cell_type": "code",
   "execution_count": 21,
   "id": "cb0e7a1e-7de2-416d-8b92-d18ef8083303",
   "metadata": {},
   "outputs": [
    {
     "ename": "TypeError",
     "evalue": "unsupported operand type(s) for /: 'str' and 'int'",
     "output_type": "error",
     "traceback": [
      "\u001b[1;31m---------------------------------------------------------------------------\u001b[0m",
      "\u001b[1;31mTypeError\u001b[0m                                 Traceback (most recent call last)",
      "Cell \u001b[1;32mIn[21], line 1\u001b[0m\n\u001b[1;32m----> 1\u001b[0m \u001b[38;5;124;43m'\u001b[39;49m\u001b[38;5;124;43mdhanush\u001b[39;49m\u001b[38;5;124;43m'\u001b[39;49m\u001b[38;5;241;43m/\u001b[39;49m\u001b[38;5;241;43m0\u001b[39;49m\n",
      "\u001b[1;31mTypeError\u001b[0m: unsupported operand type(s) for /: 'str' and 'int'"
     ]
    }
   ],
   "source": [
    "'dhanush'/0"
   ]
  },
  {
   "cell_type": "code",
   "execution_count": 23,
   "id": "09ad976b-4e98-49ea-8e3a-4ac2e8d00e12",
   "metadata": {},
   "outputs": [
    {
     "ename": "AttributeError",
     "evalue": "'str' object has no attribute 'startwith'",
     "output_type": "error",
     "traceback": [
      "\u001b[1;31m---------------------------------------------------------------------------\u001b[0m",
      "\u001b[1;31mAttributeError\u001b[0m                            Traceback (most recent call last)",
      "Cell \u001b[1;32mIn[23], line 1\u001b[0m\n\u001b[1;32m----> 1\u001b[0m \u001b[38;5;124;43m\"\u001b[39;49m\u001b[38;5;124;43mDhanush\u001b[39;49m\u001b[38;5;124;43m\"\u001b[39;49m\u001b[38;5;241;43m.\u001b[39;49m\u001b[43mstartwith\u001b[49m(\u001b[38;5;124m\"\u001b[39m\u001b[38;5;124mDh\u001b[39m\u001b[38;5;124m\"\u001b[39m)\n",
      "\u001b[1;31mAttributeError\u001b[0m: 'str' object has no attribute 'startwith'"
     ]
    }
   ],
   "source": [
    "\"Dhanush\".startwith(\"Dh\")"
   ]
  },
  {
   "cell_type": "code",
   "execution_count": 31,
   "id": "fbdc4543-00c6-44a8-a34b-793a4ef89b76",
   "metadata": {},
   "outputs": [
    {
     "name": "stdin",
     "output_type": "stream",
     "text": [
      "Enter value-1:  jsflkajdflk\n"
     ]
    }
   ],
   "source": [
    "try:\n",
    "    password = int(input(\"Enter value-1: \"))\n",
    "except:\n",
    "    pass"
   ]
  },
  {
   "cell_type": "code",
   "execution_count": 33,
   "id": "72a6d37d-fe76-41fc-8afd-7a5ea37e6eb5",
   "metadata": {
    "scrolled": true
   },
   "outputs": [
    {
     "name": "stdin",
     "output_type": "stream",
     "text": [
      "Enter value-1:  jdakejfkjsa\n"
     ]
    },
    {
     "ename": "ValueError",
     "evalue": "invalid literal for int() with base 10: 'jdakejfkjsa'",
     "output_type": "error",
     "traceback": [
      "\u001b[1;31m---------------------------------------------------------------------------\u001b[0m",
      "\u001b[1;31mValueError\u001b[0m                                Traceback (most recent call last)",
      "Cell \u001b[1;32mIn[33], line 2\u001b[0m\n\u001b[0;32m      1\u001b[0m \u001b[38;5;28;01mtry\u001b[39;00m:\n\u001b[1;32m----> 2\u001b[0m     password \u001b[38;5;241m=\u001b[39m \u001b[38;5;28;43mint\u001b[39;49m\u001b[43m(\u001b[49m\u001b[38;5;28;43minput\u001b[39;49m\u001b[43m(\u001b[49m\u001b[38;5;124;43m\"\u001b[39;49m\u001b[38;5;124;43mEnter value-1: \u001b[39;49m\u001b[38;5;124;43m\"\u001b[39;49m\u001b[43m)\u001b[49m\u001b[43m)\u001b[49m\n\u001b[0;32m      3\u001b[0m \u001b[38;5;28;01mexcept\u001b[39;00m \u001b[38;5;167;01mKeyError\u001b[39;00m:\n\u001b[0;32m      4\u001b[0m     \u001b[38;5;28;01mpass\u001b[39;00m\n",
      "\u001b[1;31mValueError\u001b[0m: invalid literal for int() with base 10: 'jdakejfkjsa'"
     ]
    }
   ],
   "source": [
    "try:\n",
    "    password = int(input(\"Enter value-1: \"))\n",
    "except KeyError:\n",
    "    pass"
   ]
  },
  {
   "cell_type": "code",
   "execution_count": 34,
   "id": "dbd8b5c5-13bb-4d65-888d-429eaddf9ead",
   "metadata": {},
   "outputs": [
    {
     "name": "stdin",
     "output_type": "stream",
     "text": [
      "Enter a value:  10\n",
      "Enter b Value:  12\n"
     ]
    },
    {
     "name": "stdout",
     "output_type": "stream",
     "text": [
      "The division of  10 and 12 is:  0.8333333333333334\n"
     ]
    }
   ],
   "source": [
    "a = int(input(\"Enter a value: \"))\n",
    "b = int(input(\"Enter b Value: \"))\n",
    "\n",
    "print(\"The division of \", a,  \"and\", b, \"is: \", a/b)"
   ]
  },
  {
   "cell_type": "code",
   "execution_count": 38,
   "id": "1ff13103-d26c-437a-81af-749f57ab2812",
   "metadata": {},
   "outputs": [
    {
     "name": "stdin",
     "output_type": "stream",
     "text": [
      "Enter a value:  12\n",
      "Enter b Value:  0\n"
     ]
    },
    {
     "ename": "ZeroDivisionError",
     "evalue": "division by zero",
     "output_type": "error",
     "traceback": [
      "\u001b[1;31m---------------------------------------------------------------------------\u001b[0m",
      "\u001b[1;31mZeroDivisionError\u001b[0m                         Traceback (most recent call last)",
      "Cell \u001b[1;32mIn[38], line 5\u001b[0m\n\u001b[0;32m      2\u001b[0m b \u001b[38;5;241m=\u001b[39m \u001b[38;5;28mint\u001b[39m(\u001b[38;5;28minput\u001b[39m(\u001b[38;5;124m\"\u001b[39m\u001b[38;5;124mEnter b Value: \u001b[39m\u001b[38;5;124m\"\u001b[39m))\n\u001b[0;32m      4\u001b[0m \u001b[38;5;28;01mtry\u001b[39;00m:\n\u001b[1;32m----> 5\u001b[0m     \u001b[38;5;28mprint\u001b[39m(\u001b[38;5;124m\"\u001b[39m\u001b[38;5;124mThe division of \u001b[39m\u001b[38;5;124m\"\u001b[39m, a,  \u001b[38;5;124m\"\u001b[39m\u001b[38;5;124mand\u001b[39m\u001b[38;5;124m\"\u001b[39m, b, \u001b[38;5;124m\"\u001b[39m\u001b[38;5;124mis: \u001b[39m\u001b[38;5;124m\"\u001b[39m, \u001b[43ma\u001b[49m\u001b[38;5;241;43m/\u001b[39;49m\u001b[43mb\u001b[49m)\n\u001b[0;32m      6\u001b[0m \u001b[38;5;28;01mexcept\u001b[39;00m \u001b[38;5;167;01mValueError\u001b[39;00m:\n\u001b[0;32m      7\u001b[0m     \u001b[38;5;28mprint\u001b[39m(\u001b[38;5;124m\"\u001b[39m\u001b[38;5;124mWe catch a zero division error here, so we are switching the values\u001b[39m\u001b[38;5;124m\"\u001b[39m, \u001b[38;5;124m\"\u001b[39m\u001b[38;5;124mThe division of \u001b[39m\u001b[38;5;124m\"\u001b[39m, b,  \u001b[38;5;124m\"\u001b[39m\u001b[38;5;124mand\u001b[39m\u001b[38;5;124m\"\u001b[39m, a, \u001b[38;5;124m\"\u001b[39m\u001b[38;5;124mis: \u001b[39m\u001b[38;5;124m\"\u001b[39m, b\u001b[38;5;241m/\u001b[39ma)\n",
      "\u001b[1;31mZeroDivisionError\u001b[0m: division by zero"
     ]
    }
   ],
   "source": [
    "a = int(input(\"Enter a value: \"))\n",
    "b = int(input(\"Enter b Value: \"))\n",
    "\n",
    "try:\n",
    "    print(\"The division of \", a,  \"and\", b, \"is: \", a/b)\n",
    "except ValueError:\n",
    "    print(\"We catch a zero division error here, so we are switching the values\", \"The division of \", b,  \"and\", a, \"is: \", b/a)"
   ]
  },
  {
   "cell_type": "code",
   "execution_count": 39,
   "id": "0d8e8ac2-9d10-46e3-bd97-1f7b759f9d69",
   "metadata": {},
   "outputs": [
    {
     "name": "stdin",
     "output_type": "stream",
     "text": [
      "Enter a value:  12\n",
      "Enter b Value:  0\n"
     ]
    },
    {
     "name": "stdout",
     "output_type": "stream",
     "text": [
      "We catch a zero division error here, so we are switching the values The division of  0 and 12 is:  0.0\n"
     ]
    }
   ],
   "source": [
    "a = int(input(\"Enter a value: \"))\n",
    "b = int(input(\"Enter b Value: \"))\n",
    "\n",
    "try:\n",
    "    print(\"The division of \", a,  \"and\", b, \"is: \", a/b)\n",
    "except ZeroDivisionError:\n",
    "    print(\"We catch a zero division error here, so we are switching the values\", \"The division of \", b,  \"and\", a, \"is: \", b/a)"
   ]
  },
  {
   "cell_type": "code",
   "execution_count": 40,
   "id": "56933051-d993-472b-a03b-26f83235855b",
   "metadata": {},
   "outputs": [
    {
     "name": "stdin",
     "output_type": "stream",
     "text": [
      "Enter a value:  12\n",
      "Enter b Value:  0\n"
     ]
    },
    {
     "name": "stdout",
     "output_type": "stream",
     "text": [
      "We catch a zero division error here, so we are switching the values The division of  0 and 12 is:  0.0\n"
     ]
    }
   ],
   "source": [
    "a = int(input(\"Enter a value: \"))\n",
    "b = int(input(\"Enter b Value: \"))\n",
    "\n",
    "try:\n",
    "    print(\"The division of \", a,  \"and\", b, \"is: \", a/b)\n",
    "except:\n",
    "    print(\"We catch a zero division error here, so we are switching the values\", \"The division of \", b,  \"and\", a, \"is: \", b/a)"
   ]
  },
  {
   "cell_type": "code",
   "execution_count": 41,
   "id": "14f7d35f-3284-47be-b660-20cbb194948c",
   "metadata": {},
   "outputs": [
    {
     "name": "stdout",
     "output_type": "stream",
     "text": [
      "Error: Index out of range!\n"
     ]
    }
   ],
   "source": [
    "try:\n",
    "    my_list = [1, 2, 3]\n",
    "    print(my_list[3])\n",
    "except IndexError:\n",
    "    print(\"Error: Index out of range!\")\n"
   ]
  },
  {
   "cell_type": "code",
   "execution_count": 47,
   "id": "1e0d588c-36ec-45c1-890a-5f0a4f2c4a8a",
   "metadata": {},
   "outputs": [
    {
     "name": "stdout",
     "output_type": "stream",
     "text": [
      "2\n",
      "Finally execute everytime\n"
     ]
    }
   ],
   "source": [
    "try:\n",
    "    my_list = [1, 2, 3]\n",
    "    print(my_list[1])\n",
    "except:\n",
    "    print(\"Error: Index out of range!\")\n",
    "finally:\n",
    "    print(\"Finally execute everytime\")"
   ]
  },
  {
   "cell_type": "code",
   "execution_count": 48,
   "id": "00f9a771-2b0d-4f36-95ff-8ea9c742f6a0",
   "metadata": {},
   "outputs": [
    {
     "name": "stdout",
     "output_type": "stream",
     "text": [
      "Error: Index out of range!\n",
      "Finally execute everytime\n"
     ]
    }
   ],
   "source": [
    "try:\n",
    "    my_list = [1, 2, 3]\n",
    "    print(my_list[5])\n",
    "except:\n",
    "    print(\"Error: Index out of range!\")\n",
    "finally:\n",
    "    print(\"Finally execute everytime\")"
   ]
  },
  {
   "cell_type": "code",
   "execution_count": 61,
   "id": "bfe53089-819a-4eae-bdc0-702708ef1873",
   "metadata": {},
   "outputs": [
    {
     "name": "stdout",
     "output_type": "stream",
     "text": [
      "In exc-1 can only concatenate str (not \"int\") to str\n",
      "In exc-2 can only concatenate str (not \"int\") to str\n",
      "Dhanush1\n"
     ]
    }
   ],
   "source": [
    "try:\n",
    "    print(\"Dhanush\"+1)\n",
    "except Exception as e:\n",
    "    print(\"In exc-1\", e)\n",
    "    try:\n",
    "        print(\"Dhanush\"+10)\n",
    "    except Exception as e1:\n",
    "        print(\"In exc-2\", e1)\n",
    "        try:\n",
    "            print(\"Dhanush\"+100)\n",
    "        except:\n",
    "            print(\"Dhanush\"+str(1))\n"
   ]
  },
  {
   "cell_type": "code",
   "execution_count": 74,
   "id": "d72a4068-3e6e-44e1-84e4-35c1e3eb08ce",
   "metadata": {},
   "outputs": [
    {
     "name": "stdout",
     "output_type": "stream",
     "text": [
      "0 0\n",
      "0 1\n",
      "0 2\n",
      "0 3\n",
      "\n",
      "1 0\n",
      "1 1\n",
      "1 2\n",
      "1 3\n",
      "\n",
      "2 0\n",
      "2 1\n",
      "2 2\n",
      "2 3\n",
      "\n",
      "3 0\n",
      "3 1\n",
      "3 2\n",
      "3 3\n",
      "\n",
      "4 0\n",
      "4 1\n",
      "4 2\n",
      "4 3\n",
      "\n",
      "5 0\n",
      "5 1\n",
      "5 2\n",
      "5 3\n",
      "\n",
      "6 0\n",
      "6 1\n",
      "6 2\n",
      "6 3\n",
      "\n"
     ]
    }
   ],
   "source": [
    "for i in range(7):\n",
    "    for j in range(4):        \n",
    "        print(i, j)\n",
    "    print()"
   ]
  },
  {
   "cell_type": "code",
   "execution_count": null,
   "id": "8b670c24-20fb-4527-af5b-7902b11c373a",
   "metadata": {},
   "outputs": [],
   "source": []
  }
 ],
 "metadata": {
  "kernelspec": {
   "display_name": "Python 3 (ipykernel)",
   "language": "python",
   "name": "python3"
  },
  "language_info": {
   "codemirror_mode": {
    "name": "ipython",
    "version": 3
   },
   "file_extension": ".py",
   "mimetype": "text/x-python",
   "name": "python",
   "nbconvert_exporter": "python",
   "pygments_lexer": "ipython3",
   "version": "3.10.11"
  }
 },
 "nbformat": 4,
 "nbformat_minor": 5
}
