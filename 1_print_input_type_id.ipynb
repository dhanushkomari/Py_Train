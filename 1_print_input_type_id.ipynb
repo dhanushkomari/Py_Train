{
 "cells": [
  {
   "cell_type": "code",
   "execution_count": 5,
   "id": "261c222b-a65a-4ff5-b61e-afe26bf6eb41",
   "metadata": {},
   "outputs": [],
   "source": [
    "# Python Programming"
   ]
  },
  {
   "cell_type": "code",
   "execution_count": 6,
   "id": "a93a77b2-88c3-4105-8fe8-24b2f6c456be",
   "metadata": {},
   "outputs": [
    {
     "name": "stdout",
     "output_type": "stream",
     "text": [
      "python\n"
     ]
    }
   ],
   "source": [
    "print(\"python\")"
   ]
  },
  {
   "cell_type": "code",
   "execution_count": 7,
   "id": "44fe1317-677d-43c4-9237-d294c06830ad",
   "metadata": {},
   "outputs": [
    {
     "name": "stdout",
     "output_type": "stream",
     "text": [
      "Python\n"
     ]
    }
   ],
   "source": [
    "name = \"Python\"\n",
    "print(name)"
   ]
  },
  {
   "cell_type": "code",
   "execution_count": 8,
   "id": "b03f9393-ad41-464e-bb58-24cc65a9a383",
   "metadata": {},
   "outputs": [],
   "source": [
    "a = 100\n",
    "b = 200\n",
    "name = \"Programming\""
   ]
  },
  {
   "cell_type": "code",
   "execution_count": 10,
   "id": "c8ad1e54-0113-43b9-b458-3d42e3f06d85",
   "metadata": {},
   "outputs": [
    {
     "data": {
      "text/plain": [
       "str"
      ]
     },
     "execution_count": 10,
     "metadata": {},
     "output_type": "execute_result"
    }
   ],
   "source": [
    "type(name)"
   ]
  },
  {
   "cell_type": "code",
   "execution_count": 11,
   "id": "5b58bf11-66dc-44fd-8853-565ad6965a56",
   "metadata": {},
   "outputs": [
    {
     "name": "stdout",
     "output_type": "stream",
     "text": [
      "100\n"
     ]
    }
   ],
   "source": [
    "print(a)"
   ]
  },
  {
   "cell_type": "code",
   "execution_count": 12,
   "id": "e03128fc-1c91-4714-bb9b-ab0db40303bf",
   "metadata": {},
   "outputs": [
    {
     "data": {
      "text/plain": [
       "int"
      ]
     },
     "execution_count": 12,
     "metadata": {},
     "output_type": "execute_result"
    }
   ],
   "source": [
    "type(a)"
   ]
  },
  {
   "cell_type": "code",
   "execution_count": 13,
   "id": "8a652b7e-752f-498b-9271-57c7f00a357e",
   "metadata": {},
   "outputs": [
    {
     "data": {
      "text/plain": [
       "float"
      ]
     },
     "execution_count": 13,
     "metadata": {},
     "output_type": "execute_result"
    }
   ],
   "source": [
    "type(100.45)"
   ]
  },
  {
   "cell_type": "code",
   "execution_count": 16,
   "id": "9500ffd9-706a-4e90-b2b7-4d77b5643a1c",
   "metadata": {},
   "outputs": [
    {
     "name": "stdout",
     "output_type": "stream",
     "text": [
      "Hyd\n"
     ]
    }
   ],
   "source": [
    "Address = \"Hyd\"\n",
    "print(Address)"
   ]
  },
  {
   "cell_type": "code",
   "execution_count": 17,
   "id": "110d47ce-358d-4022-8a41-eb116d5fe406",
   "metadata": {},
   "outputs": [],
   "source": [
    "# print() --> print is used to display the given value or variable.\n",
    "# type()  --> type is used to check the data type of the varaible or value."
   ]
  },
  {
   "cell_type": "code",
   "execution_count": 1,
   "id": "1bf6a9ad-4bbb-41db-8191-5c253720f406",
   "metadata": {},
   "outputs": [
    {
     "name": "stdout",
     "output_type": "stream",
     "text": [
      "Python\n"
     ]
    }
   ],
   "source": [
    "#input() --> input function is used to take the input from the end user\n",
    "\n",
    "name = 'Python' # varible is used to store the data\n",
    "print(name)"
   ]
  },
  {
   "cell_type": "code",
   "execution_count": 2,
   "id": "629288c5-c753-4c12-b0b4-936d77a37a7e",
   "metadata": {},
   "outputs": [
    {
     "name": "stdin",
     "output_type": "stream",
     "text": [
      " Programming\n"
     ]
    }
   ],
   "source": [
    "name1 = input()"
   ]
  },
  {
   "cell_type": "code",
   "execution_count": 3,
   "id": "7fd39e7b-1355-4fcc-b05c-70d08432772e",
   "metadata": {},
   "outputs": [
    {
     "name": "stdout",
     "output_type": "stream",
     "text": [
      "Programming\n"
     ]
    }
   ],
   "source": [
    "print(name1)"
   ]
  },
  {
   "cell_type": "code",
   "execution_count": 4,
   "id": "58103bd4-5646-4c43-b2a6-432d64e67816",
   "metadata": {},
   "outputs": [
    {
     "name": "stdin",
     "output_type": "stream",
     "text": [
      "Enter your name: Python Programming\n"
     ]
    }
   ],
   "source": [
    "name2 = input(\"Enter your name:\")"
   ]
  },
  {
   "cell_type": "code",
   "execution_count": 5,
   "id": "f9dbacf3-f9f2-4b68-995e-7f7ced122319",
   "metadata": {},
   "outputs": [
    {
     "name": "stdout",
     "output_type": "stream",
     "text": [
      "Python Programming\n"
     ]
    }
   ],
   "source": [
    "print(name2)"
   ]
  },
  {
   "cell_type": "code",
   "execution_count": 9,
   "id": "48d3e7ce-b7e9-4ec0-9723-fb5a28d084c8",
   "metadata": {},
   "outputs": [
    {
     "name": "stdout",
     "output_type": "stream",
     "text": [
      "Python : Programming : Python Programming\n"
     ]
    }
   ],
   "source": [
    "print(name, \":\",name1, \":\", name2)"
   ]
  },
  {
   "cell_type": "code",
   "execution_count": 10,
   "id": "b7423896-4495-41ca-ae23-c38d0d765460",
   "metadata": {},
   "outputs": [
    {
     "name": "stdout",
     "output_type": "stream",
     "text": [
      "Python:Programming :Python Programming\n"
     ]
    }
   ],
   "source": [
    "print(name+ \":\"+name1, \":\"+name2)"
   ]
  },
  {
   "cell_type": "code",
   "execution_count": 11,
   "id": "5e985a99-ba3c-41cb-9c45-498c00d2862e",
   "metadata": {},
   "outputs": [],
   "source": [
    "#datatypes\n",
    "\n",
    "# Integer --> 1, 2, 100, 76666, 9899\n",
    "# float   --> 1.10, 2.98, 1000.56\n",
    "# string  --> 'abc', 'python123', \"Hello\", 'Xyz@12'\n",
    "# complex --> i+2j, 9+10j\n",
    "# boolean --> True, False"
   ]
  },
  {
   "cell_type": "code",
   "execution_count": 14,
   "id": "09eb931e-7951-42a1-8b0d-b9694746ddc4",
   "metadata": {},
   "outputs": [],
   "source": [
    "a = 100.55 # dynamic programming language"
   ]
  },
  {
   "cell_type": "code",
   "execution_count": 15,
   "id": "8a89fcd5-2b71-46dd-b470-3327dbd2408e",
   "metadata": {},
   "outputs": [
    {
     "data": {
      "text/plain": [
       "100.55"
      ]
     },
     "execution_count": 15,
     "metadata": {},
     "output_type": "execute_result"
    }
   ],
   "source": [
    "a"
   ]
  },
  {
   "cell_type": "code",
   "execution_count": 17,
   "id": "b9d9f5e2-12cc-450d-8375-061d0632f2fb",
   "metadata": {},
   "outputs": [
    {
     "name": "stdout",
     "output_type": "stream",
     "text": [
      "<class 'float'>\n"
     ]
    }
   ],
   "source": [
    "print(type(a))"
   ]
  },
  {
   "cell_type": "code",
   "execution_count": 19,
   "id": "40ff01ea-0643-4e5f-b67e-09b1324e3ce5",
   "metadata": {},
   "outputs": [
    {
     "name": "stdout",
     "output_type": "stream",
     "text": [
      "<class 'int'>\n"
     ]
    }
   ],
   "source": [
    "b = 99\n",
    "print(type(b))"
   ]
  },
  {
   "cell_type": "code",
   "execution_count": 20,
   "id": "1b9fbf03-59a4-4a24-b36c-9f8615dd861c",
   "metadata": {},
   "outputs": [
    {
     "name": "stdout",
     "output_type": "stream",
     "text": [
      "<class 'str'>\n"
     ]
    }
   ],
   "source": [
    "c = \"Hyd\"\n",
    "print(type(c))"
   ]
  },
  {
   "cell_type": "code",
   "execution_count": 21,
   "id": "8d829815-5efc-41df-9e54-11f2933e0e80",
   "metadata": {},
   "outputs": [
    {
     "name": "stdout",
     "output_type": "stream",
     "text": [
      "<class 'bool'>\n"
     ]
    }
   ],
   "source": [
    "d = True\n",
    "print(type(d))"
   ]
  },
  {
   "cell_type": "code",
   "execution_count": 23,
   "id": "f859d186-18f8-4126-abbb-082428935eef",
   "metadata": {},
   "outputs": [],
   "source": [
    "e = False"
   ]
  },
  {
   "cell_type": "code",
   "execution_count": 37,
   "id": "bb8f3635-5efe-479b-925f-b2bb773a6e6b",
   "metadata": {},
   "outputs": [
    {
     "name": "stdin",
     "output_type": "stream",
     "text": [
      "Enter f value: 199\n",
      "Enter g value: 299\n"
     ]
    },
    {
     "name": "stdout",
     "output_type": "stream",
     "text": [
      "199 <class 'int'>\n",
      "299.0 <class 'float'>\n"
     ]
    }
   ],
   "source": [
    "f = int(input(\"Enter f value:\"))\n",
    "g = float(input(\"Enter g value:\"))      # input function will take the input value as string defaultly\n",
    "\n",
    "print(f, type(f))\n",
    "print(g, type(g))"
   ]
  },
  {
   "cell_type": "code",
   "execution_count": 30,
   "id": "2b85560e-2eb9-408e-b970-107a71c701e8",
   "metadata": {},
   "outputs": [
    {
     "data": {
      "text/plain": [
       "199.0"
      ]
     },
     "execution_count": 30,
     "metadata": {},
     "output_type": "execute_result"
    }
   ],
   "source": [
    "float(199)"
   ]
  },
  {
   "cell_type": "code",
   "execution_count": 34,
   "id": "4f426334-4cd2-444e-928b-5b8b5273c928",
   "metadata": {},
   "outputs": [],
   "source": [
    "# Type conversion (or) Type casting --> The process of converting one datatype to another."
   ]
  },
  {
   "cell_type": "code",
   "execution_count": 48,
   "id": "0fabe186-81e7-44f2-a88c-b1e58721c512",
   "metadata": {},
   "outputs": [
    {
     "name": "stdin",
     "output_type": "stream",
     "text": [
      "Enter f value: 123\n",
      "Enter g value: 1234\n"
     ]
    },
    {
     "name": "stdout",
     "output_type": "stream",
     "text": [
      "123 1234.0\n"
     ]
    }
   ],
   "source": [
    "h = int(input(\"Enter f value:\"))\n",
    "i = float(input(\"Enter g value:\"))\n",
    "print(h, i)"
   ]
  },
  {
   "cell_type": "code",
   "execution_count": 43,
   "id": "4d584471-9ce4-4bc4-9a23-2864846aea3f",
   "metadata": {},
   "outputs": [
    {
     "data": {
      "text/plain": [
       "100"
      ]
     },
     "execution_count": 43,
     "metadata": {},
     "output_type": "execute_result"
    }
   ],
   "source": [
    "int(100.23)"
   ]
  },
  {
   "cell_type": "code",
   "execution_count": 51,
   "id": "0942a6b7-569e-442c-ba34-558089189adf",
   "metadata": {},
   "outputs": [
    {
     "data": {
      "text/plain": [
       "100.0"
      ]
     },
     "execution_count": 51,
     "metadata": {},
     "output_type": "execute_result"
    }
   ],
   "source": [
    "float(\"100\")"
   ]
  },
  {
   "cell_type": "code",
   "execution_count": 52,
   "id": "60aaafcc-e7e6-4e68-81f0-4b86dc1d5edd",
   "metadata": {},
   "outputs": [
    {
     "data": {
      "text/plain": [
       "int"
      ]
     },
     "execution_count": 52,
     "metadata": {},
     "output_type": "execute_result"
    }
   ],
   "source": [
    "type(1000)"
   ]
  },
  {
   "cell_type": "code",
   "execution_count": 54,
   "id": "fba0b403-cb7d-4c12-bd6d-2f37d628c8f2",
   "metadata": {},
   "outputs": [
    {
     "data": {
      "text/plain": [
       "str"
      ]
     },
     "execution_count": 54,
     "metadata": {},
     "output_type": "execute_result"
    }
   ],
   "source": [
    "type(str(1000))"
   ]
  },
  {
   "cell_type": "code",
   "execution_count": 59,
   "id": "ead421a4-4fc2-4d35-95a5-c98cf3d2e9f3",
   "metadata": {},
   "outputs": [],
   "source": [
    "ab = True"
   ]
  },
  {
   "cell_type": "code",
   "execution_count": 60,
   "id": "dfdd3c59-43d1-4024-9651-7723108114ff",
   "metadata": {},
   "outputs": [
    {
     "data": {
      "text/plain": [
       "True"
      ]
     },
     "execution_count": 60,
     "metadata": {},
     "output_type": "execute_result"
    }
   ],
   "source": [
    "ab"
   ]
  },
  {
   "cell_type": "code",
   "execution_count": 63,
   "id": "c84e848d-f280-456b-9a4e-20f3289f3910",
   "metadata": {},
   "outputs": [],
   "source": [
    "bc = False"
   ]
  },
  {
   "cell_type": "code",
   "execution_count": 64,
   "id": "14dc5d5f-b5ff-4e68-bf95-e56829935306",
   "metadata": {},
   "outputs": [
    {
     "data": {
      "text/plain": [
       "False"
      ]
     },
     "execution_count": 64,
     "metadata": {},
     "output_type": "execute_result"
    }
   ],
   "source": [
    "bc"
   ]
  },
  {
   "cell_type": "code",
   "execution_count": 69,
   "id": "1fbfc1c6-cfbe-4814-a2c8-be239f3fc553",
   "metadata": {},
   "outputs": [
    {
     "name": "stdout",
     "output_type": "stream",
     "text": [
      "100.55\n"
     ]
    }
   ],
   "source": [
    "cd = a\n",
    "print(cd)"
   ]
  },
  {
   "cell_type": "code",
   "execution_count": 71,
   "id": "18664118-a9ea-4c39-a0a6-1f7c8be69b8d",
   "metadata": {},
   "outputs": [
    {
     "name": "stdout",
     "output_type": "stream",
     "text": [
      "Dhanush\n"
     ]
    }
   ],
   "source": [
    "name_1 = \"Dhanush\""
   ]
  },
  {
   "cell_type": "code",
   "execution_count": 89,
   "id": "d87d31e5-ee24-4b1d-8cb8-0f8bf2a08439",
   "metadata": {},
   "outputs": [],
   "source": [
    "# # Naming conventions of variables\n",
    "# 1. Variable name needs to start with alphabet or _\n",
    "# 2. Varibale name does not contain special symbol except _\n",
    "# 3. Variable name cannot start with a number\n",
    "# 4. Varibale name can be a combination alphanumrics and _\n",
    "# 5. Variable name cannot contain whitespaces"
   ]
  },
  {
   "cell_type": "code",
   "execution_count": 79,
   "id": "e399add9-447d-4d1c-9f86-403695a17bfe",
   "metadata": {},
   "outputs": [],
   "source": [
    "address_city = \"Raidurg&Hyderabad\""
   ]
  },
  {
   "cell_type": "code",
   "execution_count": 80,
   "id": "db2cb01d-7089-45ef-8f68-8b24095af9b0",
   "metadata": {},
   "outputs": [
    {
     "data": {
      "text/plain": [
       "'Raidurg&Hyderabad'"
      ]
     },
     "execution_count": 80,
     "metadata": {},
     "output_type": "execute_result"
    }
   ],
   "source": [
    "address_city"
   ]
  },
  {
   "cell_type": "code",
   "execution_count": 84,
   "id": "853a2acb-4df9-4de4-a181-042571f8373b",
   "metadata": {},
   "outputs": [
    {
     "data": {
      "text/plain": [
       "'Hyderabad is \"capital\" of telangana'"
      ]
     },
     "execution_count": 84,
     "metadata": {},
     "output_type": "execute_result"
    }
   ],
   "source": [
    "'Hyderabad is \"capital\" of telangana'"
   ]
  },
  {
   "cell_type": "code",
   "execution_count": 86,
   "id": "309f71c7-189a-406d-9871-871e48e7acd7",
   "metadata": {},
   "outputs": [],
   "source": [
    "_____pincode = 500081"
   ]
  },
  {
   "cell_type": "code",
   "execution_count": 87,
   "id": "6a9ece31-8820-472f-bb41-a66bbe43380d",
   "metadata": {},
   "outputs": [],
   "source": [
    "pincode___ = 500081"
   ]
  },
  {
   "cell_type": "code",
   "execution_count": 88,
   "id": "5bbe989b-5a34-4319-abb6-086254f986ea",
   "metadata": {},
   "outputs": [
    {
     "ename": "SyntaxError",
     "evalue": "invalid syntax (493504647.py, line 1)",
     "output_type": "error",
     "traceback": [
      "\u001b[1;36m  Cell \u001b[1;32mIn[88], line 1\u001b[1;36m\u001b[0m\n\u001b[1;33m    pin code = 500081\u001b[0m\n\u001b[1;37m        ^\u001b[0m\n\u001b[1;31mSyntaxError\u001b[0m\u001b[1;31m:\u001b[0m invalid syntax\n"
     ]
    }
   ],
   "source": [
    "pin code = 500081"
   ]
  },
  {
   "cell_type": "code",
   "execution_count": 90,
   "id": "26c20d4d-c527-4781-a05a-ebcfcc93f7a9",
   "metadata": {},
   "outputs": [
    {
     "ename": "SyntaxError",
     "evalue": "cannot assign to expression here. Maybe you meant '==' instead of '='? (3124576353.py, line 1)",
     "output_type": "error",
     "traceback": [
      "\u001b[1;36m  Cell \u001b[1;32mIn[90], line 1\u001b[1;36m\u001b[0m\n\u001b[1;33m    pin-code = 500081\u001b[0m\n\u001b[1;37m    ^\u001b[0m\n\u001b[1;31mSyntaxError\u001b[0m\u001b[1;31m:\u001b[0m cannot assign to expression here. Maybe you meant '==' instead of '='?\n"
     ]
    }
   ],
   "source": [
    "pin-code = 500081"
   ]
  },
  {
   "cell_type": "code",
   "execution_count": 92,
   "id": "8437ee96-63b2-46c8-abc0-9602564dcc9d",
   "metadata": {},
   "outputs": [],
   "source": [
    "first_name = \"Dhanush\""
   ]
  },
  {
   "cell_type": "code",
   "execution_count": 93,
   "id": "0dd32217-eb82-4574-b3b3-4905a6152f9d",
   "metadata": {},
   "outputs": [],
   "source": [
    "address_city = \"HYD-IND\""
   ]
  },
  {
   "cell_type": "code",
   "execution_count": 94,
   "id": "7b9b078a-0758-41e4-84b6-a245c319a04b",
   "metadata": {},
   "outputs": [],
   "source": [
    "road_1 = 'Madhapur'"
   ]
  },
  {
   "cell_type": "code",
   "execution_count": 95,
   "id": "7670f4b2-2f87-464a-a67b-db64f33cf170",
   "metadata": {},
   "outputs": [],
   "source": [
    "road_2 = 'Cyber city'"
   ]
  },
  {
   "cell_type": "code",
   "execution_count": 96,
   "id": "5b8c5817-c99b-404c-b699-ce1c545b0391",
   "metadata": {},
   "outputs": [
    {
     "data": {
      "text/plain": [
       "2.4"
      ]
     },
     "execution_count": 96,
     "metadata": {},
     "output_type": "execute_result"
    }
   ],
   "source": [
    "12/5"
   ]
  },
  {
   "cell_type": "code",
   "execution_count": 97,
   "id": "56c0c6c4-868d-4dfc-a70f-58a10b238172",
   "metadata": {},
   "outputs": [
    {
     "ename": "SyntaxError",
     "evalue": "invalid syntax (430021990.py, line 1)",
     "output_type": "error",
     "traceback": [
      "\u001b[1;36m  Cell \u001b[1;32mIn[97], line 1\u001b[1;36m\u001b[0m\n\u001b[1;33m    (=, 100)\u001b[0m\n\u001b[1;37m     ^\u001b[0m\n\u001b[1;31mSyntaxError\u001b[0m\u001b[1;31m:\u001b[0m invalid syntax\n"
     ]
    }
   ],
   "source": [
    "/ = 100"
   ]
  },
  {
   "cell_type": "code",
   "execution_count": null,
   "id": "21dea891-d71c-4dca-859d-ba95e162eb13",
   "metadata": {},
   "outputs": [],
   "source": []
  }
 ],
 "metadata": {
  "kernelspec": {
   "display_name": "Python 3 (ipykernel)",
   "language": "python",
   "name": "python3"
  },
  "language_info": {
   "codemirror_mode": {
    "name": "ipython",
    "version": 3
   },
   "file_extension": ".py",
   "mimetype": "text/x-python",
   "name": "python",
   "nbconvert_exporter": "python",
   "pygments_lexer": "ipython3",
   "version": "3.10.11"
  }
 },
 "nbformat": 4,
 "nbformat_minor": 5
}
