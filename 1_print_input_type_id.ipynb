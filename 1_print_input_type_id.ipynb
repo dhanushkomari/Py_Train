{
 "cells": [
  {
   "cell_type": "code",
   "execution_count": 5,
   "id": "261c222b-a65a-4ff5-b61e-afe26bf6eb41",
   "metadata": {},
   "outputs": [],
   "source": [
    "# Python Programming"
   ]
  },
  {
   "cell_type": "code",
   "execution_count": 6,
   "id": "a93a77b2-88c3-4105-8fe8-24b2f6c456be",
   "metadata": {},
   "outputs": [
    {
     "name": "stdout",
     "output_type": "stream",
     "text": [
      "python\n"
     ]
    }
   ],
   "source": [
    "print(\"python\")"
   ]
  },
  {
   "cell_type": "code",
   "execution_count": 7,
   "id": "44fe1317-677d-43c4-9237-d294c06830ad",
   "metadata": {},
   "outputs": [
    {
     "name": "stdout",
     "output_type": "stream",
     "text": [
      "Python\n"
     ]
    }
   ],
   "source": [
    "name = \"Python\"\n",
    "print(name)"
   ]
  },
  {
   "cell_type": "code",
   "execution_count": 8,
   "id": "b03f9393-ad41-464e-bb58-24cc65a9a383",
   "metadata": {},
   "outputs": [],
   "source": [
    "a = 100\n",
    "b = 200\n",
    "name = \"Programming\""
   ]
  },
  {
   "cell_type": "code",
   "execution_count": 10,
   "id": "c8ad1e54-0113-43b9-b458-3d42e3f06d85",
   "metadata": {},
   "outputs": [
    {
     "data": {
      "text/plain": [
       "str"
      ]
     },
     "execution_count": 10,
     "metadata": {},
     "output_type": "execute_result"
    }
   ],
   "source": [
    "type(name)"
   ]
  },
  {
   "cell_type": "code",
   "execution_count": 11,
   "id": "5b58bf11-66dc-44fd-8853-565ad6965a56",
   "metadata": {},
   "outputs": [
    {
     "name": "stdout",
     "output_type": "stream",
     "text": [
      "100\n"
     ]
    }
   ],
   "source": [
    "print(a)"
   ]
  },
  {
   "cell_type": "code",
   "execution_count": 12,
   "id": "e03128fc-1c91-4714-bb9b-ab0db40303bf",
   "metadata": {},
   "outputs": [
    {
     "data": {
      "text/plain": [
       "int"
      ]
     },
     "execution_count": 12,
     "metadata": {},
     "output_type": "execute_result"
    }
   ],
   "source": [
    "type(a)"
   ]
  },
  {
   "cell_type": "code",
   "execution_count": 13,
   "id": "8a652b7e-752f-498b-9271-57c7f00a357e",
   "metadata": {},
   "outputs": [
    {
     "data": {
      "text/plain": [
       "float"
      ]
     },
     "execution_count": 13,
     "metadata": {},
     "output_type": "execute_result"
    }
   ],
   "source": [
    "type(100.45)"
   ]
  },
  {
   "cell_type": "code",
   "execution_count": 16,
   "id": "9500ffd9-706a-4e90-b2b7-4d77b5643a1c",
   "metadata": {},
   "outputs": [
    {
     "name": "stdout",
     "output_type": "stream",
     "text": [
      "Hyd\n"
     ]
    }
   ],
   "source": [
    "Address = \"Hyd\"\n",
    "print(Address)"
   ]
  },
  {
   "cell_type": "code",
   "execution_count": 17,
   "id": "110d47ce-358d-4022-8a41-eb116d5fe406",
   "metadata": {},
   "outputs": [],
   "source": [
    "# print() --> print is used to display the given value or variable.\n",
    "# type()  --> type is used to check the data type of the varaible or value."
   ]
  },
  {
   "cell_type": "code",
   "execution_count": 1,
   "id": "1bf6a9ad-4bbb-41db-8191-5c253720f406",
   "metadata": {},
   "outputs": [
    {
     "name": "stdout",
     "output_type": "stream",
     "text": [
      "Python\n"
     ]
    }
   ],
   "source": [
    "#input() --> input function is used to take the input from the end user\n",
    "\n",
    "name = 'Python' # varible is used to store the data\n",
    "print(name)"
   ]
  },
  {
   "cell_type": "code",
   "execution_count": 2,
   "id": "629288c5-c753-4c12-b0b4-936d77a37a7e",
   "metadata": {},
   "outputs": [
    {
     "name": "stdin",
     "output_type": "stream",
     "text": [
      " Programming\n"
     ]
    }
   ],
   "source": [
    "name1 = input()"
   ]
  },
  {
   "cell_type": "code",
   "execution_count": 3,
   "id": "7fd39e7b-1355-4fcc-b05c-70d08432772e",
   "metadata": {},
   "outputs": [
    {
     "name": "stdout",
     "output_type": "stream",
     "text": [
      "Programming\n"
     ]
    }
   ],
   "source": [
    "print(name1)"
   ]
  },
  {
   "cell_type": "code",
   "execution_count": 4,
   "id": "58103bd4-5646-4c43-b2a6-432d64e67816",
   "metadata": {},
   "outputs": [
    {
     "name": "stdin",
     "output_type": "stream",
     "text": [
      "Enter your name: Python Programming\n"
     ]
    }
   ],
   "source": [
    "name2 = input(\"Enter your name:\")"
   ]
  },
  {
   "cell_type": "code",
   "execution_count": 5,
   "id": "f9dbacf3-f9f2-4b68-995e-7f7ced122319",
   "metadata": {},
   "outputs": [
    {
     "name": "stdout",
     "output_type": "stream",
     "text": [
      "Python Programming\n"
     ]
    }
   ],
   "source": [
    "print(name2)"
   ]
  },
  {
   "cell_type": "code",
   "execution_count": 9,
   "id": "48d3e7ce-b7e9-4ec0-9723-fb5a28d084c8",
   "metadata": {},
   "outputs": [
    {
     "name": "stdout",
     "output_type": "stream",
     "text": [
      "Python : Programming : Python Programming\n"
     ]
    }
   ],
   "source": [
    "print(name, \":\",name1, \":\", name2)"
   ]
  },
  {
   "cell_type": "code",
   "execution_count": 10,
   "id": "b7423896-4495-41ca-ae23-c38d0d765460",
   "metadata": {},
   "outputs": [
    {
     "name": "stdout",
     "output_type": "stream",
     "text": [
      "Python:Programming :Python Programming\n"
     ]
    }
   ],
   "source": [
    "print(name+ \":\"+name1, \":\"+name2)"
   ]
  },
  {
   "cell_type": "code",
   "execution_count": 11,
   "id": "5e985a99-ba3c-41cb-9c45-498c00d2862e",
   "metadata": {},
   "outputs": [],
   "source": [
    "#datatypes\n",
    "\n",
    "# Integer --> 1, 2, 100, 76666, 9899\n",
    "# float   --> 1.10, 2.98, 1000.56\n",
    "# string  --> 'abc', 'python123', \"Hello\", 'Xyz@12'\n",
    "# complex --> i+2j, 9+10j\n",
    "# boolean --> True, False"
   ]
  },
  {
   "cell_type": "code",
   "execution_count": 14,
   "id": "09eb931e-7951-42a1-8b0d-b9694746ddc4",
   "metadata": {},
   "outputs": [],
   "source": [
    "a = 100.55 # dynamic programming language"
   ]
  },
  {
   "cell_type": "code",
   "execution_count": 15,
   "id": "8a89fcd5-2b71-46dd-b470-3327dbd2408e",
   "metadata": {},
   "outputs": [
    {
     "data": {
      "text/plain": [
       "100.55"
      ]
     },
     "execution_count": 15,
     "metadata": {},
     "output_type": "execute_result"
    }
   ],
   "source": [
    "a"
   ]
  },
  {
   "cell_type": "code",
   "execution_count": 17,
   "id": "b9d9f5e2-12cc-450d-8375-061d0632f2fb",
   "metadata": {},
   "outputs": [
    {
     "name": "stdout",
     "output_type": "stream",
     "text": [
      "<class 'float'>\n"
     ]
    }
   ],
   "source": [
    "print(type(a))"
   ]
  },
  {
   "cell_type": "code",
   "execution_count": 19,
   "id": "40ff01ea-0643-4e5f-b67e-09b1324e3ce5",
   "metadata": {},
   "outputs": [
    {
     "name": "stdout",
     "output_type": "stream",
     "text": [
      "<class 'int'>\n"
     ]
    }
   ],
   "source": [
    "b = 99\n",
    "print(type(b))"
   ]
  },
  {
   "cell_type": "code",
   "execution_count": 20,
   "id": "1b9fbf03-59a4-4a24-b36c-9f8615dd861c",
   "metadata": {},
   "outputs": [
    {
     "name": "stdout",
     "output_type": "stream",
     "text": [
      "<class 'str'>\n"
     ]
    }
   ],
   "source": [
    "c = \"Hyd\"\n",
    "print(type(c))"
   ]
  },
  {
   "cell_type": "code",
   "execution_count": 21,
   "id": "8d829815-5efc-41df-9e54-11f2933e0e80",
   "metadata": {},
   "outputs": [
    {
     "name": "stdout",
     "output_type": "stream",
     "text": [
      "<class 'bool'>\n"
     ]
    }
   ],
   "source": [
    "d = True\n",
    "print(type(d))"
   ]
  },
  {
   "cell_type": "code",
   "execution_count": 23,
   "id": "f859d186-18f8-4126-abbb-082428935eef",
   "metadata": {},
   "outputs": [],
   "source": [
    "e = False"
   ]
  },
  {
   "cell_type": "code",
   "execution_count": 37,
   "id": "bb8f3635-5efe-479b-925f-b2bb773a6e6b",
   "metadata": {},
   "outputs": [
    {
     "name": "stdin",
     "output_type": "stream",
     "text": [
      "Enter f value: 199\n",
      "Enter g value: 299\n"
     ]
    },
    {
     "name": "stdout",
     "output_type": "stream",
     "text": [
      "199 <class 'int'>\n",
      "299.0 <class 'float'>\n"
     ]
    }
   ],
   "source": [
    "f = int(input(\"Enter f value:\"))\n",
    "g = float(input(\"Enter g value:\"))      # input function will take the input value as string defaultly\n",
    "\n",
    "print(f, type(f))\n",
    "print(g, type(g))"
   ]
  },
  {
   "cell_type": "code",
   "execution_count": 30,
   "id": "2b85560e-2eb9-408e-b970-107a71c701e8",
   "metadata": {},
   "outputs": [
    {
     "data": {
      "text/plain": [
       "199.0"
      ]
     },
     "execution_count": 30,
     "metadata": {},
     "output_type": "execute_result"
    }
   ],
   "source": [
    "float(199)"
   ]
  },
  {
   "cell_type": "code",
   "execution_count": 34,
   "id": "4f426334-4cd2-444e-928b-5b8b5273c928",
   "metadata": {},
   "outputs": [],
   "source": [
    "# Type conversion (or) Type casting --> The process of converting one datatype to another."
   ]
  },
  {
   "cell_type": "code",
   "execution_count": 48,
   "id": "0fabe186-81e7-44f2-a88c-b1e58721c512",
   "metadata": {},
   "outputs": [
    {
     "name": "stdin",
     "output_type": "stream",
     "text": [
      "Enter f value: 123\n",
      "Enter g value: 1234\n"
     ]
    },
    {
     "name": "stdout",
     "output_type": "stream",
     "text": [
      "123 1234.0\n"
     ]
    }
   ],
   "source": [
    "h = int(input(\"Enter f value:\"))\n",
    "i = float(input(\"Enter g value:\"))\n",
    "print(h, i)"
   ]
  },
  {
   "cell_type": "code",
   "execution_count": 43,
   "id": "4d584471-9ce4-4bc4-9a23-2864846aea3f",
   "metadata": {},
   "outputs": [
    {
     "data": {
      "text/plain": [
       "100"
      ]
     },
     "execution_count": 43,
     "metadata": {},
     "output_type": "execute_result"
    }
   ],
   "source": [
    "int(100.23)"
   ]
  },
  {
   "cell_type": "code",
   "execution_count": 51,
   "id": "0942a6b7-569e-442c-ba34-558089189adf",
   "metadata": {},
   "outputs": [
    {
     "data": {
      "text/plain": [
       "100.0"
      ]
     },
     "execution_count": 51,
     "metadata": {},
     "output_type": "execute_result"
    }
   ],
   "source": [
    "float(\"100\")"
   ]
  },
  {
   "cell_type": "code",
   "execution_count": 52,
   "id": "60aaafcc-e7e6-4e68-81f0-4b86dc1d5edd",
   "metadata": {},
   "outputs": [
    {
     "data": {
      "text/plain": [
       "int"
      ]
     },
     "execution_count": 52,
     "metadata": {},
     "output_type": "execute_result"
    }
   ],
   "source": [
    "type(1000)"
   ]
  },
  {
   "cell_type": "code",
   "execution_count": 54,
   "id": "fba0b403-cb7d-4c12-bd6d-2f37d628c8f2",
   "metadata": {},
   "outputs": [
    {
     "data": {
      "text/plain": [
       "str"
      ]
     },
     "execution_count": 54,
     "metadata": {},
     "output_type": "execute_result"
    }
   ],
   "source": [
    "type(str(1000))"
   ]
  },
  {
   "cell_type": "code",
   "execution_count": 59,
   "id": "ead421a4-4fc2-4d35-95a5-c98cf3d2e9f3",
   "metadata": {},
   "outputs": [],
   "source": [
    "ab = True"
   ]
  },
  {
   "cell_type": "code",
   "execution_count": 60,
   "id": "dfdd3c59-43d1-4024-9651-7723108114ff",
   "metadata": {},
   "outputs": [
    {
     "data": {
      "text/plain": [
       "True"
      ]
     },
     "execution_count": 60,
     "metadata": {},
     "output_type": "execute_result"
    }
   ],
   "source": [
    "ab"
   ]
  },
  {
   "cell_type": "code",
   "execution_count": 63,
   "id": "c84e848d-f280-456b-9a4e-20f3289f3910",
   "metadata": {},
   "outputs": [],
   "source": [
    "bc = False"
   ]
  },
  {
   "cell_type": "code",
   "execution_count": 64,
   "id": "14dc5d5f-b5ff-4e68-bf95-e56829935306",
   "metadata": {},
   "outputs": [
    {
     "data": {
      "text/plain": [
       "False"
      ]
     },
     "execution_count": 64,
     "metadata": {},
     "output_type": "execute_result"
    }
   ],
   "source": [
    "bc"
   ]
  },
  {
   "cell_type": "code",
   "execution_count": 69,
   "id": "1fbfc1c6-cfbe-4814-a2c8-be239f3fc553",
   "metadata": {},
   "outputs": [
    {
     "name": "stdout",
     "output_type": "stream",
     "text": [
      "100.55\n"
     ]
    }
   ],
   "source": [
    "cd = a\n",
    "print(cd)"
   ]
  },
  {
   "cell_type": "code",
   "execution_count": 71,
   "id": "18664118-a9ea-4c39-a0a6-1f7c8be69b8d",
   "metadata": {},
   "outputs": [
    {
     "name": "stdout",
     "output_type": "stream",
     "text": [
      "Dhanush\n"
     ]
    }
   ],
   "source": [
    "name_1 = \"Dhanush\""
   ]
  },
  {
   "cell_type": "code",
   "execution_count": 89,
   "id": "d87d31e5-ee24-4b1d-8cb8-0f8bf2a08439",
   "metadata": {},
   "outputs": [],
   "source": [
    "# # Naming conventions of variables\n",
    "# 1. Variable name needs to start with alphabet or _\n",
    "# 2. Varibale name does not contain special symbol except _\n",
    "# 3. Variable name cannot start with a number\n",
    "# 4. Varibale name can be a combination alphanumrics and _\n",
    "# 5. Variable name cannot contain whitespaces\n",
    "# 6. Variable name cannot be a keyword\n",
    "# 7. Variable names are case sensitive."
   ]
  },
  {
   "cell_type": "code",
   "execution_count": 79,
   "id": "e399add9-447d-4d1c-9f86-403695a17bfe",
   "metadata": {},
   "outputs": [],
   "source": [
    "address_city = \"Raidurg&Hyderabad\""
   ]
  },
  {
   "cell_type": "code",
   "execution_count": 80,
   "id": "db2cb01d-7089-45ef-8f68-8b24095af9b0",
   "metadata": {},
   "outputs": [
    {
     "data": {
      "text/plain": [
       "'Raidurg&Hyderabad'"
      ]
     },
     "execution_count": 80,
     "metadata": {},
     "output_type": "execute_result"
    }
   ],
   "source": [
    "address_city"
   ]
  },
  {
   "cell_type": "code",
   "execution_count": 84,
   "id": "853a2acb-4df9-4de4-a181-042571f8373b",
   "metadata": {},
   "outputs": [
    {
     "data": {
      "text/plain": [
       "'Hyderabad is \"capital\" of telangana'"
      ]
     },
     "execution_count": 84,
     "metadata": {},
     "output_type": "execute_result"
    }
   ],
   "source": [
    "'Hyderabad is \"capital\" of telangana'"
   ]
  },
  {
   "cell_type": "code",
   "execution_count": 86,
   "id": "309f71c7-189a-406d-9871-871e48e7acd7",
   "metadata": {},
   "outputs": [],
   "source": [
    "_____pincode = 500081"
   ]
  },
  {
   "cell_type": "code",
   "execution_count": 87,
   "id": "6a9ece31-8820-472f-bb41-a66bbe43380d",
   "metadata": {},
   "outputs": [],
   "source": [
    "pincode___ = 500081"
   ]
  },
  {
   "cell_type": "code",
   "execution_count": 88,
   "id": "5bbe989b-5a34-4319-abb6-086254f986ea",
   "metadata": {},
   "outputs": [
    {
     "ename": "SyntaxError",
     "evalue": "invalid syntax (493504647.py, line 1)",
     "output_type": "error",
     "traceback": [
      "\u001b[1;36m  Cell \u001b[1;32mIn[88], line 1\u001b[1;36m\u001b[0m\n\u001b[1;33m    pin code = 500081\u001b[0m\n\u001b[1;37m        ^\u001b[0m\n\u001b[1;31mSyntaxError\u001b[0m\u001b[1;31m:\u001b[0m invalid syntax\n"
     ]
    }
   ],
   "source": [
    "pin code = 500081"
   ]
  },
  {
   "cell_type": "code",
   "execution_count": 90,
   "id": "26c20d4d-c527-4781-a05a-ebcfcc93f7a9",
   "metadata": {},
   "outputs": [
    {
     "ename": "SyntaxError",
     "evalue": "cannot assign to expression here. Maybe you meant '==' instead of '='? (3124576353.py, line 1)",
     "output_type": "error",
     "traceback": [
      "\u001b[1;36m  Cell \u001b[1;32mIn[90], line 1\u001b[1;36m\u001b[0m\n\u001b[1;33m    pin-code = 500081\u001b[0m\n\u001b[1;37m    ^\u001b[0m\n\u001b[1;31mSyntaxError\u001b[0m\u001b[1;31m:\u001b[0m cannot assign to expression here. Maybe you meant '==' instead of '='?\n"
     ]
    }
   ],
   "source": [
    "pin-code = 500081"
   ]
  },
  {
   "cell_type": "code",
   "execution_count": 92,
   "id": "8437ee96-63b2-46c8-abc0-9602564dcc9d",
   "metadata": {},
   "outputs": [],
   "source": [
    "first_name = \"Dhanush\""
   ]
  },
  {
   "cell_type": "code",
   "execution_count": 93,
   "id": "0dd32217-eb82-4574-b3b3-4905a6152f9d",
   "metadata": {},
   "outputs": [],
   "source": [
    "address_city = \"HYD-IND\""
   ]
  },
  {
   "cell_type": "code",
   "execution_count": 94,
   "id": "7b9b078a-0758-41e4-84b6-a245c319a04b",
   "metadata": {},
   "outputs": [],
   "source": [
    "road_1 = 'Madhapur'"
   ]
  },
  {
   "cell_type": "code",
   "execution_count": 95,
   "id": "7670f4b2-2f87-464a-a67b-db64f33cf170",
   "metadata": {},
   "outputs": [],
   "source": [
    "road_2 = 'Cyber city'"
   ]
  },
  {
   "cell_type": "code",
   "execution_count": 96,
   "id": "5b8c5817-c99b-404c-b699-ce1c545b0391",
   "metadata": {},
   "outputs": [
    {
     "data": {
      "text/plain": [
       "2.4"
      ]
     },
     "execution_count": 96,
     "metadata": {},
     "output_type": "execute_result"
    }
   ],
   "source": [
    "12/5"
   ]
  },
  {
   "cell_type": "code",
   "execution_count": 97,
   "id": "56c0c6c4-868d-4dfc-a70f-58a10b238172",
   "metadata": {},
   "outputs": [
    {
     "ename": "SyntaxError",
     "evalue": "invalid syntax (430021990.py, line 1)",
     "output_type": "error",
     "traceback": [
      "\u001b[1;36m  Cell \u001b[1;32mIn[97], line 1\u001b[1;36m\u001b[0m\n\u001b[1;33m    (=, 100)\u001b[0m\n\u001b[1;37m     ^\u001b[0m\n\u001b[1;31mSyntaxError\u001b[0m\u001b[1;31m:\u001b[0m invalid syntax\n"
     ]
    }
   ],
   "source": [
    "/ = 100"
   ]
  },
  {
   "cell_type": "code",
   "execution_count": 1,
   "id": "21dea891-d71c-4dca-859d-ba95e162eb13",
   "metadata": {},
   "outputs": [],
   "source": [
    "Name = 'John'"
   ]
  },
  {
   "cell_type": "code",
   "execution_count": 2,
   "id": "0ef0877b-a7d2-456d-9355-ce0c689e9b46",
   "metadata": {},
   "outputs": [
    {
     "ename": "NameError",
     "evalue": "name 'name' is not defined",
     "output_type": "error",
     "traceback": [
      "\u001b[1;31m---------------------------------------------------------------------------\u001b[0m",
      "\u001b[1;31mNameError\u001b[0m                                 Traceback (most recent call last)",
      "Cell \u001b[1;32mIn[2], line 1\u001b[0m\n\u001b[1;32m----> 1\u001b[0m \u001b[43mname\u001b[49m\n",
      "\u001b[1;31mNameError\u001b[0m: name 'name' is not defined"
     ]
    }
   ],
   "source": [
    "name"
   ]
  },
  {
   "cell_type": "code",
   "execution_count": 3,
   "id": "776ba856-5d6e-43c6-b571-8834c2498dcc",
   "metadata": {},
   "outputs": [],
   "source": [
    "print = 'Dhanush'"
   ]
  },
  {
   "cell_type": "code",
   "execution_count": 4,
   "id": "77043d39-3142-4eb5-baaa-eee6821d81a9",
   "metadata": {},
   "outputs": [
    {
     "data": {
      "text/plain": [
       "'Dhanush'"
      ]
     },
     "execution_count": 4,
     "metadata": {},
     "output_type": "execute_result"
    }
   ],
   "source": [
    "print"
   ]
  },
  {
   "cell_type": "code",
   "execution_count": 5,
   "id": "38ddc828-0743-4ac8-b2cf-af174730f231",
   "metadata": {},
   "outputs": [
    {
     "ename": "TypeError",
     "evalue": "'str' object is not callable",
     "output_type": "error",
     "traceback": [
      "\u001b[1;31m---------------------------------------------------------------------------\u001b[0m",
      "\u001b[1;31mTypeError\u001b[0m                                 Traceback (most recent call last)",
      "Cell \u001b[1;32mIn[5], line 1\u001b[0m\n\u001b[1;32m----> 1\u001b[0m \u001b[38;5;28;43mprint\u001b[39;49m\u001b[43m(\u001b[49m\u001b[38;5;124;43m'\u001b[39;49m\u001b[38;5;124;43mHi\u001b[39;49m\u001b[38;5;124;43m'\u001b[39;49m\u001b[43m)\u001b[49m\n",
      "\u001b[1;31mTypeError\u001b[0m: 'str' object is not callable"
     ]
    }
   ],
   "source": [
    "print('Hi')"
   ]
  },
  {
   "cell_type": "code",
   "execution_count": 6,
   "id": "05bfa660-410f-41e9-aad7-9d09705b0fb2",
   "metadata": {},
   "outputs": [],
   "source": [
    "# Keywords\n",
    "# Keywords are the reserved words that have specicific meaning.\n",
    "# Variable name cannob be a keyword\n",
    "# keywods are written in lowercase\n",
    "\n",
    "# print, input, type, id, if, else, elif, for, while, pass, continue, break, and, or ,not, as, import, assert, except,etc..."
   ]
  },
  {
   "cell_type": "code",
   "execution_count": 7,
   "id": "00378d7b-ac22-4610-9232-1681c4a7b050",
   "metadata": {},
   "outputs": [],
   "source": [
    "# Operators\n",
    "# Operators are used to perform the operations\n",
    "# Arithematic Operators(+, -, *, /, //, **, %)\n",
    "# Assignment Operators\n",
    "#comparision Operators\n",
    "# Logical Operators\n",
    "# Identity Operators\n",
    "# Bitwise Operators\n",
    "# Membership Operators"
   ]
  },
  {
   "cell_type": "code",
   "execution_count": 8,
   "id": "fc7dc4f8-06ef-4c19-bc9e-822bed4bd397",
   "metadata": {},
   "outputs": [],
   "source": [
    "# Arithematic Operatos"
   ]
  },
  {
   "cell_type": "code",
   "execution_count": 5,
   "id": "c2c60921-cd6c-4a1b-a30d-e5762bd6cb2e",
   "metadata": {},
   "outputs": [
    {
     "name": "stdout",
     "output_type": "stream",
     "text": [
      "Addition:  259 Subtraction:  -9\n",
      "Multipicaiton: 16750 Division:  0.9328358208955224\n"
     ]
    }
   ],
   "source": [
    "val1 = 125\n",
    "val2 = 134\n",
    "print(\"Addition: \", val1+val2, \"Subtraction: \", val1-val2)\n",
    "print(\"Multipicaiton:\", val1*val2, \"Division: \", val1/val2)"
   ]
  },
  {
   "cell_type": "code",
   "execution_count": 14,
   "id": "7b7ffa03-f300-441f-bf53-8b5dfa979048",
   "metadata": {},
   "outputs": [
    {
     "name": "stdin",
     "output_type": "stream",
     "text": [
      "Enter num_1 value:  5\n",
      "Enter num_2 value:  3\n",
      "Enter num_3 value:  8\n"
     ]
    },
    {
     "name": "stdout",
     "output_type": "stream",
     "text": [
      "The addition of 5 and 3 is 8\n",
      "The Subtraction of  3 from 8 is -5\n",
      "The Multplicaiton of  5 and 3 is 15\n",
      "The Division of 3 and 5 is 0.6\n",
      "The Modular Division of 5 and 3 is 2\n",
      "The Floor Division of 5 and 3 is 1\n",
      "The Power of 8 is 64\n"
     ]
    }
   ],
   "source": [
    "num_1 = int(input(\"Enter num_1 value: \"))\n",
    "num_2 = int(input(\"Enter num_2 value: \"))\n",
    "num_3 = int(input(\"Enter num_3 value: \"))\n",
    "\n",
    "# Addition\n",
    "addition = num_1 + num_2\n",
    "print(\"The addition of\", num_1, \"and\", num_2, \"is\", addition)\n",
    "\n",
    "# Subtraction\n",
    "subtraction = num_2 - num_3\n",
    "print(\"The Subtraction of \", num_2, \"from\", num_3, \"is\", subtraction)\n",
    "\n",
    "# Multiplication\n",
    "multiplication = num_1 * num_2\n",
    "print(\"The Multplicaiton of \", num_1, \"and\", num_2, \"is\", multiplication)\n",
    "\n",
    "# Division \n",
    "division = num_2 / num_1\n",
    "print(\"The Division of\", num_2, \"and\", num_1, \"is\", division)\n",
    "\n",
    "# Modular division\n",
    "mod_div = num_1 % num_2\n",
    "print(\"The Modular Division of\", num_1, \"and\", num_2, \"is\", mod_div)\n",
    "\n",
    "# Floor Division\n",
    "f_div = num_1//num_2\n",
    "print(\"The Floor Division of\", num_1, \"and\", num_2, \"is\", f_div)\n",
    "\n",
    "# Exponent or power\n",
    "power = num_3 ** 2          # num_3*num_3\n",
    "print(\"The Power of\", num_3, \"is\", power)"
   ]
  },
  {
   "cell_type": "raw",
   "id": "94c10d6d-8cbc-4d16-9057-c774c8549ac2",
   "metadata": {},
   "source": [
    "5)3(0.6 --> division    3)5(1   --> //\n",
    "  3                       3\n",
    "-----------              ----\n",
    "  0                       2 --> %"
   ]
  },
  {
   "cell_type": "markdown",
   "id": "2e4594de-27b1-41dd-9a59-57a776f3c714",
   "metadata": {},
   "source": [
    "# Assignment Operators"
   ]
  },
  {
   "cell_type": "markdown",
   "id": "e4a0636a-8335-457c-90f5-04c09cbff983",
   "metadata": {},
   "source": [
    "=, +=, -=, *=, /=, %=, //=, **="
   ]
  },
  {
   "cell_type": "code",
   "execution_count": 17,
   "id": "7dc03a9f-f5db-4664-84b7-05890ea42220",
   "metadata": {},
   "outputs": [
    {
     "name": "stdout",
     "output_type": "stream",
     "text": [
      "100\n"
     ]
    }
   ],
   "source": [
    "a = 100\n",
    "print(a)"
   ]
  },
  {
   "cell_type": "code",
   "execution_count": 18,
   "id": "a035879a-a674-418e-93e0-98402e3ac2a7",
   "metadata": {},
   "outputs": [],
   "source": [
    "a += 100       # a = a+100 --> 100 + 100"
   ]
  },
  {
   "cell_type": "code",
   "execution_count": 19,
   "id": "49f0ce58-234d-4ceb-a374-fdf27de6864d",
   "metadata": {},
   "outputs": [
    {
     "data": {
      "text/plain": [
       "200"
      ]
     },
     "execution_count": 19,
     "metadata": {},
     "output_type": "execute_result"
    }
   ],
   "source": [
    "a"
   ]
  },
  {
   "cell_type": "code",
   "execution_count": 20,
   "id": "b6a7759c-47eb-486f-afb4-34e1f7d950fd",
   "metadata": {},
   "outputs": [
    {
     "name": "stdout",
     "output_type": "stream",
     "text": [
      "180\n"
     ]
    }
   ],
   "source": [
    "a -= 20       # a = a-20 --> 200-20 --> 180\n",
    "print(a)"
   ]
  },
  {
   "cell_type": "code",
   "execution_count": 21,
   "id": "f223c1db-3d72-44d2-908f-1aa4dacd41a4",
   "metadata": {},
   "outputs": [
    {
     "name": "stdout",
     "output_type": "stream",
     "text": [
      "360\n"
     ]
    }
   ],
   "source": [
    "a *= 2\n",
    "print(a)"
   ]
  },
  {
   "cell_type": "code",
   "execution_count": 24,
   "id": "e9e99371-2f70-43cf-b5b3-39ce58f4bc58",
   "metadata": {},
   "outputs": [
    {
     "name": "stdout",
     "output_type": "stream",
     "text": [
      "5.625\n"
     ]
    }
   ],
   "source": [
    "a /= 4  \n",
    "print(a)"
   ]
  },
  {
   "cell_type": "code",
   "execution_count": 28,
   "id": "64a6c95e-1283-4df3-a248-8f83e2197420",
   "metadata": {},
   "outputs": [],
   "source": [
    "a = 90"
   ]
  },
  {
   "cell_type": "code",
   "execution_count": 30,
   "id": "09019ed4-04b7-443c-83f2-08dc6740cbf6",
   "metadata": {},
   "outputs": [
    {
     "data": {
      "text/plain": [
       "9"
      ]
     },
     "execution_count": 30,
     "metadata": {},
     "output_type": "execute_result"
    }
   ],
   "source": [
    "a //= 10\n",
    "a"
   ]
  },
  {
   "cell_type": "code",
   "execution_count": 31,
   "id": "240b6d9c-fc2d-409a-893f-c96c02875d3d",
   "metadata": {},
   "outputs": [
    {
     "data": {
      "text/plain": [
       "81"
      ]
     },
     "execution_count": 31,
     "metadata": {},
     "output_type": "execute_result"
    }
   ],
   "source": [
    "a **= 2\n",
    "a"
   ]
  },
  {
   "cell_type": "markdown",
   "id": "aa897cd0-fd29-44b5-82be-49d70538ab53",
   "metadata": {},
   "source": [
    "# Comparision Operators"
   ]
  },
  {
   "cell_type": "markdown",
   "id": "f95a23e2-47bb-4f24-aba9-922c23293a9b",
   "metadata": {},
   "source": [
    "==, !=, >=, <=, >, <"
   ]
  },
  {
   "cell_type": "code",
   "execution_count": 32,
   "id": "7f1a2f15-f89b-4318-929b-649ae985fa79",
   "metadata": {},
   "outputs": [
    {
     "data": {
      "text/plain": [
       "False"
      ]
     },
     "execution_count": 32,
     "metadata": {},
     "output_type": "execute_result"
    }
   ],
   "source": [
    "a = 100\n",
    "b = 200\n",
    "a == b"
   ]
  },
  {
   "cell_type": "code",
   "execution_count": 33,
   "id": "864e9f44-913c-4e53-8136-132508c4c0bc",
   "metadata": {},
   "outputs": [
    {
     "data": {
      "text/plain": [
       "True"
      ]
     },
     "execution_count": 33,
     "metadata": {},
     "output_type": "execute_result"
    }
   ],
   "source": [
    "a != b "
   ]
  },
  {
   "cell_type": "code",
   "execution_count": 34,
   "id": "4424347c-7ca5-495d-adfe-6c53b8abf9f6",
   "metadata": {},
   "outputs": [
    {
     "data": {
      "text/plain": [
       "True"
      ]
     },
     "execution_count": 34,
     "metadata": {},
     "output_type": "execute_result"
    }
   ],
   "source": [
    "a == a"
   ]
  },
  {
   "cell_type": "code",
   "execution_count": 35,
   "id": "a079aaca-a2d9-40ea-8451-f00872651c83",
   "metadata": {},
   "outputs": [
    {
     "data": {
      "text/plain": [
       "False"
      ]
     },
     "execution_count": 35,
     "metadata": {},
     "output_type": "execute_result"
    }
   ],
   "source": [
    "a > b"
   ]
  },
  {
   "cell_type": "code",
   "execution_count": 36,
   "id": "c6102de0-fcae-4c19-8bd1-dad3ba67b351",
   "metadata": {},
   "outputs": [
    {
     "data": {
      "text/plain": [
       "True"
      ]
     },
     "execution_count": 36,
     "metadata": {},
     "output_type": "execute_result"
    }
   ],
   "source": [
    "a < b"
   ]
  },
  {
   "cell_type": "code",
   "execution_count": 37,
   "id": "879855a6-7e26-4ffa-8762-c73d6b7bc317",
   "metadata": {},
   "outputs": [
    {
     "data": {
      "text/plain": [
       "False"
      ]
     },
     "execution_count": 37,
     "metadata": {},
     "output_type": "execute_result"
    }
   ],
   "source": [
    "a >= b"
   ]
  },
  {
   "cell_type": "code",
   "execution_count": 40,
   "id": "9065c6e8-5d17-45af-8e9a-7067e93cca8b",
   "metadata": {},
   "outputs": [
    {
     "data": {
      "text/plain": [
       "True"
      ]
     },
     "execution_count": 40,
     "metadata": {},
     "output_type": "execute_result"
    }
   ],
   "source": [
    "100 >= 100"
   ]
  },
  {
   "cell_type": "code",
   "execution_count": 44,
   "id": "6caae5c0-327a-45eb-8878-eddfbe182cf4",
   "metadata": {},
   "outputs": [
    {
     "data": {
      "text/plain": [
       "False"
      ]
     },
     "execution_count": 44,
     "metadata": {},
     "output_type": "execute_result"
    }
   ],
   "source": [
    "120 <= 90"
   ]
  },
  {
   "cell_type": "markdown",
   "id": "d471bf41-be77-4297-9c31-2395ca392d5e",
   "metadata": {},
   "source": [
    "# Logical Operators"
   ]
  },
  {
   "cell_type": "markdown",
   "id": "14d8c930-dc14-4686-a0f6-904a43a22677",
   "metadata": {},
   "source": [
    "and, or, not"
   ]
  },
  {
   "cell_type": "code",
   "execution_count": 46,
   "id": "31b605bf-ae21-458a-bf8d-85d924f23d4b",
   "metadata": {},
   "outputs": [
    {
     "data": {
      "text/plain": [
       "True"
      ]
     },
     "execution_count": 46,
     "metadata": {},
     "output_type": "execute_result"
    }
   ],
   "source": [
    "True and True"
   ]
  },
  {
   "cell_type": "code",
   "execution_count": 47,
   "id": "c538db31-addf-4825-87f0-173a815cb110",
   "metadata": {},
   "outputs": [
    {
     "data": {
      "text/plain": [
       "False"
      ]
     },
     "execution_count": 47,
     "metadata": {},
     "output_type": "execute_result"
    }
   ],
   "source": [
    "True and False"
   ]
  },
  {
   "cell_type": "code",
   "execution_count": 48,
   "id": "9db1e1ae-bd9b-4e08-85ad-06dfae57ce45",
   "metadata": {},
   "outputs": [
    {
     "data": {
      "text/plain": [
       "False"
      ]
     },
     "execution_count": 48,
     "metadata": {},
     "output_type": "execute_result"
    }
   ],
   "source": [
    "False and True"
   ]
  },
  {
   "cell_type": "code",
   "execution_count": 49,
   "id": "0223ecdf-c881-4dca-b959-9eadb7329a30",
   "metadata": {},
   "outputs": [
    {
     "data": {
      "text/plain": [
       "True"
      ]
     },
     "execution_count": 49,
     "metadata": {},
     "output_type": "execute_result"
    }
   ],
   "source": [
    "True or True"
   ]
  },
  {
   "cell_type": "code",
   "execution_count": 50,
   "id": "daaad35b-86af-41c2-aabd-4e2f1743849e",
   "metadata": {},
   "outputs": [
    {
     "data": {
      "text/plain": [
       "True"
      ]
     },
     "execution_count": 50,
     "metadata": {},
     "output_type": "execute_result"
    }
   ],
   "source": [
    "True or False"
   ]
  },
  {
   "cell_type": "code",
   "execution_count": 52,
   "id": "e240118e-6cca-45aa-917e-6913697017a2",
   "metadata": {},
   "outputs": [
    {
     "data": {
      "text/plain": [
       "False"
      ]
     },
     "execution_count": 52,
     "metadata": {},
     "output_type": "execute_result"
    }
   ],
   "source": [
    "False or False"
   ]
  },
  {
   "cell_type": "code",
   "execution_count": 54,
   "id": "26a4fa42-a5c8-4dc3-a475-16ac10699c36",
   "metadata": {},
   "outputs": [
    {
     "data": {
      "text/plain": [
       "True"
      ]
     },
     "execution_count": 54,
     "metadata": {},
     "output_type": "execute_result"
    }
   ],
   "source": [
    "True and True or False"
   ]
  },
  {
   "cell_type": "code",
   "execution_count": 57,
   "id": "bf235195-4ca4-4bfe-9180-a5dbb0988c96",
   "metadata": {},
   "outputs": [
    {
     "data": {
      "text/plain": [
       "False"
      ]
     },
     "execution_count": 57,
     "metadata": {},
     "output_type": "execute_result"
    }
   ],
   "source": [
    "(1 > 2) and (2 < 3)"
   ]
  },
  {
   "cell_type": "code",
   "execution_count": 65,
   "id": "74b33b6f-3769-4011-a39a-01d365c12331",
   "metadata": {},
   "outputs": [
    {
     "data": {
      "text/plain": [
       "True"
      ]
     },
     "execution_count": 65,
     "metadata": {},
     "output_type": "execute_result"
    }
   ],
   "source": [
    "(1 > 2) or (2 < 3)"
   ]
  },
  {
   "cell_type": "code",
   "execution_count": 67,
   "id": "a106b6ce-eeed-4f77-9270-d5f3fe8ef611",
   "metadata": {},
   "outputs": [
    {
     "data": {
      "text/plain": [
       "True"
      ]
     },
     "execution_count": 67,
     "metadata": {},
     "output_type": "execute_result"
    }
   ],
   "source": [
    "a = not 1>2\n",
    "a"
   ]
  },
  {
   "cell_type": "code",
   "execution_count": null,
   "id": "29a4c038-3e61-4f7c-9e87-01b2cfe3e748",
   "metadata": {},
   "outputs": [],
   "source": []
  }
 ],
 "metadata": {
  "kernelspec": {
   "display_name": "Python 3 (ipykernel)",
   "language": "python",
   "name": "python3"
  },
  "language_info": {
   "codemirror_mode": {
    "name": "ipython",
    "version": 3
   },
   "file_extension": ".py",
   "mimetype": "text/x-python",
   "name": "python",
   "nbconvert_exporter": "python",
   "pygments_lexer": "ipython3",
   "version": "3.10.11"
  }
 },
 "nbformat": 4,
 "nbformat_minor": 5
}
