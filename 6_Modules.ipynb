{
 "cells": [
  {
   "cell_type": "markdown",
   "id": "a9c5038b-6526-47f1-a95f-0602505f1fcc",
   "metadata": {},
   "source": [
    "# Modules\n",
    "* Module is a colleciton of variable, functions and classes\n",
    "* Every python file is consider as a module\n",
    "* Modules are mainly as of two types.\n",
    "  * Prebuilt or inbuilt or system defined modules\n",
    "  * User-defined modules\n",
    "* from, import, as are mainly used keywords in modules"
   ]
  },
  {
   "cell_type": "markdown",
   "id": "96c5242d-f6f6-42d3-9560-18ec0dd3cb12",
   "metadata": {},
   "source": [
    "### Inbuilt modules"
   ]
  },
  {
   "cell_type": "code",
   "execution_count": 8,
   "id": "d7ffb6a9-eac3-4afc-bae0-f4624db2b3c7",
   "metadata": {},
   "outputs": [
    {
     "data": {
      "text/plain": [
       "3.0"
      ]
     },
     "execution_count": 8,
     "metadata": {},
     "output_type": "execute_result"
    }
   ],
   "source": [
    "import math \n",
    "math.sqrt(9)"
   ]
  },
  {
   "cell_type": "code",
   "execution_count": 14,
   "id": "2505f2b4-89ef-4ceb-aa8c-0558929476a6",
   "metadata": {},
   "outputs": [
    {
     "data": {
      "text/plain": [
       "9.0"
      ]
     },
     "execution_count": 14,
     "metadata": {},
     "output_type": "execute_result"
    }
   ],
   "source": [
    "from math import sqrt\n",
    "sqrt(81)"
   ]
  },
  {
   "cell_type": "code",
   "execution_count": 12,
   "id": "e1396343-ef99-4bbd-a8ae-7a1c19536c6c",
   "metadata": {},
   "outputs": [
    {
     "data": {
      "text/plain": [
       "120"
      ]
     },
     "execution_count": 12,
     "metadata": {},
     "output_type": "execute_result"
    }
   ],
   "source": [
    "from math import factorial\n",
    "factorial(5)"
   ]
  },
  {
   "cell_type": "code",
   "execution_count": 13,
   "id": "7f5c87aa-2175-4792-9cc6-b4ce950a7d2d",
   "metadata": {},
   "outputs": [
    {
     "data": {
      "text/plain": [
       "120"
      ]
     },
     "execution_count": 13,
     "metadata": {},
     "output_type": "execute_result"
    }
   ],
   "source": [
    "import math\n",
    "math.factorial(5)"
   ]
  },
  {
   "cell_type": "code",
   "execution_count": 16,
   "id": "58ddeda8-0bf5-4e4c-a382-9c9ae83428c2",
   "metadata": {},
   "outputs": [
    {
     "data": {
      "text/plain": [
       "'C:\\\\Users\\\\Admin\\\\Dhanush\\\\Python_Trainings'"
      ]
     },
     "execution_count": 16,
     "metadata": {},
     "output_type": "execute_result"
    }
   ],
   "source": [
    "import os\n",
    "os.getcwd()"
   ]
  },
  {
   "cell_type": "code",
   "execution_count": 18,
   "id": "fac44248-3ea2-444f-a559-1d90b762f999",
   "metadata": {},
   "outputs": [
    {
     "data": {
      "text/plain": [
       "['.git',\n",
       " '.ipynb_checkpoints',\n",
       " '1_basics_of_python.ipynb',\n",
       " '2_Flow Control.ipynb',\n",
       " '3_Strings.ipynb',\n",
       " '4_Collections.ipynb',\n",
       " '5_Functions.ipynb',\n",
       " '6_Modules.ipynb',\n",
       " 'test.py']"
      ]
     },
     "execution_count": 18,
     "metadata": {},
     "output_type": "execute_result"
    }
   ],
   "source": [
    "os.listdir()"
   ]
  },
  {
   "cell_type": "code",
   "execution_count": 19,
   "id": "886525c4-dec3-4e54-b0b9-8a80bb44f2df",
   "metadata": {},
   "outputs": [],
   "source": [
    "os.mkdir(\"Folder created by python\")"
   ]
  },
  {
   "cell_type": "code",
   "execution_count": 20,
   "id": "4f9ab790-ff62-4b35-bc6c-8373e7dc57a9",
   "metadata": {},
   "outputs": [],
   "source": [
    "os.rmdir(\"Folder created by python/\")"
   ]
  },
  {
   "cell_type": "code",
   "execution_count": 21,
   "id": "2287109f-d731-4e18-bdba-8d9cdf8d7c85",
   "metadata": {},
   "outputs": [
    {
     "data": {
      "text/plain": [
       "120"
      ]
     },
     "execution_count": 21,
     "metadata": {},
     "output_type": "execute_result"
    }
   ],
   "source": [
    "from math import factorial as ff\n",
    "ff(5)"
   ]
  },
  {
   "cell_type": "code",
   "execution_count": 22,
   "id": "2455dec6-b97b-40b6-b914-8dbced8da5af",
   "metadata": {},
   "outputs": [],
   "source": [
    "from datetime import datetime"
   ]
  },
  {
   "cell_type": "code",
   "execution_count": 28,
   "id": "4c994c4b-57b7-4f98-a7e7-f4f0a6a3a1c8",
   "metadata": {},
   "outputs": [
    {
     "data": {
      "text/plain": [
       "datetime.datetime(2024, 4, 27, 12, 56, 37, 306178)"
      ]
     },
     "execution_count": 28,
     "metadata": {},
     "output_type": "execute_result"
    }
   ],
   "source": [
    "datetime.today()"
   ]
  },
  {
   "cell_type": "code",
   "execution_count": 30,
   "id": "2977f5b8-aa64-45c0-8096-a7d3fb9f12da",
   "metadata": {},
   "outputs": [
    {
     "data": {
      "text/plain": [
       "datetime.time(12, 56, 45, 314870)"
      ]
     },
     "execution_count": 30,
     "metadata": {},
     "output_type": "execute_result"
    }
   ],
   "source": [
    "datetime.today().time()"
   ]
  },
  {
   "cell_type": "code",
   "execution_count": 31,
   "id": "237057c1-65cb-4b9d-8a64-d9160e442bdc",
   "metadata": {},
   "outputs": [
    {
     "data": {
      "text/plain": [
       "27"
      ]
     },
     "execution_count": 31,
     "metadata": {},
     "output_type": "execute_result"
    }
   ],
   "source": [
    "datetime.today().day"
   ]
  },
  {
   "cell_type": "code",
   "execution_count": 32,
   "id": "650b51ab-7ff1-4f1f-8a06-049e5c508b48",
   "metadata": {},
   "outputs": [
    {
     "data": {
      "text/plain": [
       "2024"
      ]
     },
     "execution_count": 32,
     "metadata": {},
     "output_type": "execute_result"
    }
   ],
   "source": [
    "datetime.today().year"
   ]
  },
  {
   "cell_type": "code",
   "execution_count": 34,
   "id": "705c13c3-902f-4783-b2d0-dd762632c711",
   "metadata": {},
   "outputs": [
    {
     "data": {
      "text/plain": [
       "4"
      ]
     },
     "execution_count": 34,
     "metadata": {},
     "output_type": "execute_result"
    }
   ],
   "source": [
    "datetime.today().month"
   ]
  }
 ],
 "metadata": {
  "kernelspec": {
   "display_name": "Python 3 (ipykernel)",
   "language": "python",
   "name": "python3"
  },
  "language_info": {
   "codemirror_mode": {
    "name": "ipython",
    "version": 3
   },
   "file_extension": ".py",
   "mimetype": "text/x-python",
   "name": "python",
   "nbconvert_exporter": "python",
   "pygments_lexer": "ipython3",
   "version": "3.10.11"
  }
 },
 "nbformat": 4,
 "nbformat_minor": 5
}
