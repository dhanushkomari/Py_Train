{
 "cells": [
  {
   "cell_type": "markdown",
   "id": "d80000dd-3b70-4bf5-b89a-228eae78d944",
   "metadata": {},
   "source": [
    "# Strings\n",
    "* String can be defined as a combination of alphabetics, numbers and symbols\n",
    "* Strings supports both slicing and indexing\n",
    "* Strings have both the positive and negative indexing\n",
    "* Positive indexing starts from 0\n",
    "* Negative indexing starts from -1\n",
    "* string[0] --> which gives us the 1st positional charecter of a string"
   ]
  },
  {
   "cell_type": "raw",
   "id": "59424fec-f087-404c-a8b9-5ec7ccb83b92",
   "metadata": {},
   "source": [
    "\n",
    "            0     1    2    3     4     5   ---->  +ve indexng\n",
    "  a ---->   P     Y    T    H     O     N\n",
    "           -6    -5   -4   -3    -2    -1   ---->  -ve indexing\n",
    "            \n"
   ]
  },
  {
   "cell_type": "code",
   "execution_count": 1,
   "id": "94174648-1ea8-42da-b1a5-6f2c6c804a81",
   "metadata": {},
   "outputs": [
    {
     "data": {
      "text/plain": [
       "'P'"
      ]
     },
     "execution_count": 1,
     "metadata": {},
     "output_type": "execute_result"
    }
   ],
   "source": [
    "a = \"PYTHON\"\n",
    "a[0]"
   ]
  },
  {
   "cell_type": "code",
   "execution_count": 2,
   "id": "be70ab0c-3e1a-4a72-bbe2-96fe78295561",
   "metadata": {},
   "outputs": [
    {
     "data": {
      "text/plain": [
       "'Y'"
      ]
     },
     "execution_count": 2,
     "metadata": {},
     "output_type": "execute_result"
    }
   ],
   "source": [
    "a[1]"
   ]
  },
  {
   "cell_type": "code",
   "execution_count": 3,
   "id": "6ebd37f1-167a-4e7a-bcb9-d27be5ed6213",
   "metadata": {},
   "outputs": [
    {
     "data": {
      "text/plain": [
       "'N'"
      ]
     },
     "execution_count": 3,
     "metadata": {},
     "output_type": "execute_result"
    }
   ],
   "source": [
    "a[-1]"
   ]
  },
  {
   "cell_type": "code",
   "execution_count": 4,
   "id": "5153ad29-cf46-4462-b1de-38cb45f89a80",
   "metadata": {},
   "outputs": [
    {
     "data": {
      "text/plain": [
       "'N'"
      ]
     },
     "execution_count": 4,
     "metadata": {},
     "output_type": "execute_result"
    }
   ],
   "source": [
    "a[5]"
   ]
  },
  {
   "cell_type": "code",
   "execution_count": 17,
   "id": "74f3ff12-4320-437a-beeb-0f59a407f45e",
   "metadata": {},
   "outputs": [],
   "source": [
    "b = \"Hyderabad is capital of Telangana\""
   ]
  },
  {
   "cell_type": "code",
   "execution_count": 18,
   "id": "0b5c4d95-93ce-483b-afc2-0460b484fd88",
   "metadata": {},
   "outputs": [
    {
     "data": {
      "text/plain": [
       "'a'"
      ]
     },
     "execution_count": 18,
     "metadata": {},
     "output_type": "execute_result"
    }
   ],
   "source": [
    "b[-1]"
   ]
  },
  {
   "cell_type": "code",
   "execution_count": 20,
   "id": "fac9fa24-b643-4222-b0ac-51be5b35628e",
   "metadata": {},
   "outputs": [
    {
     "data": {
      "text/plain": [
       "'is ca'"
      ]
     },
     "execution_count": 20,
     "metadata": {},
     "output_type": "execute_result"
    }
   ],
   "source": [
    "b[10:15]   # fetch only data in between the 10 and 15"
   ]
  },
  {
   "cell_type": "code",
   "execution_count": null,
   "id": "9adc9f15-0c63-4077-ae9e-e6a026f95ca3",
   "metadata": {},
   "outputs": [],
   "source": []
  }
 ],
 "metadata": {
  "kernelspec": {
   "display_name": "Python 3 (ipykernel)",
   "language": "python",
   "name": "python3"
  },
  "language_info": {
   "codemirror_mode": {
    "name": "ipython",
    "version": 3
   },
   "file_extension": ".py",
   "mimetype": "text/x-python",
   "name": "python",
   "nbconvert_exporter": "python",
   "pygments_lexer": "ipython3",
   "version": "3.10.11"
  }
 },
 "nbformat": 4,
 "nbformat_minor": 5
}
