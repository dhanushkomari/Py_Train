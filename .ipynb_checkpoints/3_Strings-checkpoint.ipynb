{
 "cells": [
  {
   "cell_type": "markdown",
   "id": "d80000dd-3b70-4bf5-b89a-228eae78d944",
   "metadata": {},
   "source": [
    "# Strings\n",
    "* String can be defined as a combination of alphabetics, numbers and symbols\n",
    "* Strings supports both slicing and indexing\n",
    "* Strings have both the positive and negative indexing\n",
    "* Positive indexing starts from 0\n",
    "* Negative indexing starts from -1\n",
    "* string[0] --> which gives us the 1st positional charecter of a string\n",
    "* string[1] --> which gives us the last positional charecter of a string"
   ]
  },
  {
   "cell_type": "raw",
   "id": "59424fec-f087-404c-a8b9-5ec7ccb83b92",
   "metadata": {},
   "source": [
    "\n",
    "            0     1    2    3     4     5   ---->  +ve indexng\n",
    "  a ---->   P     Y    T    H     O     N\n",
    "           -6    -5   -4   -3    -2    -1   ---->  -ve indexing\n",
    "            \n"
   ]
  },
  {
   "cell_type": "markdown",
   "id": "bd4501c5-25e8-49f0-818d-0543d0a02b65",
   "metadata": {},
   "source": [
    "### String Indexing"
   ]
  },
  {
   "cell_type": "code",
   "execution_count": 1,
   "id": "94174648-1ea8-42da-b1a5-6f2c6c804a81",
   "metadata": {},
   "outputs": [
    {
     "data": {
      "text/plain": [
       "'P'"
      ]
     },
     "execution_count": 1,
     "metadata": {},
     "output_type": "execute_result"
    }
   ],
   "source": [
    "a = \"PYTHON\"\n",
    "a[0]"
   ]
  },
  {
   "cell_type": "code",
   "execution_count": 2,
   "id": "be70ab0c-3e1a-4a72-bbe2-96fe78295561",
   "metadata": {},
   "outputs": [
    {
     "data": {
      "text/plain": [
       "'Y'"
      ]
     },
     "execution_count": 2,
     "metadata": {},
     "output_type": "execute_result"
    }
   ],
   "source": [
    "a[1]"
   ]
  },
  {
   "cell_type": "code",
   "execution_count": 3,
   "id": "6ebd37f1-167a-4e7a-bcb9-d27be5ed6213",
   "metadata": {},
   "outputs": [
    {
     "data": {
      "text/plain": [
       "'N'"
      ]
     },
     "execution_count": 3,
     "metadata": {},
     "output_type": "execute_result"
    }
   ],
   "source": [
    "a[-1]"
   ]
  },
  {
   "cell_type": "code",
   "execution_count": 4,
   "id": "5153ad29-cf46-4462-b1de-38cb45f89a80",
   "metadata": {},
   "outputs": [
    {
     "data": {
      "text/plain": [
       "'N'"
      ]
     },
     "execution_count": 4,
     "metadata": {},
     "output_type": "execute_result"
    }
   ],
   "source": [
    "a[5]"
   ]
  },
  {
   "cell_type": "code",
   "execution_count": 2,
   "id": "74f3ff12-4320-437a-beeb-0f59a407f45e",
   "metadata": {},
   "outputs": [],
   "source": [
    "b = \"Hyderabad is capital of Telangana\""
   ]
  },
  {
   "cell_type": "code",
   "execution_count": 18,
   "id": "0b5c4d95-93ce-483b-afc2-0460b484fd88",
   "metadata": {},
   "outputs": [
    {
     "data": {
      "text/plain": [
       "'a'"
      ]
     },
     "execution_count": 18,
     "metadata": {},
     "output_type": "execute_result"
    }
   ],
   "source": [
    "b[-1]"
   ]
  },
  {
   "cell_type": "markdown",
   "id": "f1130068-c426-4a5e-a75f-c5a711475c6e",
   "metadata": {},
   "source": [
    "### String Slicing"
   ]
  },
  {
   "cell_type": "code",
   "execution_count": 4,
   "id": "fac9fa24-b643-4222-b0ac-51be5b35628e",
   "metadata": {},
   "outputs": [
    {
     "data": {
      "text/plain": [
       "'Hyderabad'"
      ]
     },
     "execution_count": 4,
     "metadata": {},
     "output_type": "execute_result"
    }
   ],
   "source": [
    "b[0:9]   # fetch only data in between the 10 and 15"
   ]
  },
  {
   "cell_type": "code",
   "execution_count": 5,
   "id": "b943d8b3-d3c1-40ef-9726-e83a1248b655",
   "metadata": {},
   "outputs": [
    {
     "data": {
      "text/plain": [
       "'Hyderabad'"
      ]
     },
     "execution_count": 5,
     "metadata": {},
     "output_type": "execute_result"
    }
   ],
   "source": [
    "b[:9]"
   ]
  },
  {
   "cell_type": "code",
   "execution_count": 7,
   "id": "9adc9f15-0c63-4077-ae9e-e6a026f95ca3",
   "metadata": {},
   "outputs": [
    {
     "data": {
      "text/plain": [
       "'Telangana'"
      ]
     },
     "execution_count": 7,
     "metadata": {},
     "output_type": "execute_result"
    }
   ],
   "source": [
    "b[24:]"
   ]
  },
  {
   "cell_type": "code",
   "execution_count": 8,
   "id": "57f2e502-9543-45cf-b2ab-e7cfd69d68dd",
   "metadata": {},
   "outputs": [
    {
     "data": {
      "text/plain": [
       "'Tel'"
      ]
     },
     "execution_count": 8,
     "metadata": {},
     "output_type": "execute_result"
    }
   ],
   "source": [
    "b[24:27]"
   ]
  },
  {
   "cell_type": "code",
   "execution_count": 13,
   "id": "0392e933-f678-40ee-bffc-b89f349a4f3c",
   "metadata": {},
   "outputs": [
    {
     "data": {
      "text/plain": [
       "'n'"
      ]
     },
     "execution_count": 13,
     "metadata": {},
     "output_type": "execute_result"
    }
   ],
   "source": [
    "b[-2]"
   ]
  },
  {
   "cell_type": "code",
   "execution_count": 15,
   "id": "16e050cd-b5db-47f0-93f9-2229d2d26f1c",
   "metadata": {},
   "outputs": [
    {
     "data": {
      "text/plain": [
       "'ngan'"
      ]
     },
     "execution_count": 15,
     "metadata": {},
     "output_type": "execute_result"
    }
   ],
   "source": [
    "b[-5:-1]"
   ]
  },
  {
   "cell_type": "markdown",
   "id": "6e02ee7b-d100-47ff-9a42-6c67d3570d8e",
   "metadata": {},
   "source": [
    "### Slicing with Step value"
   ]
  },
  {
   "cell_type": "code",
   "execution_count": 23,
   "id": "5e65cf83-baed-48e6-8613-74ec1c974118",
   "metadata": {},
   "outputs": [
    {
     "data": {
      "text/plain": [
       "9"
      ]
     },
     "execution_count": 23,
     "metadata": {},
     "output_type": "execute_result"
    }
   ],
   "source": [
    "c = \"Bangalore\"\n",
    "len(c)    # len function will gives the length the given value "
   ]
  },
  {
   "cell_type": "code",
   "execution_count": 26,
   "id": "0552f678-93ea-4a36-9286-32a3b666163b",
   "metadata": {},
   "outputs": [
    {
     "data": {
      "text/plain": [
       "'Bnaoe'"
      ]
     },
     "execution_count": 26,
     "metadata": {},
     "output_type": "execute_result"
    }
   ],
   "source": [
    "c[0:10:2]"
   ]
  },
  {
   "cell_type": "code",
   "execution_count": 27,
   "id": "39dbb992-25b1-459e-9346-e54cd9c3e5ee",
   "metadata": {},
   "outputs": [
    {
     "data": {
      "text/plain": [
       "'aglr'"
      ]
     },
     "execution_count": 27,
     "metadata": {},
     "output_type": "execute_result"
    }
   ],
   "source": [
    "c[1:10:2]"
   ]
  },
  {
   "cell_type": "markdown",
   "id": "e6b5cd71-68dd-4e76-a7a1-6e591cc2a4ba",
   "metadata": {},
   "source": [
    "### String methods"
   ]
  },
  {
   "cell_type": "code",
   "execution_count": 29,
   "id": "20be86ab-0366-47af-958b-8013b653063d",
   "metadata": {},
   "outputs": [
    {
     "data": {
      "text/plain": [
       "'Hyderabad is capital of Telangana'"
      ]
     },
     "execution_count": 29,
     "metadata": {},
     "output_type": "execute_result"
    }
   ],
   "source": [
    "b"
   ]
  },
  {
   "cell_type": "code",
   "execution_count": 30,
   "id": "60e39ce4-078e-45d7-a1c6-89168b918847",
   "metadata": {},
   "outputs": [
    {
     "data": {
      "text/plain": [
       "'Bangalore'"
      ]
     },
     "execution_count": 30,
     "metadata": {},
     "output_type": "execute_result"
    }
   ],
   "source": [
    "c"
   ]
  },
  {
   "cell_type": "code",
   "execution_count": 31,
   "id": "a77f5b00-146d-4a82-9cd9-fac8455acadf",
   "metadata": {},
   "outputs": [
    {
     "data": {
      "text/plain": [
       "'bangalore'"
      ]
     },
     "execution_count": 31,
     "metadata": {},
     "output_type": "execute_result"
    }
   ],
   "source": [
    "c.lower()   # changes the text into lower case"
   ]
  },
  {
   "cell_type": "code",
   "execution_count": 32,
   "id": "f3edc765-44d8-4f3b-9af8-2e0688de9e57",
   "metadata": {},
   "outputs": [
    {
     "data": {
      "text/plain": [
       "'hyderabad is capital of telangana'"
      ]
     },
     "execution_count": 32,
     "metadata": {},
     "output_type": "execute_result"
    }
   ],
   "source": [
    "b.lower()  "
   ]
  },
  {
   "cell_type": "code",
   "execution_count": 33,
   "id": "471d46bd-294f-4d20-a7af-352476c7c913",
   "metadata": {},
   "outputs": [
    {
     "data": {
      "text/plain": [
       "'HYDERABAD IS CAPITAL OF TELANGANA'"
      ]
     },
     "execution_count": 33,
     "metadata": {},
     "output_type": "execute_result"
    }
   ],
   "source": [
    "b.upper()    # changes the text into upper case"
   ]
  },
  {
   "cell_type": "code",
   "execution_count": 36,
   "id": "206bdf6f-0217-4b4d-b6f4-83559a13435b",
   "metadata": {},
   "outputs": [
    {
     "data": {
      "text/plain": [
       "'Chennai'"
      ]
     },
     "execution_count": 36,
     "metadata": {},
     "output_type": "execute_result"
    }
   ],
   "source": [
    "\"chennai\".capitalize()   # capitalize the first letter of the variable or value"
   ]
  },
  {
   "cell_type": "code",
   "execution_count": 38,
   "id": "79f283de-2b10-482b-ad06-e98138a42528",
   "metadata": {},
   "outputs": [
    {
     "data": {
      "text/plain": [
       "'Chennai City'"
      ]
     },
     "execution_count": 38,
     "metadata": {},
     "output_type": "execute_result"
    }
   ],
   "source": [
    "\"chennai city\".title()   # Capitalize the each word's first letter"
   ]
  },
  {
   "cell_type": "code",
   "execution_count": 39,
   "id": "a3c8e997-740a-45aa-909b-4001a21ca133",
   "metadata": {},
   "outputs": [
    {
     "data": {
      "text/plain": [
       "'chennai city - tn'"
      ]
     },
     "execution_count": 39,
     "metadata": {},
     "output_type": "execute_result"
    }
   ],
   "source": [
    "\"Chennai City - TN\".casefold()  # Converts the all charecters into lower case"
   ]
  },
  {
   "cell_type": "code",
   "execution_count": 41,
   "id": "a997d4c3-8192-48ca-b705-06a4bd88c172",
   "metadata": {},
   "outputs": [
    {
     "name": "stdout",
     "output_type": "stream",
     "text": [
      "Grant access\n"
     ]
    }
   ],
   "source": [
    "# helps in comparing two values\n",
    "email = \"Dhanushkomari@gmail.com\"\n",
    "if \"DHANUSHKOMARI@GMAIL.COM\".casefold() == email.casefold():\n",
    "    print(\"Grant access\") "
   ]
  },
  {
   "cell_type": "code",
   "execution_count": 42,
   "id": "56c68778-e20e-4259-a259-db65e4760600",
   "metadata": {},
   "outputs": [
    {
     "data": {
      "text/plain": [
       "'Dhanushkomari@gmail.com'"
      ]
     },
     "execution_count": 42,
     "metadata": {},
     "output_type": "execute_result"
    }
   ],
   "source": [
    "email"
   ]
  },
  {
   "cell_type": "code",
   "execution_count": 87,
   "id": "a7d86ce5-397a-4747-a3df-202ac9321a0c",
   "metadata": {},
   "outputs": [
    {
     "data": {
      "text/plain": [
       "' Bangalore '"
      ]
     },
     "execution_count": 87,
     "metadata": {},
     "output_type": "execute_result"
    }
   ],
   "source": [
    "c.center(11)   # Center the value with the speicfic width"
   ]
  },
  {
   "cell_type": "code",
   "execution_count": 88,
   "id": "67fd804b-e0ef-41eb-8a3b-0aa7bc08e272",
   "metadata": {},
   "outputs": [
    {
     "data": {
      "text/plain": [
       "'        Hyderabad is capital of Telangana         '"
      ]
     },
     "execution_count": 88,
     "metadata": {},
     "output_type": "execute_result"
    }
   ],
   "source": [
    "b.center(50)"
   ]
  },
  {
   "cell_type": "code",
   "execution_count": 89,
   "id": "97211401-9079-4d53-a8a1-f1e9f92dffd9",
   "metadata": {},
   "outputs": [
    {
     "data": {
      "text/plain": [
       "'^^^^^^^^Hyderabad is capital of Telangana^^^^^^^^^'"
      ]
     },
     "execution_count": 89,
     "metadata": {},
     "output_type": "execute_result"
    }
   ],
   "source": [
    "b.center(50, '^')"
   ]
  },
  {
   "cell_type": "code",
   "execution_count": 90,
   "id": "e3258fd6-bf49-4745-8f96-2e2b5e907e50",
   "metadata": {},
   "outputs": [
    {
     "data": {
      "text/plain": [
       "'@@@@@@@@@@@@@@@@@@@@@@@@@@@@@@@@@Hyderabad is capital of Telangana@@@@@@@@@@@@@@@@@@@@@@@@@@@@@@@@@@'"
      ]
     },
     "execution_count": 90,
     "metadata": {},
     "output_type": "execute_result"
    }
   ],
   "source": [
    "b.center(100, '@')"
   ]
  },
  {
   "cell_type": "code",
   "execution_count": 94,
   "id": "4490968a-04cc-4634-8608-35302f5e722a",
   "metadata": {},
   "outputs": [
    {
     "data": {
      "text/plain": [
       "'Hyderabad is capital of Telangana'"
      ]
     },
     "execution_count": 94,
     "metadata": {},
     "output_type": "execute_result"
    }
   ],
   "source": [
    "b"
   ]
  },
  {
   "cell_type": "code",
   "execution_count": 104,
   "id": "5ddc49f0-9888-4d1d-8b27-6b97f7973586",
   "metadata": {},
   "outputs": [
    {
     "data": {
      "text/plain": [
       "1"
      ]
     },
     "execution_count": 104,
     "metadata": {},
     "output_type": "execute_result"
    }
   ],
   "source": [
    "b.count('is')    # Count is used to find the occurance of a given string within the original string"
   ]
  },
  {
   "cell_type": "code",
   "execution_count": 93,
   "id": "7998b60e-9c48-4633-ad5e-8bd200d11db1",
   "metadata": {},
   "outputs": [
    {
     "data": {
      "text/plain": [
       "7"
      ]
     },
     "execution_count": 93,
     "metadata": {},
     "output_type": "execute_result"
    }
   ],
   "source": [
    "b.count('a')"
   ]
  },
  {
   "cell_type": "code",
   "execution_count": 103,
   "id": "b21ba72c-7a4f-4b45-babc-72afcfb7bf6d",
   "metadata": {},
   "outputs": [
    {
     "data": {
      "text/plain": [
       "int"
      ]
     },
     "execution_count": 103,
     "metadata": {},
     "output_type": "execute_result"
    }
   ],
   "source": [
    "b.casefold().count('Telangana'.casefold())   # ---> 'hyderabad is capital of telangana'.count('telangana')"
   ]
  },
  {
   "cell_type": "code",
   "execution_count": 99,
   "id": "31d36221-593e-44f5-b49e-4c5cfc73e118",
   "metadata": {},
   "outputs": [
    {
     "data": {
      "text/plain": [
       "'hyderabad is capital of telangana'"
      ]
     },
     "execution_count": 99,
     "metadata": {},
     "output_type": "execute_result"
    }
   ],
   "source": [
    "b.casefold()"
   ]
  },
  {
   "cell_type": "code",
   "execution_count": 102,
   "id": "25bbdd46-83d7-414a-8c41-2d4107a84dda",
   "metadata": {},
   "outputs": [
    {
     "data": {
      "text/plain": [
       "'telangana'"
      ]
     },
     "execution_count": 102,
     "metadata": {},
     "output_type": "execute_result"
    }
   ],
   "source": [
    "'Telangana'.casefold()"
   ]
  },
  {
   "cell_type": "code",
   "execution_count": 110,
   "id": "ef176777-1b71-4a60-95fe-c345604717fc",
   "metadata": {},
   "outputs": [
    {
     "data": {
      "text/plain": [
       "1"
      ]
     },
     "execution_count": 110,
     "metadata": {},
     "output_type": "execute_result"
    }
   ],
   "source": [
    "b.count(\"is\", 10, 20)   # here we have used start and stop, only count the value between 10 and 20"
   ]
  },
  {
   "cell_type": "code",
   "execution_count": 123,
   "id": "2d79fad1-16a3-4f7e-82c9-e55fa097ea56",
   "metadata": {},
   "outputs": [
    {
     "data": {
      "text/plain": [
       "True"
      ]
     },
     "execution_count": 123,
     "metadata": {},
     "output_type": "execute_result"
    }
   ],
   "source": [
    "b.endswith('Telangana')  # endswith will give us the result True if a value ends with specified string"
   ]
  },
  {
   "cell_type": "code",
   "execution_count": 119,
   "id": "ede0458a-99df-447b-b2a7-6abc7b827c27",
   "metadata": {},
   "outputs": [
    {
     "data": {
      "text/plain": [
       "True"
      ]
     },
     "execution_count": 119,
     "metadata": {},
     "output_type": "execute_result"
    }
   ],
   "source": [
    "# Ex:2 for endswith\n",
    "b.casefold().endswith(\"Ana\".casefold())"
   ]
  },
  {
   "cell_type": "code",
   "execution_count": 129,
   "id": "a58d9a59-47ce-45b5-bc27-a5e079dbaaaf",
   "metadata": {},
   "outputs": [
    {
     "data": {
      "text/plain": [
       "True"
      ]
     },
     "execution_count": 129,
     "metadata": {},
     "output_type": "execute_result"
    }
   ],
   "source": [
    "b.startswith('Hyderabad')  # startswith will give us the result True if a value ends with specified string"
   ]
  },
  {
   "cell_type": "code",
   "execution_count": 130,
   "id": "9b274e1f-9420-4156-921c-0b580c7240fa",
   "metadata": {},
   "outputs": [
    {
     "data": {
      "text/plain": [
       "True"
      ]
     },
     "execution_count": 130,
     "metadata": {},
     "output_type": "execute_result"
    }
   ],
   "source": [
    "b.startswith('Hyderabad is') "
   ]
  },
  {
   "cell_type": "code",
   "execution_count": 131,
   "id": "f5a694da-7c9a-4dd2-86d8-4a9f435081ca",
   "metadata": {},
   "outputs": [
    {
     "data": {
      "text/plain": [
       "'Bangalore'"
      ]
     },
     "execution_count": 131,
     "metadata": {},
     "output_type": "execute_result"
    }
   ],
   "source": [
    "c"
   ]
  },
  {
   "cell_type": "code",
   "execution_count": 149,
   "id": "6193263b-53f2-481b-9fd9-f356d2b4b5bc",
   "metadata": {},
   "outputs": [
    {
     "data": {
      "text/plain": [
       "'New       Delhi'"
      ]
     },
     "execution_count": 149,
     "metadata": {},
     "output_type": "execute_result"
    }
   ],
   "source": [
    "\"New\\tDelhi\".expandtabs(10)   # which gives us mentioned spaces in place of \\t"
   ]
  },
  {
   "cell_type": "code",
   "execution_count": 152,
   "id": "2d419b3a-cf84-4176-af0f-2d9098d168f6",
   "metadata": {},
   "outputs": [
    {
     "name": "stdout",
     "output_type": "stream",
     "text": [
      "New\tDelhi\n"
     ]
    }
   ],
   "source": [
    "# reference for above cell(expandtabs)\n",
    "print(\"New\\tDelhi\")"
   ]
  },
  {
   "cell_type": "code",
   "execution_count": 158,
   "id": "ae7964d5-bb85-43c6-84d7-a4019e43ace1",
   "metadata": {},
   "outputs": [
    {
     "data": {
      "text/plain": [
       "3"
      ]
     },
     "execution_count": 158,
     "metadata": {},
     "output_type": "execute_result"
    }
   ],
   "source": [
    "c.find(\"ga\")   # find the starting index wherer the given strin is matched in the main string"
   ]
  },
  {
   "cell_type": "code",
   "execution_count": 159,
   "id": "f61b06a9-cccc-41de-892b-7561fcebf63b",
   "metadata": {},
   "outputs": [
    {
     "data": {
      "text/plain": [
       "-1"
      ]
     },
     "execution_count": 159,
     "metadata": {},
     "output_type": "execute_result"
    }
   ],
   "source": [
    "c.find(\"ahsfhdsjfk\")   # returns -1 if the given string is not exist in main string"
   ]
  },
  {
   "cell_type": "code",
   "execution_count": 168,
   "id": "e4ccaf32-6e1f-47a9-8c46-f0424cf5dd81",
   "metadata": {},
   "outputs": [
    {
     "data": {
      "text/plain": [
       "0"
      ]
     },
     "execution_count": 168,
     "metadata": {},
     "output_type": "execute_result"
    }
   ],
   "source": [
    "c.index('B') #Index function will return the index number where the given charecter or string matched"
   ]
  },
  {
   "cell_type": "code",
   "execution_count": 165,
   "id": "12e51fe6-895b-4577-87e0-43faab208727",
   "metadata": {},
   "outputs": [
    {
     "data": {
      "text/plain": [
       "4"
      ]
     },
     "execution_count": 165,
     "metadata": {},
     "output_type": "execute_result"
    }
   ],
   "source": [
    "c.index('a', 4, 6)     # here 'a' index is checked between 4 and 6"
   ]
  },
  {
   "cell_type": "code",
   "execution_count": 170,
   "id": "a8f5144d-8e21-405b-b6a2-18d2a7f95c53",
   "metadata": {},
   "outputs": [
    {
     "data": {
      "text/plain": [
       "True"
      ]
     },
     "execution_count": 170,
     "metadata": {},
     "output_type": "execute_result"
    }
   ],
   "source": [
    "\"10\".isdigit()"
   ]
  },
  {
   "cell_type": "code",
   "execution_count": 171,
   "id": "9a3fae68-ace1-4bd4-8911-d76a9b726bdf",
   "metadata": {},
   "outputs": [
    {
     "data": {
      "text/plain": [
       "False"
      ]
     },
     "execution_count": 171,
     "metadata": {},
     "output_type": "execute_result"
    }
   ],
   "source": [
    "\"10.55\".isdigit()"
   ]
  },
  {
   "cell_type": "code",
   "execution_count": 176,
   "id": "a101d8cc-e087-473a-b34b-cc251a5f0d0a",
   "metadata": {},
   "outputs": [
    {
     "data": {
      "text/plain": [
       "True"
      ]
     },
     "execution_count": 176,
     "metadata": {},
     "output_type": "execute_result"
    }
   ],
   "source": [
    "\"1087\".isdecimal()"
   ]
  },
  {
   "cell_type": "code",
   "execution_count": 177,
   "id": "a8ad7814-8b56-49eb-9ad1-234b464bcbd6",
   "metadata": {},
   "outputs": [
    {
     "data": {
      "text/plain": [
       "False"
      ]
     },
     "execution_count": 177,
     "metadata": {},
     "output_type": "execute_result"
    }
   ],
   "source": [
    "\"1087\".isalpha()"
   ]
  },
  {
   "cell_type": "code",
   "execution_count": 179,
   "id": "319d625f-43a6-44ad-8d60-251d2659f910",
   "metadata": {},
   "outputs": [
    {
     "data": {
      "text/plain": [
       "True"
      ]
     },
     "execution_count": 179,
     "metadata": {},
     "output_type": "execute_result"
    }
   ],
   "source": [
    "\"ABCd\".isalpha()"
   ]
  },
  {
   "cell_type": "code",
   "execution_count": 180,
   "id": "baa295e9-759d-4eb1-a0cd-1cca47767ddc",
   "metadata": {},
   "outputs": [
    {
     "data": {
      "text/plain": [
       "False"
      ]
     },
     "execution_count": 180,
     "metadata": {},
     "output_type": "execute_result"
    }
   ],
   "source": [
    "\"abcD123\".isalpha()"
   ]
  },
  {
   "cell_type": "code",
   "execution_count": 181,
   "id": "8d942c7c-712b-4187-a959-51a775bf0831",
   "metadata": {},
   "outputs": [
    {
     "data": {
      "text/plain": [
       "True"
      ]
     },
     "execution_count": 181,
     "metadata": {},
     "output_type": "execute_result"
    }
   ],
   "source": [
    "\"abcD123\".isalnum()   # Checks wheather the given string is alphabet or numeric"
   ]
  },
  {
   "cell_type": "code",
   "execution_count": 186,
   "id": "c9dd392c-ede1-4053-b0ff-f55ecbf721e0",
   "metadata": {},
   "outputs": [
    {
     "data": {
      "text/plain": [
       "True"
      ]
     },
     "execution_count": 186,
     "metadata": {},
     "output_type": "execute_result"
    }
   ],
   "source": [
    "\"abc\".isalnum()"
   ]
  },
  {
   "cell_type": "code",
   "execution_count": 187,
   "id": "1b2f98bd-e636-44f4-9974-53a8e5fd57ef",
   "metadata": {},
   "outputs": [
    {
     "data": {
      "text/plain": [
       "True"
      ]
     },
     "execution_count": 187,
     "metadata": {},
     "output_type": "execute_result"
    }
   ],
   "source": [
    "\"123\".isalnum()"
   ]
  },
  {
   "cell_type": "code",
   "execution_count": 189,
   "id": "4819a5c7-dde9-4bef-8561-be310dd28245",
   "metadata": {},
   "outputs": [
    {
     "data": {
      "text/plain": [
       "True"
      ]
     },
     "execution_count": 189,
     "metadata": {},
     "output_type": "execute_result"
    }
   ],
   "source": [
    "\"123\".isnumeric()"
   ]
  },
  {
   "cell_type": "code",
   "execution_count": 190,
   "id": "55a12114-cb79-4398-b090-330f6f086e72",
   "metadata": {},
   "outputs": [
    {
     "data": {
      "text/plain": [
       "False"
      ]
     },
     "execution_count": 190,
     "metadata": {},
     "output_type": "execute_result"
    }
   ],
   "source": [
    "\"123a\".isnumeric()"
   ]
  },
  {
   "cell_type": "code",
   "execution_count": 191,
   "id": "50a1e3e9-06cd-412e-b97d-bf3d4ad9f70c",
   "metadata": {},
   "outputs": [
    {
     "data": {
      "text/plain": [
       "False"
      ]
     },
     "execution_count": 191,
     "metadata": {},
     "output_type": "execute_result"
    }
   ],
   "source": [
    "\"123@#\".isnumeric()"
   ]
  },
  {
   "cell_type": "code",
   "execution_count": 195,
   "id": "62f460b2-0fb5-4177-bd84-f6e13dcb1d48",
   "metadata": {},
   "outputs": [
    {
     "data": {
      "text/plain": [
       "True"
      ]
     },
     "execution_count": 195,
     "metadata": {},
     "output_type": "execute_result"
    }
   ],
   "source": [
    "\"Name\".isidentifier()"
   ]
  },
  {
   "cell_type": "code",
   "execution_count": 198,
   "id": "06835ad6-a083-423f-b2cf-4e1def7c9715",
   "metadata": {},
   "outputs": [
    {
     "data": {
      "text/plain": [
       "True"
      ]
     },
     "execution_count": 198,
     "metadata": {},
     "output_type": "execute_result"
    }
   ],
   "source": [
    "\"name_\".isidentifier()"
   ]
  },
  {
   "cell_type": "code",
   "execution_count": 201,
   "id": "ab9da95d-6468-4e7d-9c20-ed109eb47629",
   "metadata": {},
   "outputs": [
    {
     "data": {
      "text/plain": [
       "False"
      ]
     },
     "execution_count": 201,
     "metadata": {},
     "output_type": "execute_result"
    }
   ],
   "source": [
    "\"1\".isidentifier()"
   ]
  },
  {
   "cell_type": "code",
   "execution_count": 202,
   "id": "b6a9a98b-60fe-4d56-a664-6ccd934c219d",
   "metadata": {},
   "outputs": [
    {
     "data": {
      "text/plain": [
       "False"
      ]
     },
     "execution_count": 202,
     "metadata": {},
     "output_type": "execute_result"
    }
   ],
   "source": [
    "\"$abc\".isidentifier()"
   ]
  },
  {
   "cell_type": "code",
   "execution_count": 204,
   "id": "43721ed4-48f2-4acd-b0c3-35004928eeae",
   "metadata": {},
   "outputs": [
    {
     "data": {
      "text/plain": [
       "True"
      ]
     },
     "execution_count": 204,
     "metadata": {},
     "output_type": "execute_result"
    }
   ],
   "source": [
    "\"askjdfajd\".isprintable()"
   ]
  },
  {
   "cell_type": "code",
   "execution_count": 205,
   "id": "de775e4e-2004-48c6-af0a-25a6611e09c2",
   "metadata": {},
   "outputs": [
    {
     "data": {
      "text/plain": [
       "True"
      ]
     },
     "execution_count": 205,
     "metadata": {},
     "output_type": "execute_result"
    }
   ],
   "source": [
    "\" \".isspace()"
   ]
  },
  {
   "cell_type": "code",
   "execution_count": 206,
   "id": "1f8a3091-93bf-4dbf-94cb-e7d5873ca8eb",
   "metadata": {},
   "outputs": [
    {
     "data": {
      "text/plain": [
       "False"
      ]
     },
     "execution_count": 206,
     "metadata": {},
     "output_type": "execute_result"
    }
   ],
   "source": [
    "\"*\".isspace()"
   ]
  },
  {
   "cell_type": "code",
   "execution_count": 207,
   "id": "bd735bdf-3ec6-4d27-bfcf-55a92a26676c",
   "metadata": {},
   "outputs": [
    {
     "data": {
      "text/plain": [
       "True"
      ]
     },
     "execution_count": 207,
     "metadata": {},
     "output_type": "execute_result"
    }
   ],
   "source": [
    "\"Python\".istitle()"
   ]
  },
  {
   "cell_type": "code",
   "execution_count": 208,
   "id": "6729fba5-8058-4408-9271-71802ed5fd96",
   "metadata": {},
   "outputs": [
    {
     "data": {
      "text/plain": [
       "False"
      ]
     },
     "execution_count": 208,
     "metadata": {},
     "output_type": "execute_result"
    }
   ],
   "source": [
    "\"Python programming\".istitle()"
   ]
  },
  {
   "cell_type": "code",
   "execution_count": 209,
   "id": "542fde52-92ca-46df-93ec-fedca8bb203a",
   "metadata": {},
   "outputs": [
    {
     "data": {
      "text/plain": [
       "True"
      ]
     },
     "execution_count": 209,
     "metadata": {},
     "output_type": "execute_result"
    }
   ],
   "source": [
    "\"Python Programming\".istitle()"
   ]
  },
  {
   "cell_type": "code",
   "execution_count": 212,
   "id": "39045375-d4ee-43bb-9677-a95f93dbff91",
   "metadata": {},
   "outputs": [
    {
     "data": {
      "text/plain": [
       "'Python Programming'"
      ]
     },
     "execution_count": 212,
     "metadata": {},
     "output_type": "execute_result"
    }
   ],
   "source": [
    "\"     Python Programming       \".strip()"
   ]
  },
  {
   "cell_type": "code",
   "execution_count": 213,
   "id": "6d56e239-c387-4046-b651-b1d75c0d0810",
   "metadata": {},
   "outputs": [
    {
     "data": {
      "text/plain": [
       "'Python Programming       '"
      ]
     },
     "execution_count": 213,
     "metadata": {},
     "output_type": "execute_result"
    }
   ],
   "source": [
    "\"     Python Programming       \".lstrip()"
   ]
  },
  {
   "cell_type": "code",
   "execution_count": 214,
   "id": "ca364cc5-898c-4e45-8c9b-d611b258adc3",
   "metadata": {},
   "outputs": [
    {
     "data": {
      "text/plain": [
       "'     Python Programming'"
      ]
     },
     "execution_count": 214,
     "metadata": {},
     "output_type": "execute_result"
    }
   ],
   "source": [
    "\"     Python Programming       \".rstrip()"
   ]
  },
  {
   "cell_type": "markdown",
   "id": "bacae64b-a04b-40af-9935-ff3d28b0c058",
   "metadata": {},
   "source": [
    "### Split"
   ]
  },
  {
   "cell_type": "code",
   "execution_count": 1,
   "id": "f392e9e9-8276-438c-a42e-86c7568307a7",
   "metadata": {},
   "outputs": [
    {
     "data": {
      "text/plain": [
       "['Bangalore', 'is', 'the', 'capital', 'of', 'Karnataka']"
      ]
     },
     "execution_count": 1,
     "metadata": {},
     "output_type": "execute_result"
    }
   ],
   "source": [
    "\"Bangalore is the capital of Karnataka\".split()"
   ]
  },
  {
   "cell_type": "code",
   "execution_count": 2,
   "id": "1469fe2e-cc8a-4870-af8c-cd211295e5d5",
   "metadata": {},
   "outputs": [],
   "source": [
    "blr = \"Bangalore is the capital of Karnataka\""
   ]
  },
  {
   "cell_type": "code",
   "execution_count": 3,
   "id": "4c95c078-885f-4f48-95dd-036957d1ec81",
   "metadata": {},
   "outputs": [
    {
     "data": {
      "text/plain": [
       "['Bangalore ', ' the capital of Karnataka']"
      ]
     },
     "execution_count": 3,
     "metadata": {},
     "output_type": "execute_result"
    }
   ],
   "source": [
    "blr.split(\"is\")"
   ]
  },
  {
   "cell_type": "code",
   "execution_count": 36,
   "id": "4673f7c0-d58c-4925-926d-d755735f5da8",
   "metadata": {},
   "outputs": [],
   "source": [
    "capitals =  '''\n",
    "        Hyderabad is capital of Telangana, \n",
    "        Chennail is capital of Tamilanadu,\n",
    "        Bangalore is capital of Karnataka,\n",
    "        Lucknow is capital of UttarPradesh\n",
    "        '''"
   ]
  },
  {
   "cell_type": "code",
   "execution_count": 37,
   "id": "7dee98f3-1f15-4ef1-b7a9-71f0cd69aba4",
   "metadata": {},
   "outputs": [
    {
     "data": {
      "text/plain": [
       "'\\n        Hyderabad is capital of Telangana, \\n        Chennail is capital of Tamilanadu,\\n        Bangalore is capital of Karnataka,\\n        Lucknow is capital of UttarPradesh\\n        '"
      ]
     },
     "execution_count": 37,
     "metadata": {},
     "output_type": "execute_result"
    }
   ],
   "source": [
    "capitals"
   ]
  },
  {
   "cell_type": "code",
   "execution_count": 38,
   "id": "f39e0702-9f74-42d1-9b1a-c7555ff4c65c",
   "metadata": {},
   "outputs": [
    {
     "name": "stdout",
     "output_type": "stream",
     "text": [
      "\n",
      "        Hyderabad is capital of Telangana, \n",
      "        Chennail is capital of Tamilanadu,\n",
      "        Bangalore is capital of Karnataka,\n",
      "        Lucknow is capital of UttarPradesh\n",
      "        \n"
     ]
    }
   ],
   "source": [
    "print(capitals)"
   ]
  },
  {
   "cell_type": "code",
   "execution_count": 17,
   "id": "bbabe2e2-a3bc-497d-b807-c5ca5e8c28d0",
   "metadata": {},
   "outputs": [
    {
     "data": {
      "text/plain": [
       "['\\n           Hyderaba is caital of Telangana',\n",
       " '\\n           Chennail is capital of Tamilanadu',\n",
       " '\\n           Bangalore is capital of Karnataka',\n",
       " '\\n           Lucknow is capital of UttarPradesh\\n           ']"
      ]
     },
     "execution_count": 17,
     "metadata": {},
     "output_type": "execute_result"
    }
   ],
   "source": [
    "cap_sen = capitals.split(',')\n",
    "cap_sen"
   ]
  },
  {
   "cell_type": "code",
   "execution_count": 40,
   "id": "409bb62a-f11e-4a98-9db6-8e1c60872b87",
   "metadata": {},
   "outputs": [
    {
     "name": "stdout",
     "output_type": "stream",
     "text": [
      "Hyderaba is caital of Telangana\n",
      "Chennail is capital of Tamilanadu\n",
      "Bangalore is capital of Karnataka\n",
      "Lucknow is capital of UttarPradesh\n"
     ]
    }
   ],
   "source": [
    "for i in cap_sen:\n",
    "    print(i.replace(\"\\n           \", \"\"))"
   ]
  },
  {
   "cell_type": "code",
   "execution_count": 19,
   "id": "3fdd290a-bca5-481b-a98e-2c7e05655445",
   "metadata": {},
   "outputs": [
    {
     "data": {
      "text/plain": [
       "'Hyderaba is caital of Telangana'"
      ]
     },
     "execution_count": 19,
     "metadata": {},
     "output_type": "execute_result"
    }
   ],
   "source": [
    "\"           Hyderaba is caital of Telangana\".replace(\"           \", \"\")"
   ]
  },
  {
   "cell_type": "code",
   "execution_count": 28,
   "id": "db4d8f82-1144-4bba-aceb-fdfb1219ee27",
   "metadata": {},
   "outputs": [
    {
     "name": "stdout",
     "output_type": "stream",
     "text": [
      "India\n",
      "Australia\n",
      "US\n"
     ]
    }
   ],
   "source": [
    "print(\"India\\nAustralia\\nUS\")\n",
    "\n",
    "coun = \"\"\"\n",
    "        India\n",
    "        Aus\n",
    "        US\n",
    "        \"\"\""
   ]
  },
  {
   "cell_type": "code",
   "execution_count": 30,
   "id": "6efd8f3e-610d-4e7f-858d-0c56834e511e",
   "metadata": {},
   "outputs": [
    {
     "name": "stdout",
     "output_type": "stream",
     "text": [
      "\n",
      "        India\n",
      "        Aus\n",
      "        US\n",
      "        \n"
     ]
    }
   ],
   "source": [
    "print(coun)"
   ]
  },
  {
   "cell_type": "code",
   "execution_count": 31,
   "id": "b15fa0e6-89cd-4f57-87dc-21fc37096183",
   "metadata": {},
   "outputs": [
    {
     "data": {
      "text/plain": [
       "'\\n        India\\n        Aus\\n        US\\n        '"
      ]
     },
     "execution_count": 31,
     "metadata": {},
     "output_type": "execute_result"
    }
   ],
   "source": [
    "coun"
   ]
  },
  {
   "cell_type": "markdown",
   "id": "ff86e8fa-d008-4d95-8703-707e70be6cc9",
   "metadata": {},
   "source": [
    "### looping trhrough a string"
   ]
  },
  {
   "cell_type": "code",
   "execution_count": 43,
   "id": "2ccdf688-3c60-4ddc-af8a-708d750026b7",
   "metadata": {},
   "outputs": [
    {
     "name": "stdout",
     "output_type": "stream",
     "text": [
      "I\n",
      "n\n",
      "d\n",
      "i\n",
      "a\n"
     ]
    }
   ],
   "source": [
    "for i in \"India\":\n",
    "    print(i)"
   ]
  },
  {
   "cell_type": "code",
   "execution_count": 42,
   "id": "a04a5003-95f3-4390-b0a0-18460f85a2a3",
   "metadata": {},
   "outputs": [
    {
     "name": "stdout",
     "output_type": "stream",
     "text": [
      "India\n",
      "is\n",
      "No.1\n",
      "ranked\n",
      "cricket\n",
      "team\n",
      "in\n",
      "ODI\n"
     ]
    }
   ],
   "source": [
    "\n",
    "for item in \"India is No.1 ranked cricket team in ODI\".split():\n",
    "    print(item)"
   ]
  },
  {
   "cell_type": "code",
   "execution_count": 47,
   "id": "8acf971b-3bf9-4d6e-aba9-cbf6808484f3",
   "metadata": {},
   "outputs": [
    {
     "name": "stdout",
     "output_type": "stream",
     "text": [
      "India is No.1 ranked cricket team in ODI, \n",
      "followed by Australia\n"
     ]
    }
   ],
   "source": [
    "print(\"India is No.1 ranked cricket team in ODI, \\nfollowed by Australia\")"
   ]
  },
  {
   "cell_type": "code",
   "execution_count": 48,
   "id": "24758e57-30a5-482c-8972-edcdd8ff8b3b",
   "metadata": {},
   "outputs": [],
   "source": [
    "odi_stats = \"India is No.1 ranked cricket team in ODI, \\nfollowed by Australia\""
   ]
  },
  {
   "cell_type": "code",
   "execution_count": 52,
   "id": "b642ae7d-166b-4911-a396-bb943e051066",
   "metadata": {},
   "outputs": [
    {
     "data": {
      "text/plain": [
       "'India is No.1 ranked cricket team in ODI, \\nfollowed by Australia'"
      ]
     },
     "execution_count": 52,
     "metadata": {},
     "output_type": "execute_result"
    }
   ],
   "source": [
    "odi_stats"
   ]
  },
  {
   "cell_type": "code",
   "execution_count": 51,
   "id": "1293deee-54df-42ac-b0b0-ec68995e0381",
   "metadata": {},
   "outputs": [
    {
     "name": "stdout",
     "output_type": "stream",
     "text": [
      "India is No.1 ranked cricket team in ODI, \n",
      "followed by Australia\n"
     ]
    }
   ],
   "source": [
    "print(odi_stats)"
   ]
  },
  {
   "cell_type": "markdown",
   "id": "86e812f8-57c3-4645-a827-029c4bb59f67",
   "metadata": {},
   "source": [
    "### String Concatenation"
   ]
  },
  {
   "cell_type": "code",
   "execution_count": 55,
   "id": "96b59880-70a4-429d-9c20-0fe234f866d4",
   "metadata": {},
   "outputs": [],
   "source": [
    "street = 'Madhapur'\n",
    "city = \"HYD\"\n",
    "pin = 500081\n",
    "state = 'Telangana'\n",
    " \n",
    "# Madhapur,\n",
    "# HYD, \n",
    "# Telangana - 500081"
   ]
  },
  {
   "cell_type": "code",
   "execution_count": 75,
   "id": "3f5016cb-b731-4d14-a09e-dea5bb9b8c62",
   "metadata": {},
   "outputs": [
    {
     "name": "stdout",
     "output_type": "stream",
     "text": [
      "Madhapur,\n",
      "HYD,\n",
      "Telangana - 500081\n"
     ]
    }
   ],
   "source": [
    "print(street + \",\\n\" + city + \",\\n\" +state + \" - \" + str(pin))"
   ]
  },
  {
   "cell_type": "code",
   "execution_count": 66,
   "id": "36b7f548-25c8-45fd-9f99-2220ba12a80a",
   "metadata": {},
   "outputs": [
    {
     "data": {
      "text/plain": [
       "'Dhanush, K 155'"
      ]
     },
     "execution_count": 66,
     "metadata": {},
     "output_type": "execute_result"
    }
   ],
   "source": [
    "\"Dhanush,\" + \" K \" + str(155)"
   ]
  },
  {
   "cell_type": "code",
   "execution_count": 78,
   "id": "aaeb1a20-63f2-4b99-bddf-bb8e97180c02",
   "metadata": {},
   "outputs": [
    {
     "data": {
      "text/plain": [
       "'hYdERABAd'"
      ]
     },
     "execution_count": 78,
     "metadata": {},
     "output_type": "execute_result"
    }
   ],
   "source": [
    "\"HyDerabaD\".swapcase()"
   ]
  },
  {
   "cell_type": "markdown",
   "id": "4530d29c-2148-4e37-b1c7-69b03818df98",
   "metadata": {},
   "source": [
    "### Join"
   ]
  },
  {
   "cell_type": "markdown",
   "id": "3df19e2f-9391-4f24-aaf9-b3a0717c073d",
   "metadata": {},
   "source": [
    "* Join method is used to join the given two or more string s into one string"
   ]
  },
  {
   "cell_type": "code",
   "execution_count": 79,
   "id": "bcf854f3-0e79-4c23-a021-3f4cb222c934",
   "metadata": {},
   "outputs": [],
   "source": [
    "cities = [\"Hyderabad\", \"Chennai\", \"Delhi\", \"Mumbai\"]"
   ]
  },
  {
   "cell_type": "code",
   "execution_count": 81,
   "id": "f5ea5d98-5bd3-486f-bb10-b2ff05fb87dd",
   "metadata": {},
   "outputs": [
    {
     "data": {
      "text/plain": [
       "['Hyderabad', 'Chennai', 'Delhi', 'Mumbai']"
      ]
     },
     "execution_count": 81,
     "metadata": {},
     "output_type": "execute_result"
    }
   ],
   "source": [
    "cities"
   ]
  },
  {
   "cell_type": "code",
   "execution_count": 95,
   "id": "cad11e4c-16e3-4ce0-b339-42566df21889",
   "metadata": {},
   "outputs": [
    {
     "data": {
      "text/plain": [
       "'Hyderabad - Chennai - Delhi - Mumbai'"
      ]
     },
     "execution_count": 95,
     "metadata": {},
     "output_type": "execute_result"
    }
   ],
   "source": [
    "\" - \".join(cities)"
   ]
  },
  {
   "cell_type": "raw",
   "id": "5f002f87-3abe-48c9-98d4-a6a84df4509d",
   "metadata": {},
   "source": [
    "# upi transaction complete message\n",
    "\n",
    "inputs : sender, reciever, amount, reference_no, transaction_status(approved/declined), date, time.\n",
    "output : \n",
    "\n",
    "if transaction_status is approved?\n",
    "        Hi Thank you for choosing UPI,                    \n",
    "        Randy sent Rs. 1000 to John on 15-04-2024 at 12:34 PM with reference no : UPI1234.     \n",
    "        Thanks,\n",
    "        UPI\n",
    "else:\n",
    "         Transaction declined due to insufficient information with refernce no : UPI12345 "
   ]
  },
  {
   "cell_type": "code",
   "execution_count": 7,
   "id": "fc2152b3-7daa-44fb-b516-02336fa2463a",
   "metadata": {},
   "outputs": [
    {
     "name": "stdin",
     "output_type": "stream",
     "text": [
      "Enter Sender name:  John\n",
      "Enter reciever name:  Randy\n",
      "Enter amount:  56745\n",
      "Enter reference number:  UPI984523\n",
      "Enter date:  12-12-2008\n",
      "Enter time:  12:57 AM\n",
      "Enter transaction status(approve/decline):  decline\n"
     ]
    },
    {
     "name": "stdout",
     "output_type": "stream",
     "text": [
      "transaction UPI984523 declined due to funds/technical issue. \n",
      "Thank you, \n",
      "Team UPI\n"
     ]
    }
   ],
   "source": [
    "# inputs\n",
    "\n",
    "sender = input(\"Enter Sender name: \")\n",
    "reciever = input(\"Enter reciever name: \")\n",
    "amount = input(\"Enter amount: \")\n",
    "reference_no = input(\"Enter reference number: \")\n",
    "date = input(\"Enter date: \")\n",
    "time = input(\"Enter time: \")\n",
    "transaction_status = input(\"Enter transaction status(approve/decline): \")\n",
    "    \n",
    "if transaction_status == 'approve':\n",
    "    print(\"Hi Thank you for choosing UPI\" + \"  \\n\" + sender + \" sent Rs. \" + amount + \" to \" + reciever + \" on \" + date + \" at \" + time + \" with reference no : \" + reference_no + \".\"+ \"\\nThanks,\\nUPI\")\n",
    "elif transaction_status == 'decline':\n",
    "    print(\"your transaction \"+ reference_no +\" declined due to funds/technical issue. \\nThank you, \\nTeam UPI\")"
   ]
  },
  {
   "cell_type": "code",
   "execution_count": 10,
   "id": "8836d4f0-26fc-4aca-8dcc-56878f554635",
   "metadata": {},
   "outputs": [
    {
     "data": {
      "text/plain": [
       "'Hi this is Dhanush, I am from Nellore'"
      ]
     },
     "execution_count": 10,
     "metadata": {},
     "output_type": "execute_result"
    }
   ],
   "source": [
    "\"Hi this is {}, I am from {}\".format(\"Dhanush\", \"Nellore\")"
   ]
  },
  {
   "cell_type": "code",
   "execution_count": 13,
   "id": "11ea1066-055c-4281-9bd9-6e79d2eb6de6",
   "metadata": {},
   "outputs": [
    {
     "data": {
      "text/plain": [
       "'Dear John, Thank you for contacting our online Services. Mike will reach out to you shortly. Please call +17867898767 in case of any assistance'"
      ]
     },
     "execution_count": 13,
     "metadata": {},
     "output_type": "execute_result"
    }
   ],
   "source": [
    "\"Dear {}, Thank you for contacting our online Services. {} will reach out to you shortly. Please call {} in case of any assistance\".format(\"John\", \"Mike\", \"+17867898767\")"
   ]
  },
  {
   "cell_type": "code",
   "execution_count": 14,
   "id": "ee2ebd74-939f-4e90-bfa4-4e1d23bb8c40",
   "metadata": {},
   "outputs": [],
   "source": [
    "statement = \"Dear {}, Thank you for contacting our online Services. {} will reach out to you shortly. Please call {} in case of any assistance\".format(\"John\", \"Mike\", \"+17867898767\")"
   ]
  },
  {
   "cell_type": "code",
   "execution_count": 17,
   "id": "78f0e623-0bc9-45d5-8f4e-95b72e6d50ca",
   "metadata": {},
   "outputs": [
    {
     "data": {
      "text/plain": [
       "['Dear',\n",
       " 'John,',\n",
       " 'Thank',\n",
       " 'you',\n",
       " 'for',\n",
       " 'contacting',\n",
       " 'our',\n",
       " 'online',\n",
       " 'Services.',\n",
       " 'Mike',\n",
       " 'will',\n",
       " 'reach',\n",
       " 'out',\n",
       " 'to',\n",
       " 'you',\n",
       " 'shortly.',\n",
       " 'Please',\n",
       " 'call',\n",
       " '+17867898767',\n",
       " 'in',\n",
       " 'case',\n",
       " 'of',\n",
       " 'any',\n",
       " 'assistance']"
      ]
     },
     "execution_count": 17,
     "metadata": {},
     "output_type": "execute_result"
    }
   ],
   "source": [
    "statement.split()"
   ]
  },
  {
   "cell_type": "code",
   "execution_count": 19,
   "id": "103856e2-b6ac-49f4-a15e-13fefc6bf205",
   "metadata": {},
   "outputs": [
    {
     "data": {
      "text/plain": [
       "'Hi This is Christian'"
      ]
     },
     "execution_count": 19,
     "metadata": {},
     "output_type": "execute_result"
    }
   ],
   "source": [
    "name = \"Christian\"\n",
    "f\"Hi This is {name}\""
   ]
  },
  {
   "cell_type": "code",
   "execution_count": 20,
   "id": "60a8ded5-b142-4f4a-bff9-8ea9974ab919",
   "metadata": {},
   "outputs": [
    {
     "data": {
      "text/plain": [
       "'Hi This is Christian'"
      ]
     },
     "execution_count": 20,
     "metadata": {},
     "output_type": "execute_result"
    }
   ],
   "source": [
    "\"Hi This is \"+ name"
   ]
  },
  {
   "cell_type": "code",
   "execution_count": 26,
   "id": "ab03766b-98c9-4084-b640-8ba197bfd7f1",
   "metadata": {},
   "outputs": [
    {
     "data": {
      "text/plain": [
       "'Hi This is Christian'"
      ]
     },
     "execution_count": 26,
     "metadata": {},
     "output_type": "execute_result"
    }
   ],
   "source": [
    "\"Hi This is {}\".format(name)"
   ]
  },
  {
   "cell_type": "code",
   "execution_count": 25,
   "id": "1ec2b7d8-1694-481d-83d5-8b7bf0ca5a47",
   "metadata": {},
   "outputs": [
    {
     "data": {
      "text/plain": [
       "'Hi This is Chris'"
      ]
     },
     "execution_count": 25,
     "metadata": {},
     "output_type": "execute_result"
    }
   ],
   "source": [
    "\"Hi This is {}\".format(\"Chris\")"
   ]
  },
  {
   "cell_type": "code",
   "execution_count": null,
   "id": "861499a0-287c-48e7-9b5b-68c4cf970bbf",
   "metadata": {},
   "outputs": [],
   "source": []
  }
 ],
 "metadata": {
  "kernelspec": {
   "display_name": "Python 3 (ipykernel)",
   "language": "python",
   "name": "python3"
  },
  "language_info": {
   "codemirror_mode": {
    "name": "ipython",
    "version": 3
   },
   "file_extension": ".py",
   "mimetype": "text/x-python",
   "name": "python",
   "nbconvert_exporter": "python",
   "pygments_lexer": "ipython3",
   "version": "3.10.11"
  }
 },
 "nbformat": 4,
 "nbformat_minor": 5
}
