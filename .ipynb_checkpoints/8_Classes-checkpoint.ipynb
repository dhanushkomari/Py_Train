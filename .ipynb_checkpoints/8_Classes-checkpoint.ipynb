{
 "cells": [
  {
   "cell_type": "markdown",
   "id": "85746f2f-1e16-4203-b85e-002c51690d80",
   "metadata": {},
   "source": [
    "# OOPs - Object Oriented Programming Systems\n",
    "* Python is Object oriented Progrmming language.\n",
    "* Anything in python is treated as object.\n",
    "* A class can be defined as a blueprint\n",
    "* class is a collection of variables and methods\n",
    "* __ init__() is works as a constructor for class.\n",
    "* constructor is used to construct the class\n",
    "* self is used to poit out the current object.\n",
    "* class keyword is used to create the classe.\n",
    "  "
   ]
  },
  {
   "cell_type": "code",
   "execution_count": 2,
   "id": "86ef9925-8032-4d3d-8f55-4ac08ed4f7d5",
   "metadata": {},
   "outputs": [],
   "source": [
    "class Employee:\n",
    "    def __init__(self):\n",
    "        self.employee_name  = input(\"Enter Employee Name: \")\n",
    "        self.employee_email = input(\"Entere Employee Email: \")\n",
    "        self.employee_sal = float(input(\"Enter Month Salary\"))\n",
    "    def display_name(self):\n",
    "        print(self.employee_name)\n",
    "    def display_email(self):\n",
    "        print(self.employee_email)\n",
    "    def check_email(self):\n",
    "        if '@' in self.employee_email:\n",
    "            print(\"Email is valid\")\n",
    "            return \"Valid\"\n",
    "        else:\n",
    "            print(\"Email is invalid\")\n",
    "            return \"Invalid\"\n",
    "    def calculate_ctc(self):\n",
    "        print(self.employee_sal*12)"
   ]
  },
  {
   "cell_type": "code",
   "execution_count": 36,
   "id": "29687f1a-c658-40c2-bb89-6ef104e319fc",
   "metadata": {},
   "outputs": [
    {
     "name": "stdin",
     "output_type": "stream",
     "text": [
      "Enter Employee Name:  Niharika\n",
      "Entere Employee Email:  niharika@gmail.com\n",
      "Enter Month Salary 50000\n"
     ]
    }
   ],
   "source": [
    "e1 = Employee()"
   ]
  },
  {
   "cell_type": "code",
   "execution_count": 37,
   "id": "04daecb2-880a-4229-bea4-ce99092b775e",
   "metadata": {},
   "outputs": [
    {
     "name": "stdout",
     "output_type": "stream",
     "text": [
      "Email is valid\n"
     ]
    }
   ],
   "source": [
    "result = e1.check_email()"
   ]
  },
  {
   "cell_type": "code",
   "execution_count": 38,
   "id": "ec145561-bb7d-42eb-9d2d-ab6e1a06942c",
   "metadata": {},
   "outputs": [
    {
     "data": {
      "text/plain": [
       "'Valid'"
      ]
     },
     "execution_count": 38,
     "metadata": {},
     "output_type": "execute_result"
    }
   ],
   "source": [
    "result"
   ]
  },
  {
   "cell_type": "code",
   "execution_count": 39,
   "id": "62142c6d-18e3-4725-ba13-0c0a22f03d2f",
   "metadata": {},
   "outputs": [
    {
     "name": "stdout",
     "output_type": "stream",
     "text": [
      "600000.0\n"
     ]
    }
   ],
   "source": [
    "e1.calculate_ctc()"
   ]
  },
  {
   "cell_type": "code",
   "execution_count": 4,
   "id": "e9f52866-d29b-43fd-abf7-61b779167881",
   "metadata": {},
   "outputs": [
    {
     "name": "stdin",
     "output_type": "stream",
     "text": [
      "Enter Employee Name:  Dhanush\n",
      "Entere Employee Email:  Dhanush@gmail.com\n",
      "Enter Month Salary 120000\n"
     ]
    },
    {
     "name": "stdout",
     "output_type": "stream",
     "text": [
      "Dhanush\n"
     ]
    }
   ],
   "source": [
    "Employee().display_name()"
   ]
  },
  {
   "cell_type": "markdown",
   "id": "7f24f8e0-57db-4c68-8f5d-70b033ed6ff4",
   "metadata": {},
   "source": [
    "### OOPs Features\n",
    "1. Abstraction\n",
    "2. Encapsulation\n",
    "3. Inheritance\n",
    "4. Polymorphism\n",
    "* Abstaction can be defined as hiding the non-essential elements and unhiding the essential information.\n",
    "* Encapsulation is the process of combining variable and methods."
   ]
  },
  {
   "cell_type": "code",
   "execution_count": 8,
   "id": "782b5cd6-845c-4966-beed-6f6cd474fd92",
   "metadata": {},
   "outputs": [],
   "source": [
    "class Student:\n",
    "    def __init__(self):\n",
    "        # take all the inputs from the end user\n",
    "        self.st_name = input(\"Enter Student Name: \")\n",
    "        self.st_id   = input(\"Enter Student ID: \")\n",
    "        self.st_email = input(\"Enter Student Email: \")\n",
    "        self.st_mobile = input(\"Enter Student Mobile: \")\n",
    "        self.st_age = int(input(\"Enter Age: \"))\n",
    "        self.st_quarterly_fee = float(input(\"Enter Quarterly Fee: \"))\n",
    "        self.password = input(\"Enter password, include $, ~ in your password:\")\n",
    "        \n",
    "    # Display infromation of student\n",
    "    def display_info(self):\n",
    "        print(\"Student Name ::\", self.st_name)\n",
    "        print(\"Student ID ::\", self.st_id)\n",
    "        print(\"Student Email ::\", self.st_email)\n",
    "        print(\"Student Mobile ::\", self.st_mobile)\n",
    "        print(\"Student Age ::\", self.st_age)        \n",
    "        print(\"Student quarterly fee ::\", self.st_quarterly_fee)\n",
    "        return \n",
    "    # Password Validation\n",
    "    def password_validation(self):\n",
    "        if ('$' in self.password) or ('~' in self.password):\n",
    "            print(\"Your password is valid\")\n",
    "        else:\n",
    "            print(\"Password invalid\")\n",
    "                  \n",
    "        \n",
    "        "
   ]
  },
  {
   "cell_type": "code",
   "execution_count": 9,
   "id": "58544c91-1729-44c9-9dfa-e16354d5044d",
   "metadata": {},
   "outputs": [
    {
     "name": "stdin",
     "output_type": "stream",
     "text": [
      "Enter Student Name:  Dhanush\n",
      "Enter Student ID:  STD-12344\n",
      "Enter Student Email:  DHnaush@gail.com\n",
      "Enter Student Mobile:  8989898989\n",
      "Enter Age:  26\n",
      "Enter Quarterly Fee:  15000\n",
      "Enter password, include $, ~ in your password: Dhaush$qwr\n"
     ]
    },
    {
     "name": "stdout",
     "output_type": "stream",
     "text": [
      "Student Name :: Dhanush\n",
      "Student ID :: STD-12344\n",
      "Student Email :: DHnaush@gail.com\n",
      "Student Mobile :: 8989898989\n",
      "Student Age :: 26\n",
      "Student quarterly fee :: 15000.0\n",
      "Your password is valid\n"
     ]
    }
   ],
   "source": [
    "s1 = Student()\n",
    "s1.display_info()\n",
    "s1.password_validation()"
   ]
  },
  {
   "cell_type": "code",
   "execution_count": 10,
   "id": "44050761-256e-4348-bd5c-6bc49ae64dcf",
   "metadata": {},
   "outputs": [
    {
     "name": "stdin",
     "output_type": "stream",
     "text": [
      "Enter Student Name:  Niharika\n",
      "Enter Student ID:  STD-12345\n",
      "Enter Student Email:  Niharika@gmail.com\n",
      "Enter Student Mobile:  9999900000\n",
      "Enter Age:  27\n",
      "Enter Quarterly Fee:  12000\n",
      "Enter password, include $, ~ in your password: Niharika@ajfdksjkjf\n"
     ]
    },
    {
     "name": "stdout",
     "output_type": "stream",
     "text": [
      "Student Name :: Niharika\n",
      "Student ID :: STD-12345\n",
      "Student Email :: Niharika@gmail.com\n",
      "Student Mobile :: 9999900000\n",
      "Student Age :: 27\n",
      "Student quarterly fee :: 12000.0\n",
      "Password invalid\n"
     ]
    }
   ],
   "source": [
    "s2 = Student()\n",
    "s2.display_info()\n",
    "s2.password_validation()"
   ]
  },
  {
   "cell_type": "code",
   "execution_count": 11,
   "id": "08a02691-a6ec-4ed0-a664-74ebe9c253d3",
   "metadata": {},
   "outputs": [
    {
     "name": "stdin",
     "output_type": "stream",
     "text": [
      "Enter Student Name:  Dhanush\n",
      "Enter Student ID:  ID123\n",
      "Enter Student Email:  dhanush@gmai.com\n",
      "Enter Student Mobile:  7878787878\n",
      "Enter Age:  26\n",
      "Enter Quarterly Fee:  11200\n",
      "Enter password, include $, ~ in your password: Dhanush@&~123\n"
     ]
    },
    {
     "name": "stdout",
     "output_type": "stream",
     "text": [
      "\n",
      "Student Name :: Dhanush\n",
      "Student ID :: ID123\n",
      "Student Email :: dhanush@gmai.com\n",
      "Student Mobile :: 7878787878\n",
      "Student Age :: 26\n",
      "Student quarterly fee :: 11200.0\n",
      "\n",
      "Your password is valid\n",
      "\n",
      "\n"
     ]
    },
    {
     "name": "stdin",
     "output_type": "stream",
     "text": [
      "Enter Student Name:  Niharika\n",
      "Enter Student ID:  ID124\n",
      "Enter Student Email:  Niharik@gail.com\n",
      "Enter Student Mobile:  6767676767\n",
      "Enter Age:  27\n",
      "Enter Quarterly Fee:  12999\n",
      "Enter password, include $, ~ in your password: Niharikkdkfdvdn\n"
     ]
    },
    {
     "name": "stdout",
     "output_type": "stream",
     "text": [
      "\n",
      "Student Name :: Niharika\n",
      "Student ID :: ID124\n",
      "Student Email :: Niharik@gail.com\n",
      "Student Mobile :: 6767676767\n",
      "Student Age :: 27\n",
      "Student quarterly fee :: 12999.0\n",
      "\n",
      "Password invalid\n",
      "\n",
      "\n"
     ]
    },
    {
     "name": "stdin",
     "output_type": "stream",
     "text": [
      "Enter Student Name:  Ramana\n",
      "Enter Student ID:  ID125\n",
      "Enter Student Email:  Ramana@yahoo.com\n",
      "Enter Student Mobile:  5656565656\n",
      "Enter Age:  38\n",
      "Enter Quarterly Fee:  12999\n",
      "Enter password, include $, ~ in your password: Ramana~123\n"
     ]
    },
    {
     "name": "stdout",
     "output_type": "stream",
     "text": [
      "\n",
      "Student Name :: Ramana\n",
      "Student ID :: ID125\n",
      "Student Email :: Ramana@yahoo.com\n",
      "Student Mobile :: 5656565656\n",
      "Student Age :: 38\n",
      "Student quarterly fee :: 12999.0\n",
      "\n",
      "Your password is valid\n",
      "\n",
      "\n"
     ]
    }
   ],
   "source": [
    "for i in range(3):\n",
    "    s = Student() # Init method will ask the required student info\n",
    "    print()\n",
    "    s.display_info()\n",
    "    print()\n",
    "    s.password_validation()\n",
    "    print()\n",
    "    print()  \n",
    "\n"
   ]
  },
  {
   "cell_type": "code",
   "execution_count": 9,
   "id": "6fd660b4-524c-4e91-98e4-189be32a28a0",
   "metadata": {},
   "outputs": [],
   "source": [
    "class Student:\n",
    "    def __init__(self):\n",
    "        # take all the inputs from the end user\n",
    "        self.st_id   = input(\"Enter Student ID: \")\n",
    "        self.st_name = input(\"Enter Student Name: \")        \n",
    "        self.monthly_stipend = float(input(\"Enter Stipend: \"))\n",
    "\n",
    "        \n",
    "    # Display infromation of student\n",
    "    def display_info(self):\n",
    "        print(\"Student ID ::\", self.st_id)\n",
    "        print(\"Student Name ::\", self.st_name)    \n",
    "        print()\n",
    "        return {\"Student Name\": self.st_name, \"Student ID\": self.st_id}\n",
    "\n",
    "    def yearly_earnings(self):\n",
    "        return self.monthly_stipend*12\n"
   ]
  },
  {
   "cell_type": "code",
   "execution_count": null,
   "id": "cdaf9540-f2de-4415-aa74-cb8eb7bab453",
   "metadata": {},
   "outputs": [
    {
     "name": "stdin",
     "output_type": "stream",
     "text": [
      "Enter Student ID:  1\n",
      "Enter Student Name:  Niharika\n",
      "Enter Stipend:  1299\n"
     ]
    },
    {
     "name": "stdout",
     "output_type": "stream",
     "text": [
      "Student ID :: 1\n",
      "Student Name :: Niharika\n",
      "\n"
     ]
    },
    {
     "name": "stdin",
     "output_type": "stream",
     "text": [
      "Enter Student ID:  Dhanush\n",
      "Enter Student Name:  Dhanush Komari\n"
     ]
    }
   ],
   "source": [
    "li = []\n",
    "for i in range(5):\n",
    "    s = Student()\n",
    "    std_data = s.display_info()\n",
    "    std_data['Annual_Earnings'] = s.yearly_earnings()\n",
    "    li.append(std_data)"
   ]
  },
  {
   "cell_type": "code",
   "execution_count": 15,
   "id": "ad575a9a-1623-41e8-9ddf-2017deff6435",
   "metadata": {},
   "outputs": [
    {
     "name": "stdout",
     "output_type": "stream",
     "text": [
      "663862\n"
     ]
    }
   ],
   "source": [
    "# ASSIGNMENT\n",
    "us_markets = [\n",
    "    {\"city\": \"New York\", \"state\": \"NY\", \"population\": 8336697},\n",
    "    {\"city\": \"Los Angeles\", \"state\": \"CA\", \"population\": 3976322},\n",
    "    {\"city\": \"Chicago\", \"state\": \"IL\", \"population\": 2695598},\n",
    "    {\"city\": \"Houston\", \"state\": \"TX\", \"population\": 2325502},\n",
    "    {\"city\": \"Phoenix\", \"state\": \"AZ\", \"population\": 1633565},\n",
    "    {\"city\": \"Philadelphia\", \"state\": \"PA\", \"population\": 1587825},\n",
    "    {\"city\": \"San Antonio\", \"state\": \"TX\", \"population\": 1487738},\n",
    "    {\"city\": \"San Diego\", \"state\": \"CA\", \"population\": 1406630},\n",
    "    {\"city\": \"Dallas\", \"state\": \"TX\", \"population\": 1317929},\n",
    "    {\"city\": \"San Jose\", \"state\": \"CA\", \"population\": 1030119},\n",
    "    {\"city\": \"Austin\", \"state\": \"TX\", \"population\": 885400},\n",
    "    {\"city\": \"Jacksonville\", \"state\": \"FL\", \"population\": 868031},\n",
    "    {\"city\": \"San Francisco\", \"state\": \"CA\", \"population\": 864816},\n",
    "    {\"city\": \"Indianapolis\", \"state\": \"IN\", \"population\": 853173},\n",
    "    {\"city\": \"Columbus\", \"state\": \"OH\", \"population\": 850106},\n",
    "    {\"city\": \"Fort Worth\", \"state\": \"TX\", \"population\": 792727},\n",
    "    {\"city\": \"Charlotte\", \"state\": \"NC\", \"population\": 792862},\n",
    "    {\"city\": \"Seattle\", \"state\": \"WA\", \"population\": 668342},\n",
    "    {\"city\": \"Denver\", \"state\": \"CO\", \"population\": 663862},\n",
    "    {\"city\": \"El Paso\", \"state\": \"TX\", \"population\": 674433}\n",
    "]\n",
    "\n",
    "def find_population(market_search):\n",
    "    for market in us_markets:\n",
    "        if market['city'] == market_search:\n",
    "            print(market['population'])\n",
    "find_population('Denver')"
   ]
  },
  {
   "cell_type": "code",
   "execution_count": 28,
   "id": "834de5ef-30f2-4e2c-b4f6-1134e0123509",
   "metadata": {},
   "outputs": [
    {
     "name": "stdin",
     "output_type": "stream",
     "text": [
      "Enter Market name to get the population Columbus\n"
     ]
    },
    {
     "name": "stdout",
     "output_type": "stream",
     "text": [
      "850106\n"
     ]
    }
   ],
   "source": [
    "def find_population():\n",
    "    market_search = input(\"Enter Market name to get the population\")\n",
    "    for market in us_markets:\n",
    "        if market['city'] == market_search:\n",
    "            # print(\"Found\")\n",
    "            result = market['population']\n",
    "            break\n",
    "        else:\n",
    "            # print(\"Not Found\")\n",
    "            result = \"Record not found\"\n",
    "    print(result)\n",
    "find_population()    "
   ]
  },
  {
   "cell_type": "code",
   "execution_count": 36,
   "id": "10f03be9-cffb-4e04-945f-5a19c4f925ae",
   "metadata": {},
   "outputs": [
    {
     "name": "stdout",
     "output_type": "stream",
     "text": [
      "*******Opening a bank account*********\n"
     ]
    },
    {
     "name": "stdin",
     "output_type": "stream",
     "text": [
      "Enter Account Name:  Niharika\n",
      "Enter Account Number:  326452434\n",
      "Enter Available Amount(Initital deposit): \n",
      " 100000\n"
     ]
    },
    {
     "name": "stdout",
     "output_type": "stream",
     "text": [
      "Account Holder Name: Niharika\n",
      "Account Number: 326452434\n",
      "Account Available Amount  100000.0 \n",
      "\n"
     ]
    },
    {
     "name": "stdin",
     "output_type": "stream",
     "text": [
      "Enter amount to deposit:  50000\n"
     ]
    },
    {
     "name": "stdout",
     "output_type": "stream",
     "text": [
      "50000.0 has credited in 326452434. Avialable balance is 150000.0 \n",
      "\n"
     ]
    }
   ],
   "source": [
    "class Bank_Account:\n",
    "    def __init__(self):\n",
    "        print(\"*******Opening a bank account*********\")\n",
    "        self.Account_Name = input(\"Enter Account Name: \")\n",
    "        self.Account_Number = int(input(\"Enter Account Number: \"))\n",
    "        self.Account_Available_Amount = float(input(\"Enter Available Amount(Initital deposit): \\n\"))\n",
    "    def display_info(self):\n",
    "        print(\"Account Holder Name:\", self.Account_Name)\n",
    "        print(\"Account Number:\", self.Account_Number)\n",
    "        print(\"Account Available Amount \", self.Account_Available_Amount, '\\n')\n",
    "    def withdrawl(self):\n",
    "        withdrawl_amount = float(input(\"Enter amount to witdhdrawl: \"))\n",
    "        if withdrawl_amount <= self.Account_Available_Amount:\n",
    "            self.Account_Available_Amount = self.Account_Available_Amount - withdrawl_amount\n",
    "            print(withdrawl_amount, \"has been debited from\", str(self.Account_Number)+\".\", \"Current Balance is\", self.Account_Available_Amount, '\\n')\n",
    "    def deposit(self):\n",
    "        deposit_amount = float(input(\"Enter amount to deposit: \"))\n",
    "        self.Account_Available_Amount += deposit_amount\n",
    "        print(deposit_amount, \"has credited in\", str(self.Account_Number)+\".\", \"Avialable balance is\", self.Account_Available_Amount, '\\n')\n",
    "\n",
    "b1 =  Bank_Account()\n",
    "b1.display_info()\n",
    "b1.deposit()"
   ]
  },
  {
   "cell_type": "code",
   "execution_count": 37,
   "id": "a7fa4746-c307-4d57-b09b-a9614dcfad7d",
   "metadata": {},
   "outputs": [
    {
     "data": {
      "text/plain": [
       "150000.0"
      ]
     },
     "execution_count": 37,
     "metadata": {},
     "output_type": "execute_result"
    }
   ],
   "source": [
    "b1.Account_Available_Amount"
   ]
  },
  {
   "cell_type": "code",
   "execution_count": 38,
   "id": "d707ab91-0e23-4b20-a0e8-baa7492e0e48",
   "metadata": {},
   "outputs": [
    {
     "name": "stdin",
     "output_type": "stream",
     "text": [
      "Enter amount to witdhdrawl:  1500\n"
     ]
    },
    {
     "name": "stdout",
     "output_type": "stream",
     "text": [
      "1500.0 has been debited from Niharika. Current Balance is 148500.0 \n",
      "\n"
     ]
    }
   ],
   "source": [
    "b1.withdrawl()"
   ]
  },
  {
   "cell_type": "code",
   "execution_count": 39,
   "id": "440bd3bf-dc8e-4d0e-9e00-56b4ecbec22b",
   "metadata": {},
   "outputs": [
    {
     "data": {
      "text/plain": [
       "148500.0"
      ]
     },
     "execution_count": 39,
     "metadata": {},
     "output_type": "execute_result"
    }
   ],
   "source": [
    "b1.Account_Available_Amount"
   ]
  },
  {
   "cell_type": "code",
   "execution_count": 40,
   "id": "0fc5d124-f1ca-4a3c-ad75-03e841238153",
   "metadata": {},
   "outputs": [
    {
     "name": "stdout",
     "output_type": "stream",
     "text": [
      "*******Opening a bank account*********\n"
     ]
    },
    {
     "name": "stdin",
     "output_type": "stream",
     "text": [
      "Enter Account Name:  Dhanush\n",
      "Enter Account Number:  32645275555\n",
      "Enter Available Amount(Initital deposit): \n",
      " 15000\n"
     ]
    }
   ],
   "source": [
    "b2 = Bank_Account()"
   ]
  },
  {
   "cell_type": "code",
   "execution_count": 41,
   "id": "664f69f4-6844-47fa-8fd8-88f54757c60c",
   "metadata": {},
   "outputs": [
    {
     "data": {
      "text/plain": [
       "<__main__.Bank_Account at 0x1eefc13c670>"
      ]
     },
     "execution_count": 41,
     "metadata": {},
     "output_type": "execute_result"
    }
   ],
   "source": [
    "b1"
   ]
  },
  {
   "cell_type": "code",
   "execution_count": 42,
   "id": "48ba7535-14ba-4211-a147-897b31b429e8",
   "metadata": {},
   "outputs": [
    {
     "data": {
      "text/plain": [
       "<__main__.Bank_Account at 0x1eefc0df4c0>"
      ]
     },
     "execution_count": 42,
     "metadata": {},
     "output_type": "execute_result"
    }
   ],
   "source": [
    "b2"
   ]
  },
  {
   "cell_type": "code",
   "execution_count": 44,
   "id": "bde4eefd-c8b2-4ad0-a9aa-bf0d54a015c2",
   "metadata": {},
   "outputs": [
    {
     "name": "stdin",
     "output_type": "stream",
     "text": [
      "Enter amount to deposit:  1500\n"
     ]
    },
    {
     "name": "stdout",
     "output_type": "stream",
     "text": [
      "1500.0 has credited in 32645275555. Avialable balance is 16500.0 \n",
      "\n"
     ]
    }
   ],
   "source": [
    "b2.deposit()"
   ]
  },
  {
   "cell_type": "code",
   "execution_count": 45,
   "id": "10d04ce4-dca2-4c21-a05a-97886b2e9e2b",
   "metadata": {},
   "outputs": [
    {
     "name": "stdout",
     "output_type": "stream",
     "text": [
      "Account Holder Name: Dhanush\n",
      "Account Number: 32645275555\n",
      "Account Available Amount  16500.0 \n",
      "\n"
     ]
    }
   ],
   "source": [
    "b2.display_info()"
   ]
  },
  {
   "cell_type": "code",
   "execution_count": 46,
   "id": "26632172-9f9c-49d2-a62d-603119cc064f",
   "metadata": {},
   "outputs": [
    {
     "name": "stdout",
     "output_type": "stream",
     "text": [
      "Account Holder Name: Niharika\n",
      "Account Number: 326452434\n",
      "Account Available Amount  148500.0 \n",
      "\n"
     ]
    }
   ],
   "source": [
    "b1.display_info()"
   ]
  },
  {
   "cell_type": "code",
   "execution_count": 47,
   "id": "5bce8049-66ca-4bbf-88a3-3bb48e8facb9",
   "metadata": {},
   "outputs": [
    {
     "name": "stdout",
     "output_type": "stream",
     "text": [
      "*******Opening a bank account*********\n"
     ]
    },
    {
     "name": "stdin",
     "output_type": "stream",
     "text": [
      "Enter Account Name:  Ramana\n",
      "Enter Account Number:  32463278\n",
      "Enter Available Amount(Initital deposit): \n",
      " 58000\n"
     ]
    }
   ],
   "source": [
    "b3 = Bank_Account()"
   ]
  },
  {
   "cell_type": "code",
   "execution_count": 48,
   "id": "17e6cd8b-0f94-475e-b493-c7a023a553c0",
   "metadata": {},
   "outputs": [
    {
     "name": "stdin",
     "output_type": "stream",
     "text": [
      "Enter amount to witdhdrawl:  1230\n"
     ]
    },
    {
     "name": "stdout",
     "output_type": "stream",
     "text": [
      "1230.0 has been debited from Ramana. Current Balance is 56770.0 \n",
      "\n"
     ]
    }
   ],
   "source": [
    "b3.withdrawl()"
   ]
  },
  {
   "cell_type": "code",
   "execution_count": 49,
   "id": "3e94a888-3685-4614-b556-f922683ad267",
   "metadata": {},
   "outputs": [
    {
     "name": "stdout",
     "output_type": "stream",
     "text": [
      "Account Holder Name: Ramana\n",
      "Account Number: 32463278\n",
      "Account Available Amount  56770.0 \n",
      "\n"
     ]
    }
   ],
   "source": [
    "b3.display_info()"
   ]
  },
  {
   "cell_type": "code",
   "execution_count": 50,
   "id": "be7f228b-9eaa-4d0b-9c9a-33d69155fcc4",
   "metadata": {},
   "outputs": [
    {
     "name": "stdin",
     "output_type": "stream",
     "text": [
      "Enter amount to deposit:  190000\n"
     ]
    },
    {
     "name": "stdout",
     "output_type": "stream",
     "text": [
      "190000.0 has credited in 32645275555. Avialable balance is 206500.0 \n",
      "\n"
     ]
    }
   ],
   "source": [
    "b2.deposit()"
   ]
  },
  {
   "cell_type": "code",
   "execution_count": 51,
   "id": "37cbaa36-d7e6-4635-ad84-9147a861ced8",
   "metadata": {},
   "outputs": [
    {
     "name": "stdout",
     "output_type": "stream",
     "text": [
      "Account Holder Name: Dhanush\n",
      "Account Number: 32645275555\n",
      "Account Available Amount  206500.0 \n",
      "\n"
     ]
    }
   ],
   "source": [
    "b2.display_info()"
   ]
  },
  {
   "cell_type": "code",
   "execution_count": null,
   "id": "61d56e71-2b65-489a-9de2-b8c0dce46400",
   "metadata": {},
   "outputs": [],
   "source": []
  }
 ],
 "metadata": {
  "kernelspec": {
   "display_name": "Python 3 (ipykernel)",
   "language": "python",
   "name": "python3"
  },
  "language_info": {
   "codemirror_mode": {
    "name": "ipython",
    "version": 3
   },
   "file_extension": ".py",
   "mimetype": "text/x-python",
   "name": "python",
   "nbconvert_exporter": "python",
   "pygments_lexer": "ipython3",
   "version": "3.10.11"
  }
 },
 "nbformat": 4,
 "nbformat_minor": 5
}
