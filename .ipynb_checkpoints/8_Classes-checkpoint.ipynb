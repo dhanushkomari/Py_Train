{
 "cells": [
  {
   "cell_type": "markdown",
   "id": "85746f2f-1e16-4203-b85e-002c51690d80",
   "metadata": {},
   "source": [
    "# OOPs - Object Oriented Programming Systems\n",
    "* Python is Object oriented Progrmming language.\n",
    "* Anything in python is treated as object.\n",
    "* A class can be defined as a blueprint\n",
    "* class is a collection of variables and methods\n",
    "* __ init__() is works as a constructor for class.\n",
    "* constructor is used to construct the class\n",
    "* self is used to poit out the current object.\n",
    "* class keyword is used to create the classe.\n",
    "  "
   ]
  },
  {
   "cell_type": "code",
   "execution_count": 35,
   "id": "86ef9925-8032-4d3d-8f55-4ac08ed4f7d5",
   "metadata": {},
   "outputs": [],
   "source": [
    "class Employee:\n",
    "    def __init__(self):\n",
    "        self.employee_name  = input(\"Enter Employee Name: \")\n",
    "        self.employee_email = input(\"Entere Employee Email: \")\n",
    "        self.employee_sal = float(input(\"Enter Month Salary\"))\n",
    "    def display_name(self):\n",
    "        print(self.employee_name)\n",
    "    def display_email(self):\n",
    "        print(self.employee_email)\n",
    "    def check_email(self):\n",
    "        if '@' in self.employee_email:\n",
    "            print(\"Email is valid\")\n",
    "            return \"Valid\"\n",
    "        else:\n",
    "            print(\"Email is invalid\")\n",
    "            return \"Invalid\"\n",
    "    def calculate_ctc(self):\n",
    "        print(self.employee_sal*12)"
   ]
  },
  {
   "cell_type": "code",
   "execution_count": 36,
   "id": "29687f1a-c658-40c2-bb89-6ef104e319fc",
   "metadata": {},
   "outputs": [
    {
     "name": "stdin",
     "output_type": "stream",
     "text": [
      "Enter Employee Name:  Niharika\n",
      "Entere Employee Email:  niharika@gmail.com\n",
      "Enter Month Salary 50000\n"
     ]
    }
   ],
   "source": [
    "e1 = Employee()"
   ]
  },
  {
   "cell_type": "code",
   "execution_count": 37,
   "id": "04daecb2-880a-4229-bea4-ce99092b775e",
   "metadata": {},
   "outputs": [
    {
     "name": "stdout",
     "output_type": "stream",
     "text": [
      "Email is valid\n"
     ]
    }
   ],
   "source": [
    "result = e1.check_email()"
   ]
  },
  {
   "cell_type": "code",
   "execution_count": 38,
   "id": "ec145561-bb7d-42eb-9d2d-ab6e1a06942c",
   "metadata": {},
   "outputs": [
    {
     "data": {
      "text/plain": [
       "'Valid'"
      ]
     },
     "execution_count": 38,
     "metadata": {},
     "output_type": "execute_result"
    }
   ],
   "source": [
    "result"
   ]
  },
  {
   "cell_type": "code",
   "execution_count": 39,
   "id": "62142c6d-18e3-4725-ba13-0c0a22f03d2f",
   "metadata": {},
   "outputs": [
    {
     "name": "stdout",
     "output_type": "stream",
     "text": [
      "600000.0\n"
     ]
    }
   ],
   "source": [
    "e1.calculate_ctc()"
   ]
  },
  {
   "cell_type": "code",
   "execution_count": null,
   "id": "598fb443-9560-49ab-a61b-2f033d6a6971",
   "metadata": {},
   "outputs": [],
   "source": []
  }
 ],
 "metadata": {
  "kernelspec": {
   "display_name": "Python 3 (ipykernel)",
   "language": "python",
   "name": "python3"
  },
  "language_info": {
   "codemirror_mode": {
    "name": "ipython",
    "version": 3
   },
   "file_extension": ".py",
   "mimetype": "text/x-python",
   "name": "python",
   "nbconvert_exporter": "python",
   "pygments_lexer": "ipython3",
   "version": "3.10.11"
  }
 },
 "nbformat": 4,
 "nbformat_minor": 5
}
