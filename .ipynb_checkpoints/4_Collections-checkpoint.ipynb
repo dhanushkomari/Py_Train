{
 "cells": [
  {
   "cell_type": "markdown",
   "id": "3de09cc3-a34d-43a4-8cb3-520bb5d718c6",
   "metadata": {},
   "source": [
    "# Collections"
   ]
  },
  {
   "cell_type": "markdown",
   "id": "ac9cb006-daa4-4388-a6e9-637bcdaad883",
   "metadata": {},
   "source": [
    "* List\n",
    "* Tuple\n",
    "* Sets\n",
    "* Dictionaries\n",
    "* frozen set"
   ]
  },
  {
   "cell_type": "markdown",
   "id": "2b01f15e-7862-4f08-9566-95e0638f3015",
   "metadata": {},
   "source": [
    "## List\n",
    "* List can be defined as a collection of both homegeneous and heterogenous data types(Supports all data types in a single list).\n",
    "  1. Homogeneous data is defined as a same kind of data(same data type)\n",
    "  2. Heterogeneous data is defined as different kinds of data(multiple data types)\n",
    "* Lists are enclosed with square brackets...,    [    ]\n",
    "* list method is used to convert any kind of data into list\n",
    "* list can support both negative and positive indexing\n",
    "* list starts with 0 index, ends with -1 index\n",
    "* lists are mutable(data in lists can be updated)\n",
    "* lists are allowed dupicate elements\n",
    "* lists maintains insertion order"
   ]
  },
  {
   "cell_type": "code",
   "execution_count": 1,
   "id": "721c6150-4bb9-42b3-90cf-881f2d358c31",
   "metadata": {},
   "outputs": [],
   "source": [
    "L1 = [1, 2, 3, \"Hi\", \"Hello\", 10.5, True]"
   ]
  },
  {
   "cell_type": "code",
   "execution_count": 2,
   "id": "9c78b5d8-38aa-4958-8e3f-701211586e82",
   "metadata": {},
   "outputs": [
    {
     "data": {
      "text/plain": [
       "list"
      ]
     },
     "execution_count": 2,
     "metadata": {},
     "output_type": "execute_result"
    }
   ],
   "source": [
    "type(L1)"
   ]
  },
  {
   "cell_type": "markdown",
   "id": "689111e2-f0b1-425e-91de-51cdc04d4d39",
   "metadata": {},
   "source": [
    "### List Indexing"
   ]
  },
  {
   "cell_type": "code",
   "execution_count": 3,
   "id": "e458fa24-c973-42d5-a01f-e19033c29de0",
   "metadata": {},
   "outputs": [
    {
     "data": {
      "text/plain": [
       "1"
      ]
     },
     "execution_count": 3,
     "metadata": {},
     "output_type": "execute_result"
    }
   ],
   "source": [
    "L1[0]         # Fetch first element from the list"
   ]
  },
  {
   "cell_type": "code",
   "execution_count": 4,
   "id": "c0849256-97c9-4884-b222-88911b1a24d4",
   "metadata": {},
   "outputs": [
    {
     "data": {
      "text/plain": [
       "True"
      ]
     },
     "execution_count": 4,
     "metadata": {},
     "output_type": "execute_result"
    }
   ],
   "source": [
    "L1[-1]       # fetch last element from the list"
   ]
  },
  {
   "cell_type": "code",
   "execution_count": 5,
   "id": "5cf25f84-e395-4a68-91bc-6547b6da9c08",
   "metadata": {},
   "outputs": [
    {
     "data": {
      "text/plain": [
       "'Hi'"
      ]
     },
     "execution_count": 5,
     "metadata": {},
     "output_type": "execute_result"
    }
   ],
   "source": [
    "L1[3]        # fetch 3 indexed element from the list"
   ]
  },
  {
   "cell_type": "code",
   "execution_count": 6,
   "id": "69b33796-c0dd-455c-8281-45072600ba9d",
   "metadata": {},
   "outputs": [
    {
     "data": {
      "text/plain": [
       "[1, 2, 3, 'Hi']"
      ]
     },
     "execution_count": 6,
     "metadata": {},
     "output_type": "execute_result"
    }
   ],
   "source": [
    "L1[0:4]      # fetch first four elements from the list"
   ]
  },
  {
   "cell_type": "code",
   "execution_count": 7,
   "id": "9e80ab74-91d7-4073-b851-bc8bae853b02",
   "metadata": {},
   "outputs": [
    {
     "data": {
      "text/plain": [
       "['Hello', 10.5, True]"
      ]
     },
     "execution_count": 7,
     "metadata": {},
     "output_type": "execute_result"
    }
   ],
   "source": [
    "L1[4:]       # fetch the elements from 4th index to last element"
   ]
  },
  {
   "cell_type": "markdown",
   "id": "f1dd02d2-b7bd-4e8c-b7cf-f168d72553db",
   "metadata": {},
   "source": [
    "### List Slicing"
   ]
  },
  {
   "cell_type": "code",
   "execution_count": 8,
   "id": "760479f3-7633-4b8f-80cd-cbe7e6dd03cb",
   "metadata": {},
   "outputs": [
    {
     "data": {
      "text/plain": [
       "['Hi', 'Hello']"
      ]
     },
     "execution_count": 8,
     "metadata": {},
     "output_type": "execute_result"
    }
   ],
   "source": [
    "L1[3:5]     # Slicing"
   ]
  },
  {
   "cell_type": "code",
   "execution_count": 9,
   "id": "6a343738-3938-4e15-bc00-41431f118855",
   "metadata": {},
   "outputs": [
    {
     "data": {
      "text/plain": [
       "[1, 3, 'Hello', True]"
      ]
     },
     "execution_count": 9,
     "metadata": {},
     "output_type": "execute_result"
    }
   ],
   "source": [
    "L1[0:7:2]"
   ]
  },
  {
   "cell_type": "code",
   "execution_count": 14,
   "id": "1958f796-45dd-4b74-a254-e9df0707f8f5",
   "metadata": {},
   "outputs": [
    {
     "data": {
      "text/plain": [
       "[1, 3, 'Hello', True]"
      ]
     },
     "execution_count": 14,
     "metadata": {},
     "output_type": "execute_result"
    }
   ],
   "source": [
    "L1[::2]        "
   ]
  },
  {
   "cell_type": "markdown",
   "id": "bd3017a3-6c0a-48e0-a86d-f60e495bf39b",
   "metadata": {},
   "source": [
    "#### Reversing a list"
   ]
  },
  {
   "cell_type": "code",
   "execution_count": 17,
   "id": "60d5afbe-2daa-421d-9ca1-ba3bef832fa9",
   "metadata": {},
   "outputs": [
    {
     "data": {
      "text/plain": [
       "[True, 10.5, 'Hello', 'Hi', 3, 2, 1]"
      ]
     },
     "execution_count": 17,
     "metadata": {},
     "output_type": "execute_result"
    }
   ],
   "source": [
    "L1[::-1]      # whenever step equals to -1, then list will be started from right to left "
   ]
  },
  {
   "cell_type": "markdown",
   "id": "6d6eaf44-9c4f-4c8e-a870-8a2d9431a0ee",
   "metadata": {},
   "source": [
    "### Updating a list Items"
   ]
  },
  {
   "cell_type": "code",
   "execution_count": 19,
   "id": "86281cb4-2d32-4a95-a566-ad66d187236d",
   "metadata": {},
   "outputs": [
    {
     "data": {
      "text/plain": [
       "[1, 2, 3, 'Hi', 'Hello', 10.5, True]"
      ]
     },
     "execution_count": 19,
     "metadata": {},
     "output_type": "execute_result"
    }
   ],
   "source": [
    "L1"
   ]
  },
  {
   "cell_type": "code",
   "execution_count": 21,
   "id": "d43ff353-2bf9-40fc-906a-cdab391a4e62",
   "metadata": {},
   "outputs": [],
   "source": [
    "L1[1] = 25"
   ]
  },
  {
   "cell_type": "code",
   "execution_count": 22,
   "id": "1f7fade3-cd2a-447b-a0e0-8fa761cb5f19",
   "metadata": {},
   "outputs": [
    {
     "data": {
      "text/plain": [
       "[1, 25, 3, 'Hi', 'Hello', 10.5, True]"
      ]
     },
     "execution_count": 22,
     "metadata": {},
     "output_type": "execute_result"
    }
   ],
   "source": [
    "L1"
   ]
  },
  {
   "cell_type": "code",
   "execution_count": 23,
   "id": "2bd6ad32-7312-4be4-a50f-d3768335f80a",
   "metadata": {},
   "outputs": [],
   "source": [
    "L1[2] = \"How are you ?\""
   ]
  },
  {
   "cell_type": "code",
   "execution_count": 24,
   "id": "f2e7ad1c-b53b-43f0-a524-8e46243358bd",
   "metadata": {},
   "outputs": [
    {
     "data": {
      "text/plain": [
       "[1, 25, 'How are you ?', 'Hi', 'Hello', 10.5, True]"
      ]
     },
     "execution_count": 24,
     "metadata": {},
     "output_type": "execute_result"
    }
   ],
   "source": [
    "L1"
   ]
  },
  {
   "cell_type": "code",
   "execution_count": 26,
   "id": "e6e5e6e9-75f9-458e-8d6c-0666612f60ce",
   "metadata": {},
   "outputs": [],
   "source": [
    "L2 = [1, 2, 1, 1, 2, \"Hi\", \"Hello\", \"Hey\", \"Hello\"]  # list allow duplicate elements"
   ]
  },
  {
   "cell_type": "code",
   "execution_count": 33,
   "id": "b82ba6f1-1525-4de1-b715-2d18072890ae",
   "metadata": {},
   "outputs": [],
   "source": [
    "L2[0:5] = [10, 20, 10, 10, 20]   # Updaing multiple elements in a list"
   ]
  },
  {
   "cell_type": "code",
   "execution_count": 29,
   "id": "733de900-20f9-4551-9eeb-a32f6fe619ba",
   "metadata": {},
   "outputs": [
    {
     "data": {
      "text/plain": [
       "[10, 20, 10, 10, 20, 'Hi', 'Hello', 'Hey', 'Hello']"
      ]
     },
     "execution_count": 29,
     "metadata": {},
     "output_type": "execute_result"
    }
   ],
   "source": [
    "L2"
   ]
  },
  {
   "cell_type": "code",
   "execution_count": 31,
   "id": "0f0b2781-ed99-49f9-a7a3-b3c5fb16680b",
   "metadata": {},
   "outputs": [],
   "source": [
    "L2[0:5:2] = [1, 2, 5]      # Updaing multiple elements in a list with step"
   ]
  },
  {
   "cell_type": "code",
   "execution_count": 32,
   "id": "42570cb0-c654-49d1-bcb5-e611d662eb91",
   "metadata": {},
   "outputs": [
    {
     "data": {
      "text/plain": [
       "[1, 20, 2, 10, 5, 'Hi', 'Hello', 'Hey', 'Hello']"
      ]
     },
     "execution_count": 32,
     "metadata": {},
     "output_type": "execute_result"
    }
   ],
   "source": [
    "L2"
   ]
  },
  {
   "cell_type": "code",
   "execution_count": 37,
   "id": "23d56cc5-8e6c-4cf5-85c2-78c753f40d33",
   "metadata": {},
   "outputs": [
    {
     "name": "stdout",
     "output_type": "stream",
     "text": [
      "['John', 'Mike', 'Chris', 'Randy']\n"
     ]
    }
   ],
   "source": [
    "emp_1 = 'John'\n",
    "emp_2 = 'Mike'\n",
    "emp_3 = 'Chris'\n",
    "emp_4 = 'Randy'\n",
    "\n",
    "employee_list = [emp_1, emp_2, emp_3, emp_4]\n",
    "print(employee_list)"
   ]
  },
  {
   "cell_type": "markdown",
   "id": "2a27e575-b986-4554-8496-5b0da7d6fb2a",
   "metadata": {},
   "source": [
    "### Adding elements into the list"
   ]
  },
  {
   "cell_type": "markdown",
   "id": "7b770284-1658-4f49-8aea-a907db1186fe",
   "metadata": {},
   "source": [
    "* append   --> adds the new element to end of the list\n",
    "* insert\n",
    "    1. insert takes two arguments, index and value or object.\n",
    "    2. insert is used when we want to insert an element in a specific location based on index\n",
    "* extend   --> adds multiple elements at a time to the list(ex: adding list to another list)"
   ]
  },
  {
   "cell_type": "code",
   "execution_count": 38,
   "id": "ea266daa-deb3-479c-af42-ceacf695d163",
   "metadata": {},
   "outputs": [
    {
     "data": {
      "text/plain": [
       "[1, 25, 'How are you ?', 'Hi', 'Hello', 10.5, True]"
      ]
     },
     "execution_count": 38,
     "metadata": {},
     "output_type": "execute_result"
    }
   ],
   "source": [
    "L1"
   ]
  },
  {
   "cell_type": "code",
   "execution_count": 39,
   "id": "4b6cb277-5616-4b51-8ef4-ce2007264e52",
   "metadata": {},
   "outputs": [],
   "source": [
    "L1.append(\"John\")"
   ]
  },
  {
   "cell_type": "code",
   "execution_count": 40,
   "id": "cfe9d022-b81c-4b5c-afac-13b384a9bcb5",
   "metadata": {},
   "outputs": [
    {
     "data": {
      "text/plain": [
       "[1, 25, 'How are you ?', 'Hi', 'Hello', 10.5, True, 'John']"
      ]
     },
     "execution_count": 40,
     "metadata": {},
     "output_type": "execute_result"
    }
   ],
   "source": [
    "L1"
   ]
  },
  {
   "cell_type": "code",
   "execution_count": 41,
   "id": "7a8664c3-10f3-4ac5-a4da-01ded64931a7",
   "metadata": {},
   "outputs": [],
   "source": [
    "L1.append(250000)"
   ]
  },
  {
   "cell_type": "code",
   "execution_count": 42,
   "id": "ecbc6c6a-cf9b-4a9d-9a52-cf736314f8eb",
   "metadata": {},
   "outputs": [
    {
     "data": {
      "text/plain": [
       "[1, 25, 'How are you ?', 'Hi', 'Hello', 10.5, True, 'John', 250000]"
      ]
     },
     "execution_count": 42,
     "metadata": {},
     "output_type": "execute_result"
    }
   ],
   "source": [
    "L1"
   ]
  },
  {
   "cell_type": "code",
   "execution_count": 43,
   "id": "6934f26a-1f1e-45fd-92fa-07e3eb7226bf",
   "metadata": {},
   "outputs": [
    {
     "ename": "TypeError",
     "evalue": "list.append() takes exactly one argument (2 given)",
     "output_type": "error",
     "traceback": [
      "\u001b[1;31m---------------------------------------------------------------------------\u001b[0m",
      "\u001b[1;31mTypeError\u001b[0m                                 Traceback (most recent call last)",
      "Cell \u001b[1;32mIn[43], line 1\u001b[0m\n\u001b[1;32m----> 1\u001b[0m \u001b[43mL1\u001b[49m\u001b[38;5;241;43m.\u001b[39;49m\u001b[43mappend\u001b[49m\u001b[43m(\u001b[49m\u001b[38;5;241;43m234\u001b[39;49m\u001b[43m,\u001b[49m\u001b[43m \u001b[49m\u001b[38;5;124;43m\"\u001b[39;49m\u001b[38;5;124;43mOnce in a year\u001b[39;49m\u001b[38;5;124;43m\"\u001b[39;49m\u001b[43m)\u001b[49m\n",
      "\u001b[1;31mTypeError\u001b[0m: list.append() takes exactly one argument (2 given)"
     ]
    }
   ],
   "source": [
    "L1.append(234, \"Once in a year\")"
   ]
  },
  {
   "cell_type": "code",
   "execution_count": 44,
   "id": "fe23e01c-e7c1-4127-9b36-8c9e2bdae093",
   "metadata": {},
   "outputs": [
    {
     "ename": "TypeError",
     "evalue": "list.extend() takes exactly one argument (2 given)",
     "output_type": "error",
     "traceback": [
      "\u001b[1;31m---------------------------------------------------------------------------\u001b[0m",
      "\u001b[1;31mTypeError\u001b[0m                                 Traceback (most recent call last)",
      "Cell \u001b[1;32mIn[44], line 1\u001b[0m\n\u001b[1;32m----> 1\u001b[0m \u001b[43mL1\u001b[49m\u001b[38;5;241;43m.\u001b[39;49m\u001b[43mextend\u001b[49m\u001b[43m(\u001b[49m\u001b[38;5;241;43m234\u001b[39;49m\u001b[43m,\u001b[49m\u001b[43m \u001b[49m\u001b[38;5;124;43m\"\u001b[39;49m\u001b[38;5;124;43mOnce in a year\u001b[39;49m\u001b[38;5;124;43m\"\u001b[39;49m\u001b[43m)\u001b[49m\n",
      "\u001b[1;31mTypeError\u001b[0m: list.extend() takes exactly one argument (2 given)"
     ]
    }
   ],
   "source": [
    "L1.extend(234, \"Once in a year\")"
   ]
  },
  {
   "cell_type": "code",
   "execution_count": 45,
   "id": "c7734dd9-76de-4524-b19c-150c1af04012",
   "metadata": {},
   "outputs": [],
   "source": [
    "L1.extend([234, \"Once in a year\"])"
   ]
  },
  {
   "cell_type": "code",
   "execution_count": 46,
   "id": "40470c9b-0e34-4acb-b71e-b37c12babb79",
   "metadata": {},
   "outputs": [
    {
     "data": {
      "text/plain": [
       "[1,\n",
       " 25,\n",
       " 'How are you ?',\n",
       " 'Hi',\n",
       " 'Hello',\n",
       " 10.5,\n",
       " True,\n",
       " 'John',\n",
       " 250000,\n",
       " 234,\n",
       " 'Once in a year']"
      ]
     },
     "execution_count": 46,
     "metadata": {},
     "output_type": "execute_result"
    }
   ],
   "source": [
    "L1"
   ]
  },
  {
   "cell_type": "code",
   "execution_count": 47,
   "id": "9cbe3b52-ad5a-40b1-8da5-7eb0f9604043",
   "metadata": {},
   "outputs": [],
   "source": [
    "L1.append([234, \"Once in a year\"])"
   ]
  },
  {
   "cell_type": "code",
   "execution_count": 48,
   "id": "42578866-052d-468b-bb3b-aa76b4eb7c5f",
   "metadata": {},
   "outputs": [
    {
     "data": {
      "text/plain": [
       "[1,\n",
       " 25,\n",
       " 'How are you ?',\n",
       " 'Hi',\n",
       " 'Hello',\n",
       " 10.5,\n",
       " True,\n",
       " 'John',\n",
       " 250000,\n",
       " 234,\n",
       " 'Once in a year',\n",
       " [234, 'Once in a year']]"
      ]
     },
     "execution_count": 48,
     "metadata": {},
     "output_type": "execute_result"
    }
   ],
   "source": [
    "L1"
   ]
  },
  {
   "cell_type": "code",
   "execution_count": 49,
   "id": "f587044a-e23a-43bf-a2f9-fe47054d4bf2",
   "metadata": {},
   "outputs": [
    {
     "data": {
      "text/plain": [
       "[234, 'Once in a year']"
      ]
     },
     "execution_count": 49,
     "metadata": {},
     "output_type": "execute_result"
    }
   ],
   "source": [
    "L1[-1]"
   ]
  },
  {
   "cell_type": "code",
   "execution_count": 51,
   "id": "737306dc-e8be-4472-bbda-d95597ff1d7b",
   "metadata": {},
   "outputs": [
    {
     "data": {
      "text/plain": [
       "'Once in a year'"
      ]
     },
     "execution_count": 51,
     "metadata": {},
     "output_type": "execute_result"
    }
   ],
   "source": [
    "L1[-1][-1]   "
   ]
  },
  {
   "cell_type": "code",
   "execution_count": 67,
   "id": "1b399e41-1bc2-4b41-a3d4-d726566a6d4f",
   "metadata": {},
   "outputs": [],
   "source": [
    "L3 = [123, [\"Hey\", \"Hello\", \"Welcome\", \"Granted\", 9], [1, 5, 7, 56, 78, 90], [True, False, \"Hyd\", \"Blr\"]]"
   ]
  },
  {
   "cell_type": "code",
   "execution_count": 68,
   "id": "2480b0bc-b85e-434f-be8d-d8728d109c0e",
   "metadata": {},
   "outputs": [
    {
     "data": {
      "text/plain": [
       "4"
      ]
     },
     "execution_count": 68,
     "metadata": {},
     "output_type": "execute_result"
    }
   ],
   "source": [
    "len(L3)"
   ]
  },
  {
   "cell_type": "code",
   "execution_count": 69,
   "id": "0eb283a5-11e1-45f1-a459-ae4fe3c1f05c",
   "metadata": {},
   "outputs": [
    {
     "data": {
      "text/plain": [
       "['Hey', 'Hello', 'Welcome', 'Granted', 9]"
      ]
     },
     "execution_count": 69,
     "metadata": {},
     "output_type": "execute_result"
    }
   ],
   "source": [
    "L3[1]"
   ]
  },
  {
   "cell_type": "code",
   "execution_count": 70,
   "id": "eb5c0017-d62a-4373-97bf-5f6f238f5d63",
   "metadata": {},
   "outputs": [
    {
     "data": {
      "text/plain": [
       "5"
      ]
     },
     "execution_count": 70,
     "metadata": {},
     "output_type": "execute_result"
    }
   ],
   "source": [
    "len(L3[1])"
   ]
  },
  {
   "cell_type": "code",
   "execution_count": 71,
   "id": "b5b28f38-39f6-4f58-8283-337f4ed64d16",
   "metadata": {},
   "outputs": [],
   "source": [
    "L3[1][1] = 'Hello All'"
   ]
  },
  {
   "cell_type": "code",
   "execution_count": 72,
   "id": "10d49afc-52b2-4c3f-8ee1-504525ccff32",
   "metadata": {},
   "outputs": [
    {
     "data": {
      "text/plain": [
       "[123,\n",
       " ['Hey', 'Hello All', 'Welcome', 'Granted', 9],\n",
       " [1, 5, 7, 56, 78, 90],\n",
       " [True, False, 'Hyd', 'Blr']]"
      ]
     },
     "execution_count": 72,
     "metadata": {},
     "output_type": "execute_result"
    }
   ],
   "source": [
    "L3"
   ]
  },
  {
   "cell_type": "code",
   "execution_count": 73,
   "id": "6c7ba6d4-48fc-4073-885d-712b44ce0fd1",
   "metadata": {},
   "outputs": [],
   "source": [
    "L3[1].append(\"I am new element\")"
   ]
  },
  {
   "cell_type": "code",
   "execution_count": 74,
   "id": "37459002-e591-42f9-bdcc-844f8c41f2f5",
   "metadata": {},
   "outputs": [
    {
     "data": {
      "text/plain": [
       "[123,\n",
       " ['Hey', 'Hello All', 'Welcome', 'Granted', 9, 'I am new element'],\n",
       " [1, 5, 7, 56, 78, 90],\n",
       " [True, False, 'Hyd', 'Blr']]"
      ]
     },
     "execution_count": 74,
     "metadata": {},
     "output_type": "execute_result"
    }
   ],
   "source": [
    "L3"
   ]
  },
  {
   "cell_type": "code",
   "execution_count": 78,
   "id": "ee2012e6-e59b-4b96-b3c6-0419e90e5076",
   "metadata": {},
   "outputs": [],
   "source": [
    "L4 = list(range(1,11))"
   ]
  },
  {
   "cell_type": "code",
   "execution_count": 79,
   "id": "858f83f3-fd84-4f6a-918e-a3e7189ccefb",
   "metadata": {},
   "outputs": [
    {
     "data": {
      "text/plain": [
       "[1, 2, 3, 4, 5, 6, 7, 8, 9, 10]"
      ]
     },
     "execution_count": 79,
     "metadata": {},
     "output_type": "execute_result"
    }
   ],
   "source": [
    "L4"
   ]
  },
  {
   "cell_type": "code",
   "execution_count": 80,
   "id": "c8f10874-8f72-4a9d-a756-a44c5c7e9761",
   "metadata": {},
   "outputs": [],
   "source": [
    "L4.insert(3, 50)"
   ]
  },
  {
   "cell_type": "code",
   "execution_count": 81,
   "id": "f9aa3f89-d7be-4317-915f-20d208859785",
   "metadata": {},
   "outputs": [
    {
     "data": {
      "text/plain": [
       "[1, 2, 3, 50, 4, 5, 6, 7, 8, 9, 10]"
      ]
     },
     "execution_count": 81,
     "metadata": {},
     "output_type": "execute_result"
    }
   ],
   "source": [
    "L4"
   ]
  },
  {
   "cell_type": "code",
   "execution_count": 82,
   "id": "c1da9e4b-8788-4408-ac42-d6ef23260daf",
   "metadata": {},
   "outputs": [],
   "source": [
    "L4.insert(3, [12, 14, 16])"
   ]
  },
  {
   "cell_type": "code",
   "execution_count": 83,
   "id": "43987842-b6a0-4ded-ba92-7268d5a62cda",
   "metadata": {},
   "outputs": [
    {
     "data": {
      "text/plain": [
       "[1, 2, 3, [12, 14, 16], 50, 4, 5, 6, 7, 8, 9, 10]"
      ]
     },
     "execution_count": 83,
     "metadata": {},
     "output_type": "execute_result"
    }
   ],
   "source": [
    "L4"
   ]
  },
  {
   "cell_type": "markdown",
   "id": "d4ccb50b-849c-4b5f-9d49-5c8cff59ba5c",
   "metadata": {},
   "source": [
    "## Removing elemens from a list"
   ]
  },
  {
   "cell_type": "markdown",
   "id": "d67d21b8-1c25-4a8b-bef6-1eb3d5b9a43a",
   "metadata": {},
   "source": [
    "* remove  --->   removes the mentioned element from the list\n",
    "* pop     --->   pop is used to delete the mntioned index element, pop removed last element if we don't mention index."
   ]
  },
  {
   "cell_type": "code",
   "execution_count": 86,
   "id": "52d7a85c-634d-4e8a-ab90-d9dd56e92096",
   "metadata": {},
   "outputs": [
    {
     "data": {
      "text/plain": [
       "[1, 2, 3, [12, 14, 16], 50, 4, 5, 6, 7, 8, 9, 10]"
      ]
     },
     "execution_count": 86,
     "metadata": {},
     "output_type": "execute_result"
    }
   ],
   "source": [
    "L4"
   ]
  },
  {
   "cell_type": "code",
   "execution_count": 88,
   "id": "87e9b942-1acd-4e17-8f2a-d76d594b67c3",
   "metadata": {},
   "outputs": [],
   "source": [
    "L4.remove(2)"
   ]
  },
  {
   "cell_type": "code",
   "execution_count": 89,
   "id": "72b7e634-a493-49dc-b389-8febcd4437e1",
   "metadata": {},
   "outputs": [
    {
     "data": {
      "text/plain": [
       "[1, 3, [12, 14, 16], 50, 4, 5, 6, 7, 8, 9, 10]"
      ]
     },
     "execution_count": 89,
     "metadata": {},
     "output_type": "execute_result"
    }
   ],
   "source": [
    "L4"
   ]
  },
  {
   "cell_type": "code",
   "execution_count": 90,
   "id": "207478bf-0ab6-4298-9b1a-986463c69599",
   "metadata": {},
   "outputs": [
    {
     "ename": "TypeError",
     "evalue": "list.remove() takes exactly one argument (0 given)",
     "output_type": "error",
     "traceback": [
      "\u001b[1;31m---------------------------------------------------------------------------\u001b[0m",
      "\u001b[1;31mTypeError\u001b[0m                                 Traceback (most recent call last)",
      "Cell \u001b[1;32mIn[90], line 1\u001b[0m\n\u001b[1;32m----> 1\u001b[0m \u001b[43mL4\u001b[49m\u001b[38;5;241;43m.\u001b[39;49m\u001b[43mremove\u001b[49m\u001b[43m(\u001b[49m\u001b[43m)\u001b[49m\n",
      "\u001b[1;31mTypeError\u001b[0m: list.remove() takes exactly one argument (0 given)"
     ]
    }
   ],
   "source": [
    "L4.remove()"
   ]
  },
  {
   "cell_type": "code",
   "execution_count": 91,
   "id": "52d72855-3caa-43dd-9cf9-699f0591cf8e",
   "metadata": {},
   "outputs": [
    {
     "data": {
      "text/plain": [
       "10"
      ]
     },
     "execution_count": 91,
     "metadata": {},
     "output_type": "execute_result"
    }
   ],
   "source": [
    "L4.pop()"
   ]
  },
  {
   "cell_type": "code",
   "execution_count": 92,
   "id": "70d3c8c6-2ee8-448a-85c4-8d85acba26c7",
   "metadata": {},
   "outputs": [
    {
     "data": {
      "text/plain": [
       "[1, 3, [12, 14, 16], 50, 4, 5, 6, 7, 8, 9]"
      ]
     },
     "execution_count": 92,
     "metadata": {},
     "output_type": "execute_result"
    }
   ],
   "source": [
    "L4"
   ]
  },
  {
   "cell_type": "code",
   "execution_count": 93,
   "id": "4efd5304-0e7a-489c-a236-15cd1515fdab",
   "metadata": {},
   "outputs": [
    {
     "data": {
      "text/plain": [
       "[12, 14, 16]"
      ]
     },
     "execution_count": 93,
     "metadata": {},
     "output_type": "execute_result"
    }
   ],
   "source": [
    "L4.pop(2)"
   ]
  },
  {
   "cell_type": "code",
   "execution_count": 94,
   "id": "32c4c548-1728-4dd4-b2ae-693245bc7406",
   "metadata": {},
   "outputs": [
    {
     "data": {
      "text/plain": [
       "[1, 3, 50, 4, 5, 6, 7, 8, 9]"
      ]
     },
     "execution_count": 94,
     "metadata": {},
     "output_type": "execute_result"
    }
   ],
   "source": [
    "L4"
   ]
  },
  {
   "cell_type": "code",
   "execution_count": 95,
   "id": "48104689-e3bb-4464-a660-6bb89664f5d6",
   "metadata": {},
   "outputs": [],
   "source": [
    "deleted_2nd_value_in_L4 = L4.pop(2)"
   ]
  },
  {
   "cell_type": "code",
   "execution_count": 96,
   "id": "86670e4d-1d8e-45fb-afdb-681bd03cc4d8",
   "metadata": {},
   "outputs": [
    {
     "data": {
      "text/plain": [
       "[1, 3, 4, 5, 6, 7, 8, 9]"
      ]
     },
     "execution_count": 96,
     "metadata": {},
     "output_type": "execute_result"
    }
   ],
   "source": [
    "L4"
   ]
  },
  {
   "cell_type": "code",
   "execution_count": 97,
   "id": "0af8a99d-6671-44a2-ac90-5d19213ea0eb",
   "metadata": {},
   "outputs": [
    {
     "data": {
      "text/plain": [
       "50"
      ]
     },
     "execution_count": 97,
     "metadata": {},
     "output_type": "execute_result"
    }
   ],
   "source": [
    "deleted_2nd_value_in_L4"
   ]
  },
  {
   "cell_type": "code",
   "execution_count": 98,
   "id": "6dcb765c-ec21-403a-b4ba-e6f0371c0d5b",
   "metadata": {},
   "outputs": [],
   "source": [
    "L5 = [1, 3, [12, 14, 16], 50, 4, 5, 6, 7, 8, 9]"
   ]
  },
  {
   "cell_type": "code",
   "execution_count": 99,
   "id": "f1abc078-bb74-4ff8-8885-0ff6e0e6f540",
   "metadata": {},
   "outputs": [
    {
     "data": {
      "text/plain": [
       "14"
      ]
     },
     "execution_count": 99,
     "metadata": {},
     "output_type": "execute_result"
    }
   ],
   "source": [
    "L5[2].pop(1)"
   ]
  },
  {
   "cell_type": "code",
   "execution_count": 100,
   "id": "5ce49caa-de0d-4d71-b9c8-41996aeaa53c",
   "metadata": {},
   "outputs": [
    {
     "data": {
      "text/plain": [
       "[1, 3, [12, 16], 50, 4, 5, 6, 7, 8, 9]"
      ]
     },
     "execution_count": 100,
     "metadata": {},
     "output_type": "execute_result"
    }
   ],
   "source": [
    "L5"
   ]
  },
  {
   "cell_type": "markdown",
   "id": "3d6676eb-9a7f-4e01-9282-51bdbcded532",
   "metadata": {},
   "source": [
    "### Looping  a list"
   ]
  },
  {
   "cell_type": "code",
   "execution_count": 112,
   "id": "88ba7863-cd47-421e-8d1a-63669589b87e",
   "metadata": {},
   "outputs": [
    {
     "name": "stdout",
     "output_type": "stream",
     "text": [
      "[1, 3, 4, 5, 6, 7, 8, 9]\n"
     ]
    }
   ],
   "source": [
    "print(L4)"
   ]
  },
  {
   "cell_type": "code",
   "execution_count": 113,
   "id": "0ac45ef7-9123-45dc-953c-688f32500dd4",
   "metadata": {},
   "outputs": [
    {
     "name": "stdout",
     "output_type": "stream",
     "text": [
      "1\n",
      "3\n",
      "4\n",
      "5\n",
      "6\n",
      "7\n",
      "8\n",
      "9\n"
     ]
    }
   ],
   "source": [
    "for item in L4:\n",
    "    print(item)"
   ]
  },
  {
   "cell_type": "code",
   "execution_count": 114,
   "id": "ecdaa669-dbaa-4986-afcf-ec04a314fbe6",
   "metadata": {},
   "outputs": [
    {
     "name": "stdout",
     "output_type": "stream",
     "text": [
      "square of 1 is: 1\n",
      "square of 3 is: 9\n",
      "square of 4 is: 16\n",
      "square of 5 is: 25\n",
      "square of 6 is: 36\n",
      "square of 7 is: 49\n",
      "square of 8 is: 64\n",
      "square of 9 is: 81\n"
     ]
    }
   ],
   "source": [
    "for item in L4:\n",
    "    print(\"square of\", item, \"is:\", item*item)"
   ]
  },
  {
   "cell_type": "code",
   "execution_count": 115,
   "id": "34f32523-4489-4ae3-be63-b5d1d6e7a56c",
   "metadata": {},
   "outputs": [
    {
     "data": {
      "text/plain": [
       "[1, 2, 3, 4, 5, 6, 7, 8, 9]"
      ]
     },
     "execution_count": 115,
     "metadata": {},
     "output_type": "execute_result"
    }
   ],
   "source": [
    "L4.insert(1, 2)\n",
    "L4"
   ]
  },
  {
   "cell_type": "code",
   "execution_count": 117,
   "id": "e31e319a-23a5-4d15-b365-42484f63d375",
   "metadata": {},
   "outputs": [],
   "source": [
    "L4.append(10)"
   ]
  },
  {
   "cell_type": "code",
   "execution_count": 118,
   "id": "0a8bd398-4e87-41f3-9512-ee11a0d0f7f6",
   "metadata": {},
   "outputs": [
    {
     "data": {
      "text/plain": [
       "[1, 2, 3, 4, 5, 6, 7, 8, 9, 10]"
      ]
     },
     "execution_count": 118,
     "metadata": {},
     "output_type": "execute_result"
    }
   ],
   "source": [
    "L4"
   ]
  },
  {
   "cell_type": "code",
   "execution_count": 119,
   "id": "ea2513ba-d310-46ee-99bf-020058aa662a",
   "metadata": {},
   "outputs": [
    {
     "name": "stdout",
     "output_type": "stream",
     "text": [
      "1 is odd number\n",
      "2 is even number\n",
      "3 is odd number\n",
      "4 is even number\n",
      "5 is odd number\n",
      "6 is even number\n",
      "7 is odd number\n",
      "8 is even number\n",
      "9 is odd number\n",
      "10 is even number\n"
     ]
    }
   ],
   "source": [
    "for i in L4:\n",
    "    if i%2 == 0:\n",
    "        result = 'even'\n",
    "    else:\n",
    "        result = 'odd'\n",
    "    print(i, \"is\", result, \"number\")"
   ]
  },
  {
   "cell_type": "code",
   "execution_count": 1,
   "id": "f4c93518-ad3f-4b62-ac00-736617d0b2a0",
   "metadata": {},
   "outputs": [
    {
     "data": {
      "text/plain": [
       "['D', 'h', 'a', 'n', 'u', 's', 'h']"
      ]
     },
     "execution_count": 1,
     "metadata": {},
     "output_type": "execute_result"
    }
   ],
   "source": [
    "list(\"Dhanush\")"
   ]
  },
  {
   "cell_type": "code",
   "execution_count": 3,
   "id": "98b8121c-bf05-40ff-9c42-e01be2190175",
   "metadata": {},
   "outputs": [],
   "source": [
    "Hyd_cap = \"Hyderabad is capital of telangana\""
   ]
  },
  {
   "cell_type": "code",
   "execution_count": 5,
   "id": "0fe4916c-38ca-440b-9156-d9df0abb0cb7",
   "metadata": {},
   "outputs": [
    {
     "name": "stdout",
     "output_type": "stream",
     "text": [
      "Hyderabad\n",
      "is\n",
      "capital\n",
      "of\n",
      "telangana\n"
     ]
    }
   ],
   "source": [
    "for item in Hyd_cap.split():\n",
    "    print(item)"
   ]
  },
  {
   "cell_type": "code",
   "execution_count": 6,
   "id": "dbf05b25-9521-4bca-86a4-8479f49863a2",
   "metadata": {},
   "outputs": [
    {
     "data": {
      "text/plain": [
       "['Hyderabad', 'is', 'capital', 'of', 'telangana']"
      ]
     },
     "execution_count": 6,
     "metadata": {},
     "output_type": "execute_result"
    }
   ],
   "source": [
    "Hyd_cap.split()"
   ]
  },
  {
   "cell_type": "code",
   "execution_count": null,
   "id": "afcc03cb-a05d-4380-b081-979bbc21cab6",
   "metadata": {},
   "outputs": [],
   "source": [
    "for item in ['Hyderabad', 'is', 'capital', 'of', 'telangana']:\n",
    "    print(item)"
   ]
  },
  {
   "cell_type": "markdown",
   "id": "7da318eb-2fed-4b85-b1eb-0a5c4f50b49b",
   "metadata": {},
   "source": [
    "#### we have sentence, we need to check each word in that sentence is starting with a or not, and also mention length of each letter beside the result"
   ]
  },
  {
   "cell_type": "code",
   "execution_count": 22,
   "id": "5faf03c6-d0e6-45eb-af60-356c4f0f066c",
   "metadata": {},
   "outputs": [
    {
     "name": "stdout",
     "output_type": "stream",
     "text": [
      "hyderabad is not starting with a length of hyderabad is 9 \n",
      "\n",
      "bangalore is not starting with a length of bangalore is 9 \n",
      "\n",
      "america is starting with a length of america is 7 \n",
      "\n",
      "antarctica is starting with a length of antarctica is 10 \n",
      "\n",
      "after is starting with a length of after is 5 \n",
      "\n",
      "rain is not starting with a length of rain is 4 \n",
      "\n",
      "abudhabi is starting with a length of abudhabi is 8 \n",
      "\n",
      "alias is starting with a length of alias is 5 \n",
      "\n",
      "dallas is not starting with a length of dallas is 6 \n",
      "\n",
      "atlanta is starting with a length of atlanta is 7 \n",
      "\n",
      "boston is not starting with a length of boston is 6 \n",
      "\n",
      "new is not starting with a length of new is 3 \n",
      "\n",
      "york is not starting with a length of york is 4 \n",
      "\n"
     ]
    }
   ],
   "source": [
    "sentence  = \"hyderabad bangalore america antarctica after rain abudhabi alias dallas atlanta boston new york\"\n",
    "\n",
    "# o/p ex:\n",
    "# hyderabad is not startig with a, lenght of hyderabad is 9\n",
    "for item in sentence.split():\n",
    "    if item.startswith('a'):\n",
    "        print(item, \"is starting with a\", \"length of\", item, \"is\", len(item), \"\\n\")\n",
    "    else:\n",
    "        print(item, \"is not starting with a\", \"length of\", item, \"is\", len(item), \"\\n\")\n",
    "    # print('\\n')\n"
   ]
  },
  {
   "cell_type": "code",
   "execution_count": 23,
   "id": "2eca219e-d3fc-495a-80f0-c9019b493c59",
   "metadata": {},
   "outputs": [
    {
     "data": {
      "text/plain": [
       "[100, 112, 124, 136, 148, 160, 172, 184, 196]"
      ]
     },
     "execution_count": 23,
     "metadata": {},
     "output_type": "execute_result"
    }
   ],
   "source": [
    "li = list(range(100, 201, 12))\n",
    "li"
   ]
  },
  {
   "cell_type": "code",
   "execution_count": 27,
   "id": "a1c4b1f2-2bad-467c-8423-ce816b2a3e75",
   "metadata": {},
   "outputs": [
    {
     "name": "stdout",
     "output_type": "stream",
     "text": [
      "The result of 100 is  52.5 we have done division, addition, multiplication operations\n",
      "The result of 112 is  57.0 we have done division, addition, multiplication operations\n",
      "The result of 124 is  61.5 we have done division, addition, multiplication operations\n",
      "The result of 136 is  66.0 we have done division, addition, multiplication operations\n",
      "The result of 148 is  70.5 we have done division, addition, multiplication operations\n",
      "The result of 160 is  75.0 we have done division, addition, multiplication operations\n",
      "The result of 172 is  79.5 we have done division, addition, multiplication operations\n",
      "The result of 184 is  84.0 we have done division, addition, multiplication operations\n",
      "The result of 196 is  88.5 we have done division, addition, multiplication operations\n"
     ]
    }
   ],
   "source": [
    "for item in li:\n",
    "    div_8 = item/8\n",
    "    add_5 = div_8 + 5\n",
    "    mul_3 = add_5 * 3\n",
    "    result = mul_3\n",
    "\n",
    "    print(\"The result of\", item,\"is \", result,\"we have done division, addition, multiplication operations\")"
   ]
  },
  {
   "cell_type": "markdown",
   "id": "2a3e67a4-b546-4e6a-b94d-9ca1def6f37a",
   "metadata": {},
   "source": [
    "### List methods"
   ]
  },
  {
   "cell_type": "markdown",
   "id": "3fd3820e-c967-460b-b79d-15beb49650db",
   "metadata": {},
   "source": [
    "* clear()"
   ]
  },
  {
   "cell_type": "code",
   "execution_count": 33,
   "id": "5d246479-915e-4721-a770-842167f59714",
   "metadata": {},
   "outputs": [
    {
     "data": {
      "text/plain": [
       "[100, 112, 124, 136, 148, 160, 172, 184, 196]"
      ]
     },
     "execution_count": 33,
     "metadata": {},
     "output_type": "execute_result"
    }
   ],
   "source": [
    "li"
   ]
  },
  {
   "cell_type": "code",
   "execution_count": 34,
   "id": "9aa78702-8f17-4442-8049-c8da4022eb61",
   "metadata": {},
   "outputs": [],
   "source": [
    "li.clear()"
   ]
  },
  {
   "cell_type": "code",
   "execution_count": 35,
   "id": "19b245de-4fe1-476f-9bfa-c69d2ad13e4e",
   "metadata": {},
   "outputs": [
    {
     "data": {
      "text/plain": [
       "[]"
      ]
     },
     "execution_count": 35,
     "metadata": {},
     "output_type": "execute_result"
    }
   ],
   "source": [
    "li"
   ]
  },
  {
   "cell_type": "code",
   "execution_count": 36,
   "id": "096be22e-f81d-4b92-98f3-d3f8624f681d",
   "metadata": {},
   "outputs": [],
   "source": [
    "del li"
   ]
  },
  {
   "cell_type": "code",
   "execution_count": 37,
   "id": "d6d463df-df09-45a8-8a5c-2934c484709b",
   "metadata": {},
   "outputs": [
    {
     "ename": "NameError",
     "evalue": "name 'li' is not defined",
     "output_type": "error",
     "traceback": [
      "\u001b[1;31m---------------------------------------------------------------------------\u001b[0m",
      "\u001b[1;31mNameError\u001b[0m                                 Traceback (most recent call last)",
      "Cell \u001b[1;32mIn[37], line 1\u001b[0m\n\u001b[1;32m----> 1\u001b[0m \u001b[43mli\u001b[49m\n",
      "\u001b[1;31mNameError\u001b[0m: name 'li' is not defined"
     ]
    }
   ],
   "source": [
    "li"
   ]
  },
  {
   "cell_type": "code",
   "execution_count": 39,
   "id": "7d8c54e2-cce6-4731-bde1-5bbb584e0901",
   "metadata": {},
   "outputs": [],
   "source": [
    "li1 = list(range(100, 201, 14))"
   ]
  },
  {
   "cell_type": "code",
   "execution_count": 40,
   "id": "e69fd136-4219-4a38-85c8-0d704d3714c8",
   "metadata": {},
   "outputs": [
    {
     "data": {
      "text/plain": [
       "[100, 114, 128, 142, 156, 170, 184, 198]"
      ]
     },
     "execution_count": 40,
     "metadata": {},
     "output_type": "execute_result"
    }
   ],
   "source": [
    "li1"
   ]
  },
  {
   "cell_type": "code",
   "execution_count": 41,
   "id": "96e499ad-cc16-4e2f-835d-244035dfb3ac",
   "metadata": {},
   "outputs": [],
   "source": [
    "li2 = li1.copy()      # data of li1 is copied into li2, both li1 and li2 works independently"
   ]
  },
  {
   "cell_type": "code",
   "execution_count": 42,
   "id": "06b5a19b-33e6-45f7-83d9-f020d6bafc63",
   "metadata": {},
   "outputs": [
    {
     "data": {
      "text/plain": [
       "[100, 114, 128, 142, 156, 170, 184, 198]"
      ]
     },
     "execution_count": 42,
     "metadata": {},
     "output_type": "execute_result"
    }
   ],
   "source": [
    "li1"
   ]
  },
  {
   "cell_type": "code",
   "execution_count": 43,
   "id": "95c379f7-d64d-4f10-96e5-9e80ac43f104",
   "metadata": {},
   "outputs": [
    {
     "data": {
      "text/plain": [
       "[100, 114, 128, 142, 156, 170, 184, 198]"
      ]
     },
     "execution_count": 43,
     "metadata": {},
     "output_type": "execute_result"
    }
   ],
   "source": [
    "li2"
   ]
  },
  {
   "cell_type": "code",
   "execution_count": 44,
   "id": "12e3e0f0-f84e-40e1-bd63-775cd79f8a6c",
   "metadata": {},
   "outputs": [],
   "source": [
    "li3 = li1         # data of li1 is assigned to li3, both li1 and li2 dependent.if we change data in any list, then second list also got the same changes."
   ]
  },
  {
   "cell_type": "code",
   "execution_count": 45,
   "id": "5b98c44a-9c1b-41f9-beb8-b9046d43b4b7",
   "metadata": {},
   "outputs": [
    {
     "data": {
      "text/plain": [
       "[100, 114, 128, 142, 156, 170, 184, 198]"
      ]
     },
     "execution_count": 45,
     "metadata": {},
     "output_type": "execute_result"
    }
   ],
   "source": [
    "li3"
   ]
  },
  {
   "cell_type": "code",
   "execution_count": 46,
   "id": "252d37ea-ed68-4e08-8bf0-ed01b46edcdc",
   "metadata": {},
   "outputs": [],
   "source": [
    "li3[0] = 98"
   ]
  },
  {
   "cell_type": "code",
   "execution_count": 47,
   "id": "f675dbe5-a861-42e0-9f03-c9b8c3004e05",
   "metadata": {},
   "outputs": [
    {
     "data": {
      "text/plain": [
       "[98, 114, 128, 142, 156, 170, 184, 198]"
      ]
     },
     "execution_count": 47,
     "metadata": {},
     "output_type": "execute_result"
    }
   ],
   "source": [
    "li3"
   ]
  },
  {
   "cell_type": "code",
   "execution_count": 48,
   "id": "f3b2e15d-5b5e-43bc-b64f-996cf8764d88",
   "metadata": {},
   "outputs": [
    {
     "data": {
      "text/plain": [
       "[98, 114, 128, 142, 156, 170, 184, 198]"
      ]
     },
     "execution_count": 48,
     "metadata": {},
     "output_type": "execute_result"
    }
   ],
   "source": [
    "li1"
   ]
  },
  {
   "cell_type": "code",
   "execution_count": 49,
   "id": "4c416e14-0469-4f65-b78c-0f169309dbd6",
   "metadata": {},
   "outputs": [
    {
     "data": {
      "text/plain": [
       "[98, 114, 128, 142, 156, 170, 184, 198]"
      ]
     },
     "execution_count": 49,
     "metadata": {},
     "output_type": "execute_result"
    }
   ],
   "source": [
    "li1"
   ]
  },
  {
   "cell_type": "code",
   "execution_count": 50,
   "id": "8ce6fca8-cf8c-4ec8-8ae6-b11e8d5ecfae",
   "metadata": {},
   "outputs": [
    {
     "data": {
      "text/plain": [
       "[100, 114, 128, 142, 156, 170, 184, 198]"
      ]
     },
     "execution_count": 50,
     "metadata": {},
     "output_type": "execute_result"
    }
   ],
   "source": [
    "li2"
   ]
  },
  {
   "cell_type": "code",
   "execution_count": 51,
   "id": "6c1db716-3d1d-4541-8498-0fdcec8610c8",
   "metadata": {},
   "outputs": [
    {
     "data": {
      "text/plain": [
       "[98, 114, 128, 142, 156, 170, 184, 198]"
      ]
     },
     "execution_count": 51,
     "metadata": {},
     "output_type": "execute_result"
    }
   ],
   "source": [
    "li3"
   ]
  },
  {
   "cell_type": "code",
   "execution_count": 53,
   "id": "224b93b4-1386-4368-91ec-501350757040",
   "metadata": {},
   "outputs": [],
   "source": [
    "li3[0] = 18          "
   ]
  },
  {
   "cell_type": "code",
   "execution_count": 54,
   "id": "eb2d0117-f8fb-4f91-8882-f6a51908da1a",
   "metadata": {},
   "outputs": [
    {
     "data": {
      "text/plain": [
       "[18, 114, 128, 142, 156, 170, 184, 198]"
      ]
     },
     "execution_count": 54,
     "metadata": {},
     "output_type": "execute_result"
    }
   ],
   "source": [
    "li3"
   ]
  },
  {
   "cell_type": "code",
   "execution_count": 55,
   "id": "22e2f1c9-fbb2-47f4-96e2-08db92d68c9b",
   "metadata": {},
   "outputs": [
    {
     "data": {
      "text/plain": [
       "[18, 114, 128, 142, 156, 170, 184, 198]"
      ]
     },
     "execution_count": 55,
     "metadata": {},
     "output_type": "execute_result"
    }
   ],
   "source": [
    "li1"
   ]
  },
  {
   "cell_type": "code",
   "execution_count": 56,
   "id": "019943a5-9c17-4315-b66d-315fb3cd5e91",
   "metadata": {},
   "outputs": [],
   "source": [
    "li2[0] = 15"
   ]
  },
  {
   "cell_type": "code",
   "execution_count": 57,
   "id": "db834d06-bc79-40f2-9a79-f47c19e2bc46",
   "metadata": {},
   "outputs": [
    {
     "data": {
      "text/plain": [
       "[15, 114, 128, 142, 156, 170, 184, 198]"
      ]
     },
     "execution_count": 57,
     "metadata": {},
     "output_type": "execute_result"
    }
   ],
   "source": [
    "li2"
   ]
  },
  {
   "cell_type": "code",
   "execution_count": 58,
   "id": "a3b95a0c-4c33-4637-8bdd-634deb807e3f",
   "metadata": {},
   "outputs": [
    {
     "data": {
      "text/plain": [
       "[18, 114, 128, 142, 156, 170, 184, 198]"
      ]
     },
     "execution_count": 58,
     "metadata": {},
     "output_type": "execute_result"
    }
   ],
   "source": [
    "li1"
   ]
  },
  {
   "cell_type": "code",
   "execution_count": 59,
   "id": "2afec20e-e5a5-41a4-9b49-d4767871dfd3",
   "metadata": {
    "scrolled": true
   },
   "outputs": [
    {
     "data": {
      "text/plain": [
       "[18, 114, 128, 142, 156, 170, 184, 198]"
      ]
     },
     "execution_count": 59,
     "metadata": {},
     "output_type": "execute_result"
    }
   ],
   "source": [
    "li3"
   ]
  },
  {
   "cell_type": "code",
   "execution_count": 60,
   "id": "370436bd-e310-4a4e-86b4-6ed58d5ab302",
   "metadata": {},
   "outputs": [
    {
     "data": {
      "text/plain": [
       "1"
      ]
     },
     "execution_count": 60,
     "metadata": {},
     "output_type": "execute_result"
    }
   ],
   "source": [
    "li3.count(18)       # count is used to find the count of the single value"
   ]
  },
  {
   "cell_type": "code",
   "execution_count": 61,
   "id": "911a22fa-b10e-4c9e-be6f-2290921ba94b",
   "metadata": {},
   "outputs": [],
   "source": [
    "li3.append(18)"
   ]
  },
  {
   "cell_type": "code",
   "execution_count": 62,
   "id": "4bf2a499-16c4-4229-a756-394a988123c2",
   "metadata": {},
   "outputs": [
    {
     "data": {
      "text/plain": [
       "[18, 114, 128, 142, 156, 170, 184, 198, 18]"
      ]
     },
     "execution_count": 62,
     "metadata": {},
     "output_type": "execute_result"
    }
   ],
   "source": [
    "li3"
   ]
  },
  {
   "cell_type": "code",
   "execution_count": 63,
   "id": "46858ec1-e12f-4cb9-aa99-742e8b8aa0e1",
   "metadata": {},
   "outputs": [
    {
     "data": {
      "text/plain": [
       "2"
      ]
     },
     "execution_count": 63,
     "metadata": {},
     "output_type": "execute_result"
    }
   ],
   "source": [
    "li3.count(18)    # count is used to find the count of the single value"
   ]
  },
  {
   "cell_type": "code",
   "execution_count": 65,
   "id": "345e0293-4c42-4513-a222-e62a9ec087b1",
   "metadata": {},
   "outputs": [
    {
     "data": {
      "text/plain": [
       "1"
      ]
     },
     "execution_count": 65,
     "metadata": {},
     "output_type": "execute_result"
    }
   ],
   "source": [
    "li3.index(114)"
   ]
  },
  {
   "cell_type": "code",
   "execution_count": 71,
   "id": "d42f8fb8-ef3f-4f71-a61f-09402cd0fbad",
   "metadata": {},
   "outputs": [
    {
     "data": {
      "text/plain": [
       "8"
      ]
     },
     "execution_count": 71,
     "metadata": {},
     "output_type": "execute_result"
    }
   ],
   "source": [
    "li3.index(18, 1, 100)     # find the index of givn value between the mentioned start and end"
   ]
  },
  {
   "cell_type": "code",
   "execution_count": 72,
   "id": "c4d03d89-27bd-4cdf-a39e-5f822f2a933d",
   "metadata": {},
   "outputs": [
    {
     "data": {
      "text/plain": [
       "[18, 114, 128, 142, 156, 170, 184, 198, 18]"
      ]
     },
     "execution_count": 72,
     "metadata": {},
     "output_type": "execute_result"
    }
   ],
   "source": [
    "li3"
   ]
  },
  {
   "cell_type": "code",
   "execution_count": 76,
   "id": "19660ae7-603d-4026-bb31-ba123f228a0b",
   "metadata": {},
   "outputs": [
    {
     "data": {
      "text/plain": [
       "198"
      ]
     },
     "execution_count": 76,
     "metadata": {},
     "output_type": "execute_result"
    }
   ],
   "source": [
    "li3.pop()      # pop is used to remove the last value from the list. if we give the argument to the pop, then the mentioned index value is removed."
   ]
  },
  {
   "cell_type": "code",
   "execution_count": 74,
   "id": "a28b4020-1120-4e7c-bd7b-5e12b745b9ef",
   "metadata": {},
   "outputs": [
    {
     "data": {
      "text/plain": [
       "[18, 114, 128, 142, 156, 170, 184, 198]"
      ]
     },
     "execution_count": 74,
     "metadata": {},
     "output_type": "execute_result"
    }
   ],
   "source": [
    "li3"
   ]
  },
  {
   "cell_type": "code",
   "execution_count": 75,
   "id": "f0b000b3-0bd5-4132-b86f-377c1fe909f7",
   "metadata": {},
   "outputs": [
    {
     "data": {
      "text/plain": [
       "170"
      ]
     },
     "execution_count": 75,
     "metadata": {},
     "output_type": "execute_result"
    }
   ],
   "source": [
    "li3.pop(5)"
   ]
  },
  {
   "cell_type": "code",
   "execution_count": 81,
   "id": "b7ebf93d-2fbe-48de-ace4-1f66612e973b",
   "metadata": {},
   "outputs": [
    {
     "ename": "TypeError",
     "evalue": "list.remove() takes exactly one argument (0 given)",
     "output_type": "error",
     "traceback": [
      "\u001b[1;31m---------------------------------------------------------------------------\u001b[0m",
      "\u001b[1;31mTypeError\u001b[0m                                 Traceback (most recent call last)",
      "Cell \u001b[1;32mIn[81], line 1\u001b[0m\n\u001b[1;32m----> 1\u001b[0m \u001b[43mli3\u001b[49m\u001b[38;5;241;43m.\u001b[39;49m\u001b[43mremove\u001b[49m\u001b[43m(\u001b[49m\u001b[43m)\u001b[49m   \u001b[38;5;66;03m# remove methd is used to remove the spcified value from the list\u001b[39;00m\n",
      "\u001b[1;31mTypeError\u001b[0m: list.remove() takes exactly one argument (0 given)"
     ]
    }
   ],
   "source": [
    "li3.remove()   # remove methd is used to remove the spcified value from the list"
   ]
  },
  {
   "cell_type": "code",
   "execution_count": 82,
   "id": "5513519e-21b7-48b4-b87a-24a137db8a4c",
   "metadata": {},
   "outputs": [
    {
     "data": {
      "text/plain": [
       "[18, 114, 128, 156, 184]"
      ]
     },
     "execution_count": 82,
     "metadata": {},
     "output_type": "execute_result"
    }
   ],
   "source": [
    "li3"
   ]
  },
  {
   "cell_type": "code",
   "execution_count": 84,
   "id": "b5d5b9a7-9d8b-41d1-af57-c4cb22815ed1",
   "metadata": {},
   "outputs": [],
   "source": [
    "li3.remove(128)"
   ]
  },
  {
   "cell_type": "code",
   "execution_count": 85,
   "id": "8089583a-895b-426a-b907-f181969a0655",
   "metadata": {},
   "outputs": [
    {
     "data": {
      "text/plain": [
       "[18, 114, 156, 184]"
      ]
     },
     "execution_count": 85,
     "metadata": {},
     "output_type": "execute_result"
    }
   ],
   "source": [
    "li3"
   ]
  },
  {
   "cell_type": "code",
   "execution_count": 86,
   "id": "e5f9cff4-c697-4f1c-8cf1-476f2090ee00",
   "metadata": {},
   "outputs": [],
   "source": [
    "li3.reverse()    # reversing the list"
   ]
  },
  {
   "cell_type": "code",
   "execution_count": 87,
   "id": "be5b7a6d-a5ad-4063-bf01-6baa0c6a26f8",
   "metadata": {},
   "outputs": [
    {
     "data": {
      "text/plain": [
       "[184, 156, 114, 18]"
      ]
     },
     "execution_count": 87,
     "metadata": {},
     "output_type": "execute_result"
    }
   ],
   "source": [
    "li3"
   ]
  },
  {
   "cell_type": "code",
   "execution_count": 88,
   "id": "05b9576e-56bd-476e-bc5e-508125bbcd7f",
   "metadata": {},
   "outputs": [
    {
     "data": {
      "text/plain": [
       "[18, 114, 156, 184]"
      ]
     },
     "execution_count": 88,
     "metadata": {},
     "output_type": "execute_result"
    }
   ],
   "source": [
    "li3[::-1]   # it will also reverse the list, but don't do the assignment"
   ]
  },
  {
   "cell_type": "code",
   "execution_count": 89,
   "id": "c523f2c3-7c5d-4938-9114-b14b3aeb2ae1",
   "metadata": {},
   "outputs": [
    {
     "data": {
      "text/plain": [
       "[184, 156, 114, 18]"
      ]
     },
     "execution_count": 89,
     "metadata": {},
     "output_type": "execute_result"
    }
   ],
   "source": [
    "li3"
   ]
  },
  {
   "cell_type": "code",
   "execution_count": 90,
   "id": "5a067504-d71a-4596-a141-cb7a2b8aa1bf",
   "metadata": {},
   "outputs": [],
   "source": [
    "li3.sort()   # sort the list values in ascending order"
   ]
  },
  {
   "cell_type": "code",
   "execution_count": 91,
   "id": "f742c11c-18c6-4bce-8eb9-4a599d398c82",
   "metadata": {},
   "outputs": [
    {
     "data": {
      "text/plain": [
       "[18, 114, 156, 184]"
      ]
     },
     "execution_count": 91,
     "metadata": {},
     "output_type": "execute_result"
    }
   ],
   "source": [
    "li3"
   ]
  },
  {
   "cell_type": "code",
   "execution_count": 92,
   "id": "4d0b4e09-1fa8-4933-b4ac-06761ddddb98",
   "metadata": {},
   "outputs": [],
   "source": [
    "li3.sort(reverse = True)"
   ]
  },
  {
   "cell_type": "code",
   "execution_count": 93,
   "id": "eb61f0f6-63fa-42a3-8fd8-e68d563a2946",
   "metadata": {},
   "outputs": [
    {
     "data": {
      "text/plain": [
       "[184, 156, 114, 18]"
      ]
     },
     "execution_count": 93,
     "metadata": {},
     "output_type": "execute_result"
    }
   ],
   "source": [
    "li3"
   ]
  },
  {
   "cell_type": "code",
   "execution_count": 97,
   "id": "31695365-e982-494d-a641-c787aa212936",
   "metadata": {},
   "outputs": [],
   "source": [
    "li4 = [\"Hyderabad\", \"Bangalore\", \"Chennai\", \"Delhi\"]\n",
    "li4.sort()      # sort the list based on the first charecter of the each string"
   ]
  },
  {
   "cell_type": "code",
   "execution_count": 98,
   "id": "4db9a48e-f0bc-48c5-b8a0-8047ef90afa3",
   "metadata": {},
   "outputs": [
    {
     "data": {
      "text/plain": [
       "['Bangalore', 'Chennai', 'Delhi', 'Hyderabad']"
      ]
     },
     "execution_count": 98,
     "metadata": {},
     "output_type": "execute_result"
    }
   ],
   "source": [
    "li4   "
   ]
  },
  {
   "cell_type": "code",
   "execution_count": 101,
   "id": "89f82e8b-3484-4a43-ae25-231dc39c9106",
   "metadata": {},
   "outputs": [],
   "source": [
    "li4 = [\"hyderabad\", \"Bangalore\", \"chennai\", \"Delhi\"]\n",
    "li4.sort(key = str.upper)      # sort the list based on the first charecter of the each string with lower case conversion"
   ]
  },
  {
   "cell_type": "code",
   "execution_count": 102,
   "id": "a7771744-783a-44da-a3b5-6926c3144b83",
   "metadata": {},
   "outputs": [
    {
     "data": {
      "text/plain": [
       "['Bangalore', 'chennai', 'Delhi', 'hyderabad']"
      ]
     },
     "execution_count": 102,
     "metadata": {},
     "output_type": "execute_result"
    }
   ],
   "source": [
    "li4"
   ]
  },
  {
   "cell_type": "code",
   "execution_count": 103,
   "id": "3308fd81-0d45-4b05-8544-b8bcd1f94226",
   "metadata": {},
   "outputs": [],
   "source": [
    "list = [1,2,4,5,67,89,10]"
   ]
  },
  {
   "cell_type": "code",
   "execution_count": 104,
   "id": "00df318b-de09-4a81-84ee-c89702f7d64b",
   "metadata": {},
   "outputs": [
    {
     "data": {
      "text/plain": [
       "[1, 2, 4, 5, 67, 89, 10]"
      ]
     },
     "execution_count": 104,
     "metadata": {},
     "output_type": "execute_result"
    }
   ],
   "source": [
    "list"
   ]
  },
  {
   "cell_type": "code",
   "execution_count": 105,
   "id": "dd2945b6-e966-4069-b759-72098765b816",
   "metadata": {},
   "outputs": [
    {
     "ename": "TypeError",
     "evalue": "'list' object is not callable",
     "output_type": "error",
     "traceback": [
      "\u001b[1;31m---------------------------------------------------------------------------\u001b[0m",
      "\u001b[1;31mTypeError\u001b[0m                                 Traceback (most recent call last)",
      "Cell \u001b[1;32mIn[105], line 1\u001b[0m\n\u001b[1;32m----> 1\u001b[0m \u001b[38;5;28;43mlist\u001b[39;49m\u001b[43m(\u001b[49m\u001b[38;5;241;43m12\u001b[39;49m\u001b[43m,\u001b[49m\u001b[43m \u001b[49m\u001b[38;5;241;43m12324\u001b[39;49m\u001b[43m)\u001b[49m\n",
      "\u001b[1;31mTypeError\u001b[0m: 'list' object is not callable"
     ]
    }
   ],
   "source": [
    "list(12, 12324)"
   ]
  },
  {
   "cell_type": "raw",
   "id": "4675d8d3-81cb-40f4-ae57-9fdb17a30a96",
   "metadata": {},
   "source": [
    "# ip = [1, 2, 3, 4, 5, 6, 7, 8, 9, 10, 12, 1, 1,, 1, 1, 9, 9, 8, 7, 16, 12, 12,8, 10]\n",
    "# remove the duplicate elements fro the above list\n",
    "\n",
    "op = [1, 2, 3, 4, 5, 6, 7, 8, 9, 10, 12, 16]\n",
    "\n",
    "hint: use membership operators\n",
    "\n",
    "1. take one empty list\n",
    "2. loop each element in the ip list, push into the op list if the element is not exist in the ip list."
   ]
  },
  {
   "cell_type": "raw",
   "id": "16e06b16-80f5-45d4-8a05-e27b335e9be9",
   "metadata": {},
   "source": [
    "# max\n",
    "# min\n",
    "# range\n",
    "# len \n",
    "# list"
   ]
  },
  {
   "cell_type": "code",
   "execution_count": 2,
   "id": "8eddca7f-6c83-4042-b814-9b9af552b00f",
   "metadata": {},
   "outputs": [
    {
     "data": {
      "text/plain": [
       "[1, 16, 31, 46, 61, 76, 91]"
      ]
     },
     "execution_count": 2,
     "metadata": {},
     "output_type": "execute_result"
    }
   ],
   "source": [
    "l1 = list(range(1, 100, 15))\n",
    "l1"
   ]
  },
  {
   "cell_type": "code",
   "execution_count": 3,
   "id": "f40f642a-78b2-48e9-914c-f0a6c6f66e92",
   "metadata": {},
   "outputs": [
    {
     "data": {
      "text/plain": [
       "91"
      ]
     },
     "execution_count": 3,
     "metadata": {},
     "output_type": "execute_result"
    }
   ],
   "source": [
    "max(l1)"
   ]
  },
  {
   "cell_type": "code",
   "execution_count": 4,
   "id": "e98433f7-4f3c-45f2-9879-8b9f67e0df8d",
   "metadata": {},
   "outputs": [
    {
     "data": {
      "text/plain": [
       "1"
      ]
     },
     "execution_count": 4,
     "metadata": {},
     "output_type": "execute_result"
    }
   ],
   "source": [
    "min(l1)"
   ]
  },
  {
   "cell_type": "code",
   "execution_count": 5,
   "id": "c9e28fc1-607d-4a01-8fb4-2e8cfdf1483e",
   "metadata": {},
   "outputs": [
    {
     "ename": "AttributeError",
     "evalue": "'list' object has no attribute 'max'",
     "output_type": "error",
     "traceback": [
      "\u001b[1;31m---------------------------------------------------------------------------\u001b[0m",
      "\u001b[1;31mAttributeError\u001b[0m                            Traceback (most recent call last)",
      "Cell \u001b[1;32mIn[5], line 4\u001b[0m\n\u001b[0;32m      1\u001b[0m l1\u001b[38;5;241m.\u001b[39mappend(\u001b[38;5;241m100\u001b[39m)\n\u001b[1;32m----> 4\u001b[0m \u001b[43ml1\u001b[49m\u001b[38;5;241;43m.\u001b[39;49m\u001b[43mmax\u001b[49m()\n",
      "\u001b[1;31mAttributeError\u001b[0m: 'list' object has no attribute 'max'"
     ]
    }
   ],
   "source": [
    "l1.append(100)\n",
    "\n",
    "\n",
    "l1.max()"
   ]
  },
  {
   "cell_type": "code",
   "execution_count": 6,
   "id": "3cf799ed-b65a-44db-a8c0-80d83dc68468",
   "metadata": {},
   "outputs": [
    {
     "data": {
      "text/plain": [
       "[1, 16, 31, 46, 61, 76, 91, 100]"
      ]
     },
     "execution_count": 6,
     "metadata": {},
     "output_type": "execute_result"
    }
   ],
   "source": [
    "l1"
   ]
  },
  {
   "cell_type": "code",
   "execution_count": 9,
   "id": "ee60f9f6-3b62-4e92-94de-8cddf338fab6",
   "metadata": {},
   "outputs": [],
   "source": [
    "l2 = [1, 2, 3, 4, 5, 6]\n",
    "square_l2 = []\n",
    "for item in l2:\n",
    "    \n",
    "    mul_val = item * item\n",
    "    square_l2.append(mul_val)"
   ]
  },
  {
   "cell_type": "code",
   "execution_count": 10,
   "id": "2e90470c-19f4-46ac-bff0-692425e4f37e",
   "metadata": {},
   "outputs": [
    {
     "data": {
      "text/plain": [
       "[1, 4, 9, 16, 25, 36]"
      ]
     },
     "execution_count": 10,
     "metadata": {},
     "output_type": "execute_result"
    }
   ],
   "source": [
    "square_l2"
   ]
  },
  {
   "cell_type": "markdown",
   "id": "61f747a9-b96c-4f06-82e4-224ee09bbc83",
   "metadata": {},
   "source": [
    "### list comprehension"
   ]
  },
  {
   "cell_type": "code",
   "execution_count": 25,
   "id": "3f8b157e-8a88-44a9-bcca-a3cd5f020548",
   "metadata": {},
   "outputs": [
    {
     "data": {
      "text/plain": [
       "[1, 2, 3, 4, 5, 6]"
      ]
     },
     "execution_count": 25,
     "metadata": {},
     "output_type": "execute_result"
    }
   ],
   "source": [
    "li3 = [item for item in l2]\n",
    "li3"
   ]
  },
  {
   "cell_type": "code",
   "execution_count": 28,
   "id": "cd6fc696-a12c-4fab-b43d-9637cdf53515",
   "metadata": {},
   "outputs": [
    {
     "data": {
      "text/plain": [
       "[1, 4, 9, 16, 25, 36]"
      ]
     },
     "execution_count": 28,
     "metadata": {},
     "output_type": "execute_result"
    }
   ],
   "source": [
    "li3_square = [item*item for item in l2]\n",
    "li3_square"
   ]
  },
  {
   "cell_type": "code",
   "execution_count": 29,
   "id": "c637823a-cfca-4988-ba7e-0fcb6213e88d",
   "metadata": {},
   "outputs": [
    {
     "data": {
      "text/plain": [
       "[1, 8, 27, 64, 125, 216]"
      ]
     },
     "execution_count": 29,
     "metadata": {},
     "output_type": "execute_result"
    }
   ],
   "source": [
    "li3_cube = [item**3 for item in l2]\n",
    "li3_cube"
   ]
  },
  {
   "cell_type": "code",
   "execution_count": 31,
   "id": "204e0f72-64f9-4fca-ab3c-a96493cb1ade",
   "metadata": {},
   "outputs": [
    {
     "data": {
      "text/plain": [
       "[8, 64, 216]"
      ]
     },
     "execution_count": 31,
     "metadata": {},
     "output_type": "execute_result"
    }
   ],
   "source": [
    "li3_cube_even = [item**3 for item in l2 if item % 2 == 0]\n",
    "li3_cube_even"
   ]
  },
  {
   "cell_type": "markdown",
   "id": "9dfcc16b-dc29-47dc-835e-06c5c44fef7f",
   "metadata": {},
   "source": [
    "## Tuple\n",
    "\n",
    "* tuple can be defined as a collection of both homegeneous and heterogenous data types(Supports all data types in a single tuple).\n",
    "  1. Homogeneous data is defined as a same kind of data(same data type)\n",
    "  2. Heterogeneous data is defined as different kinds of data(multiple data types)\n",
    "* tuples are enclosed with paranthesis...,    (   )\n",
    "* tuple method is used to convert any kind of data into tuple\n",
    "* tuple can support both negative and positive indexing\n",
    "* tuple starts with 0 index, ends with -1 index\n",
    "* tuples are immutable(data in tuple cannot be changed or new data can't be added like list)\n",
    "* tuples are allowed dupicate elements\n",
    "* Tuple maintains insertion order"
   ]
  },
  {
   "cell_type": "code",
   "execution_count": 35,
   "id": "88fb31f5-a52a-413c-beeb-d81bb3f55fe1",
   "metadata": {},
   "outputs": [],
   "source": [
    "t1 = (1, 2, 3, 4, 5, 6)"
   ]
  },
  {
   "cell_type": "code",
   "execution_count": 36,
   "id": "c065f713-2fd9-4836-9d00-1ca8f1071d36",
   "metadata": {},
   "outputs": [
    {
     "data": {
      "text/plain": [
       "tuple"
      ]
     },
     "execution_count": 36,
     "metadata": {},
     "output_type": "execute_result"
    }
   ],
   "source": [
    "type(t1)"
   ]
  },
  {
   "cell_type": "code",
   "execution_count": 38,
   "id": "3a73e970-cc28-4e8c-85b7-cb1adb43b60c",
   "metadata": {},
   "outputs": [
    {
     "name": "stdout",
     "output_type": "stream",
     "text": [
      "<class 'tuple'>\n"
     ]
    }
   ],
   "source": [
    "print(type(t1))"
   ]
  },
  {
   "cell_type": "code",
   "execution_count": 42,
   "id": "03ac0d84-57cb-4282-b7e6-ff960593cc23",
   "metadata": {},
   "outputs": [],
   "source": [
    "t2 = (1, 2, \"Hello\", \"Hi\", True, 1+2j, 10.33)"
   ]
  },
  {
   "cell_type": "code",
   "execution_count": 43,
   "id": "64b1d8e0-6164-4c66-be7a-ff1aeae21391",
   "metadata": {},
   "outputs": [
    {
     "data": {
      "text/plain": [
       "(1, 2, 'Hello', 'Hi', True, (1+2j), 10.33)"
      ]
     },
     "execution_count": 43,
     "metadata": {},
     "output_type": "execute_result"
    }
   ],
   "source": [
    "t2"
   ]
  },
  {
   "cell_type": "code",
   "execution_count": 44,
   "id": "b16c3a75-3176-40a7-85d5-cdbc84717bf2",
   "metadata": {},
   "outputs": [
    {
     "data": {
      "text/plain": [
       "1"
      ]
     },
     "execution_count": 44,
     "metadata": {},
     "output_type": "execute_result"
    }
   ],
   "source": [
    "t2[0]"
   ]
  },
  {
   "cell_type": "code",
   "execution_count": 45,
   "id": "3ea430df-0397-4a81-92f4-2df4a485a5b8",
   "metadata": {},
   "outputs": [
    {
     "data": {
      "text/plain": [
       "10.33"
      ]
     },
     "execution_count": 45,
     "metadata": {},
     "output_type": "execute_result"
    }
   ],
   "source": [
    "t2[-1]"
   ]
  },
  {
   "cell_type": "code",
   "execution_count": 46,
   "id": "2348c2b9-335e-46ce-86e8-358b8265483a",
   "metadata": {},
   "outputs": [
    {
     "data": {
      "text/plain": [
       "float"
      ]
     },
     "execution_count": 46,
     "metadata": {},
     "output_type": "execute_result"
    }
   ],
   "source": [
    "type(t2[-1])"
   ]
  },
  {
   "cell_type": "code",
   "execution_count": 47,
   "id": "fa5f0e2e-7ae1-4a11-bd60-b9bd09db15b7",
   "metadata": {},
   "outputs": [
    {
     "data": {
      "text/plain": [
       "(1, 2, 'Hello', 'Hi', True)"
      ]
     },
     "execution_count": 47,
     "metadata": {},
     "output_type": "execute_result"
    }
   ],
   "source": [
    "t2[:5]"
   ]
  },
  {
   "cell_type": "code",
   "execution_count": 48,
   "id": "cc0762c7-e64f-4b7c-85d0-f0e8a4c0df63",
   "metadata": {},
   "outputs": [
    {
     "data": {
      "text/plain": [
       "(True, (1+2j))"
      ]
     },
     "execution_count": 48,
     "metadata": {},
     "output_type": "execute_result"
    }
   ],
   "source": [
    "t2[4:6]"
   ]
  },
  {
   "cell_type": "code",
   "execution_count": 49,
   "id": "29a81fe7-ec8c-4df6-9900-ae1454c9818e",
   "metadata": {},
   "outputs": [
    {
     "data": {
      "text/plain": [
       "(2, 'Hi', (1+2j))"
      ]
     },
     "execution_count": 49,
     "metadata": {},
     "output_type": "execute_result"
    }
   ],
   "source": [
    "t2[1:6:2]"
   ]
  },
  {
   "cell_type": "code",
   "execution_count": 51,
   "id": "60ad9a21-2d53-4f3e-b965-39f659345eaf",
   "metadata": {},
   "outputs": [
    {
     "data": {
      "text/plain": [
       "[1, 2, 3, 4, 5, 6, 7, 8, 9, 10]"
      ]
     },
     "execution_count": 51,
     "metadata": {},
     "output_type": "execute_result"
    }
   ],
   "source": [
    "li = list(range(1, 11))\n",
    "li"
   ]
  },
  {
   "cell_type": "code",
   "execution_count": 58,
   "id": "bb05e44d-31bd-4390-8fc6-e7c63646215b",
   "metadata": {},
   "outputs": [
    {
     "data": {
      "text/plain": [
       "(1, 2, 3, 4, 5, 6, 7, 8, 9, 10)"
      ]
     },
     "execution_count": 58,
     "metadata": {},
     "output_type": "execute_result"
    }
   ],
   "source": [
    "tuple(li)   # tuple is used to convert an object into a tuple  --> converitng list into tuple"
   ]
  },
  {
   "cell_type": "code",
   "execution_count": 59,
   "id": "3fcdaa7c-7055-4579-b9ab-000cfba4ecba",
   "metadata": {},
   "outputs": [
    {
     "data": {
      "text/plain": [
       "(1,)"
      ]
     },
     "execution_count": 59,
     "metadata": {},
     "output_type": "execute_result"
    }
   ],
   "source": [
    "tuple((1, ))"
   ]
  },
  {
   "cell_type": "code",
   "execution_count": 60,
   "id": "57e9fc75-f48c-4bb9-9fb9-feb3518131c6",
   "metadata": {},
   "outputs": [
    {
     "data": {
      "text/plain": [
       "(1, 2, 'Hello', 'Hi', True, (1+2j), 10.33)"
      ]
     },
     "execution_count": 60,
     "metadata": {},
     "output_type": "execute_result"
    }
   ],
   "source": [
    "t2"
   ]
  },
  {
   "cell_type": "code",
   "execution_count": 61,
   "id": "78dcefcb-ae3e-4d3f-9849-985e61c78ed7",
   "metadata": {},
   "outputs": [
    {
     "ename": "TypeError",
     "evalue": "'tuple' object does not support item assignment",
     "output_type": "error",
     "traceback": [
      "\u001b[1;31m---------------------------------------------------------------------------\u001b[0m",
      "\u001b[1;31mTypeError\u001b[0m                                 Traceback (most recent call last)",
      "Cell \u001b[1;32mIn[61], line 1\u001b[0m\n\u001b[1;32m----> 1\u001b[0m \u001b[43mt2\u001b[49m\u001b[43m[\u001b[49m\u001b[38;5;241;43m1\u001b[39;49m\u001b[43m]\u001b[49m \u001b[38;5;241m=\u001b[39m \u001b[38;5;124m\"\u001b[39m\u001b[38;5;124mHey change 2\u001b[39m\u001b[38;5;124m\"\u001b[39m\n",
      "\u001b[1;31mTypeError\u001b[0m: 'tuple' object does not support item assignment"
     ]
    }
   ],
   "source": [
    "t2[1] = \"Hey change 2\"    # we can't update the tuple"
   ]
  },
  {
   "cell_type": "code",
   "execution_count": 62,
   "id": "2dde0208-8744-4b0f-9a0c-8f045d9a5678",
   "metadata": {},
   "outputs": [],
   "source": [
    "t3 = (1, 2, 'Hello', 'Hi', True, (1+2j), 10.33, 2)"
   ]
  },
  {
   "cell_type": "code",
   "execution_count": 63,
   "id": "63bda76c-f0aa-42fb-b506-67f592421b0a",
   "metadata": {},
   "outputs": [
    {
     "data": {
      "text/plain": [
       "(1, 2, 'Hello', 'Hi', True, (1+2j), 10.33, 2)"
      ]
     },
     "execution_count": 63,
     "metadata": {},
     "output_type": "execute_result"
    }
   ],
   "source": [
    "t3"
   ]
  },
  {
   "cell_type": "code",
   "execution_count": 64,
   "id": "d2a73be4-810b-4fcf-8aca-5338ed433541",
   "metadata": {},
   "outputs": [
    {
     "data": {
      "text/plain": [
       "(1, 2, 'Hello', 'Hi', True, (1+2j), 10.33)"
      ]
     },
     "execution_count": 64,
     "metadata": {},
     "output_type": "execute_result"
    }
   ],
   "source": [
    "t2"
   ]
  },
  {
   "cell_type": "code",
   "execution_count": 67,
   "id": "f4b0a2fa-dd55-4439-980f-1623c1c15415",
   "metadata": {},
   "outputs": [],
   "source": [
    "list(t2)[1] = \"Hey change 2\""
   ]
  },
  {
   "cell_type": "code",
   "execution_count": 70,
   "id": "58108fdd-66a5-4603-a611-82c9fbd6ce7c",
   "metadata": {},
   "outputs": [
    {
     "data": {
      "text/plain": [
       "[1, 2, 'Hello', 'Hi', True, (1+2j), 10.33]"
      ]
     },
     "execution_count": 70,
     "metadata": {},
     "output_type": "execute_result"
    }
   ],
   "source": [
    "t2_list = list(t2)\n",
    "t2_list"
   ]
  },
  {
   "cell_type": "code",
   "execution_count": 71,
   "id": "da414f22-069e-4348-8008-b898f8b1c3e8",
   "metadata": {},
   "outputs": [],
   "source": [
    "t2_list[1] = \"Hey change 2\""
   ]
  },
  {
   "cell_type": "code",
   "execution_count": 72,
   "id": "40e84a28-3ab8-4d3d-ace3-a4432a4ca6db",
   "metadata": {},
   "outputs": [
    {
     "data": {
      "text/plain": [
       "[1, 'Hey change 2', 'Hello', 'Hi', True, (1+2j), 10.33]"
      ]
     },
     "execution_count": 72,
     "metadata": {},
     "output_type": "execute_result"
    }
   ],
   "source": [
    "t2_list"
   ]
  },
  {
   "cell_type": "code",
   "execution_count": 74,
   "id": "e73b067c-6fa0-416f-8b9b-852cbd91134c",
   "metadata": {},
   "outputs": [],
   "source": [
    "t2 = tuple(t2_list)"
   ]
  },
  {
   "cell_type": "code",
   "execution_count": 75,
   "id": "7bbcaadb-0c0d-4981-a7cb-da5b4013da7f",
   "metadata": {},
   "outputs": [
    {
     "data": {
      "text/plain": [
       "(1, 'Hey change 2', 'Hello', 'Hi', True, (1+2j), 10.33)"
      ]
     },
     "execution_count": 75,
     "metadata": {},
     "output_type": "execute_result"
    }
   ],
   "source": [
    "t2"
   ]
  },
  {
   "cell_type": "code",
   "execution_count": 78,
   "id": "9114b407-0ce2-4b8c-b74c-b7d2bbf492a2",
   "metadata": {},
   "outputs": [
    {
     "ename": "AttributeError",
     "evalue": "'tuple' object has no attribute 'append'",
     "output_type": "error",
     "traceback": [
      "\u001b[1;31m---------------------------------------------------------------------------\u001b[0m",
      "\u001b[1;31mAttributeError\u001b[0m                            Traceback (most recent call last)",
      "Cell \u001b[1;32mIn[78], line 2\u001b[0m\n\u001b[0;32m      1\u001b[0m last_value \u001b[38;5;241m=\u001b[39m \u001b[38;5;124m\"\u001b[39m\u001b[38;5;124mHey this the end of the tuple\u001b[39m\u001b[38;5;124m\"\u001b[39m\n\u001b[1;32m----> 2\u001b[0m \u001b[43mt2\u001b[49m\u001b[38;5;241;43m.\u001b[39;49m\u001b[43mappend\u001b[49m(last_value)       \u001b[38;5;66;03m# In tuple append method won't work\u001b[39;00m\n",
      "\u001b[1;31mAttributeError\u001b[0m: 'tuple' object has no attribute 'append'"
     ]
    }
   ],
   "source": [
    "last_value = \"Hey this the end of the tuple\"\n",
    "t2.append(last_value)       # In tuple append method won't work"
   ]
  },
  {
   "cell_type": "code",
   "execution_count": 82,
   "id": "053e906e-6bf5-4088-a119-d91fdb2f2235",
   "metadata": {},
   "outputs": [
    {
     "data": {
      "text/plain": [
       "2"
      ]
     },
     "execution_count": 82,
     "metadata": {},
     "output_type": "execute_result"
    }
   ],
   "source": [
    "t2.count(1)"
   ]
  },
  {
   "cell_type": "code",
   "execution_count": 83,
   "id": "f32e67d5-a743-42f3-befb-b1455fb800ab",
   "metadata": {},
   "outputs": [
    {
     "data": {
      "text/plain": [
       "1"
      ]
     },
     "execution_count": 83,
     "metadata": {},
     "output_type": "execute_result"
    }
   ],
   "source": [
    "(True, ).count(1)"
   ]
  },
  {
   "cell_type": "code",
   "execution_count": 84,
   "id": "158e1858-f306-4dd9-8547-ef0e2df2c47b",
   "metadata": {},
   "outputs": [
    {
     "data": {
      "text/plain": [
       "(1, 'Hey change 2', 'Hello', 'Hi', True, (1+2j), 10.33)"
      ]
     },
     "execution_count": 84,
     "metadata": {},
     "output_type": "execute_result"
    }
   ],
   "source": [
    "t2"
   ]
  },
  {
   "cell_type": "code",
   "execution_count": 85,
   "id": "af2335b4-01fd-4407-847a-783fd3680304",
   "metadata": {},
   "outputs": [
    {
     "data": {
      "text/plain": [
       "2"
      ]
     },
     "execution_count": 85,
     "metadata": {},
     "output_type": "execute_result"
    }
   ],
   "source": [
    "t2.index(\"Hello\")"
   ]
  },
  {
   "cell_type": "code",
   "execution_count": 88,
   "id": "9bef31ec-f406-49ea-a6ad-8b072f853198",
   "metadata": {},
   "outputs": [
    {
     "data": {
      "text/plain": [
       "(10, 20, 30)"
      ]
     },
     "execution_count": 88,
     "metadata": {},
     "output_type": "execute_result"
    }
   ],
   "source": [
    "a = 10\n",
    "b = 20\n",
    "c = 30\n",
    "\n",
    "\n",
    "a, b, c  # tuple packing"
   ]
  },
  {
   "cell_type": "code",
   "execution_count": 97,
   "id": "227aef66-5477-44e8-b41b-7abf133eb44a",
   "metadata": {},
   "outputs": [],
   "source": [
    "(c, d, e) = (100, 200, 300)  # unpacking"
   ]
  },
  {
   "cell_type": "code",
   "execution_count": 98,
   "id": "cff2265d-2db2-4294-b7f4-f8169b7963c0",
   "metadata": {},
   "outputs": [
    {
     "data": {
      "text/plain": [
       "100"
      ]
     },
     "execution_count": 98,
     "metadata": {},
     "output_type": "execute_result"
    }
   ],
   "source": [
    "c"
   ]
  },
  {
   "cell_type": "code",
   "execution_count": 99,
   "id": "e4b0e988-a39e-4848-ae72-0518cd15b858",
   "metadata": {},
   "outputs": [
    {
     "data": {
      "text/plain": [
       "200"
      ]
     },
     "execution_count": 99,
     "metadata": {},
     "output_type": "execute_result"
    }
   ],
   "source": [
    "d"
   ]
  },
  {
   "cell_type": "code",
   "execution_count": 100,
   "id": "70ee4e74-37ca-4263-abae-39336685beab",
   "metadata": {},
   "outputs": [
    {
     "data": {
      "text/plain": [
       "300"
      ]
     },
     "execution_count": 100,
     "metadata": {},
     "output_type": "execute_result"
    }
   ],
   "source": [
    "e"
   ]
  },
  {
   "cell_type": "code",
   "execution_count": 101,
   "id": "5ad146a0-b0da-49df-bbc1-d64fba12efdd",
   "metadata": {},
   "outputs": [
    {
     "data": {
      "text/plain": [
       "(1, 'Hey change 2', 'Hello', 'Hi', True, (1+2j), 10.33)"
      ]
     },
     "execution_count": 101,
     "metadata": {},
     "output_type": "execute_result"
    }
   ],
   "source": [
    "t2"
   ]
  },
  {
   "cell_type": "markdown",
   "id": "22aeb38e-2f00-4ebb-889e-4163933a149a",
   "metadata": {},
   "source": [
    "### Looping or traversing a tuple"
   ]
  },
  {
   "cell_type": "code",
   "execution_count": 106,
   "id": "d1ef2b5f-d30d-4f26-a6c4-494f081e8d7b",
   "metadata": {},
   "outputs": [
    {
     "name": "stdout",
     "output_type": "stream",
     "text": [
      "1\n",
      "Hey change 2\n",
      "Hello\n",
      "Hi\n",
      "True\n",
      "(1+2j)\n",
      "10.33\n"
     ]
    }
   ],
   "source": [
    "for item in t2:\n",
    "    print(item)"
   ]
  },
  {
   "cell_type": "markdown",
   "id": "01ddce0b-9f64-48cd-9a8c-208ee11f6ee5",
   "metadata": {},
   "source": [
    "### joining a tupele"
   ]
  },
  {
   "cell_type": "code",
   "execution_count": 109,
   "id": "e22c0b60-8355-46c7-8cdd-6d6b2a4d915f",
   "metadata": {},
   "outputs": [],
   "source": [
    "t3 = t2 + t1"
   ]
  },
  {
   "cell_type": "code",
   "execution_count": 110,
   "id": "04b8dacb-79e1-476e-b6f1-230374407192",
   "metadata": {},
   "outputs": [
    {
     "data": {
      "text/plain": [
       "(1, 'Hey change 2', 'Hello', 'Hi', True, (1+2j), 10.33, 1, 2, 3, 4, 5, 6)"
      ]
     },
     "execution_count": 110,
     "metadata": {},
     "output_type": "execute_result"
    }
   ],
   "source": [
    "t3"
   ]
  },
  {
   "cell_type": "code",
   "execution_count": 111,
   "id": "6f944e5e-bcc8-4ff3-8092-894219296ac9",
   "metadata": {},
   "outputs": [],
   "source": [
    "t4 = t3 * 3"
   ]
  },
  {
   "cell_type": "code",
   "execution_count": 113,
   "id": "b7ce1daf-d526-4ad7-b9a3-4ba7891b6483",
   "metadata": {},
   "outputs": [
    {
     "name": "stdout",
     "output_type": "stream",
     "text": [
      "(1, 'Hey change 2', 'Hello', 'Hi', True, (1+2j), 10.33, 1, 2, 3, 4, 5, 6, 1, 'Hey change 2', 'Hello', 'Hi', True, (1+2j), 10.33, 1, 2, 3, 4, 5, 6, 1, 'Hey change 2', 'Hello', 'Hi', True, (1+2j), 10.33, 1, 2, 3, 4, 5, 6)\n"
     ]
    }
   ],
   "source": [
    "print(t4)"
   ]
  },
  {
   "cell_type": "markdown",
   "id": "f3098a05-9c07-4b4f-bf29-17edfc8efeae",
   "metadata": {},
   "source": [
    "## Sets\n",
    "\n",
    "* set can be defined as a collection of both homegeneous and heterogenous data types(Supports all data types in a single set).\n",
    "  1. Homogeneous data is defined as a same kind of data(same data type)\n",
    "  2. Heterogeneous data is defined as different kinds of data(multiple data types)\n",
    "* sets are enclosed with paranthesis...,    {     }\n",
    "* set method is used to convert any kind of data into set\n",
    "* set cannot support indexing & slicing\n",
    "* sets are immutable(data in tuple cannot be changed or new data can't be added like list)\n",
    "* sets are not allowed dupicate elements"
   ]
  },
  {
   "cell_type": "code",
   "execution_count": 2,
   "id": "bafef892-776d-4e71-82ed-e4d2b4787edd",
   "metadata": {},
   "outputs": [],
   "source": [
    "s1 = {1, 2, 3, 4, 1, 2, 3, 4}   # duplicates are not allowed"
   ]
  },
  {
   "cell_type": "code",
   "execution_count": 3,
   "id": "3058f7d1-3700-4180-846d-ac1b3ceba2c1",
   "metadata": {},
   "outputs": [
    {
     "data": {
      "text/plain": [
       "{1, 2, 3, 4}"
      ]
     },
     "execution_count": 3,
     "metadata": {},
     "output_type": "execute_result"
    }
   ],
   "source": [
    "s1"
   ]
  },
  {
   "cell_type": "code",
   "execution_count": 4,
   "id": "f04b0802-ea39-4f80-a578-fafef9df3182",
   "metadata": {},
   "outputs": [],
   "source": [
    "li = list(range(1, 11))"
   ]
  },
  {
   "cell_type": "code",
   "execution_count": 5,
   "id": "b443906f-8a3f-4cbc-b380-d718c90dedcd",
   "metadata": {},
   "outputs": [
    {
     "data": {
      "text/plain": [
       "[1, 2, 3, 4, 5, 6, 7, 8, 9, 10]"
      ]
     },
     "execution_count": 5,
     "metadata": {},
     "output_type": "execute_result"
    }
   ],
   "source": [
    "li"
   ]
  },
  {
   "cell_type": "code",
   "execution_count": 6,
   "id": "4f6c6403-f2c3-43ee-b2d5-d7665498b67c",
   "metadata": {},
   "outputs": [
    {
     "data": {
      "text/plain": [
       "{1, 2, 3, 4, 5, 6, 7, 8, 9, 10}"
      ]
     },
     "execution_count": 6,
     "metadata": {},
     "output_type": "execute_result"
    }
   ],
   "source": [
    "set(li)"
   ]
  },
  {
   "cell_type": "code",
   "execution_count": 7,
   "id": "293b9f1d-136b-4605-b8d8-84b1902fe983",
   "metadata": {},
   "outputs": [
    {
     "data": {
      "text/plain": [
       "{1, 2, 3, 4}"
      ]
     },
     "execution_count": 7,
     "metadata": {},
     "output_type": "execute_result"
    }
   ],
   "source": [
    "s1"
   ]
  },
  {
   "cell_type": "code",
   "execution_count": 8,
   "id": "d6a0c5d5-8789-46eb-8588-a77a5653a7c8",
   "metadata": {},
   "outputs": [
    {
     "ename": "TypeError",
     "evalue": "'set' object is not subscriptable",
     "output_type": "error",
     "traceback": [
      "\u001b[1;31m---------------------------------------------------------------------------\u001b[0m",
      "\u001b[1;31mTypeError\u001b[0m                                 Traceback (most recent call last)",
      "Cell \u001b[1;32mIn[8], line 1\u001b[0m\n\u001b[1;32m----> 1\u001b[0m \u001b[43ms1\u001b[49m\u001b[43m[\u001b[49m\u001b[38;5;241;43m0\u001b[39;49m\u001b[43m]\u001b[49m  \u001b[38;5;66;03m# indexing not allowed\u001b[39;00m\n",
      "\u001b[1;31mTypeError\u001b[0m: 'set' object is not subscriptable"
     ]
    }
   ],
   "source": [
    "s1[0]  # indexing not allowed"
   ]
  },
  {
   "cell_type": "code",
   "execution_count": null,
   "id": "d270888a-72fb-4605-aa66-c6f213bd7deb",
   "metadata": {},
   "outputs": [],
   "source": [
    "s1[0] = 100  # we can't update values in set due to its insertion order maintanance"
   ]
  },
  {
   "cell_type": "code",
   "execution_count": null,
   "id": "547a3491-5c85-476f-b80e-9ae1b22bb297",
   "metadata": {},
   "outputs": [],
   "source": [
    "s1"
   ]
  },
  {
   "cell_type": "code",
   "execution_count": null,
   "id": "2791b3b1-abb7-49fe-82a5-a482d2240499",
   "metadata": {},
   "outputs": [],
   "source": [
    "s1.add(100)"
   ]
  },
  {
   "cell_type": "code",
   "execution_count": 135,
   "id": "81308342-f895-484f-9922-c3a85e93e0e4",
   "metadata": {},
   "outputs": [
    {
     "data": {
      "text/plain": [
       "{1, 2, 3, 4, 100}"
      ]
     },
     "execution_count": 135,
     "metadata": {},
     "output_type": "execute_result"
    }
   ],
   "source": [
    "s1"
   ]
  },
  {
   "cell_type": "code",
   "execution_count": 136,
   "id": "456b8f35-d6c3-4d24-8b09-9af108a391f0",
   "metadata": {},
   "outputs": [
    {
     "ename": "TypeError",
     "evalue": "set.add() takes exactly one argument (2 given)",
     "output_type": "error",
     "traceback": [
      "\u001b[1;31m---------------------------------------------------------------------------\u001b[0m",
      "\u001b[1;31mTypeError\u001b[0m                                 Traceback (most recent call last)",
      "Cell \u001b[1;32mIn[136], line 1\u001b[0m\n\u001b[1;32m----> 1\u001b[0m \u001b[43ms1\u001b[49m\u001b[38;5;241;43m.\u001b[39;49m\u001b[43madd\u001b[49m\u001b[43m(\u001b[49m\u001b[38;5;241;43m200\u001b[39;49m\u001b[43m,\u001b[49m\u001b[43m \u001b[49m\u001b[38;5;241;43m300\u001b[39;49m\u001b[43m)\u001b[49m\n",
      "\u001b[1;31mTypeError\u001b[0m: set.add() takes exactly one argument (2 given)"
     ]
    }
   ],
   "source": [
    "s1.add(200, 300)"
   ]
  },
  {
   "cell_type": "code",
   "execution_count": 138,
   "id": "91aeb695-ce4f-4a10-8e1b-63d03969ac54",
   "metadata": {},
   "outputs": [],
   "source": [
    "s1.update([200, 300])"
   ]
  },
  {
   "cell_type": "code",
   "execution_count": 139,
   "id": "c0f4cd62-82cd-4c81-801d-9aeca643bdf6",
   "metadata": {},
   "outputs": [
    {
     "data": {
      "text/plain": [
       "{1, 2, 3, 4, 100, 200, 300}"
      ]
     },
     "execution_count": 139,
     "metadata": {},
     "output_type": "execute_result"
    }
   ],
   "source": [
    "s1"
   ]
  },
  {
   "cell_type": "code",
   "execution_count": 140,
   "id": "7eb14c47-28e6-4c10-a04c-b749c3367c6a",
   "metadata": {},
   "outputs": [],
   "source": [
    "s1.update((400, 500))"
   ]
  },
  {
   "cell_type": "code",
   "execution_count": 141,
   "id": "fbc52663-2909-4f14-8dad-004ff7662019",
   "metadata": {},
   "outputs": [
    {
     "data": {
      "text/plain": [
       "{1, 2, 3, 4, 100, 200, 300, 400, 500}"
      ]
     },
     "execution_count": 141,
     "metadata": {},
     "output_type": "execute_result"
    }
   ],
   "source": [
    "s1"
   ]
  },
  {
   "cell_type": "code",
   "execution_count": 142,
   "id": "7e562409-9351-4477-845f-507afe246ffe",
   "metadata": {},
   "outputs": [],
   "source": [
    "s1.update({600, 700})"
   ]
  },
  {
   "cell_type": "code",
   "execution_count": 143,
   "id": "a13f9a12-48e6-45a7-99cc-b30b924a3f93",
   "metadata": {},
   "outputs": [
    {
     "data": {
      "text/plain": [
       "{1, 2, 3, 4, 100, 200, 300, 400, 500, 600, 700}"
      ]
     },
     "execution_count": 143,
     "metadata": {},
     "output_type": "execute_result"
    }
   ],
   "source": [
    "s1"
   ]
  },
  {
   "cell_type": "code",
   "execution_count": 144,
   "id": "8b655a41-59c3-493f-9a41-35aeb136c5eb",
   "metadata": {},
   "outputs": [],
   "source": [
    "s1.remove(600)"
   ]
  },
  {
   "cell_type": "code",
   "execution_count": 145,
   "id": "63deba45-814f-4e0e-bcca-d5a3d3de8aab",
   "metadata": {},
   "outputs": [
    {
     "data": {
      "text/plain": [
       "{1, 2, 3, 4, 100, 200, 300, 400, 500, 700}"
      ]
     },
     "execution_count": 145,
     "metadata": {},
     "output_type": "execute_result"
    }
   ],
   "source": [
    "s1"
   ]
  },
  {
   "cell_type": "code",
   "execution_count": 146,
   "id": "cc18657b-0bcf-4ed2-b0d4-39939ea782ad",
   "metadata": {},
   "outputs": [],
   "source": [
    "s1.clear()"
   ]
  },
  {
   "cell_type": "code",
   "execution_count": 147,
   "id": "94e27fba-5d59-4a96-9427-a0525a3b8a4d",
   "metadata": {},
   "outputs": [
    {
     "data": {
      "text/plain": [
       "set()"
      ]
     },
     "execution_count": 147,
     "metadata": {},
     "output_type": "execute_result"
    }
   ],
   "source": [
    "s1"
   ]
  },
  {
   "cell_type": "code",
   "execution_count": 13,
   "id": "535668a3-1b91-407a-9755-d97f6c0194ba",
   "metadata": {},
   "outputs": [
    {
     "data": {
      "text/plain": [
       "3"
      ]
     },
     "execution_count": 13,
     "metadata": {},
     "output_type": "execute_result"
    }
   ],
   "source": [
    "s1.pop()  # pop removes the random element from the set"
   ]
  },
  {
   "cell_type": "code",
   "execution_count": 11,
   "id": "b06d697f-6df8-456c-b99a-3801c8cd0a26",
   "metadata": {},
   "outputs": [
    {
     "data": {
      "text/plain": [
       "{2, 3, 4}"
      ]
     },
     "execution_count": 11,
     "metadata": {},
     "output_type": "execute_result"
    }
   ],
   "source": [
    "s1"
   ]
  },
  {
   "cell_type": "code",
   "execution_count": 12,
   "id": "9c187205-b137-45a1-8524-61b2ef8dd3f9",
   "metadata": {},
   "outputs": [
    {
     "data": {
      "text/plain": [
       "2"
      ]
     },
     "execution_count": 12,
     "metadata": {},
     "output_type": "execute_result"
    }
   ],
   "source": [
    "s1.pop()"
   ]
  },
  {
   "cell_type": "code",
   "execution_count": 15,
   "id": "a6b60226-30b6-4e24-80ac-544f9ed28032",
   "metadata": {},
   "outputs": [
    {
     "data": {
      "text/plain": [
       "{1, 2, 3, 'Blr', 'Chn', 'Hyd'}"
      ]
     },
     "execution_count": 15,
     "metadata": {},
     "output_type": "execute_result"
    }
   ],
   "source": [
    "s2 = {\"Hyd\", 1, \"Blr\", 2, \"Chn\", 3}\n",
    "s2"
   ]
  },
  {
   "cell_type": "code",
   "execution_count": 17,
   "id": "64b0c318-d5af-4c59-9e1a-4ed9da1badf1",
   "metadata": {},
   "outputs": [
    {
     "data": {
      "text/plain": [
       "{11, 12, 13, 'Guj', 'Klk', 'Mum'}"
      ]
     },
     "execution_count": 17,
     "metadata": {},
     "output_type": "execute_result"
    }
   ],
   "source": [
    "s3 = {\"Mum\", 11, \"Klk\", 12, \"Guj\", 13}\n",
    "s3"
   ]
  },
  {
   "cell_type": "code",
   "execution_count": 18,
   "id": "ef363202-e2a2-462d-8809-ad6fc9b9c601",
   "metadata": {},
   "outputs": [],
   "source": [
    "s4 = s3.copy()"
   ]
  },
  {
   "cell_type": "code",
   "execution_count": 20,
   "id": "d8b5eebf-a081-4d48-a61b-0af367c4afac",
   "metadata": {},
   "outputs": [],
   "source": [
    "s4.add(\"VJA\")"
   ]
  },
  {
   "cell_type": "code",
   "execution_count": 21,
   "id": "77f8b5fb-9b5d-4c82-8226-f4c198b55a37",
   "metadata": {},
   "outputs": [
    {
     "data": {
      "text/plain": [
       "{11, 12, 13, 'Guj', 'Klk', 'Mum', 'VJA'}"
      ]
     },
     "execution_count": 21,
     "metadata": {},
     "output_type": "execute_result"
    }
   ],
   "source": [
    "s4"
   ]
  },
  {
   "cell_type": "code",
   "execution_count": 23,
   "id": "4f59af16-1274-4e32-95c7-0a454fd7a977",
   "metadata": {},
   "outputs": [
    {
     "data": {
      "text/plain": [
       "{11, 12, 13, 'Guj', 'Klk', 'Mum'}"
      ]
     },
     "execution_count": 23,
     "metadata": {},
     "output_type": "execute_result"
    }
   ],
   "source": [
    "s3"
   ]
  },
  {
   "cell_type": "code",
   "execution_count": 24,
   "id": "ee53a0c2-c328-4312-a9e3-3136ed97413f",
   "metadata": {},
   "outputs": [
    {
     "data": {
      "text/plain": [
       "{1, 2, 3, 'Blr', 'Chn', 'Hyd'}"
      ]
     },
     "execution_count": 24,
     "metadata": {},
     "output_type": "execute_result"
    }
   ],
   "source": [
    "s2"
   ]
  },
  {
   "cell_type": "code",
   "execution_count": 26,
   "id": "6b2b5500-d9d7-40be-bd3e-594edd33a273",
   "metadata": {},
   "outputs": [
    {
     "data": {
      "text/plain": [
       "{1, 11, 12, 13, 2, 3, 'Blr', 'Chn', 'Guj', 'Hyd', 'Klk', 'Mum'}"
      ]
     },
     "execution_count": 26,
     "metadata": {},
     "output_type": "execute_result"
    }
   ],
   "source": [
    "s5 = s2.union(s3)      # Fetch all the unique elements from the both sets\n",
    "s5"
   ]
  },
  {
   "cell_type": "code",
   "execution_count": 27,
   "id": "5727a591-5c48-467e-98cc-56d21cf590e3",
   "metadata": {},
   "outputs": [
    {
     "data": {
      "text/plain": [
       "{11, 12, 13, 'Guj', 'Klk', 'Mum'}"
      ]
     },
     "execution_count": 27,
     "metadata": {},
     "output_type": "execute_result"
    }
   ],
   "source": [
    "s3"
   ]
  },
  {
   "cell_type": "code",
   "execution_count": 28,
   "id": "2e435862-d571-4c95-ac51-1c1a97af9f46",
   "metadata": {},
   "outputs": [
    {
     "data": {
      "text/plain": [
       "{1, 11, 12, 13, 2, 3, 'Blr', 'Chn', 'Guj', 'Hyd', 'Klk', 'Mum'}"
      ]
     },
     "execution_count": 28,
     "metadata": {},
     "output_type": "execute_result"
    }
   ],
   "source": [
    "s5"
   ]
  },
  {
   "cell_type": "code",
   "execution_count": 29,
   "id": "58618497-cdaf-44c2-9a11-a90c3aeeacc0",
   "metadata": {},
   "outputs": [
    {
     "data": {
      "text/plain": [
       "{11, 12, 13, 'Guj', 'Klk', 'Mum'}"
      ]
     },
     "execution_count": 29,
     "metadata": {},
     "output_type": "execute_result"
    }
   ],
   "source": [
    "s3.intersection(s5)      # Fetch all the unique elements if the element exist in both the sets"
   ]
  },
  {
   "cell_type": "code",
   "execution_count": 30,
   "id": "f3de7570-5d19-40b2-a27f-dd118e718a3a",
   "metadata": {},
   "outputs": [
    {
     "data": {
      "text/plain": [
       "{1, 2, 3, 'Blr', 'Chn', 'Hyd'}"
      ]
     },
     "execution_count": 30,
     "metadata": {},
     "output_type": "execute_result"
    }
   ],
   "source": [
    "s5.difference(s3)      # Returns a set containing the difference between two or more sets"
   ]
  },
  {
   "cell_type": "code",
   "execution_count": 41,
   "id": "09b2b67c-1eae-40f5-8b91-5fa27f23f1fd",
   "metadata": {},
   "outputs": [],
   "source": [
    "s6 = {\"HYD\", \"CHN\", \"BLR\"}\n",
    "s7 = {\"HYD\", \"CHN\"}\n",
    "s6.difference_update(s7)\n"
   ]
  },
  {
   "cell_type": "code",
   "execution_count": 42,
   "id": "32493682-4928-4246-9a39-f2d5cb2f849d",
   "metadata": {},
   "outputs": [
    {
     "data": {
      "text/plain": [
       "{'BLR'}"
      ]
     },
     "execution_count": 42,
     "metadata": {},
     "output_type": "execute_result"
    }
   ],
   "source": [
    "s6"
   ]
  },
  {
   "cell_type": "code",
   "execution_count": 40,
   "id": "8218f4b9-fb39-404c-8ad0-b0813c2d43f9",
   "metadata": {},
   "outputs": [
    {
     "data": {
      "text/plain": [
       "{'CHN', 'HYD'}"
      ]
     },
     "execution_count": 40,
     "metadata": {},
     "output_type": "execute_result"
    }
   ],
   "source": [
    "s7"
   ]
  },
  {
   "cell_type": "code",
   "execution_count": 43,
   "id": "f5cc129c-0880-4f50-8db8-a448fe8ab0a7",
   "metadata": {},
   "outputs": [],
   "source": [
    "s7.discard(\"CHN\")"
   ]
  },
  {
   "cell_type": "code",
   "execution_count": 44,
   "id": "464c1074-0b30-45ab-8971-0d1b8b49784a",
   "metadata": {},
   "outputs": [
    {
     "data": {
      "text/plain": [
       "{'HYD'}"
      ]
     },
     "execution_count": 44,
     "metadata": {},
     "output_type": "execute_result"
    }
   ],
   "source": [
    "s7"
   ]
  },
  {
   "cell_type": "code",
   "execution_count": 45,
   "id": "e39036a3-abda-45be-a5e4-df4b7527c33c",
   "metadata": {},
   "outputs": [],
   "source": [
    "s6 = {\"HYD\", \"CHN\", \"BLR\"}\n",
    "s7 = {\"HYD\", \"CHN\"}\n",
    "s6.intersection_update(s7)"
   ]
  },
  {
   "cell_type": "code",
   "execution_count": 46,
   "id": "5b53fd25-cab8-4ba9-90f9-a20202ca8268",
   "metadata": {},
   "outputs": [
    {
     "data": {
      "text/plain": [
       "{'CHN', 'HYD'}"
      ]
     },
     "execution_count": 46,
     "metadata": {},
     "output_type": "execute_result"
    }
   ],
   "source": [
    "s6"
   ]
  },
  {
   "cell_type": "code",
   "execution_count": 49,
   "id": "84318cd5-0797-4c27-a1a7-1d045f20ab63",
   "metadata": {},
   "outputs": [
    {
     "data": {
      "text/plain": [
       "{1, 2, 3, 4}"
      ]
     },
     "execution_count": 49,
     "metadata": {},
     "output_type": "execute_result"
    }
   ],
   "source": [
    "s11 = set(range(1, 11))\n",
    "s12 = set(range(1, 5))"
   ]
  },
  {
   "cell_type": "code",
   "execution_count": 50,
   "id": "e93c2bd8-2d27-4e79-8092-d2f0b29bc177",
   "metadata": {},
   "outputs": [
    {
     "data": {
      "text/plain": [
       "({1, 2, 3, 4, 5, 6, 7, 8, 9, 10}, {1, 2, 3, 4})"
      ]
     },
     "execution_count": 50,
     "metadata": {},
     "output_type": "execute_result"
    }
   ],
   "source": [
    "s11, s12"
   ]
  },
  {
   "cell_type": "code",
   "execution_count": 57,
   "id": "b4da87ba-b2ec-4300-8873-639157efb75f",
   "metadata": {},
   "outputs": [
    {
     "data": {
      "text/plain": [
       "True"
      ]
     },
     "execution_count": 57,
     "metadata": {},
     "output_type": "execute_result"
    }
   ],
   "source": [
    "s12.issubset(s11)    # USed to find the the given set is a part of another set of not, if yes gives the True result otherwise False"
   ]
  },
  {
   "cell_type": "code",
   "execution_count": 58,
   "id": "d87b8bfe-98b1-4639-9d8d-2ea8fe59c832",
   "metadata": {},
   "outputs": [
    {
     "data": {
      "text/plain": [
       "False"
      ]
     },
     "execution_count": 58,
     "metadata": {},
     "output_type": "execute_result"
    }
   ],
   "source": [
    "s11.isdisjoint(s12)   # The isdisjoint() method returns True if none of the items are present in both sets, otherwise it returns False."
   ]
  },
  {
   "cell_type": "code",
   "execution_count": 59,
   "id": "e017255a-e09e-4daa-ae7a-ec18c8a78c8a",
   "metadata": {},
   "outputs": [
    {
     "data": {
      "text/plain": [
       "{1, 2, 3, 4, 5, 6, 7, 8, 9, 10}"
      ]
     },
     "execution_count": 59,
     "metadata": {},
     "output_type": "execute_result"
    }
   ],
   "source": [
    "s11"
   ]
  },
  {
   "cell_type": "code",
   "execution_count": 60,
   "id": "26d17064-6fb8-4226-88bf-efa80cb5a6df",
   "metadata": {},
   "outputs": [
    {
     "data": {
      "text/plain": [
       "{1, 2, 3, 4}"
      ]
     },
     "execution_count": 60,
     "metadata": {},
     "output_type": "execute_result"
    }
   ],
   "source": [
    "s12"
   ]
  },
  {
   "cell_type": "code",
   "execution_count": 61,
   "id": "4e2d0901-4e60-4f87-85e6-3b99fb8af0dc",
   "metadata": {},
   "outputs": [
    {
     "data": {
      "text/plain": [
       "True"
      ]
     },
     "execution_count": 61,
     "metadata": {},
     "output_type": "execute_result"
    }
   ],
   "source": [
    "s11.issuperset(s12)"
   ]
  },
  {
   "cell_type": "code",
   "execution_count": 62,
   "id": "ff26f154-3b97-41a7-8bf1-f625890a3849",
   "metadata": {},
   "outputs": [
    {
     "data": {
      "text/plain": [
       "False"
      ]
     },
     "execution_count": 62,
     "metadata": {},
     "output_type": "execute_result"
    }
   ],
   "source": [
    "s12.issuperset(s11)"
   ]
  },
  {
   "cell_type": "markdown",
   "id": "83b62b9e-3aa2-4d94-a7bf-57b1d1824835",
   "metadata": {},
   "source": [
    "### Frozen set\n",
    "* We can't update the data in frozen set(ex., add, update, pop, discards methods won't work)\n",
    "* Union, intersection, is disjoint, issubset, issuperset, etc methods will work"
   ]
  },
  {
   "cell_type": "code",
   "execution_count": 67,
   "id": "3dfff339-9c0f-4bb0-991d-e9fee84a957f",
   "metadata": {},
   "outputs": [
    {
     "data": {
      "text/plain": [
       "frozenset({1, 2, 3, 4, 5, 6, 7, 8, 9, 10})"
      ]
     },
     "execution_count": 67,
     "metadata": {},
     "output_type": "execute_result"
    }
   ],
   "source": [
    "frozenset(s11)"
   ]
  },
  {
   "cell_type": "code",
   "execution_count": 76,
   "id": "800cf3a7-1a01-4fd1-ace2-3ded81ebce2f",
   "metadata": {},
   "outputs": [
    {
     "data": {
      "text/plain": [
       "frozenset"
      ]
     },
     "execution_count": 76,
     "metadata": {},
     "output_type": "execute_result"
    }
   ],
   "source": [
    "type(frozenset(s11))"
   ]
  },
  {
   "cell_type": "code",
   "execution_count": 68,
   "id": "37a228fb-ab5f-48ad-8bfe-5603c0ccace6",
   "metadata": {},
   "outputs": [],
   "source": [
    "s13 = frozenset(s11)"
   ]
  },
  {
   "cell_type": "code",
   "execution_count": 70,
   "id": "d4d3f214-5b28-4d5e-9901-d072a4cbfd90",
   "metadata": {},
   "outputs": [
    {
     "ename": "AttributeError",
     "evalue": "'frozenset' object has no attribute 'add'",
     "output_type": "error",
     "traceback": [
      "\u001b[1;31m---------------------------------------------------------------------------\u001b[0m",
      "\u001b[1;31mAttributeError\u001b[0m                            Traceback (most recent call last)",
      "Cell \u001b[1;32mIn[70], line 1\u001b[0m\n\u001b[1;32m----> 1\u001b[0m \u001b[43ms13\u001b[49m\u001b[38;5;241;43m.\u001b[39;49m\u001b[43madd\u001b[49m(\u001b[38;5;241m12\u001b[39m)\n",
      "\u001b[1;31mAttributeError\u001b[0m: 'frozenset' object has no attribute 'add'"
     ]
    }
   ],
   "source": [
    "s13.add(12)"
   ]
  },
  {
   "cell_type": "markdown",
   "id": "c9f6ac22-ad10-40ed-9276-3095cee6eb82",
   "metadata": {},
   "source": [
    "##  Dictionary\n",
    "* dictionary is a collection of key value pairs\n",
    "* Insertiong order is maintained\n",
    "* Dictionary don't allow duplicate keys\n",
    "* Dictionary allows duplicate values\n",
    "* Values in dictionary can be accessed with the help of keys"
   ]
  },
  {
   "cell_type": "raw",
   "id": "44cfe3de-0889-4f4e-a4c5-2956327411f0",
   "metadata": {},
   "source": [
    "+-------------------------+-----------------------------+\n",
    "+     EMP_NAME            +      EMP_DESIGNATION        +                        \n",
    "+-------------------------+-----------------------------+\n",
    "+ Dhanush                 +       Python Developer      +\n",
    "+-------------------------+-----------------------------+\n",
    "+ Niharika                +       Senior Associate      +\n",
    "+-------------------------+-----------------------------+"
   ]
  },
  {
   "cell_type": "code",
   "execution_count": 89,
   "id": "1820e99e-8515-453a-86e5-217de9dd1118",
   "metadata": {},
   "outputs": [],
   "source": [
    "emp_1 = {\"EMP_NAME\" : \"Dhanush\", \"EMP_DESIGNATION\" :  \"Python Developer\"}\n",
    "emp_2 = {\"EMP_NAME\" : \"Niharika\", \"EMP_DESIGNATION\" :  \"Senior Associate\", \"Address\" : \"HYD\"}"
   ]
  },
  {
   "cell_type": "code",
   "execution_count": 90,
   "id": "9ae7a60d-690e-4876-b9d2-56dacc608754",
   "metadata": {},
   "outputs": [
    {
     "data": {
      "text/plain": [
       "{'EMP_NAME': 'Dhanush', 'EMP_DESIGNATION': 'Python Developer'}"
      ]
     },
     "execution_count": 90,
     "metadata": {},
     "output_type": "execute_result"
    }
   ],
   "source": [
    "emp_1"
   ]
  },
  {
   "cell_type": "code",
   "execution_count": 91,
   "id": "981da19f-34ec-4ca1-b987-38ae86d1d17e",
   "metadata": {},
   "outputs": [
    {
     "data": {
      "text/plain": [
       "{'EMP_NAME': 'Niharika',\n",
       " 'EMP_DESIGNATION': 'Senior Associate',\n",
       " 'Address': 'HYD'}"
      ]
     },
     "execution_count": 91,
     "metadata": {},
     "output_type": "execute_result"
    }
   ],
   "source": [
    "emp_2"
   ]
  },
  {
   "cell_type": "code",
   "execution_count": 86,
   "id": "e7be60c6-6495-4302-ae81-9275a0abc6b2",
   "metadata": {},
   "outputs": [
    {
     "data": {
      "text/plain": [
       "dict"
      ]
     },
     "execution_count": 86,
     "metadata": {},
     "output_type": "execute_result"
    }
   ],
   "source": [
    "type(emp_1)"
   ]
  },
  {
   "cell_type": "markdown",
   "id": "3093750e-0114-430f-8e45-3de6fb42c57b",
   "metadata": {},
   "source": [
    "#### Accessing Elements"
   ]
  },
  {
   "cell_type": "code",
   "execution_count": 92,
   "id": "9926ece3-6ac3-4789-9e38-cc3360004756",
   "metadata": {},
   "outputs": [
    {
     "data": {
      "text/plain": [
       "'Dhanush'"
      ]
     },
     "execution_count": 92,
     "metadata": {},
     "output_type": "execute_result"
    }
   ],
   "source": [
    "emp_1[\"EMP_NAME\"]   "
   ]
  },
  {
   "cell_type": "code",
   "execution_count": 93,
   "id": "480adf4a-6538-41b8-a3d3-725a2b4b4463",
   "metadata": {},
   "outputs": [
    {
     "data": {
      "text/plain": [
       "'Python Developer'"
      ]
     },
     "execution_count": 93,
     "metadata": {},
     "output_type": "execute_result"
    }
   ],
   "source": [
    "emp_1[\"EMP_DESIGNATION\"]"
   ]
  },
  {
   "cell_type": "code",
   "execution_count": 94,
   "id": "327048d2-884f-44e6-b583-14850b084840",
   "metadata": {},
   "outputs": [
    {
     "data": {
      "text/plain": [
       "'Niharika'"
      ]
     },
     "execution_count": 94,
     "metadata": {},
     "output_type": "execute_result"
    }
   ],
   "source": [
    "emp_2[\"EMP_NAME\"]"
   ]
  },
  {
   "cell_type": "code",
   "execution_count": 95,
   "id": "d296bf36-ddef-4d67-9e84-56ec5ee83e10",
   "metadata": {},
   "outputs": [
    {
     "data": {
      "text/plain": [
       "'Senior Associate'"
      ]
     },
     "execution_count": 95,
     "metadata": {},
     "output_type": "execute_result"
    }
   ],
   "source": [
    "emp_2[\"EMP_DESIGNATION\"]"
   ]
  },
  {
   "cell_type": "code",
   "execution_count": 97,
   "id": "6b9feb6f-143c-4034-b689-6e1f61edf6a0",
   "metadata": {},
   "outputs": [
    {
     "data": {
      "text/plain": [
       "'HYD'"
      ]
     },
     "execution_count": 97,
     "metadata": {},
     "output_type": "execute_result"
    }
   ],
   "source": [
    "emp_2[\"Address\"]"
   ]
  },
  {
   "cell_type": "code",
   "execution_count": 98,
   "id": "53813e71-0936-4029-a9c8-2a1044754fb4",
   "metadata": {},
   "outputs": [
    {
     "ename": "KeyError",
     "evalue": "'Address'",
     "output_type": "error",
     "traceback": [
      "\u001b[1;31m---------------------------------------------------------------------------\u001b[0m",
      "\u001b[1;31mKeyError\u001b[0m                                  Traceback (most recent call last)",
      "Cell \u001b[1;32mIn[98], line 1\u001b[0m\n\u001b[1;32m----> 1\u001b[0m \u001b[43memp_1\u001b[49m\u001b[43m[\u001b[49m\u001b[38;5;124;43m\"\u001b[39;49m\u001b[38;5;124;43mAddress\u001b[39;49m\u001b[38;5;124;43m\"\u001b[39;49m\u001b[43m]\u001b[49m\n",
      "\u001b[1;31mKeyError\u001b[0m: 'Address'"
     ]
    }
   ],
   "source": [
    "emp_1[\"Address\"]"
   ]
  },
  {
   "cell_type": "code",
   "execution_count": 99,
   "id": "4abf2487-ec3a-42b4-83cd-424d5a49ce42",
   "metadata": {},
   "outputs": [
    {
     "data": {
      "text/plain": [
       "{'EMP_NAME': 'Niharika',\n",
       " 'EMP_DESIGNATION': 'Senior Associate',\n",
       " 'Address': 'HYD'}"
      ]
     },
     "execution_count": 99,
     "metadata": {},
     "output_type": "execute_result"
    }
   ],
   "source": [
    "emp_2"
   ]
  },
  {
   "cell_type": "code",
   "execution_count": 104,
   "id": "5d59ba4a-0c76-4e3d-b3a9-eae1feb81d03",
   "metadata": {},
   "outputs": [
    {
     "data": {
      "text/plain": [
       "dict_keys(['EMP_NAME', 'EMP_DESIGNATION', 'Address'])"
      ]
     },
     "execution_count": 104,
     "metadata": {},
     "output_type": "execute_result"
    }
   ],
   "source": [
    "emp_2.keys()      # accessing only keys in a emp_2"
   ]
  },
  {
   "cell_type": "code",
   "execution_count": 106,
   "id": "c6515820-d5ab-4950-939b-2e2f5c05cad2",
   "metadata": {},
   "outputs": [
    {
     "data": {
      "text/plain": [
       "dict_values(['Niharika', 'Senior Associate', 'HYD'])"
      ]
     },
     "execution_count": 106,
     "metadata": {},
     "output_type": "execute_result"
    }
   ],
   "source": [
    "emp_2.values()   # accessing only values in a emp_2"
   ]
  },
  {
   "cell_type": "markdown",
   "id": "cf5b300f-4989-46c0-8235-74cbbd48f412",
   "metadata": {},
   "source": [
    "#### Updating elements"
   ]
  },
  {
   "cell_type": "code",
   "execution_count": 108,
   "id": "9ace98fc-d152-40fd-9855-5d51a07fa0e8",
   "metadata": {},
   "outputs": [
    {
     "data": {
      "text/plain": [
       "{'EMP_NAME': 'Niharika',\n",
       " 'EMP_DESIGNATION': 'Senior Associate',\n",
       " 'Address': 'HYD'}"
      ]
     },
     "execution_count": 108,
     "metadata": {},
     "output_type": "execute_result"
    }
   ],
   "source": [
    "emp_2"
   ]
  },
  {
   "cell_type": "code",
   "execution_count": 110,
   "id": "ed23417f-26df-4c56-9b62-7486a604a236",
   "metadata": {},
   "outputs": [],
   "source": [
    "emp_2['EMP_NAME'] = \"Niharika Nalla\"     # updating name"
   ]
  },
  {
   "cell_type": "code",
   "execution_count": 111,
   "id": "535b8452-2cbc-4c7e-9ec3-94f2c182f437",
   "metadata": {},
   "outputs": [
    {
     "data": {
      "text/plain": [
       "{'EMP_NAME': 'Niharika Nalla',\n",
       " 'EMP_DESIGNATION': 'Senior Associate',\n",
       " 'Address': 'HYD'}"
      ]
     },
     "execution_count": 111,
     "metadata": {},
     "output_type": "execute_result"
    }
   ],
   "source": [
    "emp_2"
   ]
  },
  {
   "cell_type": "code",
   "execution_count": 112,
   "id": "083141dd-67a8-4875-85ba-9c88036188e5",
   "metadata": {},
   "outputs": [],
   "source": [
    "emp_2['PINCODE'] = 500031"
   ]
  },
  {
   "cell_type": "code",
   "execution_count": 114,
   "id": "01c662a7-c4f1-40ec-a444-e647c7d0f06d",
   "metadata": {},
   "outputs": [
    {
     "data": {
      "text/plain": [
       "{'EMP_NAME': 'Niharika Nalla',\n",
       " 'EMP_DESIGNATION': 'Senior Associate',\n",
       " 'Address': 'HYD',\n",
       " 'PINCODE': 500031}"
      ]
     },
     "execution_count": 114,
     "metadata": {},
     "output_type": "execute_result"
    }
   ],
   "source": [
    "emp_2   # adding new key value pair to the existing dict"
   ]
  },
  {
   "cell_type": "code",
   "execution_count": 118,
   "id": "476eca9b-b924-4c13-b9c6-a1975fff910a",
   "metadata": {},
   "outputs": [],
   "source": [
    "emp_2['PINCODE'] = 500032   # updating if key already exist"
   ]
  },
  {
   "cell_type": "code",
   "execution_count": 119,
   "id": "bbb04711-b375-4311-8ea7-c1c4fc212ce5",
   "metadata": {},
   "outputs": [
    {
     "data": {
      "text/plain": [
       "{'EMP_NAME': 'Niharika Nalla',\n",
       " 'EMP_DESIGNATION': 'Senior Associate',\n",
       " 'Address': 'HYD',\n",
       " 'PINCODE': 500032}"
      ]
     },
     "execution_count": 119,
     "metadata": {},
     "output_type": "execute_result"
    }
   ],
   "source": [
    "emp_2"
   ]
  },
  {
   "cell_type": "code",
   "execution_count": 125,
   "id": "b32c1611-243a-4c52-a165-cf7e226651bb",
   "metadata": {},
   "outputs": [],
   "source": [
    "emp_3 = {\n",
    "         'EMP_NAME': 'Niharika Nalla',\n",
    "         'EMP_DESIGNATION': 'Senior Associate',\n",
    "         'City' : 'HYD',\n",
    "         'Address': 'HYD',\n",
    "         'PINCODE': 500031,\n",
    "         'PINCODE': 500033\n",
    "         }      \n",
    "# Dictionary don't allow duplicate keys whereas values are duplicated"
   ]
  },
  {
   "cell_type": "code",
   "execution_count": 126,
   "id": "3719b0e5-9fe6-4b2f-a1dd-842cb8244af8",
   "metadata": {},
   "outputs": [
    {
     "data": {
      "text/plain": [
       "{'EMP_NAME': 'Niharika Nalla',\n",
       " 'EMP_DESIGNATION': 'Senior Associate',\n",
       " 'City': 'HYD',\n",
       " 'Address': 'HYD',\n",
       " 'PINCODE': 500033}"
      ]
     },
     "execution_count": 126,
     "metadata": {},
     "output_type": "execute_result"
    }
   ],
   "source": [
    "emp_3"
   ]
  },
  {
   "cell_type": "code",
   "execution_count": 128,
   "id": "2c401208-5813-49f0-89f5-82f1bf80a52a",
   "metadata": {},
   "outputs": [
    {
     "data": {
      "text/plain": [
       "'HYD'"
      ]
     },
     "execution_count": 128,
     "metadata": {},
     "output_type": "execute_result"
    }
   ],
   "source": [
    "emp_3.pop(\"City\")     # removes the mentioned key along with value"
   ]
  },
  {
   "cell_type": "code",
   "execution_count": 129,
   "id": "4664458d-f760-42d9-adfe-5dfab2a5a614",
   "metadata": {},
   "outputs": [
    {
     "data": {
      "text/plain": [
       "{'EMP_NAME': 'Niharika Nalla',\n",
       " 'EMP_DESIGNATION': 'Senior Associate',\n",
       " 'Address': 'HYD',\n",
       " 'PINCODE': 500033}"
      ]
     },
     "execution_count": 129,
     "metadata": {},
     "output_type": "execute_result"
    }
   ],
   "source": [
    "emp_3"
   ]
  },
  {
   "cell_type": "code",
   "execution_count": 130,
   "id": "b65b7260-30d5-4143-a476-94d86c7a67c6",
   "metadata": {},
   "outputs": [
    {
     "data": {
      "text/plain": [
       "('PINCODE', 500033)"
      ]
     },
     "execution_count": 130,
     "metadata": {},
     "output_type": "execute_result"
    }
   ],
   "source": [
    "emp_3.popitem()"
   ]
  },
  {
   "cell_type": "code",
   "execution_count": 131,
   "id": "02f4b4cc-5f28-44d2-99b2-b96380022843",
   "metadata": {},
   "outputs": [
    {
     "data": {
      "text/plain": [
       "{'EMP_NAME': 'Niharika Nalla',\n",
       " 'EMP_DESIGNATION': 'Senior Associate',\n",
       " 'Address': 'HYD'}"
      ]
     },
     "execution_count": 131,
     "metadata": {},
     "output_type": "execute_result"
    }
   ],
   "source": [
    "emp_3"
   ]
  },
  {
   "cell_type": "code",
   "execution_count": null,
   "id": "fe04b7b8-543f-403d-8152-198afc53d7e4",
   "metadata": {},
   "outputs": [],
   "source": []
  },
  {
   "cell_type": "code",
   "execution_count": null,
   "id": "abb3544a-3902-4523-8351-9ca678ef6999",
   "metadata": {},
   "outputs": [],
   "source": []
  }
 ],
 "metadata": {
  "kernelspec": {
   "display_name": "Python 3 (ipykernel)",
   "language": "python",
   "name": "python3"
  },
  "language_info": {
   "codemirror_mode": {
    "name": "ipython",
    "version": 3
   },
   "file_extension": ".py",
   "mimetype": "text/x-python",
   "name": "python",
   "nbconvert_exporter": "python",
   "pygments_lexer": "ipython3",
   "version": "3.10.11"
  }
 },
 "nbformat": 4,
 "nbformat_minor": 5
}
