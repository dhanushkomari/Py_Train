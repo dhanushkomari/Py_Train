{
 "cells": [
  {
   "cell_type": "markdown",
   "id": "0027e86a-a762-47cc-bf8f-d3f75ec8db27",
   "metadata": {},
   "source": [
    "# Control Statements"
   ]
  },
  {
   "cell_type": "markdown",
   "id": "f9b88d61-4298-4f9e-9784-5dd1ffac80a4",
   "metadata": {},
   "source": [
    "1. simple if statement\n",
    "2. if else statement\n",
    "3. elif statement"
   ]
  },
  {
   "cell_type": "raw",
   "id": "2f48acc3-293e-4ce4-992e-b768e3a9f811",
   "metadata": {},
   "source": [
    "if condition:\n",
    "    Statement-1\n",
    "    Statement-2\n",
    "    .\n",
    "    .\n",
    "    .Statement-n"
   ]
  },
  {
   "cell_type": "code",
   "execution_count": 6,
   "id": "aa248fe3-1f91-450e-9450-52c566f390ed",
   "metadata": {},
   "outputs": [
    {
     "name": "stdout",
     "output_type": "stream",
     "text": [
      "10 is bigger\n"
     ]
    }
   ],
   "source": [
    "if True:\n",
    "    print(\"10 is bigger\")"
   ]
  },
  {
   "cell_type": "code",
   "execution_count": 7,
   "id": "f1622534-fb67-4e92-82ea-0e08a16c4726",
   "metadata": {},
   "outputs": [],
   "source": [
    "if False:\n",
    "    print(\"heloo\")"
   ]
  },
  {
   "cell_type": "code",
   "execution_count": 8,
   "id": "d1feb09d-1ef9-4c33-8f74-e233654b2d5f",
   "metadata": {},
   "outputs": [],
   "source": [
    "if 10 > 20:\n",
    "    print(\"10 is bigger\")"
   ]
  },
  {
   "cell_type": "code",
   "execution_count": 9,
   "id": "a71826a3-e8c8-4b43-b52b-b6a75a582228",
   "metadata": {},
   "outputs": [
    {
     "name": "stdout",
     "output_type": "stream",
     "text": [
      "10 is bigger\n"
     ]
    }
   ],
   "source": [
    "if 10 < 20:\n",
    "    print(\"10 is bigger\")"
   ]
  },
  {
   "cell_type": "code",
   "execution_count": 12,
   "id": "51aaea3c-ab00-47dc-8714-9b659141e1d9",
   "metadata": {},
   "outputs": [
    {
     "name": "stdout",
     "output_type": "stream",
     "text": [
      "Both are same\n"
     ]
    }
   ],
   "source": [
    "if True & True:\n",
    "    print(\"Both are same\")"
   ]
  },
  {
   "cell_type": "code",
   "execution_count": 16,
   "id": "f3d696c5-ed90-4b23-b7cc-0ee92e462bb8",
   "metadata": {},
   "outputs": [
    {
     "name": "stdout",
     "output_type": "stream",
     "text": [
      "If block code is executed\n"
     ]
    }
   ],
   "source": [
    "a = 5\n",
    "b = 3\n",
    "\n",
    "if a > b or b > a and b == a or a != b:\n",
    "    print(\"If block code is executed\")"
   ]
  },
  {
   "cell_type": "code",
   "execution_count": 26,
   "id": "96b83c64-3dd7-4152-8165-4417c7028ba5",
   "metadata": {},
   "outputs": [
    {
     "name": "stdin",
     "output_type": "stream",
     "text": [
      "Enter c value:  12\n",
      "Enter d value:  13\n"
     ]
    },
    {
     "name": "stdout",
     "output_type": "stream",
     "text": [
      "\n",
      " 13 is greater than 12\n"
     ]
    }
   ],
   "source": [
    "c = int(input(\"Enter c value: \"))\n",
    "d = int(input(\"Enter d value: \"))\n",
    "if c > d:\n",
    "    print(\"\\n\", c, \"is greater than\", d)\n",
    "else:\n",
    "    print(\"\\n\", d, \"is greater than\", c)"
   ]
  },
  {
   "cell_type": "code",
   "execution_count": 33,
   "id": "de9cc7a1-0472-4f79-82f2-c47221b78d58",
   "metadata": {},
   "outputs": [
    {
     "name": "stdout",
     "output_type": "stream",
     "text": [
      "Python\tProgram\n"
     ]
    }
   ],
   "source": [
    "print(\"Python\\tProgram\")"
   ]
  },
  {
   "cell_type": "markdown",
   "id": "d894fef1-d575-4e93-97ab-871b27cb0cd4",
   "metadata": {},
   "source": [
    "### if - elif - else"
   ]
  },
  {
   "cell_type": "markdown",
   "id": "a51793e3-65af-4ad2-b0b5-5571ed8e484e",
   "metadata": {},
   "source": [
    "Indentation - Which represents block of code in python"
   ]
  },
  {
   "cell_type": "raw",
   "id": "78d6a017-1baf-4b8a-a1d3-8cf321f000d9",
   "metadata": {},
   "source": [
    "if condn:\n",
    "    statement-1\n",
    "    statement-2\n",
    "    ..\n",
    "    ..\n",
    "elif condn:\n",
    "    statement-1\n",
    "    statement-2\n",
    "    ..\n",
    "    ..\n",
    "elif condn:\n",
    "    statement-1\n",
    "    statement-2\n",
    "    ..\n",
    "    ..\n",
    "else:\n",
    "    stamtement_1"
   ]
  },
  {
   "cell_type": "code",
   "execution_count": 40,
   "id": "82f86c1e-df7d-4702-a699-6b515ac823dd",
   "metadata": {},
   "outputs": [
    {
     "name": "stdin",
     "output_type": "stream",
     "text": [
      "enter x value:  20\n",
      "enter y value:  15\n",
      "Enter z value:  5\n"
     ]
    },
    {
     "name": "stdout",
     "output_type": "stream",
     "text": [
      "x is greater than y\n",
      "x is equal to sum of y and z\n",
      "y is odd number\n",
      "The binary value of z is 0b101\n"
     ]
    }
   ],
   "source": [
    "x = int(input(\"enter x value: \"))\n",
    "y = int(input(\"enter y value: \"))\n",
    "z = int(input(\"Enter z value: \"))\n",
    "\n",
    "# check if x is greater than y\n",
    "# check if z is greater then both x and y\n",
    "# check x is equal sum of y & z\n",
    "# Check Whether y is ever or odd\n",
    "# if y is even, print \"We got the reminder 0\n",
    "# find out the binary value of z if z is odd\n",
    "\n",
    "\n",
    "if x > y:\n",
    "    # check if x is greater than y\n",
    "    print(\"x is greater than y\")\n",
    "if (z > x) and (z > y):\n",
    "    print(\"Z is maximum\")\n",
    "\n",
    "if x == (y + z):\n",
    "    print(\"x is equal to sum of y and z\")\n",
    "\n",
    "if y % 2 == 1:\n",
    "    print(\"y is odd number\")\n",
    "else:\n",
    "    print(\"We got the reminder 0\")\n",
    "\n",
    "if z%2 == 1:\n",
    "    print(\"The binary value of z is\", bin(z))\n"
   ]
  },
  {
   "cell_type": "markdown",
   "id": "21dcff27-68e8-413c-9636-8e4be88ed0f1",
   "metadata": {},
   "source": [
    "### Electricity bill generation"
   ]
  },
  {
   "cell_type": "raw",
   "id": "00cda999-ac8b-4c1a-a1a4-33e5dfb64654",
   "metadata": {},
   "source": [
    "1. inputs : Electicity units(float), usage(domestic, commercial)\n",
    "2. Units cost:\n",
    "       0 - 50    --> Free, for commercial each unit 25\n",
    "       51 - 100  --> each unit 5, for commercial each unit 25\n",
    "       101 - 200 --> each unit 10, for commercial each unit 25\n",
    "       201 - 500 --> each unit 15, For commercial each unit 30\n",
    "       501 - max --> each unit 25, For commercial each unit 40\n",
    "3. Find out the electricity bill based on the above conditions"
   ]
  },
  {
   "cell_type": "code",
   "execution_count": 53,
   "id": "5fad7235-75b7-49c0-bc75-1e7d2bfab82f",
   "metadata": {},
   "outputs": [
    {
     "name": "stdin",
     "output_type": "stream",
     "text": [
      "Enter electricity units:  1000\n"
     ]
    },
    {
     "name": "stdout",
     "output_type": "stream",
     "text": [
      "Bill generated, amount : 25000.0\n"
     ]
    }
   ],
   "source": [
    "units = float(input(\"Enter electricity units: \"))\n",
    "usage = \"domestic\"\n",
    "\n",
    "if (units >= 0) and (units <= 50):\n",
    "    bill = 0\n",
    "    print(\"Bill generated for 0 rupees\")\n",
    "\n",
    "elif (units > 50) and (units <= 100):\n",
    "    bill = units * 5\n",
    "    print(\"Bill generated, amount :\", bill)\n",
    "\n",
    "elif (units > 100) and (units <= 200):\n",
    "    bill = units * 10\n",
    "    print(\"Bill generated, amount :\", bill)\n",
    "\n",
    "\n",
    "elif (units > 200) and (units <= 500):\n",
    "    bill = units * 15\n",
    "    print(\"Bill generated, amount :\", bill)\n",
    "\n",
    "else:\n",
    "    bill = units * 25\n",
    "    print(\"Bill generated, amount :\", bill)   "
   ]
  },
  {
   "cell_type": "code",
   "execution_count": 58,
   "id": "397442b4-a90b-4f86-9b3a-6b88b33d35c3",
   "metadata": {},
   "outputs": [
    {
     "name": "stdin",
     "output_type": "stream",
     "text": [
      "Enter usage(domestic/commercial):  commercial\n",
      "Enter electricity units:  150\n"
     ]
    },
    {
     "name": "stdout",
     "output_type": "stream",
     "text": [
      "units:  150.0\n",
      "Usage:  commercial\n",
      "150.0 * 25\n",
      "Amount 3750.0\n"
     ]
    }
   ],
   "source": [
    "usage = input(\"Enter usage(domestic/commercial): \")\n",
    "units = float(input(\"Enter electricity units: \"))\n",
    "\n",
    "if usage == \"domestic\":\n",
    "    if (units >= 0) and (units <= 50):\n",
    "        bill = 0\n",
    "        print(\"Bill generated with \", usage ,\"amount :\", bill)\n",
    "    \n",
    "    elif (units > 50) and (units <= 100):\n",
    "        bill = units * 5\n",
    "        print(\"Bill generated with \", usage ,\"amount :\", bill)\n",
    "    \n",
    "    elif (units > 100) and (units <= 200):\n",
    "        bill = units * 10\n",
    "        print(\"Bill generated with \", usage ,\"amount :\", bill)\n",
    "    \n",
    "    \n",
    "    elif (units > 200) and (units <= 500):\n",
    "        bill = units * 15\n",
    "        print(\"Bill generated with \", usage ,\"amount :\", bill)\n",
    "    \n",
    "    else:\n",
    "        bill = units * 25\n",
    "        print(\"Bill generated with \", usage ,\"amount :\", bill)\n",
    "        \n",
    "elif usage == \"commercial\":\n",
    "    if (units >= 0) and (units <= 200):\n",
    "        charge_per_unit = 25\n",
    "        bill = units * charge_per_unit\n",
    "        print(\"units: \", units)\n",
    "        print(\"Usage: \", usage)\n",
    "        print(units, \"*\", charge_per_unit)\n",
    "        print(\"Amount\", bill)\n",
    "    elif (units >= 201) and (units <= 500):\n",
    "        bill = units * 30\n",
    "        print(\"Bill generated with\", usage, \"amount:\", bill)\n",
    "    else:\n",
    "        bill = units * 40\n",
    "        print(\"Bill generated with\", usage, \"amount:\", bill)\n",
    "    "
   ]
  },
  {
   "cell_type": "code",
   "execution_count": null,
   "id": "25cb07b3-5b74-48ed-a8a1-53c2f4751d68",
   "metadata": {},
   "outputs": [],
   "source": []
  }
 ],
 "metadata": {
  "kernelspec": {
   "display_name": "Python 3 (ipykernel)",
   "language": "python",
   "name": "python3"
  },
  "language_info": {
   "codemirror_mode": {
    "name": "ipython",
    "version": 3
   },
   "file_extension": ".py",
   "mimetype": "text/x-python",
   "name": "python",
   "nbconvert_exporter": "python",
   "pygments_lexer": "ipython3",
   "version": "3.10.11"
  }
 },
 "nbformat": 4,
 "nbformat_minor": 5
}
