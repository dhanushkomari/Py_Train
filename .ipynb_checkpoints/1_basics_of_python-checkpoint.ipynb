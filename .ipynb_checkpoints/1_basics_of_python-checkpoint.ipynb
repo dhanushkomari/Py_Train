{
 "cells": [
  {
   "cell_type": "code",
   "execution_count": null,
   "id": "fc1b274b-1c0b-4a12-bcba-6a789b53c554",
   "metadata": {},
   "outputs": [],
   "source": [
    "print(10+10)\n",
    "10-10\n",
    "101+10"
   ]
  },
  {
   "cell_type": "code",
   "execution_count": 26,
   "id": "4a7cb81b-ea14-4d61-b0a7-fc6141367fa0",
   "metadata": {},
   "outputs": [
    {
     "name": "stdout",
     "output_type": "stream",
     "text": [
      "Hello\n"
     ]
    }
   ],
   "source": [
    "print(\"Hello\")"
   ]
  },
  {
   "cell_type": "code",
   "execution_count": 27,
   "id": "8151ce7e-d9d6-4d1b-a260-86e69678e5c9",
   "metadata": {},
   "outputs": [
    {
     "name": "stdout",
     "output_type": "stream",
     "text": [
      "Hello\n"
     ]
    }
   ],
   "source": [
    "print('Hello')"
   ]
  },
  {
   "cell_type": "code",
   "execution_count": 28,
   "id": "377b411b-a878-434f-b95d-6b29fb0219a1",
   "metadata": {},
   "outputs": [
    {
     "ename": "SyntaxError",
     "evalue": "unterminated string literal (detected at line 1) (210020672.py, line 1)",
     "output_type": "error",
     "traceback": [
      "\u001b[1;36m  Cell \u001b[1;32mIn[28], line 1\u001b[1;36m\u001b[0m\n\u001b[1;33m    print('Hello\")\u001b[0m\n\u001b[1;37m          ^\u001b[0m\n\u001b[1;31mSyntaxError\u001b[0m\u001b[1;31m:\u001b[0m unterminated string literal (detected at line 1)\n"
     ]
    }
   ],
   "source": [
    "print('Hello\")"
   ]
  },
  {
   "cell_type": "code",
   "execution_count": 29,
   "id": "5ea8eec0-3a94-4984-9f6c-2ea113a6871c",
   "metadata": {},
   "outputs": [
    {
     "name": "stdout",
     "output_type": "stream",
     "text": [
      "20\n"
     ]
    }
   ],
   "source": [
    "print(20)"
   ]
  },
  {
   "cell_type": "code",
   "execution_count": 12,
   "id": "20367d51-e33b-4dbf-a948-1935f222bb8b",
   "metadata": {},
   "outputs": [
    {
     "name": "stdout",
     "output_type": "stream",
     "text": [
      "12.9999\n"
     ]
    }
   ],
   "source": [
    "print(12.9999)"
   ]
  },
  {
   "cell_type": "code",
   "execution_count": null,
   "id": "cfb78e78-6fc8-4e08-af9e-caa2f66e26ac",
   "metadata": {},
   "outputs": [],
   "source": []
  },
  {
   "cell_type": "code",
   "execution_count": null,
   "id": "4ed9a9c1-b105-4f65-90da-2aac85aa5142",
   "metadata": {},
   "outputs": [],
   "source": [
    "print(10+10)\n",
    "10-10\n",
    "101+10"
   ]
  },
  {
   "cell_type": "code",
   "execution_count": null,
   "id": "261c222b-a65a-4ff5-b61e-afe26bf6eb41",
   "metadata": {},
   "outputs": [],
   "source": []
  }
 ],
 "metadata": {
  "kernelspec": {
   "display_name": "Python 3 (ipykernel)",
   "language": "python",
   "name": "python3"
  },
  "language_info": {
   "codemirror_mode": {
    "name": "ipython",
    "version": 3
   },
   "file_extension": ".py",
   "mimetype": "text/x-python",
   "name": "python",
   "nbconvert_exporter": "python",
   "pygments_lexer": "ipython3",
   "version": "3.10.11"
  }
 },
 "nbformat": 4,
 "nbformat_minor": 5
}
