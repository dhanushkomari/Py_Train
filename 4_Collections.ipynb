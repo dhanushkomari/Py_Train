{
 "cells": [
  {
   "cell_type": "markdown",
   "id": "3de09cc3-a34d-43a4-8cb3-520bb5d718c6",
   "metadata": {},
   "source": [
    "# Collections"
   ]
  },
  {
   "cell_type": "markdown",
   "id": "ac9cb006-daa4-4388-a6e9-637bcdaad883",
   "metadata": {},
   "source": [
    "* List\n",
    "* Tuple\n",
    "* Sets\n",
    "* Dictionaries\n",
    "* frozen set"
   ]
  },
  {
   "cell_type": "markdown",
   "id": "2b01f15e-7862-4f08-9566-95e0638f3015",
   "metadata": {},
   "source": [
    "## List\n",
    "* List can be defined as a collection of both homegeneous and heterogenous data types(Supports all data types in a single list).\n",
    "  1. Homogeneous data is defined as a same kind of data(same data type)\n",
    "  2. Heterogeneous data is defined as different kinds of data(multiple data types)\n",
    "* Lists are enclosed with square brackets...,    [    ]\n",
    "* list method is used to convert any kind of data into list\n",
    "* list can support both negative and positive indexing\n",
    "* list starts with 0 index, ends with -1 index\n",
    "* lists are mutable(data in lists can be updated)"
   ]
  },
  {
   "cell_type": "code",
   "execution_count": 5,
   "id": "721c6150-4bb9-42b3-90cf-881f2d358c31",
   "metadata": {},
   "outputs": [],
   "source": [
    "L1 = [1, 2, 3, \"Hi\", \"Hello\", ]"
   ]
  },
  {
   "cell_type": "code",
   "execution_count": 7,
   "id": "9c78b5d8-38aa-4958-8e3f-701211586e82",
   "metadata": {},
   "outputs": [
    {
     "data": {
      "text/plain": [
       "list"
      ]
     },
     "execution_count": 7,
     "metadata": {},
     "output_type": "execute_result"
    }
   ],
   "source": [
    "type(L1)"
   ]
  },
  {
   "cell_type": "code",
   "execution_count": null,
   "id": "e458fa24-c973-42d5-a01f-e19033c29de0",
   "metadata": {},
   "outputs": [],
   "source": []
  }
 ],
 "metadata": {
  "kernelspec": {
   "display_name": "Python 3 (ipykernel)",
   "language": "python",
   "name": "python3"
  },
  "language_info": {
   "codemirror_mode": {
    "name": "ipython",
    "version": 3
   },
   "file_extension": ".py",
   "mimetype": "text/x-python",
   "name": "python",
   "nbconvert_exporter": "python",
   "pygments_lexer": "ipython3",
   "version": "3.10.11"
  }
 },
 "nbformat": 4,
 "nbformat_minor": 5
}
