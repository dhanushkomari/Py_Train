{
 "cells": [
  {
   "cell_type": "markdown",
   "id": "bb6cd71d-7796-43d9-84e9-48c87bdb5a80",
   "metadata": {},
   "source": [
    "# Flow Control"
   ]
  },
  {
   "cell_type": "markdown",
   "id": "b4d41282-944a-406a-b970-84ac33d0db39",
   "metadata": {},
   "source": [
    "* control statements\n",
    "* Looping Statements\n",
    "* transfer statements"
   ]
  },
  {
   "cell_type": "markdown",
   "id": "0027e86a-a762-47cc-bf8f-d3f75ec8db27",
   "metadata": {},
   "source": [
    "## Control Statements"
   ]
  },
  {
   "cell_type": "markdown",
   "id": "f9b88d61-4298-4f9e-9784-5dd1ffac80a4",
   "metadata": {},
   "source": [
    "* simple if statement\n",
    "* if else statement\n",
    "* elif statement"
   ]
  },
  {
   "cell_type": "raw",
   "id": "2f48acc3-293e-4ce4-992e-b768e3a9f811",
   "metadata": {},
   "source": [
    "Syntax\n",
    "\n",
    "if condition:\n",
    "    Statement-1\n",
    "    Statement-2\n",
    "    .\n",
    "    .\n",
    "    .Statement-n"
   ]
  },
  {
   "cell_type": "code",
   "execution_count": 6,
   "id": "aa248fe3-1f91-450e-9450-52c566f390ed",
   "metadata": {},
   "outputs": [
    {
     "name": "stdout",
     "output_type": "stream",
     "text": [
      "10 is bigger\n"
     ]
    }
   ],
   "source": [
    "if True:\n",
    "    print(\"10 is bigger\")"
   ]
  },
  {
   "cell_type": "code",
   "execution_count": 7,
   "id": "f1622534-fb67-4e92-82ea-0e08a16c4726",
   "metadata": {},
   "outputs": [],
   "source": [
    "if False:\n",
    "    print(\"heloo\")"
   ]
  },
  {
   "cell_type": "code",
   "execution_count": 8,
   "id": "d1feb09d-1ef9-4c33-8f74-e233654b2d5f",
   "metadata": {},
   "outputs": [],
   "source": [
    "if 10 > 20:\n",
    "    print(\"10 is bigger\")"
   ]
  },
  {
   "cell_type": "code",
   "execution_count": 9,
   "id": "a71826a3-e8c8-4b43-b52b-b6a75a582228",
   "metadata": {},
   "outputs": [
    {
     "name": "stdout",
     "output_type": "stream",
     "text": [
      "10 is bigger\n"
     ]
    }
   ],
   "source": [
    "if 10 < 20:\n",
    "    print(\"10 is bigger\")"
   ]
  },
  {
   "cell_type": "code",
   "execution_count": 12,
   "id": "51aaea3c-ab00-47dc-8714-9b659141e1d9",
   "metadata": {},
   "outputs": [
    {
     "name": "stdout",
     "output_type": "stream",
     "text": [
      "Both are same\n"
     ]
    }
   ],
   "source": [
    "if True & True:\n",
    "    print(\"Both are same\")"
   ]
  },
  {
   "cell_type": "code",
   "execution_count": 16,
   "id": "f3d696c5-ed90-4b23-b7cc-0ee92e462bb8",
   "metadata": {},
   "outputs": [
    {
     "name": "stdout",
     "output_type": "stream",
     "text": [
      "If block code is executed\n"
     ]
    }
   ],
   "source": [
    "a = 5\n",
    "b = 3\n",
    "\n",
    "if a > b or b > a and b == a or a != b:\n",
    "    print(\"If block code is executed\")"
   ]
  },
  {
   "cell_type": "code",
   "execution_count": 26,
   "id": "96b83c64-3dd7-4152-8165-4417c7028ba5",
   "metadata": {},
   "outputs": [
    {
     "name": "stdin",
     "output_type": "stream",
     "text": [
      "Enter c value:  12\n",
      "Enter d value:  13\n"
     ]
    },
    {
     "name": "stdout",
     "output_type": "stream",
     "text": [
      "\n",
      " 13 is greater than 12\n"
     ]
    }
   ],
   "source": [
    "c = int(input(\"Enter c value: \"))\n",
    "d = int(input(\"Enter d value: \"))\n",
    "if c > d:\n",
    "    print(\"\\n\", c, \"is greater than\", d)\n",
    "else:\n",
    "    print(\"\\n\", d, \"is greater than\", c)"
   ]
  },
  {
   "cell_type": "code",
   "execution_count": 33,
   "id": "de9cc7a1-0472-4f79-82f2-c47221b78d58",
   "metadata": {},
   "outputs": [
    {
     "name": "stdout",
     "output_type": "stream",
     "text": [
      "Python\tProgram\n"
     ]
    }
   ],
   "source": [
    "print(\"Python\\tProgram\")"
   ]
  },
  {
   "cell_type": "markdown",
   "id": "d894fef1-d575-4e93-97ab-871b27cb0cd4",
   "metadata": {},
   "source": [
    "### if - elif - else"
   ]
  },
  {
   "cell_type": "markdown",
   "id": "a51793e3-65af-4ad2-b0b5-5571ed8e484e",
   "metadata": {},
   "source": [
    "Indentation - Which represents block of code in python"
   ]
  },
  {
   "cell_type": "raw",
   "id": "78d6a017-1baf-4b8a-a1d3-8cf321f000d9",
   "metadata": {},
   "source": [
    "if condn:\n",
    "    statement-1\n",
    "    statement-2\n",
    "    ..\n",
    "    ..\n",
    "elif condn:\n",
    "    statement-1\n",
    "    statement-2\n",
    "    ..\n",
    "    ..\n",
    "elif condn:\n",
    "    statement-1\n",
    "    statement-2\n",
    "    ..\n",
    "    ..\n",
    "else:\n",
    "    stamtement_1"
   ]
  },
  {
   "cell_type": "code",
   "execution_count": 40,
   "id": "82f86c1e-df7d-4702-a699-6b515ac823dd",
   "metadata": {},
   "outputs": [
    {
     "name": "stdin",
     "output_type": "stream",
     "text": [
      "enter x value:  20\n",
      "enter y value:  15\n",
      "Enter z value:  5\n"
     ]
    },
    {
     "name": "stdout",
     "output_type": "stream",
     "text": [
      "x is greater than y\n",
      "x is equal to sum of y and z\n",
      "y is odd number\n",
      "The binary value of z is 0b101\n"
     ]
    }
   ],
   "source": [
    "x = int(input(\"enter x value: \"))\n",
    "y = int(input(\"enter y value: \"))\n",
    "z = int(input(\"Enter z value: \"))\n",
    "\n",
    "# check if x is greater than y\n",
    "# check if z is greater then both x and y\n",
    "# check x is equal sum of y & z\n",
    "# Check Whether y is ever or odd\n",
    "# if y is even, print \"We got the reminder 0\n",
    "# find out the binary value of z if z is odd\n",
    "\n",
    "\n",
    "if x > y:\n",
    "    # check if x is greater than y\n",
    "    print(\"x is greater than y\")\n",
    "if (z > x) and (z > y):\n",
    "    print(\"Z is maximum\")\n",
    "\n",
    "if x == (y + z):\n",
    "    print(\"x is equal to sum of y and z\")\n",
    "\n",
    "if y % 2 == 1:\n",
    "    print(\"y is odd number\")\n",
    "else:\n",
    "    print(\"We got the reminder 0\")\n",
    "\n",
    "if z%2 == 1:\n",
    "    print(\"The binary value of z is\", bin(z))\n"
   ]
  },
  {
   "cell_type": "markdown",
   "id": "21dcff27-68e8-413c-9636-8e4be88ed0f1",
   "metadata": {},
   "source": [
    "### Electricity bill generation using if, elif, else"
   ]
  },
  {
   "cell_type": "raw",
   "id": "00cda999-ac8b-4c1a-a1a4-33e5dfb64654",
   "metadata": {},
   "source": [
    "1. inputs : Electicity units(float), usage(domestic, commercial)\n",
    "2. Units cost:\n",
    "       0 - 50    --> Free, for commercial each unit 25\n",
    "       51 - 100  --> each unit 5, for commercial each unit 25\n",
    "       101 - 200 --> each unit 10, for commercial each unit 25\n",
    "       201 - 500 --> each unit 15, For commercial each unit 30\n",
    "       501 - max --> each unit 25, For commercial each unit 40\n",
    "3. Find out the electricity bill based on the above conditions"
   ]
  },
  {
   "cell_type": "code",
   "execution_count": 53,
   "id": "5fad7235-75b7-49c0-bc75-1e7d2bfab82f",
   "metadata": {
    "scrolled": true
   },
   "outputs": [
    {
     "name": "stdin",
     "output_type": "stream",
     "text": [
      "Enter electricity units:  1000\n"
     ]
    },
    {
     "name": "stdout",
     "output_type": "stream",
     "text": [
      "Bill generated, amount : 25000.0\n"
     ]
    }
   ],
   "source": [
    "units = float(input(\"Enter electricity units: \"))\n",
    "usage = \"domestic\"\n",
    "\n",
    "if (units >= 0) and (units <= 50):\n",
    "    bill = 0\n",
    "    print(\"Bill generated for 0 rupees\")\n",
    "\n",
    "elif (units > 50) and (units <= 100):\n",
    "    bill = units * 5\n",
    "    print(\"Bill generated, amount :\", bill)\n",
    "\n",
    "elif (units > 100) and (units <= 200):\n",
    "    bill = units * 10\n",
    "    print(\"Bill generated, amount :\", bill)\n",
    "\n",
    "\n",
    "elif (units > 200) and (units <= 500):\n",
    "    bill = units * 15\n",
    "    print(\"Bill generated, amount :\", bill)\n",
    "\n",
    "else:\n",
    "    bill = units * 25\n",
    "    print(\"Bill generated, amount :\", bill)   "
   ]
  },
  {
   "cell_type": "markdown",
   "id": "cd70e1a8-b430-40c6-b3fd-c2a85a32b5d8",
   "metadata": {},
   "source": [
    "### Nested if "
   ]
  },
  {
   "cell_type": "code",
   "execution_count": 58,
   "id": "397442b4-a90b-4f86-9b3a-6b88b33d35c3",
   "metadata": {},
   "outputs": [
    {
     "name": "stdin",
     "output_type": "stream",
     "text": [
      "Enter usage(domestic/commercial):  commercial\n",
      "Enter electricity units:  150\n"
     ]
    },
    {
     "name": "stdout",
     "output_type": "stream",
     "text": [
      "units:  150.0\n",
      "Usage:  commercial\n",
      "150.0 * 25\n",
      "Amount 3750.0\n"
     ]
    }
   ],
   "source": [
    "usage = input(\"Enter usage(domestic/commercial): \")\n",
    "units = float(input(\"Enter electricity units: \"))\n",
    "\n",
    "if usage == \"domestic\":\n",
    "    if (units >= 0) and (units <= 50):\n",
    "        bill = 0\n",
    "        print(\"Bill generated with \", usage ,\"amount :\", bill)\n",
    "    \n",
    "    elif (units > 50) and (units <= 100):\n",
    "        bill = units * 5\n",
    "        print(\"Bill generated with \", usage ,\"amount :\", bill)\n",
    "    \n",
    "    elif (units > 100) and (units <= 200):\n",
    "        bill = units * 10\n",
    "        print(\"Bill generated with \", usage ,\"amount :\", bill)\n",
    "    \n",
    "    \n",
    "    elif (units > 200) and (units <= 500):\n",
    "        bill = units * 15\n",
    "        print(\"Bill generated with \", usage ,\"amount :\", bill)\n",
    "    \n",
    "    else:\n",
    "        bill = units * 25\n",
    "        print(\"Bill generated with \", usage ,\"amount :\", bill)\n",
    "        \n",
    "elif usage == \"commercial\":\n",
    "    if (units >= 0) and (units <= 200):\n",
    "        charge_per_unit = 25\n",
    "        bill = units * charge_per_unit\n",
    "        print(\"units: \", units)\n",
    "        print(\"Usage: \", usage)\n",
    "        print(units, \"*\", charge_per_unit)\n",
    "        print(\"Amount\", bill)\n",
    "    elif (units >= 201) and (units <= 500):\n",
    "        bill = units * 30\n",
    "        print(\"Bill generated with\", usage, \"amount:\", bill)\n",
    "    else:\n",
    "        bill = units * 40\n",
    "        print(\"Bill generated with\", usage, \"amount:\", bill)\n",
    "    "
   ]
  },
  {
   "cell_type": "markdown",
   "id": "939457e9-95d5-4552-8b7a-db40214df69f",
   "metadata": {},
   "source": [
    "## Range"
   ]
  },
  {
   "cell_type": "markdown",
   "id": "db32c629-f59b-45a4-a641-fd8864bae6f4",
   "metadata": {},
   "source": [
    "* range() --> is used to generate the sequence of numbers from start to end\n",
    "* Syntax\n",
    "    range(start, end, step)\n",
    "* if we give only one parameter, range function will consider parameter value as end or stop\n",
    "* range always take 0 as default start value if we don't give the start value   --->  ex: range(5) = range(0, 5)\n",
    "* if give two values as inputs to the range function than those two values considerd as start and stop --> ex: range(10, 14)\n",
    "* if give three values as inputs to the range function than those three values considerd as start, stop and step --> ex: range(10, 14, 2)"
   ]
  },
  {
   "cell_type": "code",
   "execution_count": 8,
   "id": "e55a474d-89a4-44ef-aad3-2bfdb899cf47",
   "metadata": {},
   "outputs": [
    {
     "data": {
      "text/plain": [
       "range(0, 10)"
      ]
     },
     "execution_count": 8,
     "metadata": {},
     "output_type": "execute_result"
    }
   ],
   "source": [
    "range(10)"
   ]
  },
  {
   "cell_type": "code",
   "execution_count": 9,
   "id": "2f1132af-d16e-4d66-a0b6-288418fbcf20",
   "metadata": {},
   "outputs": [
    {
     "data": {
      "text/plain": [
       "[0, 1, 2, 3, 4, 5, 6, 7, 8, 9]"
      ]
     },
     "execution_count": 9,
     "metadata": {},
     "output_type": "execute_result"
    }
   ],
   "source": [
    "list(range(10))"
   ]
  },
  {
   "cell_type": "code",
   "execution_count": 14,
   "id": "1dc8a1c3-6196-433b-923b-575260b4c25a",
   "metadata": {},
   "outputs": [
    {
     "data": {
      "text/plain": [
       "[2, 3, 4, 5, 6, 7, 8, 9, 10]"
      ]
     },
     "execution_count": 14,
     "metadata": {},
     "output_type": "execute_result"
    }
   ],
   "source": [
    "list(range(2, 11))"
   ]
  },
  {
   "cell_type": "code",
   "execution_count": 17,
   "id": "cc3823ce-adc9-491e-8ee3-323e74edb4c9",
   "metadata": {},
   "outputs": [
    {
     "data": {
      "text/plain": [
       "[100, 105, 110, 115, 120, 125, 130, 135, 140, 145, 150]"
      ]
     },
     "execution_count": 17,
     "metadata": {},
     "output_type": "execute_result"
    }
   ],
   "source": [
    "list(range(100, 151, 5))"
   ]
  },
  {
   "cell_type": "code",
   "execution_count": 21,
   "id": "4923704e-9c85-4d5f-8787-1dcdb60abb13",
   "metadata": {},
   "outputs": [
    {
     "data": {
      "text/plain": [
       "[0, 2, 4, 6, 8, 10, 12, 14, 16, 18, 20, 22, 24]"
      ]
     },
     "execution_count": 21,
     "metadata": {},
     "output_type": "execute_result"
    }
   ],
   "source": [
    "list(range(0, 25, 2))"
   ]
  },
  {
   "cell_type": "markdown",
   "id": "f08bc208-f040-4123-a800-06a0bad62225",
   "metadata": {},
   "source": [
    "## for loop\n",
    "* for loop used when we know the exact iterations "
   ]
  },
  {
   "cell_type": "raw",
   "id": "cbc8fd23-f49c-43a6-ae55-3f163d334fce",
   "metadata": {},
   "source": [
    "Syntax\n",
    "for in iterable object:\n",
    "    #statements-1\n",
    "    #statements-1"
   ]
  },
  {
   "cell_type": "code",
   "execution_count": 23,
   "id": "07db57c3-8ab1-426f-8a93-5e1bbff8cdbd",
   "metadata": {},
   "outputs": [
    {
     "name": "stdout",
     "output_type": "stream",
     "text": [
      "Hello\n",
      "Hello\n",
      "Hello\n",
      "Hello\n",
      "Hello\n"
     ]
    }
   ],
   "source": [
    "print(\"Hello\")\n",
    "print(\"Hello\")\n",
    "print(\"Hello\")\n",
    "print(\"Hello\")\n",
    "print(\"Hello\")"
   ]
  },
  {
   "cell_type": "code",
   "execution_count": 25,
   "id": "dc3c4b84-6aae-49ec-a6d2-f88bdc08db62",
   "metadata": {},
   "outputs": [
    {
     "name": "stdout",
     "output_type": "stream",
     "text": [
      "1 Hello\n",
      "2 Hello\n",
      "3 Hello\n",
      "4 Hello\n",
      "5 Hello\n"
     ]
    }
   ],
   "source": [
    "for i in range(1,6):\n",
    "    print(i, \"Hello\")"
   ]
  },
  {
   "cell_type": "code",
   "execution_count": 28,
   "id": "6460fc23-8991-4fff-b2f9-5eca315016ab",
   "metadata": {},
   "outputs": [
    {
     "name": "stdout",
     "output_type": "stream",
     "text": [
      "1 Hello\n",
      "3 Hello\n",
      "5 Hello\n"
     ]
    }
   ],
   "source": [
    "for i in range(1,6, 2):\n",
    "    print(i, \"Hello\")"
   ]
  },
  {
   "cell_type": "code",
   "execution_count": 29,
   "id": "0ed72d23-2eb1-471a-869e-2db82a0d22a7",
   "metadata": {},
   "outputs": [
    {
     "name": "stdout",
     "output_type": "stream",
     "text": [
      "1 Hello\n",
      "4 Hello\n"
     ]
    }
   ],
   "source": [
    "for i in range(1,6, 3):\n",
    "    print(i, \"Hello\")"
   ]
  },
  {
   "cell_type": "code",
   "execution_count": 34,
   "id": "9c3a1e96-dd4a-491b-a820-34eeb74f02f0",
   "metadata": {},
   "outputs": [
    {
     "name": "stdin",
     "output_type": "stream",
     "text": [
      "Enter input-1:  19\n"
     ]
    },
    {
     "name": "stdout",
     "output_type": "stream",
     "text": [
      "10% of 19 is 1.9 \n",
      "\n"
     ]
    },
    {
     "name": "stdin",
     "output_type": "stream",
     "text": [
      "Enter input-1:  23\n"
     ]
    },
    {
     "name": "stdout",
     "output_type": "stream",
     "text": [
      "10% of 23 is 2.3 \n",
      "\n"
     ]
    },
    {
     "name": "stdin",
     "output_type": "stream",
     "text": [
      "Enter input-1:  89\n"
     ]
    },
    {
     "name": "stdout",
     "output_type": "stream",
     "text": [
      "10% of 89 is 8.9 \n",
      "\n"
     ]
    },
    {
     "name": "stdin",
     "output_type": "stream",
     "text": [
      "Enter input-1:  54\n"
     ]
    },
    {
     "name": "stdout",
     "output_type": "stream",
     "text": [
      "10% of 54 is 5.4 \n",
      "\n"
     ]
    },
    {
     "name": "stdin",
     "output_type": "stream",
     "text": [
      "Enter input-1:  65\n"
     ]
    },
    {
     "name": "stdout",
     "output_type": "stream",
     "text": [
      "10% of 65 is 6.5 \n",
      "\n"
     ]
    }
   ],
   "source": [
    "# take integer input 5 times from the end user, and ask user to calcualte 10% of input\n",
    "\n",
    "for i in range(1, 6):\n",
    "    inp1 = int(input(\"Enter input-1: \"))\n",
    "    ten_percent = inp1/10\n",
    "    print(\"10% of\", inp1, \"is\", ten_percent, '\\n')\n",
    "    \n",
    "    "
   ]
  },
  {
   "cell_type": "code",
   "execution_count": 36,
   "id": "05f6723c-dfa9-485a-b0ed-9b71367d74e1",
   "metadata": {},
   "outputs": [
    {
     "name": "stdout",
     "output_type": "stream",
     "text": [
      "Input is not 4, your input is 1\n",
      "Input is not 4, your input is 2\n",
      "Input is not 4, your input is 3\n"
     ]
    },
    {
     "name": "stdin",
     "output_type": "stream",
     "text": [
      "Enter input- 178\n"
     ]
    },
    {
     "name": "stdout",
     "output_type": "stream",
     "text": [
      "10% of 178 is 17.8 \n",
      "\n",
      "Input is not 4, your input is 5\n"
     ]
    }
   ],
   "source": [
    "for i in range(1, 6):\n",
    "    if i == 4:\n",
    "        inp1 = int(input(\"Enter input-\"))\n",
    "        ten_percent = inp1/10\n",
    "        print(\"10% of\", inp1, \"is\", ten_percent, '\\n')\n",
    "    else:\n",
    "        print(\"Input is not 4, your input is\", i)"
   ]
  },
  {
   "cell_type": "markdown",
   "id": "26fdea35-99cc-40db-8de6-9174d081de5f",
   "metadata": {},
   "source": [
    "# While loop"
   ]
  },
  {
   "cell_type": "raw",
   "id": "01a648d7-55be-40d5-af17-87a1ffe8fa22",
   "metadata": {},
   "source": [
    "Syntax\n",
    "\n",
    "while condition:\n",
    "    Statement-1\n",
    "    Statement-2\n",
    "    ...\n",
    "    ...\n",
    "    Stattement-n"
   ]
  },
  {
   "cell_type": "code",
   "execution_count": 1,
   "id": "f356c737-da78-49c2-bb50-d6e90a8cd799",
   "metadata": {},
   "outputs": [
    {
     "name": "stdout",
     "output_type": "stream",
     "text": [
      "1\n",
      "2\n",
      "3\n",
      "4\n",
      "5\n"
     ]
    }
   ],
   "source": [
    "i = 1\n",
    "while i < 6:\n",
    "  print(i)\n",
    "  i += 1"
   ]
  },
  {
   "cell_type": "code",
   "execution_count": 4,
   "id": "2586d95e-8ff7-49fb-bd87-b02f0aec7624",
   "metadata": {},
   "outputs": [
    {
     "name": "stdout",
     "output_type": "stream",
     "text": [
      "Hi\n"
     ]
    }
   ],
   "source": [
    "while True:\n",
    "    print(\"Hi\")\n",
    "    break    "
   ]
  },
  {
   "cell_type": "code",
   "execution_count": 5,
   "id": "d1165776-cbe0-4d16-b92d-e038e8f39dda",
   "metadata": {},
   "outputs": [],
   "source": [
    "while False:\n",
    "    print(\"hello\")"
   ]
  },
  {
   "cell_type": "code",
   "execution_count": 5,
   "id": "b8cc0b7e-e52d-40ff-9e80-4d29a4e9cf07",
   "metadata": {},
   "outputs": [
    {
     "name": "stdin",
     "output_type": "stream",
     "text": [
      "Enter Name(if you give python as input, program will stop working) :  1\n"
     ]
    }
   ],
   "source": [
    "\n",
    "# Initialize the correct password\n",
    "correct_password = \"Python@1234\"\n",
    "\n",
    "# Start the loop\n",
    "while True:\n",
    "    # Prompt the user for the password\n",
    "    password_input = input(\"Please enter the password: \")\n",
    "    \n",
    "    # Check if the input matches the correct password\n",
    "    if password_input == correct_password:\n",
    "        print(\"Access granted.\")\n",
    "        break  # Exit the loop if the password is correct\n",
    "    else:\n",
    "        print(\"Access denied. Try again.\")\n"
   ]
  },
  {
   "cell_type": "code",
   "execution_count": 9,
   "id": "a908fe1b-196f-49f1-8dd5-ecf4837794d9",
   "metadata": {},
   "outputs": [
    {
     "name": "stdin",
     "output_type": "stream",
     "text": [
      "Enter Login Password:  aisjdfjds\n"
     ]
    },
    {
     "name": "stdout",
     "output_type": "stream",
     "text": [
      "Password incorrect\n"
     ]
    },
    {
     "name": "stdin",
     "output_type": "stream",
     "text": [
      "Enter Login Password:  asjfdsjfksnd\n"
     ]
    },
    {
     "name": "stdout",
     "output_type": "stream",
     "text": [
      "Password incorrect\n"
     ]
    },
    {
     "name": "stdin",
     "output_type": "stream",
     "text": [
      "Enter Login Password:  uerfjsdk\n"
     ]
    },
    {
     "name": "stdout",
     "output_type": "stream",
     "text": [
      "Password incorrect\n"
     ]
    },
    {
     "name": "stdin",
     "output_type": "stream",
     "text": [
      "Enter Login Password:  hsffsjd\n"
     ]
    },
    {
     "name": "stdout",
     "output_type": "stream",
     "text": [
      "Password incorrect\n"
     ]
    },
    {
     "name": "stdin",
     "output_type": "stream",
     "text": [
      "Enter Login Password:  fdhjkfa\n"
     ]
    },
    {
     "name": "stdout",
     "output_type": "stream",
     "text": [
      "No of chances exceeded\n"
     ]
    }
   ],
   "source": [
    "correct_password = \"Password1234@\"\n",
    "count = 0\n",
    "\n",
    "while True:    \n",
    "    user_ip_pwd = input(\"Enter Login Password: \")\n",
    "\n",
    "    if user_ip_pwd == correct_password:\n",
    "        print(\"User Logged in\")        \n",
    "        break\n",
    "    else:\n",
    "        if count == 4:\n",
    "            print(\"No of chances exceeded\")\n",
    "            break\n",
    "        count +=1\n",
    "        print(\"Password incorrect\")\n"
   ]
  },
  {
   "cell_type": "markdown",
   "id": "081843b3-cc3a-4642-b06a-8f278b68b518",
   "metadata": {},
   "source": [
    "### for else"
   ]
  },
  {
   "cell_type": "code",
   "execution_count": 12,
   "id": "2f5076f8-b50c-4b4e-aeff-9f74bff3b9ef",
   "metadata": {},
   "outputs": [
    {
     "name": "stdout",
     "output_type": "stream",
     "text": [
      "Hiii\n",
      "Hiii\n",
      "Hey, else in for loop is executed\n"
     ]
    }
   ],
   "source": [
    "for i in range(1, 3):\n",
    "    print(\"Hiii\")\n",
    "else:\n",
    "    print(\"Hey, else in for loop is executed\")"
   ]
  },
  {
   "cell_type": "markdown",
   "id": "d7b68813-caf0-40e1-ad79-83f86d54a61b",
   "metadata": {},
   "source": [
    "## Transfer statements"
   ]
  },
  {
   "cell_type": "markdown",
   "id": "cef24e44-f7c9-4629-a6a0-ff6a4f630f9b",
   "metadata": {},
   "source": [
    "* break\n",
    "* continue\n",
    "* pass"
   ]
  },
  {
   "cell_type": "code",
   "execution_count": 28,
   "id": "13ad2298-c3d4-43b6-ae8b-ac76bf1cf885",
   "metadata": {},
   "outputs": [],
   "source": [
    "if True:\n",
    "    pass"
   ]
  },
  {
   "cell_type": "code",
   "execution_count": 31,
   "id": "e923f1e3-8827-48e1-b4a9-bf134f17daff",
   "metadata": {},
   "outputs": [
    {
     "name": "stdout",
     "output_type": "stream",
     "text": [
      "1\n",
      "2\n",
      "3\n",
      "4\n",
      "5\n",
      "6\n",
      "7\n",
      "8\n",
      "9\n",
      "10\n"
     ]
    }
   ],
   "source": [
    "for i in range(1, 100):\n",
    "    print(i)\n",
    "    if i == 10:\n",
    "        break"
   ]
  },
  {
   "cell_type": "code",
   "execution_count": 34,
   "id": "653d636f-34ea-4464-9926-b76513e1a238",
   "metadata": {},
   "outputs": [
    {
     "name": "stdout",
     "output_type": "stream",
     "text": [
      "1\n",
      "2\n",
      "3\n",
      "4\n",
      "5\n",
      "6\n",
      "7\n",
      "8\n",
      "9\n",
      "10\n",
      "We found the value 10, So we will skip this step\n",
      "11\n",
      "12\n",
      "13\n",
      "14\n"
     ]
    }
   ],
   "source": [
    "# Continue statement example\n",
    "for i in range(1, 15):\n",
    "    print(i)\n",
    "    if i == 10:\n",
    "        print(\"We found the value 10, So we will skip this step\")\n",
    "        continue\n",
    "        print(\"this won't be displayed\")"
   ]
  },
  {
   "cell_type": "code",
   "execution_count": 39,
   "id": "89a969e3-db6e-4788-81bb-ddb8e60010e1",
   "metadata": {},
   "outputs": [
    {
     "name": "stdout",
     "output_type": "stream",
     "text": [
      "1\n",
      "2\n",
      "3\n",
      "4\n",
      "5\n",
      "6\n",
      "7\n",
      "8\n",
      "9\n",
      "We found the value 10, So we will skip this step\n",
      "11\n",
      "12\n",
      "13\n",
      "14\n"
     ]
    }
   ],
   "source": [
    "# Continue statement example\n",
    "for i in range(1, 15):    \n",
    "    if i == 10:\n",
    "        print(\"We found the value 10, So we will skip this step\")\n",
    "        continue\n",
    "        print(\"this won't be displayed\")\n",
    "    print(i)"
   ]
  },
  {
   "cell_type": "code",
   "execution_count": 40,
   "id": "9af50d4f-ec81-458d-b503-8826df44908b",
   "metadata": {},
   "outputs": [
    {
     "name": "stdout",
     "output_type": "stream",
     "text": [
      "We found the value 10, So we will skip this step\n",
      "14\n"
     ]
    }
   ],
   "source": [
    "# Continue statement examplefor i in range(1, 15):    \n",
    "    if i == 10:\n",
    "        print(\"We found the value 10, So we will skip this step\")\n",
    "        continue\n",
    "        print(\"this won't be displayed\")\n",
    "print(i)"
   ]
  },
  {
   "cell_type": "code",
   "execution_count": 42,
   "id": "0d517b09-da96-4bdb-8890-ea2d4a0bd286",
   "metadata": {},
   "outputs": [
    {
     "name": "stdout",
     "output_type": "stream",
     "text": [
      "1\n",
      "2\n",
      "3\n",
      "4\n",
      "5\n",
      "6\n",
      "7\n",
      "8\n",
      "9\n",
      "We found the value 10, So we will skip this step\n"
     ]
    }
   ],
   "source": [
    "# break statement example\n",
    "for i in range(1, 15):    \n",
    "    if i == 10:\n",
    "        print(\"We found the value 10, So we will skip this step\")\n",
    "        break\n",
    "        print(\"this won't be displayed\")\n",
    "    print(i)"
   ]
  }
 ],
 "metadata": {
  "kernelspec": {
   "display_name": "Python 3 (ipykernel)",
   "language": "python",
   "name": "python3"
  },
  "language_info": {
   "codemirror_mode": {
    "name": "ipython",
    "version": 3
   },
   "file_extension": ".py",
   "mimetype": "text/x-python",
   "name": "python",
   "nbconvert_exporter": "python",
   "pygments_lexer": "ipython3",
   "version": "3.10.11"
  }
 },
 "nbformat": 4,
 "nbformat_minor": 5
}
