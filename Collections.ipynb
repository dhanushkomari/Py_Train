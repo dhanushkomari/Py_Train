{
 "cells": [
  {
   "cell_type": "markdown",
   "id": "3de09cc3-a34d-43a4-8cb3-520bb5d718c6",
   "metadata": {},
   "source": [
    "# Collections"
   ]
  },
  {
   "cell_type": "markdown",
   "id": "ac9cb006-daa4-4388-a6e9-637bcdaad883",
   "metadata": {},
   "source": [
    "* List\n",
    "* Tuple\n",
    "* Sets\n",
    "* Dictionaries\n",
    "* frozen set"
   ]
  },
  {
   "cell_type": "markdown",
   "id": "2b01f15e-7862-4f08-9566-95e0638f3015",
   "metadata": {},
   "source": [
    "## List\n",
    "* List can be defined as a collection of both homegeneous and heterogenous data types(Supports all data types in a single list).\n",
    "  1. Homogeneous data is defined as a same kind of data(same data type)\n",
    "  2. Heterogeneous data is defined as different kinds of data(multiple data types)\n",
    "* Lists are enclosed with square brackets...,    [    ]\n",
    "* list method is used to convert any kind of data into list\n",
    "* list can support both negative and positive indexing\n",
    "* list starts with 0 index, ends with -1 index\n",
    "* lists are mutable(data in lists can be updated)\n",
    "* lists are allowed dupicate elements"
   ]
  },
  {
   "cell_type": "code",
   "execution_count": 1,
   "id": "721c6150-4bb9-42b3-90cf-881f2d358c31",
   "metadata": {},
   "outputs": [],
   "source": [
    "L1 = [1, 2, 3, \"Hi\", \"Hello\", 10.5, True]"
   ]
  },
  {
   "cell_type": "code",
   "execution_count": 2,
   "id": "9c78b5d8-38aa-4958-8e3f-701211586e82",
   "metadata": {},
   "outputs": [
    {
     "data": {
      "text/plain": [
       "list"
      ]
     },
     "execution_count": 2,
     "metadata": {},
     "output_type": "execute_result"
    }
   ],
   "source": [
    "type(L1)"
   ]
  },
  {
   "cell_type": "markdown",
   "id": "689111e2-f0b1-425e-91de-51cdc04d4d39",
   "metadata": {},
   "source": [
    "### List Indexing"
   ]
  },
  {
   "cell_type": "code",
   "execution_count": 3,
   "id": "e458fa24-c973-42d5-a01f-e19033c29de0",
   "metadata": {},
   "outputs": [
    {
     "data": {
      "text/plain": [
       "1"
      ]
     },
     "execution_count": 3,
     "metadata": {},
     "output_type": "execute_result"
    }
   ],
   "source": [
    "L1[0]         # Fetch first element from the list"
   ]
  },
  {
   "cell_type": "code",
   "execution_count": 4,
   "id": "c0849256-97c9-4884-b222-88911b1a24d4",
   "metadata": {},
   "outputs": [
    {
     "data": {
      "text/plain": [
       "True"
      ]
     },
     "execution_count": 4,
     "metadata": {},
     "output_type": "execute_result"
    }
   ],
   "source": [
    "L1[-1]       # fetch last element from the list"
   ]
  },
  {
   "cell_type": "code",
   "execution_count": 5,
   "id": "5cf25f84-e395-4a68-91bc-6547b6da9c08",
   "metadata": {},
   "outputs": [
    {
     "data": {
      "text/plain": [
       "'Hi'"
      ]
     },
     "execution_count": 5,
     "metadata": {},
     "output_type": "execute_result"
    }
   ],
   "source": [
    "L1[3]        # fetch 3 indexed element from the list"
   ]
  },
  {
   "cell_type": "code",
   "execution_count": 6,
   "id": "69b33796-c0dd-455c-8281-45072600ba9d",
   "metadata": {},
   "outputs": [
    {
     "data": {
      "text/plain": [
       "[1, 2, 3, 'Hi']"
      ]
     },
     "execution_count": 6,
     "metadata": {},
     "output_type": "execute_result"
    }
   ],
   "source": [
    "L1[0:4]      # fetch first four elements from the list"
   ]
  },
  {
   "cell_type": "code",
   "execution_count": 7,
   "id": "9e80ab74-91d7-4073-b851-bc8bae853b02",
   "metadata": {},
   "outputs": [
    {
     "data": {
      "text/plain": [
       "['Hello', 10.5, True]"
      ]
     },
     "execution_count": 7,
     "metadata": {},
     "output_type": "execute_result"
    }
   ],
   "source": [
    "L1[4:]       # fetch the elements from 4th index to last element"
   ]
  },
  {
   "cell_type": "markdown",
   "id": "f1dd02d2-b7bd-4e8c-b7cf-f168d72553db",
   "metadata": {},
   "source": [
    "### List Slicing"
   ]
  },
  {
   "cell_type": "code",
   "execution_count": 8,
   "id": "760479f3-7633-4b8f-80cd-cbe7e6dd03cb",
   "metadata": {},
   "outputs": [
    {
     "data": {
      "text/plain": [
       "['Hi', 'Hello']"
      ]
     },
     "execution_count": 8,
     "metadata": {},
     "output_type": "execute_result"
    }
   ],
   "source": [
    "L1[3:5]     # Slicing"
   ]
  },
  {
   "cell_type": "code",
   "execution_count": 9,
   "id": "6a343738-3938-4e15-bc00-41431f118855",
   "metadata": {},
   "outputs": [
    {
     "data": {
      "text/plain": [
       "[1, 3, 'Hello', True]"
      ]
     },
     "execution_count": 9,
     "metadata": {},
     "output_type": "execute_result"
    }
   ],
   "source": [
    "L1[0:7:2]"
   ]
  },
  {
   "cell_type": "code",
   "execution_count": 14,
   "id": "1958f796-45dd-4b74-a254-e9df0707f8f5",
   "metadata": {},
   "outputs": [
    {
     "data": {
      "text/plain": [
       "[1, 3, 'Hello', True]"
      ]
     },
     "execution_count": 14,
     "metadata": {},
     "output_type": "execute_result"
    }
   ],
   "source": [
    "L1[::2]        "
   ]
  },
  {
   "cell_type": "markdown",
   "id": "bd3017a3-6c0a-48e0-a86d-f60e495bf39b",
   "metadata": {},
   "source": [
    "#### Reversing a list"
   ]
  },
  {
   "cell_type": "code",
   "execution_count": 17,
   "id": "60d5afbe-2daa-421d-9ca1-ba3bef832fa9",
   "metadata": {},
   "outputs": [
    {
     "data": {
      "text/plain": [
       "[True, 10.5, 'Hello', 'Hi', 3, 2, 1]"
      ]
     },
     "execution_count": 17,
     "metadata": {},
     "output_type": "execute_result"
    }
   ],
   "source": [
    "L1[::-1]      # whenever step equals to -1, then list will be started from right to left "
   ]
  },
  {
   "cell_type": "markdown",
   "id": "6d6eaf44-9c4f-4c8e-a870-8a2d9431a0ee",
   "metadata": {},
   "source": [
    "### Updating a list Items"
   ]
  },
  {
   "cell_type": "code",
   "execution_count": 19,
   "id": "86281cb4-2d32-4a95-a566-ad66d187236d",
   "metadata": {},
   "outputs": [
    {
     "data": {
      "text/plain": [
       "[1, 2, 3, 'Hi', 'Hello', 10.5, True]"
      ]
     },
     "execution_count": 19,
     "metadata": {},
     "output_type": "execute_result"
    }
   ],
   "source": [
    "L1"
   ]
  },
  {
   "cell_type": "code",
   "execution_count": 21,
   "id": "d43ff353-2bf9-40fc-906a-cdab391a4e62",
   "metadata": {},
   "outputs": [],
   "source": [
    "L1[1] = 25"
   ]
  },
  {
   "cell_type": "code",
   "execution_count": 22,
   "id": "1f7fade3-cd2a-447b-a0e0-8fa761cb5f19",
   "metadata": {},
   "outputs": [
    {
     "data": {
      "text/plain": [
       "[1, 25, 3, 'Hi', 'Hello', 10.5, True]"
      ]
     },
     "execution_count": 22,
     "metadata": {},
     "output_type": "execute_result"
    }
   ],
   "source": [
    "L1"
   ]
  },
  {
   "cell_type": "code",
   "execution_count": 23,
   "id": "2bd6ad32-7312-4be4-a50f-d3768335f80a",
   "metadata": {},
   "outputs": [],
   "source": [
    "L1[2] = \"How are you ?\""
   ]
  },
  {
   "cell_type": "code",
   "execution_count": 24,
   "id": "f2e7ad1c-b53b-43f0-a524-8e46243358bd",
   "metadata": {},
   "outputs": [
    {
     "data": {
      "text/plain": [
       "[1, 25, 'How are you ?', 'Hi', 'Hello', 10.5, True]"
      ]
     },
     "execution_count": 24,
     "metadata": {},
     "output_type": "execute_result"
    }
   ],
   "source": [
    "L1"
   ]
  },
  {
   "cell_type": "code",
   "execution_count": 26,
   "id": "e6e5e6e9-75f9-458e-8d6c-0666612f60ce",
   "metadata": {},
   "outputs": [],
   "source": [
    "L2 = [1, 2, 1, 1, 2, \"Hi\", \"Hello\", \"Hey\", \"Hello\"]  # list allow duplicate elements"
   ]
  },
  {
   "cell_type": "code",
   "execution_count": 33,
   "id": "b82ba6f1-1525-4de1-b715-2d18072890ae",
   "metadata": {},
   "outputs": [],
   "source": [
    "L2[0:5] = [10, 20, 10, 10, 20]   # Updaing multiple elements in a list"
   ]
  },
  {
   "cell_type": "code",
   "execution_count": 29,
   "id": "733de900-20f9-4551-9eeb-a32f6fe619ba",
   "metadata": {},
   "outputs": [
    {
     "data": {
      "text/plain": [
       "[10, 20, 10, 10, 20, 'Hi', 'Hello', 'Hey', 'Hello']"
      ]
     },
     "execution_count": 29,
     "metadata": {},
     "output_type": "execute_result"
    }
   ],
   "source": [
    "L2"
   ]
  },
  {
   "cell_type": "code",
   "execution_count": 31,
   "id": "0f0b2781-ed99-49f9-a7a3-b3c5fb16680b",
   "metadata": {},
   "outputs": [],
   "source": [
    "L2[0:5:2] = [1, 2, 5]      # Updaing multiple elements in a list with step"
   ]
  },
  {
   "cell_type": "code",
   "execution_count": 32,
   "id": "42570cb0-c654-49d1-bcb5-e611d662eb91",
   "metadata": {},
   "outputs": [
    {
     "data": {
      "text/plain": [
       "[1, 20, 2, 10, 5, 'Hi', 'Hello', 'Hey', 'Hello']"
      ]
     },
     "execution_count": 32,
     "metadata": {},
     "output_type": "execute_result"
    }
   ],
   "source": [
    "L2"
   ]
  },
  {
   "cell_type": "code",
   "execution_count": 37,
   "id": "23d56cc5-8e6c-4cf5-85c2-78c753f40d33",
   "metadata": {},
   "outputs": [
    {
     "name": "stdout",
     "output_type": "stream",
     "text": [
      "['John', 'Mike', 'Chris', 'Randy']\n"
     ]
    }
   ],
   "source": [
    "emp_1 = 'John'\n",
    "emp_2 = 'Mike'\n",
    "emp_3 = 'Chris'\n",
    "emp_4 = 'Randy'\n",
    "\n",
    "employee_list = [emp_1, emp_2, emp_3, emp_4]\n",
    "print(employee_list)"
   ]
  },
  {
   "cell_type": "markdown",
   "id": "2a27e575-b986-4554-8496-5b0da7d6fb2a",
   "metadata": {},
   "source": [
    "### Adding elements into the list"
   ]
  },
  {
   "cell_type": "markdown",
   "id": "7b770284-1658-4f49-8aea-a907db1186fe",
   "metadata": {},
   "source": [
    "* append   --> adds the new element to end of the list\n",
    "* insert\n",
    "    1. insert takes two arguments, index and value or object.\n",
    "    2. insert is used when we want to insert an element in a specific location based on index\n",
    "* extend   --> adds multiple elements at a time to the list(ex: adding list to another list)"
   ]
  },
  {
   "cell_type": "code",
   "execution_count": 38,
   "id": "ea266daa-deb3-479c-af42-ceacf695d163",
   "metadata": {},
   "outputs": [
    {
     "data": {
      "text/plain": [
       "[1, 25, 'How are you ?', 'Hi', 'Hello', 10.5, True]"
      ]
     },
     "execution_count": 38,
     "metadata": {},
     "output_type": "execute_result"
    }
   ],
   "source": [
    "L1"
   ]
  },
  {
   "cell_type": "code",
   "execution_count": 39,
   "id": "4b6cb277-5616-4b51-8ef4-ce2007264e52",
   "metadata": {},
   "outputs": [],
   "source": [
    "L1.append(\"John\")"
   ]
  },
  {
   "cell_type": "code",
   "execution_count": 40,
   "id": "cfe9d022-b81c-4b5c-afac-13b384a9bcb5",
   "metadata": {},
   "outputs": [
    {
     "data": {
      "text/plain": [
       "[1, 25, 'How are you ?', 'Hi', 'Hello', 10.5, True, 'John']"
      ]
     },
     "execution_count": 40,
     "metadata": {},
     "output_type": "execute_result"
    }
   ],
   "source": [
    "L1"
   ]
  },
  {
   "cell_type": "code",
   "execution_count": 41,
   "id": "7a8664c3-10f3-4ac5-a4da-01ded64931a7",
   "metadata": {},
   "outputs": [],
   "source": [
    "L1.append(250000)"
   ]
  },
  {
   "cell_type": "code",
   "execution_count": 42,
   "id": "ecbc6c6a-cf9b-4a9d-9a52-cf736314f8eb",
   "metadata": {},
   "outputs": [
    {
     "data": {
      "text/plain": [
       "[1, 25, 'How are you ?', 'Hi', 'Hello', 10.5, True, 'John', 250000]"
      ]
     },
     "execution_count": 42,
     "metadata": {},
     "output_type": "execute_result"
    }
   ],
   "source": [
    "L1"
   ]
  },
  {
   "cell_type": "code",
   "execution_count": 43,
   "id": "6934f26a-1f1e-45fd-92fa-07e3eb7226bf",
   "metadata": {},
   "outputs": [
    {
     "ename": "TypeError",
     "evalue": "list.append() takes exactly one argument (2 given)",
     "output_type": "error",
     "traceback": [
      "\u001b[1;31m---------------------------------------------------------------------------\u001b[0m",
      "\u001b[1;31mTypeError\u001b[0m                                 Traceback (most recent call last)",
      "Cell \u001b[1;32mIn[43], line 1\u001b[0m\n\u001b[1;32m----> 1\u001b[0m \u001b[43mL1\u001b[49m\u001b[38;5;241;43m.\u001b[39;49m\u001b[43mappend\u001b[49m\u001b[43m(\u001b[49m\u001b[38;5;241;43m234\u001b[39;49m\u001b[43m,\u001b[49m\u001b[43m \u001b[49m\u001b[38;5;124;43m\"\u001b[39;49m\u001b[38;5;124;43mOnce in a year\u001b[39;49m\u001b[38;5;124;43m\"\u001b[39;49m\u001b[43m)\u001b[49m\n",
      "\u001b[1;31mTypeError\u001b[0m: list.append() takes exactly one argument (2 given)"
     ]
    }
   ],
   "source": [
    "L1.append(234, \"Once in a year\")"
   ]
  },
  {
   "cell_type": "code",
   "execution_count": 44,
   "id": "fe23e01c-e7c1-4127-9b36-8c9e2bdae093",
   "metadata": {},
   "outputs": [
    {
     "ename": "TypeError",
     "evalue": "list.extend() takes exactly one argument (2 given)",
     "output_type": "error",
     "traceback": [
      "\u001b[1;31m---------------------------------------------------------------------------\u001b[0m",
      "\u001b[1;31mTypeError\u001b[0m                                 Traceback (most recent call last)",
      "Cell \u001b[1;32mIn[44], line 1\u001b[0m\n\u001b[1;32m----> 1\u001b[0m \u001b[43mL1\u001b[49m\u001b[38;5;241;43m.\u001b[39;49m\u001b[43mextend\u001b[49m\u001b[43m(\u001b[49m\u001b[38;5;241;43m234\u001b[39;49m\u001b[43m,\u001b[49m\u001b[43m \u001b[49m\u001b[38;5;124;43m\"\u001b[39;49m\u001b[38;5;124;43mOnce in a year\u001b[39;49m\u001b[38;5;124;43m\"\u001b[39;49m\u001b[43m)\u001b[49m\n",
      "\u001b[1;31mTypeError\u001b[0m: list.extend() takes exactly one argument (2 given)"
     ]
    }
   ],
   "source": [
    "L1.extend(234, \"Once in a year\")"
   ]
  },
  {
   "cell_type": "code",
   "execution_count": 45,
   "id": "c7734dd9-76de-4524-b19c-150c1af04012",
   "metadata": {},
   "outputs": [],
   "source": [
    "L1.extend([234, \"Once in a year\"])"
   ]
  },
  {
   "cell_type": "code",
   "execution_count": 46,
   "id": "40470c9b-0e34-4acb-b71e-b37c12babb79",
   "metadata": {},
   "outputs": [
    {
     "data": {
      "text/plain": [
       "[1,\n",
       " 25,\n",
       " 'How are you ?',\n",
       " 'Hi',\n",
       " 'Hello',\n",
       " 10.5,\n",
       " True,\n",
       " 'John',\n",
       " 250000,\n",
       " 234,\n",
       " 'Once in a year']"
      ]
     },
     "execution_count": 46,
     "metadata": {},
     "output_type": "execute_result"
    }
   ],
   "source": [
    "L1"
   ]
  },
  {
   "cell_type": "code",
   "execution_count": 47,
   "id": "9cbe3b52-ad5a-40b1-8da5-7eb0f9604043",
   "metadata": {},
   "outputs": [],
   "source": [
    "L1.append([234, \"Once in a year\"])"
   ]
  },
  {
   "cell_type": "code",
   "execution_count": 48,
   "id": "42578866-052d-468b-bb3b-aa76b4eb7c5f",
   "metadata": {},
   "outputs": [
    {
     "data": {
      "text/plain": [
       "[1,\n",
       " 25,\n",
       " 'How are you ?',\n",
       " 'Hi',\n",
       " 'Hello',\n",
       " 10.5,\n",
       " True,\n",
       " 'John',\n",
       " 250000,\n",
       " 234,\n",
       " 'Once in a year',\n",
       " [234, 'Once in a year']]"
      ]
     },
     "execution_count": 48,
     "metadata": {},
     "output_type": "execute_result"
    }
   ],
   "source": [
    "L1"
   ]
  },
  {
   "cell_type": "code",
   "execution_count": 49,
   "id": "f587044a-e23a-43bf-a2f9-fe47054d4bf2",
   "metadata": {},
   "outputs": [
    {
     "data": {
      "text/plain": [
       "[234, 'Once in a year']"
      ]
     },
     "execution_count": 49,
     "metadata": {},
     "output_type": "execute_result"
    }
   ],
   "source": [
    "L1[-1]"
   ]
  },
  {
   "cell_type": "code",
   "execution_count": 51,
   "id": "737306dc-e8be-4472-bbda-d95597ff1d7b",
   "metadata": {},
   "outputs": [
    {
     "data": {
      "text/plain": [
       "'Once in a year'"
      ]
     },
     "execution_count": 51,
     "metadata": {},
     "output_type": "execute_result"
    }
   ],
   "source": [
    "L1[-1][-1]   "
   ]
  },
  {
   "cell_type": "code",
   "execution_count": 67,
   "id": "1b399e41-1bc2-4b41-a3d4-d726566a6d4f",
   "metadata": {},
   "outputs": [],
   "source": [
    "L3 = [123, [\"Hey\", \"Hello\", \"Welcome\", \"Granted\", 9], [1, 5, 7, 56, 78, 90], [True, False, \"Hyd\", \"Blr\"]]"
   ]
  },
  {
   "cell_type": "code",
   "execution_count": 68,
   "id": "2480b0bc-b85e-434f-be8d-d8728d109c0e",
   "metadata": {},
   "outputs": [
    {
     "data": {
      "text/plain": [
       "4"
      ]
     },
     "execution_count": 68,
     "metadata": {},
     "output_type": "execute_result"
    }
   ],
   "source": [
    "len(L3)"
   ]
  },
  {
   "cell_type": "code",
   "execution_count": 69,
   "id": "0eb283a5-11e1-45f1-a459-ae4fe3c1f05c",
   "metadata": {},
   "outputs": [
    {
     "data": {
      "text/plain": [
       "['Hey', 'Hello', 'Welcome', 'Granted', 9]"
      ]
     },
     "execution_count": 69,
     "metadata": {},
     "output_type": "execute_result"
    }
   ],
   "source": [
    "L3[1]"
   ]
  },
  {
   "cell_type": "code",
   "execution_count": 70,
   "id": "eb5c0017-d62a-4373-97bf-5f6f238f5d63",
   "metadata": {},
   "outputs": [
    {
     "data": {
      "text/plain": [
       "5"
      ]
     },
     "execution_count": 70,
     "metadata": {},
     "output_type": "execute_result"
    }
   ],
   "source": [
    "len(L3[1])"
   ]
  },
  {
   "cell_type": "code",
   "execution_count": 71,
   "id": "b5b28f38-39f6-4f58-8283-337f4ed64d16",
   "metadata": {},
   "outputs": [],
   "source": [
    "L3[1][1] = 'Hello All'"
   ]
  },
  {
   "cell_type": "code",
   "execution_count": 72,
   "id": "10d49afc-52b2-4c3f-8ee1-504525ccff32",
   "metadata": {},
   "outputs": [
    {
     "data": {
      "text/plain": [
       "[123,\n",
       " ['Hey', 'Hello All', 'Welcome', 'Granted', 9],\n",
       " [1, 5, 7, 56, 78, 90],\n",
       " [True, False, 'Hyd', 'Blr']]"
      ]
     },
     "execution_count": 72,
     "metadata": {},
     "output_type": "execute_result"
    }
   ],
   "source": [
    "L3"
   ]
  },
  {
   "cell_type": "code",
   "execution_count": 73,
   "id": "6c7ba6d4-48fc-4073-885d-712b44ce0fd1",
   "metadata": {},
   "outputs": [],
   "source": [
    "L3[1].append(\"I am new element\")"
   ]
  },
  {
   "cell_type": "code",
   "execution_count": 74,
   "id": "37459002-e591-42f9-bdcc-844f8c41f2f5",
   "metadata": {},
   "outputs": [
    {
     "data": {
      "text/plain": [
       "[123,\n",
       " ['Hey', 'Hello All', 'Welcome', 'Granted', 9, 'I am new element'],\n",
       " [1, 5, 7, 56, 78, 90],\n",
       " [True, False, 'Hyd', 'Blr']]"
      ]
     },
     "execution_count": 74,
     "metadata": {},
     "output_type": "execute_result"
    }
   ],
   "source": [
    "L3"
   ]
  },
  {
   "cell_type": "code",
   "execution_count": 78,
   "id": "ee2012e6-e59b-4b96-b3c6-0419e90e5076",
   "metadata": {},
   "outputs": [],
   "source": [
    "L4 = list(range(1,11))"
   ]
  },
  {
   "cell_type": "code",
   "execution_count": 79,
   "id": "858f83f3-fd84-4f6a-918e-a3e7189ccefb",
   "metadata": {},
   "outputs": [
    {
     "data": {
      "text/plain": [
       "[1, 2, 3, 4, 5, 6, 7, 8, 9, 10]"
      ]
     },
     "execution_count": 79,
     "metadata": {},
     "output_type": "execute_result"
    }
   ],
   "source": [
    "L4"
   ]
  },
  {
   "cell_type": "code",
   "execution_count": 80,
   "id": "c8f10874-8f72-4a9d-a756-a44c5c7e9761",
   "metadata": {},
   "outputs": [],
   "source": [
    "L4.insert(3, 50)"
   ]
  },
  {
   "cell_type": "code",
   "execution_count": 81,
   "id": "f9aa3f89-d7be-4317-915f-20d208859785",
   "metadata": {},
   "outputs": [
    {
     "data": {
      "text/plain": [
       "[1, 2, 3, 50, 4, 5, 6, 7, 8, 9, 10]"
      ]
     },
     "execution_count": 81,
     "metadata": {},
     "output_type": "execute_result"
    }
   ],
   "source": [
    "L4"
   ]
  },
  {
   "cell_type": "code",
   "execution_count": 82,
   "id": "c1da9e4b-8788-4408-ac42-d6ef23260daf",
   "metadata": {},
   "outputs": [],
   "source": [
    "L4.insert(3, [12, 14, 16])"
   ]
  },
  {
   "cell_type": "code",
   "execution_count": 83,
   "id": "43987842-b6a0-4ded-ba92-7268d5a62cda",
   "metadata": {},
   "outputs": [
    {
     "data": {
      "text/plain": [
       "[1, 2, 3, [12, 14, 16], 50, 4, 5, 6, 7, 8, 9, 10]"
      ]
     },
     "execution_count": 83,
     "metadata": {},
     "output_type": "execute_result"
    }
   ],
   "source": [
    "L4"
   ]
  },
  {
   "cell_type": "markdown",
   "id": "d4ccb50b-849c-4b5f-9d49-5c8cff59ba5c",
   "metadata": {},
   "source": [
    "## Removing elemens from a list"
   ]
  },
  {
   "cell_type": "markdown",
   "id": "d67d21b8-1c25-4a8b-bef6-1eb3d5b9a43a",
   "metadata": {},
   "source": [
    "* remove  --->   removes the mentioned element from the list\n",
    "* pop     --->   pop is used to delete the mntioned index element, pop removed last element if we don't mention index."
   ]
  },
  {
   "cell_type": "code",
   "execution_count": 86,
   "id": "52d7a85c-634d-4e8a-ab90-d9dd56e92096",
   "metadata": {},
   "outputs": [
    {
     "data": {
      "text/plain": [
       "[1, 2, 3, [12, 14, 16], 50, 4, 5, 6, 7, 8, 9, 10]"
      ]
     },
     "execution_count": 86,
     "metadata": {},
     "output_type": "execute_result"
    }
   ],
   "source": [
    "L4"
   ]
  },
  {
   "cell_type": "code",
   "execution_count": 88,
   "id": "87e9b942-1acd-4e17-8f2a-d76d594b67c3",
   "metadata": {},
   "outputs": [],
   "source": [
    "L4.remove(2)"
   ]
  },
  {
   "cell_type": "code",
   "execution_count": 89,
   "id": "72b7e634-a493-49dc-b389-8febcd4437e1",
   "metadata": {},
   "outputs": [
    {
     "data": {
      "text/plain": [
       "[1, 3, [12, 14, 16], 50, 4, 5, 6, 7, 8, 9, 10]"
      ]
     },
     "execution_count": 89,
     "metadata": {},
     "output_type": "execute_result"
    }
   ],
   "source": [
    "L4"
   ]
  },
  {
   "cell_type": "code",
   "execution_count": 90,
   "id": "207478bf-0ab6-4298-9b1a-986463c69599",
   "metadata": {},
   "outputs": [
    {
     "ename": "TypeError",
     "evalue": "list.remove() takes exactly one argument (0 given)",
     "output_type": "error",
     "traceback": [
      "\u001b[1;31m---------------------------------------------------------------------------\u001b[0m",
      "\u001b[1;31mTypeError\u001b[0m                                 Traceback (most recent call last)",
      "Cell \u001b[1;32mIn[90], line 1\u001b[0m\n\u001b[1;32m----> 1\u001b[0m \u001b[43mL4\u001b[49m\u001b[38;5;241;43m.\u001b[39;49m\u001b[43mremove\u001b[49m\u001b[43m(\u001b[49m\u001b[43m)\u001b[49m\n",
      "\u001b[1;31mTypeError\u001b[0m: list.remove() takes exactly one argument (0 given)"
     ]
    }
   ],
   "source": [
    "L4.remove()"
   ]
  },
  {
   "cell_type": "code",
   "execution_count": 91,
   "id": "52d72855-3caa-43dd-9cf9-699f0591cf8e",
   "metadata": {},
   "outputs": [
    {
     "data": {
      "text/plain": [
       "10"
      ]
     },
     "execution_count": 91,
     "metadata": {},
     "output_type": "execute_result"
    }
   ],
   "source": [
    "L4.pop()"
   ]
  },
  {
   "cell_type": "code",
   "execution_count": 92,
   "id": "70d3c8c6-2ee8-448a-85c4-8d85acba26c7",
   "metadata": {},
   "outputs": [
    {
     "data": {
      "text/plain": [
       "[1, 3, [12, 14, 16], 50, 4, 5, 6, 7, 8, 9]"
      ]
     },
     "execution_count": 92,
     "metadata": {},
     "output_type": "execute_result"
    }
   ],
   "source": [
    "L4"
   ]
  },
  {
   "cell_type": "code",
   "execution_count": 93,
   "id": "4efd5304-0e7a-489c-a236-15cd1515fdab",
   "metadata": {},
   "outputs": [
    {
     "data": {
      "text/plain": [
       "[12, 14, 16]"
      ]
     },
     "execution_count": 93,
     "metadata": {},
     "output_type": "execute_result"
    }
   ],
   "source": [
    "L4.pop(2)"
   ]
  },
  {
   "cell_type": "code",
   "execution_count": 94,
   "id": "32c4c548-1728-4dd4-b2ae-693245bc7406",
   "metadata": {},
   "outputs": [
    {
     "data": {
      "text/plain": [
       "[1, 3, 50, 4, 5, 6, 7, 8, 9]"
      ]
     },
     "execution_count": 94,
     "metadata": {},
     "output_type": "execute_result"
    }
   ],
   "source": [
    "L4"
   ]
  },
  {
   "cell_type": "code",
   "execution_count": 95,
   "id": "48104689-e3bb-4464-a660-6bb89664f5d6",
   "metadata": {},
   "outputs": [],
   "source": [
    "deleted_2nd_value_in_L4 = L4.pop(2)"
   ]
  },
  {
   "cell_type": "code",
   "execution_count": 96,
   "id": "86670e4d-1d8e-45fb-afdb-681bd03cc4d8",
   "metadata": {},
   "outputs": [
    {
     "data": {
      "text/plain": [
       "[1, 3, 4, 5, 6, 7, 8, 9]"
      ]
     },
     "execution_count": 96,
     "metadata": {},
     "output_type": "execute_result"
    }
   ],
   "source": [
    "L4"
   ]
  },
  {
   "cell_type": "code",
   "execution_count": 97,
   "id": "0af8a99d-6671-44a2-ac90-5d19213ea0eb",
   "metadata": {},
   "outputs": [
    {
     "data": {
      "text/plain": [
       "50"
      ]
     },
     "execution_count": 97,
     "metadata": {},
     "output_type": "execute_result"
    }
   ],
   "source": [
    "deleted_2nd_value_in_L4"
   ]
  },
  {
   "cell_type": "code",
   "execution_count": 98,
   "id": "6dcb765c-ec21-403a-b4ba-e6f0371c0d5b",
   "metadata": {},
   "outputs": [],
   "source": [
    "L5 = [1, 3, [12, 14, 16], 50, 4, 5, 6, 7, 8, 9]"
   ]
  },
  {
   "cell_type": "code",
   "execution_count": 99,
   "id": "f1abc078-bb74-4ff8-8885-0ff6e0e6f540",
   "metadata": {},
   "outputs": [
    {
     "data": {
      "text/plain": [
       "14"
      ]
     },
     "execution_count": 99,
     "metadata": {},
     "output_type": "execute_result"
    }
   ],
   "source": [
    "L5[2].pop(1)"
   ]
  },
  {
   "cell_type": "code",
   "execution_count": 100,
   "id": "5ce49caa-de0d-4d71-b9c8-41996aeaa53c",
   "metadata": {},
   "outputs": [
    {
     "data": {
      "text/plain": [
       "[1, 3, [12, 16], 50, 4, 5, 6, 7, 8, 9]"
      ]
     },
     "execution_count": 100,
     "metadata": {},
     "output_type": "execute_result"
    }
   ],
   "source": [
    "L5"
   ]
  },
  {
   "cell_type": "markdown",
   "id": "3d6676eb-9a7f-4e01-9282-51bdbcded532",
   "metadata": {},
   "source": [
    "### Looping  a list"
   ]
  },
  {
   "cell_type": "code",
   "execution_count": 112,
   "id": "88ba7863-cd47-421e-8d1a-63669589b87e",
   "metadata": {},
   "outputs": [
    {
     "name": "stdout",
     "output_type": "stream",
     "text": [
      "[1, 3, 4, 5, 6, 7, 8, 9]\n"
     ]
    }
   ],
   "source": [
    "print(L4)"
   ]
  },
  {
   "cell_type": "code",
   "execution_count": 113,
   "id": "0ac45ef7-9123-45dc-953c-688f32500dd4",
   "metadata": {},
   "outputs": [
    {
     "name": "stdout",
     "output_type": "stream",
     "text": [
      "1\n",
      "3\n",
      "4\n",
      "5\n",
      "6\n",
      "7\n",
      "8\n",
      "9\n"
     ]
    }
   ],
   "source": [
    "for item in L4:\n",
    "    print(item)"
   ]
  },
  {
   "cell_type": "code",
   "execution_count": 114,
   "id": "ecdaa669-dbaa-4986-afcf-ec04a314fbe6",
   "metadata": {},
   "outputs": [
    {
     "name": "stdout",
     "output_type": "stream",
     "text": [
      "square of 1 is: 1\n",
      "square of 3 is: 9\n",
      "square of 4 is: 16\n",
      "square of 5 is: 25\n",
      "square of 6 is: 36\n",
      "square of 7 is: 49\n",
      "square of 8 is: 64\n",
      "square of 9 is: 81\n"
     ]
    }
   ],
   "source": [
    "for item in L4:\n",
    "    print(\"square of\", item, \"is:\", item*item)"
   ]
  },
  {
   "cell_type": "code",
   "execution_count": 115,
   "id": "34f32523-4489-4ae3-be63-b5d1d6e7a56c",
   "metadata": {},
   "outputs": [
    {
     "data": {
      "text/plain": [
       "[1, 2, 3, 4, 5, 6, 7, 8, 9]"
      ]
     },
     "execution_count": 115,
     "metadata": {},
     "output_type": "execute_result"
    }
   ],
   "source": [
    "L4.insert(1, 2)\n",
    "L4"
   ]
  },
  {
   "cell_type": "code",
   "execution_count": 117,
   "id": "e31e319a-23a5-4d15-b365-42484f63d375",
   "metadata": {},
   "outputs": [],
   "source": [
    "L4.append(10)"
   ]
  },
  {
   "cell_type": "code",
   "execution_count": 118,
   "id": "0a8bd398-4e87-41f3-9512-ee11a0d0f7f6",
   "metadata": {},
   "outputs": [
    {
     "data": {
      "text/plain": [
       "[1, 2, 3, 4, 5, 6, 7, 8, 9, 10]"
      ]
     },
     "execution_count": 118,
     "metadata": {},
     "output_type": "execute_result"
    }
   ],
   "source": [
    "L4"
   ]
  },
  {
   "cell_type": "code",
   "execution_count": 119,
   "id": "ea2513ba-d310-46ee-99bf-020058aa662a",
   "metadata": {},
   "outputs": [
    {
     "name": "stdout",
     "output_type": "stream",
     "text": [
      "1 is odd number\n",
      "2 is even number\n",
      "3 is odd number\n",
      "4 is even number\n",
      "5 is odd number\n",
      "6 is even number\n",
      "7 is odd number\n",
      "8 is even number\n",
      "9 is odd number\n",
      "10 is even number\n"
     ]
    }
   ],
   "source": [
    "for i in L4:\n",
    "    if i%2 == 0:\n",
    "        result = 'even'\n",
    "    else:\n",
    "        result = 'odd'\n",
    "    print(i, \"is\", result, \"number\")"
   ]
  },
  {
   "cell_type": "code",
   "execution_count": 121,
   "id": "f4c93518-ad3f-4b62-ac00-736617d0b2a0",
   "metadata": {},
   "outputs": [
    {
     "ename": "SyntaxError",
     "evalue": "invalid syntax (4230150903.py, line 7)",
     "output_type": "error",
     "traceback": [
      "\u001b[1;36m  Cell \u001b[1;32mIn[121], line 7\u001b[1;36m\u001b[0m\n\u001b[1;33m    if i in\u001b[0m\n\u001b[1;37m            ^\u001b[0m\n\u001b[1;31mSyntaxError\u001b[0m\u001b[1;31m:\u001b[0m invalid syntax\n"
     ]
    }
   ],
   "source": [
    "Q1 = [\"Jan\", \"feb\", \"Mar\"]\n",
    "Q2 = [\"Apr\", \"May\", \"Jun\"]\n",
    "Q3 = [\"Jul\", \"Aug\", \"Sep\"]\n",
    "Q4 = [\"Oct\", \"Nov\", \"Dec\"]\n",
    "\n",
    "for i in [\"Jan\", \"feb\", \"Mar\", \"Apr\", \"May\", \"Jun\", \"Jul\", \"Aug\", \"Sep\", \"Oct\", \"Nov\", \"Dec\"]:\n",
    "    if i in Q1:\n",
    "        print(i, \"belongs to\", )"
   ]
  },
  {
   "cell_type": "code",
   "execution_count": null,
   "id": "98b8121c-bf05-40ff-9c42-e01be2190175",
   "metadata": {},
   "outputs": [],
   "source": []
  }
 ],
 "metadata": {
  "kernelspec": {
   "display_name": "Python 3 (ipykernel)",
   "language": "python",
   "name": "python3"
  },
  "language_info": {
   "codemirror_mode": {
    "name": "ipython",
    "version": 3
   },
   "file_extension": ".py",
   "mimetype": "text/x-python",
   "name": "python",
   "nbconvert_exporter": "python",
   "pygments_lexer": "ipython3",
   "version": "3.10.11"
  }
 },
 "nbformat": 4,
 "nbformat_minor": 5
}
