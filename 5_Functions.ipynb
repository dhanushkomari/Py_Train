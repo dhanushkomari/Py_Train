{
 "cells": [
  {
   "cell_type": "markdown",
   "id": "0bd129fe-1106-43a9-ab46-636c1d5799d7",
   "metadata": {},
   "source": [
    "# Functions\n",
    "* Function can be represented as a block of code\n",
    "* function can be implemented with the help of def keyword\n",
    "* Functions can be mainly two types\n",
    "  1. Pre-built functions         --> for ex.., len(), range(), list()\n",
    "  2. User-defined functions      --> These functions created on our own\n",
    "* One of the main advantages of functions are code reusability, code complexity.\n",
    "* Don't use inbuilt function name, and keywords as our function names.\n",
    "* Types of functions:\n",
    "  1. function without parameters and without return value\n",
    "  2. function with parameters and without return value\n",
    "  3. function without parameters and with return value\n",
    "  4. function with parameters and with return value\n",
    " \n"
   ]
  },
  {
   "cell_type": "code",
   "execution_count": 1,
   "id": "6987d11a-0a03-4cf5-8e8f-7767e4c2b7e6",
   "metadata": {},
   "outputs": [
    {
     "name": "stdout",
     "output_type": "stream",
     "text": [
      "300\n"
     ]
    }
   ],
   "source": [
    "a = 100\n",
    "b = 200\n",
    "print(a+b)"
   ]
  },
  {
   "cell_type": "markdown",
   "id": "9298c286-a7f6-4c74-8a45-a06239c2db3c",
   "metadata": {},
   "source": [
    "### Function with out parameters"
   ]
  },
  {
   "cell_type": "code",
   "execution_count": 29,
   "id": "33698c82-1db9-4e30-8388-e42516ab8d1e",
   "metadata": {},
   "outputs": [],
   "source": [
    "def addition():       \n",
    "    a = 100\n",
    "    b = 200\n",
    "    print(a+b)"
   ]
  },
  {
   "cell_type": "code",
   "execution_count": 3,
   "id": "9fdf3839-71e8-4756-a29e-0d6535da86e3",
   "metadata": {},
   "outputs": [
    {
     "name": "stdout",
     "output_type": "stream",
     "text": [
      "300\n"
     ]
    }
   ],
   "source": [
    "addition()"
   ]
  },
  {
   "cell_type": "code",
   "execution_count": 6,
   "id": "b42ee218-a1f0-433d-b51d-9d7a485cbce4",
   "metadata": {},
   "outputs": [],
   "source": [
    "def addition():\n",
    "    a = int(input(\"Enter a value: \"))\n",
    "    b = int(input(\"Enter b value: \"))\n",
    "    print(a+b)"
   ]
  },
  {
   "cell_type": "code",
   "execution_count": 7,
   "id": "b2794f64-70be-4698-b989-c0aca4efdf92",
   "metadata": {},
   "outputs": [
    {
     "name": "stdin",
     "output_type": "stream",
     "text": [
      "Enter a value:  299\n",
      "Enter b value:  677\n"
     ]
    },
    {
     "name": "stdout",
     "output_type": "stream",
     "text": [
      "976\n"
     ]
    }
   ],
   "source": [
    "addition()"
   ]
  },
  {
   "cell_type": "code",
   "execution_count": 9,
   "id": "c9bef1b4-fee8-4f33-b681-24d5d68ff789",
   "metadata": {},
   "outputs": [],
   "source": [
    "def addition(a, b):           # ---- Here a and b works as arguments\n",
    "    print(\"addition is :\", a+b)"
   ]
  },
  {
   "cell_type": "markdown",
   "id": "d4857174-d297-4ddf-9f90-a2907fd52588",
   "metadata": {},
   "source": [
    "### Functions with parameters"
   ]
  },
  {
   "cell_type": "code",
   "execution_count": 10,
   "id": "f9f67d06-6b2f-4fb7-8e7b-a43e1cde008c",
   "metadata": {},
   "outputs": [
    {
     "ename": "TypeError",
     "evalue": "addition() missing 2 required positional arguments: 'a' and 'b'",
     "output_type": "error",
     "traceback": [
      "\u001b[1;31m---------------------------------------------------------------------------\u001b[0m",
      "\u001b[1;31mTypeError\u001b[0m                                 Traceback (most recent call last)",
      "Cell \u001b[1;32mIn[10], line 1\u001b[0m\n\u001b[1;32m----> 1\u001b[0m \u001b[43maddition\u001b[49m\u001b[43m(\u001b[49m\u001b[43m)\u001b[49m\n",
      "\u001b[1;31mTypeError\u001b[0m: addition() missing 2 required positional arguments: 'a' and 'b'"
     ]
    }
   ],
   "source": [
    "addition()"
   ]
  },
  {
   "cell_type": "code",
   "execution_count": 11,
   "id": "634b8c3c-1926-46da-8e52-858e1fb8ced4",
   "metadata": {},
   "outputs": [
    {
     "name": "stdout",
     "output_type": "stream",
     "text": [
      "addition is : 579\n"
     ]
    }
   ],
   "source": [
    "addition(123, 456)"
   ]
  },
  {
   "cell_type": "code",
   "execution_count": 13,
   "id": "667a2aa9-82cb-47d7-a27c-4ca824590cde",
   "metadata": {},
   "outputs": [
    {
     "name": "stdout",
     "output_type": "stream",
     "text": [
      "addition is : 420\n"
     ]
    }
   ],
   "source": [
    "addition(b = 20, a = 400)"
   ]
  },
  {
   "cell_type": "code",
   "execution_count": 20,
   "id": "334d8e9c-0021-4fc8-afa7-dc7cf9552ab5",
   "metadata": {},
   "outputs": [
    {
     "name": "stdout",
     "output_type": "stream",
     "text": [
      "addition is : 1365\n",
      "subtracting b from a : -233\n"
     ]
    }
   ],
   "source": [
    "def arith(a = 100, b = 200):        # # ---- Here a and be works as keyword arguments\n",
    "    print(\"addition is :\", a+b)\n",
    "    print(\"subtracting b from a :\", b-a)\n",
    "arith(799, 566)"
   ]
  },
  {
   "cell_type": "code",
   "execution_count": 32,
   "id": "9f67042f-0dbc-4119-9a62-693bf4540941",
   "metadata": {},
   "outputs": [],
   "source": [
    "def login(username, password):\n",
    "    print(\"You've entered username :\", username)\n",
    "    print(\"You've entered password :\", password)\n",
    "    if username == 'Dhanush123' and password == 'Dh@nu&2022':\n",
    "        print(\"User logged in\")\n",
    "        print(\"Welcome,\", username)\n",
    "    else:\n",
    "        print(\"Invalid Credentials\")    "
   ]
  },
  {
   "cell_type": "code",
   "execution_count": 33,
   "id": "01273b20-7156-401b-8630-3770784fad58",
   "metadata": {},
   "outputs": [
    {
     "name": "stdout",
     "output_type": "stream",
     "text": [
      "You've entered username : Dhanush123\n",
      "You've entered password : Dh@nu&2022\n",
      "User logged in\n",
      "Welcome, Dhanush123\n"
     ]
    }
   ],
   "source": [
    "login(username = 'Dhanush123', password = 'Dh@nu&2022')"
   ]
  },
  {
   "cell_type": "code",
   "execution_count": 34,
   "id": "17cf7bfc-a02a-4465-ade4-81677ad066a4",
   "metadata": {},
   "outputs": [
    {
     "name": "stdout",
     "output_type": "stream",
     "text": [
      "You've entered username : ahsjfjds\n",
      "You've entered password : asyeuruau\n",
      "Invalid Credentials\n"
     ]
    }
   ],
   "source": [
    "login(\"ahsjfjds\", 'asyeuruau')"
   ]
  },
  {
   "cell_type": "markdown",
   "id": "d606158d-d448-42ac-8e6b-fdb750ad3bdb",
   "metadata": {},
   "source": [
    "### function with and without return"
   ]
  },
  {
   "cell_type": "code",
   "execution_count": 35,
   "id": "0cdb1925-082b-4a13-991c-f18f3e198116",
   "metadata": {},
   "outputs": [],
   "source": [
    "def login(username, password):\n",
    "    print(\"You've entered username :\", username)\n",
    "    print(\"You've entered password :\", password)\n",
    "    if username == 'Dhanush123' and password == 'Dh@nu&2022':\n",
    "        print(\"User logged in\")\n",
    "        print(\"Welcome,\", username)\n",
    "    else:\n",
    "        print(\"Invalid Credentials\") "
   ]
  },
  {
   "cell_type": "code",
   "execution_count": 38,
   "id": "da4cdfad-ba9f-4f24-9478-e38faf185a01",
   "metadata": {},
   "outputs": [
    {
     "name": "stdout",
     "output_type": "stream",
     "text": [
      "You've entered username : Dhanush123\n",
      "You've entered password : Dh@nu&2022\n",
      "User logged in\n",
      "Welcome, Dhanush123\n"
     ]
    }
   ],
   "source": [
    "result = login(\"Dhanush123\", \"Dh@nu&2022\")"
   ]
  },
  {
   "cell_type": "code",
   "execution_count": 40,
   "id": "a01aa97e-79bb-4f59-90ff-bce896d0e4ff",
   "metadata": {},
   "outputs": [],
   "source": [
    "result   # here result function is not getting any result due to we are not used return"
   ]
  },
  {
   "cell_type": "code",
   "execution_count": null,
   "id": "f901d0d5-4727-448a-ac3d-bdbeb73e33b5",
   "metadata": {},
   "outputs": [],
   "source": []
  },
  {
   "cell_type": "code",
   "execution_count": 44,
   "id": "8a870fd5-85f8-46ca-84af-f578511ff786",
   "metadata": {},
   "outputs": [],
   "source": [
    "def login(username, password):\n",
    "    print(\"You've entered username :\", username)\n",
    "    print(\"You've entered password :\", password)\n",
    "    if username == 'Dhanush123' and password == 'Dh@nu&2022':\n",
    "        user = \"Dhanush\"\n",
    "        print(\"User logged in\")\n",
    "        print(\"Welcome,\", username)\n",
    "    else:\n",
    "        user = None\n",
    "        print(\"Invalid Credentials\") \n",
    "    return user"
   ]
  },
  {
   "cell_type": "code",
   "execution_count": 50,
   "id": "b841e173-c8cc-4252-a736-67c21a3cfff1",
   "metadata": {},
   "outputs": [
    {
     "name": "stdout",
     "output_type": "stream",
     "text": [
      "You've entered username : Dhanush123\n",
      "You've entered password : Dh@nu&2022\n",
      "User logged in\n",
      "Welcome, Dhanush123\n"
     ]
    }
   ],
   "source": [
    "result = login(\"Dhanush123\", \"Dh@nu&2022\")"
   ]
  },
  {
   "cell_type": "code",
   "execution_count": 51,
   "id": "a9adee05-34ff-4d08-9097-7655b601cfb5",
   "metadata": {},
   "outputs": [
    {
     "data": {
      "text/plain": [
       "'Dhanush'"
      ]
     },
     "execution_count": 51,
     "metadata": {},
     "output_type": "execute_result"
    }
   ],
   "source": [
    "result"
   ]
  },
  {
   "cell_type": "code",
   "execution_count": 52,
   "id": "0d23d79d-5449-45df-838e-0aba0ed136cc",
   "metadata": {},
   "outputs": [
    {
     "name": "stdout",
     "output_type": "stream",
     "text": [
      "You've entered username : ush123\n",
      "You've entered password : Dh@nu&2022\n",
      "Invalid Credentials\n"
     ]
    }
   ],
   "source": [
    "result = login(\"ush123\", \"Dh@nu&2022\")"
   ]
  },
  {
   "cell_type": "code",
   "execution_count": 53,
   "id": "0289b06e-d868-41b0-9a5a-b07f95a15733",
   "metadata": {},
   "outputs": [],
   "source": [
    "result"
   ]
  },
  {
   "cell_type": "code",
   "execution_count": 54,
   "id": "fef1a0d0-06ba-4594-800d-440ebaf013bf",
   "metadata": {},
   "outputs": [],
   "source": [
    "def addition(a, b):\n",
    "    return a+b"
   ]
  },
  {
   "cell_type": "code",
   "execution_count": 56,
   "id": "aba0e35c-f8c2-422b-9370-c1b046e33905",
   "metadata": {},
   "outputs": [],
   "source": [
    "add = addition(10, 20)"
   ]
  },
  {
   "cell_type": "code",
   "execution_count": 57,
   "id": "e23f4953-42bd-4229-a800-94bcf1e1b6f4",
   "metadata": {},
   "outputs": [
    {
     "data": {
      "text/plain": [
       "30"
      ]
     },
     "execution_count": 57,
     "metadata": {},
     "output_type": "execute_result"
    }
   ],
   "source": [
    "add"
   ]
  },
  {
   "cell_type": "code",
   "execution_count": 59,
   "id": "ac1eb189-1e5f-4ffd-aafb-c8dbc75b2402",
   "metadata": {},
   "outputs": [],
   "source": [
    "def addition(a, b):\n",
    "    print(a+b)"
   ]
  },
  {
   "cell_type": "code",
   "execution_count": 60,
   "id": "047581b9-4c42-49c2-9e7f-bd3752ae656f",
   "metadata": {},
   "outputs": [
    {
     "name": "stdout",
     "output_type": "stream",
     "text": [
      "30\n"
     ]
    }
   ],
   "source": [
    "addition(10, 20)"
   ]
  },
  {
   "cell_type": "code",
   "execution_count": 61,
   "id": "fa3d5926-5d7c-4a2d-a588-527ec51a97b2",
   "metadata": {},
   "outputs": [
    {
     "name": "stdout",
     "output_type": "stream",
     "text": [
      "30\n"
     ]
    }
   ],
   "source": [
    "add_1 = addition(10, 20)"
   ]
  },
  {
   "cell_type": "code",
   "execution_count": 62,
   "id": "e78d0796-9a98-4cdf-a8b0-19200c94b3c8",
   "metadata": {},
   "outputs": [],
   "source": [
    "add_1"
   ]
  },
  {
   "cell_type": "code",
   "execution_count": null,
   "id": "723fce7f-302b-4862-9c66-ee6dffe3ea0e",
   "metadata": {},
   "outputs": [],
   "source": []
  },
  {
   "cell_type": "code",
   "execution_count": 74,
   "id": "88321b8e-6eac-4ab5-9c93-3bdf14770f90",
   "metadata": {},
   "outputs": [],
   "source": [
    "def login(username, password):\n",
    "    # print(\"You've entered username :\", username)\n",
    "    # print(\"You've entered password :\", password)\n",
    "    if username == 'Dhanush123' and password == 'Dh@nu&2022':\n",
    "        user = \"Dhanush\"\n",
    "        # print(\"User logged in\")\n",
    "        # print(\"Welcome,\", user)\n",
    "    elif username == 'Niharika123' and password == 'Nih@rik@2022':\n",
    "        user = \"Niharika\"\n",
    "        # print(\"User logged in\")\n",
    "        # print(\"Welcome,\", user)\n",
    "    else:\n",
    "        user = None\n",
    "        # print(\"Invalid Credentials\") \n",
    "    return user"
   ]
  },
  {
   "cell_type": "code",
   "execution_count": 75,
   "id": "ee23a272-6e26-4833-a07a-f7c1ed87acd6",
   "metadata": {},
   "outputs": [
    {
     "name": "stdout",
     "output_type": "stream",
     "text": [
      "Niharika Liked the post\n"
     ]
    }
   ],
   "source": [
    "### liking a post\n",
    "user = login(\"Niharika123\", \"Nih@rik@2022\")\n",
    "if user is not None:\n",
    "    print(user, \"Liked the post\")\n",
    "else:\n",
    "    print(\"Please login, if you want't to like this post\")"
   ]
  },
  {
   "cell_type": "code",
   "execution_count": 76,
   "id": "fcf035bf-2649-4e97-9706-a90fe601bd53",
   "metadata": {},
   "outputs": [
    {
     "name": "stdout",
     "output_type": "stream",
     "text": [
      "Dhanush Liked the post\n"
     ]
    }
   ],
   "source": [
    "user = login(\"Dhanush123\", \"Dh@nu&2022\")\n",
    "if user is not None:\n",
    "    print(user, \"Liked the post\")\n",
    "else:\n",
    "    print(\"Please login, if you want't to like this post\")"
   ]
  },
  {
   "cell_type": "code",
   "execution_count": 77,
   "id": "953f5184-b505-4da0-a9b0-1cd71fb1f5e5",
   "metadata": {},
   "outputs": [
    {
     "name": "stdout",
     "output_type": "stream",
     "text": [
      "Please login, if you want't to like this post\n"
     ]
    }
   ],
   "source": [
    "user = login(\"sdhfasjkdf\", \"Dh@nu&2022\")\n",
    "if user is not None:\n",
    "    print(user, \"Liked the post\")\n",
    "else:\n",
    "    print(\"Please login, if you want't to like this post\")"
   ]
  },
  {
   "cell_type": "code",
   "execution_count": 18,
   "id": "8d03cd71-db0b-4cfb-82fe-1a9a074f7f70",
   "metadata": {},
   "outputs": [],
   "source": [
    "def electricity_generator(usage, units):    \n",
    "    if usage == \"domestic\":\n",
    "        if (units >= 0) and (units <= 50):\n",
    "            bill = 0\n",
    "            print(\"Bill generated with \", usage ,\"amount :\", bill)\n",
    "        elif (units > 50) and (units <= 100):\n",
    "            bill = units * 5\n",
    "            print(\"Bill generated with \", usage ,\"amount :\", bill)\n",
    "        elif (units > 100) and (units <= 200):\n",
    "            bill = units * 10\n",
    "            print(\"Bill generated with \", usage ,\"amount :\", bill)\n",
    "        \n",
    "        \n",
    "        elif (units > 200) and (units <= 500):\n",
    "            bill = units * 15\n",
    "            print(\"Bill generated with \", usage ,\"amount :\", bill)\n",
    "        \n",
    "        else:\n",
    "            bill = units * 25\n",
    "            print(\"Bill generated with \", usage ,\"amount :\", bill)\n",
    "    elif usage == \"commercial\":\n",
    "        if (units >= 0) and (units <= 200):\n",
    "            charge_per_unit = 25\n",
    "            bill = units * charge_per_unit\n",
    "            print(\"units: \", units)\n",
    "            print(\"Usage: \", usage)\n",
    "            print(units, \"*\", charge_per_unit)\n",
    "            print(\"Amount\", bill)\n",
    "        elif (units >= 201) and (units <= 500):\n",
    "            bill = units * 30\n",
    "            print(\"Bill generated with\", usage, \"amount:\", bill)\n",
    "        else:\n",
    "            bill = units * 40\n",
    "            print(\"Bill generated with\", usage, \"amount:\", bill)\n",
    "    return bill"
   ]
  },
  {
   "cell_type": "code",
   "execution_count": 14,
   "id": "042efac6-e9b1-4435-b288-e7b36cb4a44e",
   "metadata": {},
   "outputs": [
    {
     "name": "stdout",
     "output_type": "stream",
     "text": [
      "Bill generated with  domestic amount : 37475\n"
     ]
    }
   ],
   "source": [
    "bill_generated = electricity_generator(\"domestic\", 1499)"
   ]
  },
  {
   "cell_type": "code",
   "execution_count": 15,
   "id": "9bfd2978-9543-4877-9c35-98eccf7866d3",
   "metadata": {},
   "outputs": [
    {
     "data": {
      "text/plain": [
       "37475"
      ]
     },
     "execution_count": 15,
     "metadata": {},
     "output_type": "execute_result"
    }
   ],
   "source": [
    "bill_generated"
   ]
  },
  {
   "cell_type": "code",
   "execution_count": 19,
   "id": "4798b9d4-3f32-4b7c-b565-6a6773ec82b6",
   "metadata": {},
   "outputs": [
    {
     "name": "stdout",
     "output_type": "stream",
     "text": [
      "Bill generated with commercial amount: 59960\n"
     ]
    }
   ],
   "source": [
    "bill_generated = electricity_generator(\"commercial\", 1499)"
   ]
  },
  {
   "cell_type": "code",
   "execution_count": 20,
   "id": "c988b51f-0b35-4cb2-905c-ddaebb7137cf",
   "metadata": {},
   "outputs": [
    {
     "data": {
      "text/plain": [
       "59960"
      ]
     },
     "execution_count": 20,
     "metadata": {},
     "output_type": "execute_result"
    }
   ],
   "source": [
    "bill_generated"
   ]
  },
  {
   "cell_type": "code",
   "execution_count": 28,
   "id": "bb451eff-4ab0-47e6-a86b-d06587eeffdc",
   "metadata": {},
   "outputs": [],
   "source": [
    "def electricity_generator(usage, units):    \n",
    "    if usage == \"domestic\":\n",
    "        if (units >= 0) and (units <= 50):\n",
    "            bill = 0\n",
    "            print(\"Bill generated with \", usage ,\"amount :\", bill)\n",
    "        elif (units > 50) and (units <= 100):\n",
    "            bill = units * 5\n",
    "            print(\"Bill generated with \", usage ,\"amount :\", bill)\n",
    "        elif (units > 100) and (units <= 200):\n",
    "            bill = units * 10\n",
    "            print(\"Bill generated with \", usage ,\"amount :\", bill)\n",
    "        \n",
    "        \n",
    "        elif (units > 200) and (units <= 500):\n",
    "            bill = units * 15\n",
    "            print(\"Bill generated with \", usage ,\"amount :\", bill)\n",
    "        \n",
    "        else:\n",
    "            bill = units * 25\n",
    "            print(\"Bill generated with \", usage ,\"amount :\", bill)\n",
    "        return bill\n",
    "    elif usage == \"commercial\":\n",
    "        if (units >= 0) and (units <= 200):\n",
    "            charge_per_unit = 25\n",
    "            bill = units * charge_per_unit\n",
    "            print(\"units: \", units)\n",
    "            print(\"Usage: \", usage)\n",
    "            print(units, \"*\", charge_per_unit)\n",
    "            print(\"Amount\", bill)\n",
    "        elif (units >= 201) and (units <= 500):\n",
    "            bill = units * 30\n",
    "            print(\"Bill generated with\", usage, \"amount:\", bill)\n",
    "        else:\n",
    "            bill = units * 40\n",
    "            print(\"Bill generated with\", usage, \"amount:\", bill)\n",
    "    "
   ]
  },
  {
   "cell_type": "code",
   "execution_count": 29,
   "id": "7816abe8-7980-4dfb-a05c-0d49ccfb158a",
   "metadata": {},
   "outputs": [
    {
     "name": "stdout",
     "output_type": "stream",
     "text": [
      "Bill generated with commercial amount: 59960\n"
     ]
    }
   ],
   "source": [
    "bill_generated = electricity_generator(\"commercial\", 1499)"
   ]
  },
  {
   "cell_type": "code",
   "execution_count": 30,
   "id": "48dc145c-ca58-4cd5-9556-78cc80df5728",
   "metadata": {},
   "outputs": [],
   "source": [
    "bill_generated"
   ]
  },
  {
   "cell_type": "code",
   "execution_count": 31,
   "id": "73bf893a-e607-4fbd-97a8-97844abb8f3e",
   "metadata": {},
   "outputs": [
    {
     "name": "stdout",
     "output_type": "stream",
     "text": [
      "Bill generated with  domestic amount : 37475\n"
     ]
    }
   ],
   "source": [
    "bill_generated = electricity_generator(\"domestic\", 1499)"
   ]
  },
  {
   "cell_type": "code",
   "execution_count": 32,
   "id": "6d723508-f4c2-4c64-ba3d-981658f99d7c",
   "metadata": {},
   "outputs": [
    {
     "data": {
      "text/plain": [
       "37475"
      ]
     },
     "execution_count": 32,
     "metadata": {},
     "output_type": "execute_result"
    }
   ],
   "source": [
    "bill_generated"
   ]
  },
  {
   "cell_type": "code",
   "execution_count": 42,
   "id": "791d7e4e-3a4c-43cd-9702-42bf085d43f0",
   "metadata": {},
   "outputs": [],
   "source": [
    "def electricity_generator(usage, units):    \n",
    "    if usage == \"domestic\":\n",
    "        if (units >= 0) and (units <= 50):\n",
    "            bill = 0\n",
    "            print(\"Bill generated with \", usage ,\"amount :\", bill)\n",
    "        elif (units > 50) and (units <= 100):\n",
    "            bill = units * 5\n",
    "            print(\"Bill generated with \", usage ,\"amount :\", bill)\n",
    "        elif (units > 100) and (units <= 200):\n",
    "            bill = units * 10\n",
    "            print(\"Bill generated with \", usage ,\"amount :\", bill)\n",
    "        \n",
    "        \n",
    "        elif (units > 200) and (units <= 500):\n",
    "            bill = units * 15\n",
    "            print(\"Bill generated with \", usage ,\"amount :\", bill)\n",
    "        \n",
    "        else:\n",
    "            bill = units * 25\n",
    "            print(\"Bill generated with \", usage ,\"amount :\", bill)\n",
    "        return bill\n",
    "    elif usage == \"commercial\":\n",
    "        if (units >= 0) and (units <= 200):\n",
    "            charge_per_unit = 25\n",
    "            bill = units * charge_per_unit\n",
    "            print(\"units: \", units)\n",
    "            print(\"Usage: \", usage)\n",
    "            print(units, \"*\", charge_per_unit)\n",
    "            print(\"Amount\", bill)\n",
    "        elif (units >= 201) and (units <= 500):\n",
    "            bill = units * 30\n",
    "            print(\"Bill generated with\", usage, \"amount:\", bill)\n",
    "        else:\n",
    "            bill = units * 40\n",
    "            print(\"Bill generated with\", usage, \"amount:\", bill)\n",
    "        return bill\n",
    "    elif usage == \"logistics\":   \n",
    "        return \"Contact TRANSCO Admin \""
   ]
  },
  {
   "cell_type": "code",
   "execution_count": 37,
   "id": "c68627d0-3896-4a01-9388-fa5c6abb95bd",
   "metadata": {},
   "outputs": [
    {
     "data": {
      "text/plain": [
       "'Contact TRANSCO Admin '"
      ]
     },
     "execution_count": 37,
     "metadata": {},
     "output_type": "execute_result"
    }
   ],
   "source": [
    "electricity_generator(\"logistics\", 9999)"
   ]
  },
  {
   "cell_type": "code",
   "execution_count": 35,
   "id": "bd662ec4-8965-4d3a-976c-83416c4833b5",
   "metadata": {},
   "outputs": [],
   "source": [
    "logistics_bill = electricity_generator(\"logistics\", 9999)"
   ]
  },
  {
   "cell_type": "code",
   "execution_count": 36,
   "id": "df7be079-50ce-4c22-9a36-8d8dd5a525b9",
   "metadata": {},
   "outputs": [
    {
     "data": {
      "text/plain": [
       "'Contact TRANSCO Admin '"
      ]
     },
     "execution_count": 36,
     "metadata": {},
     "output_type": "execute_result"
    }
   ],
   "source": [
    "logistics_bill"
   ]
  },
  {
   "cell_type": "code",
   "execution_count": 38,
   "id": "f0e3a98d-071f-46ce-bda5-53888d737232",
   "metadata": {},
   "outputs": [],
   "source": [
    "logistics_bill = electricity_generator(\"logistics\", 9999)"
   ]
  },
  {
   "cell_type": "code",
   "execution_count": 41,
   "id": "8c7435f0-0499-4a4a-b0ee-865b80179724",
   "metadata": {},
   "outputs": [
    {
     "data": {
      "text/plain": [
       "'Contact TRANSCO Admin '"
      ]
     },
     "execution_count": 41,
     "metadata": {},
     "output_type": "execute_result"
    }
   ],
   "source": [
    "logistics_bill"
   ]
  },
  {
   "cell_type": "code",
   "execution_count": 54,
   "id": "d6dd0dd1-1f25-4bce-baa1-3ac0a2ae433e",
   "metadata": {},
   "outputs": [],
   "source": [
    "def electricity_generator(usage, units):    \n",
    "    if usage == \"domestic\":\n",
    "        if (units >= 0) and (units <= 50):\n",
    "            bill = 0\n",
    "        elif (units > 50) and (units <= 100):\n",
    "            bill = units * 5\n",
    "        elif (units > 100) and (units <= 200):\n",
    "            bill = units * 10        \n",
    "        elif (units > 200) and (units <= 500):\n",
    "            bill = units * 15        \n",
    "        else:\n",
    "            bill = units * 25\n",
    "        return bill\n",
    "    elif usage == \"commercial\":\n",
    "        if (units >= 0) and (units <= 200):\n",
    "            charge_per_unit = 25\n",
    "            bill = units * charge_per_unit\n",
    "            # print(\"units: \", units)\n",
    "            # print(\"Usage: \", usage)\n",
    "            # print(units, \"*\", charge_per_unit)\n",
    "            # print(\"Amount\", bill)\n",
    "        elif (units >= 201) and (units <= 500):\n",
    "            bill = units * 30\n",
    "            # print(\"Bill generated with\", usage, \"amount:\", bill)\n",
    "        else:\n",
    "            bill = units * 40\n",
    "            # print(\"Bill generated with\", usage, \"amount:\", bill)\n",
    "        return bill\n",
    "    elif usage == \"logistics\":   \n",
    "        return \"Contact TRANSCO Admin \""
   ]
  },
  {
   "cell_type": "code",
   "execution_count": 55,
   "id": "fbd01add-791a-4c9e-9089-9c1c57d2360c",
   "metadata": {},
   "outputs": [],
   "source": [
    "elec_accounts = [\n",
    "                {\"name\": \"Dhanush\", \"account_no\":1231234, \"units\":123, \"usage_type\" : \"domestic\"}, \n",
    "                {\"name\": \"Niharika\", \"account_no\":1231235, \"units\":243, \"usage_type\" : \"domestic\"}, \n",
    "                {\"name\" : \"Harika\",\"account_no\":1231236, \"units\":563, \"usage_type\" : \"domestic\"},\n",
    "                {\"name\" : \"Anusha\",\"account_no\":1231237, \"units\":1767, \"usage_type\" : \"commercial\"},\n",
    "                {\"name\" : \"Hema\",\"account_no\":1231238, \"units\":156, \"usage_type\" : \"domestic\"},\n",
    "                {\"name\" : \"Ramana\",\"account_no\":1231239, \"units\":897, \"usage_type\" : \"logistics\"},\n",
    "                ]"
   ]
  },
  {
   "cell_type": "code",
   "execution_count": 59,
   "id": "14c14c4a-e4d5-4445-9430-9a4ab3413401",
   "metadata": {},
   "outputs": [
    {
     "name": "stdout",
     "output_type": "stream",
     "text": [
      "Bill generated for account no : 1231234 is 1230 for 123 units\n",
      "Bill generated for account no : 1231235 is 3645 for 243 units\n",
      "Bill generated for account no : 1231236 is 14075 for 563 units\n",
      "Bill generated for account no : 1231237 is 70680 for 1767 units\n",
      "Bill generated for account no : 1231238 is 1560 for 156 units\n",
      "Contact TRANSCO Admin \n"
     ]
    }
   ],
   "source": [
    "for account in elec_accounts:\n",
    "    name = account['name']\n",
    "    account_number = account['account_no']\n",
    "    units = account['units']\n",
    "    usage = account['usage_type']\n",
    "    electric_bill = electricity_generator(usage, units)\n",
    "    if usage == 'logistics':\n",
    "        print(electric_bill)\n",
    "    else:\n",
    "        print(\"Bill generated for account no :\", account_number, \"is\", electric_bill, \"for\", units, \"units\")"
   ]
  },
  {
   "cell_type": "code",
   "execution_count": 86,
   "id": "672ce731-152f-4acd-a1a4-75f1a2ada3f4",
   "metadata": {},
   "outputs": [],
   "source": [
    "def generate_invoice(name, order_id, price, order_items, address):\n",
    "    print('--------------------------------------')\n",
    "    print('           **INVOICE**                ')\n",
    "    print(\"--------------------------------------\")\n",
    "    print(\"Name :\", name)\n",
    "    print(\"Order ID:\", order_id)\n",
    "    print(\"Total Price:\", price)\n",
    "    print(\"Order Items:\")\n",
    "    for item in order_items:\n",
    "        print(\"\\t\", item)\n",
    "    print(\"Address:\", address)    \n",
    "    print(\"xxxxxxxxxxxxxxxxxxxxxxxxxxxxxxxxxxxxxx\\n\")\n",
    "    "
   ]
  },
  {
   "cell_type": "code",
   "execution_count": 78,
   "id": "6698d755-7332-43a9-a066-5fdc5eb91f45",
   "metadata": {},
   "outputs": [],
   "source": [
    "orders = [\n",
    "        {\"name\": \"Dhanush\", \"order_id\":1231234, \"price\":123, \"order_items\" : [\"Jeans Pant, Checks Shirt\"], \"address\": \"Madhapur, HYD\"}, \n",
    "        {\"name\": \"Niharika\", \"order_id\":1231235, \"price\":243, \"order_items\" : [\"Check Shirt, Tshirt\"], \"address\": \"Hayath Nagar, HYD\"}, \n",
    "        {\"name\" : \"Harika\",\"order_id\":1231236, \"price\":563, \"order_items\" : [\"Tshirt\"], \"address\": \"Hayath Nagar, HYD\"},\n",
    "        {\"name\" : \"Anusha\",\"order_id\":1231237, \"price\":1767, \"order_items\" : [\"Samsung TV\", \"Soundbar\"], \"address\": \"Madhapur, HYD\"},\n",
    "        {\"name\" : \"Hema\",\"order_id\":1231238, \"price\":156, \"order_items\" : [\"Iphone 14(black)\", \"Charger\"], \"address\": \"Gachibowli, HYD\"},\n",
    "        {\"name\" : \"Ramana\",\"order_id\":1231239, \"price\":897, \"order_items\" : [\"Sony Soundbar\", \"Car Toy\", \"Cricket bat\"], \"address\": \"KPHB Colony, HYD\"},\n",
    "        ]"
   ]
  },
  {
   "cell_type": "code",
   "execution_count": 79,
   "id": "1fd439c9-edc1-420b-ad58-f6f6d4803bb9",
   "metadata": {},
   "outputs": [
    {
     "data": {
      "text/plain": [
       "{'name': 'Dhanush',\n",
       " 'order_id': 1231234,\n",
       " 'price': 123,\n",
       " 'order_items': ['Jeans Pant, Checks Shirt'],\n",
       " 'address': 'Madhapur, HYD'}"
      ]
     },
     "execution_count": 79,
     "metadata": {},
     "output_type": "execute_result"
    }
   ],
   "source": [
    "orders[0]"
   ]
  },
  {
   "cell_type": "code",
   "execution_count": 89,
   "id": "fc0ae7d3-d279-4617-b14d-82a8bd83a194",
   "metadata": {},
   "outputs": [
    {
     "name": "stdout",
     "output_type": "stream",
     "text": [
      "--------------------------------------\n",
      "           **INVOICE**                \n",
      "--------------------------------------\n",
      "Name : Dhanush\n",
      "Order ID: 1231234\n",
      "Total Price: 123\n",
      "Order Items:\n",
      "\t Jeans Pant, Checks Shirt\n",
      "Address: Madhapur, HYD\n",
      "xxxxxxxxxxxxxxxxxxxxxxxxxxxxxxxxxxxxxx\n",
      "\n",
      "--------------------------------------\n",
      "           **INVOICE**                \n",
      "--------------------------------------\n",
      "Name : Niharika\n",
      "Order ID: 1231235\n",
      "Total Price: 243\n",
      "Order Items:\n",
      "\t Check Shirt, Tshirt\n",
      "Address: Hayath Nagar, HYD\n",
      "xxxxxxxxxxxxxxxxxxxxxxxxxxxxxxxxxxxxxx\n",
      "\n",
      "--------------------------------------\n",
      "           **INVOICE**                \n",
      "--------------------------------------\n",
      "Name : Harika\n",
      "Order ID: 1231236\n",
      "Total Price: 563\n",
      "Order Items:\n",
      "\t Tshirt\n",
      "Address: Hayath Nagar, HYD\n",
      "xxxxxxxxxxxxxxxxxxxxxxxxxxxxxxxxxxxxxx\n",
      "\n",
      "--------------------------------------\n",
      "           **INVOICE**                \n",
      "--------------------------------------\n",
      "Name : Anusha\n",
      "Order ID: 1231237\n",
      "Total Price: 1767\n",
      "Order Items:\n",
      "\t Samsung TV\n",
      "\t Soundbar\n",
      "Address: Madhapur, HYD\n",
      "xxxxxxxxxxxxxxxxxxxxxxxxxxxxxxxxxxxxxx\n",
      "\n",
      "--------------------------------------\n",
      "           **INVOICE**                \n",
      "--------------------------------------\n",
      "Name : Hema\n",
      "Order ID: 1231238\n",
      "Total Price: 156\n",
      "Order Items:\n",
      "\t Iphone 14(black)\n",
      "\t Charger\n",
      "Address: Gachibowli, HYD\n",
      "xxxxxxxxxxxxxxxxxxxxxxxxxxxxxxxxxxxxxx\n",
      "\n",
      "--------------------------------------\n",
      "           **INVOICE**                \n",
      "--------------------------------------\n",
      "Name : Ramana\n",
      "Order ID: 1231239\n",
      "Total Price: 897\n",
      "Order Items:\n",
      "\t Sony Soundbar\n",
      "\t Car Toy\n",
      "\t Cricket bat\n",
      "Address: KPHB Colony, HYD\n",
      "xxxxxxxxxxxxxxxxxxxxxxxxxxxxxxxxxxxxxx\n",
      "\n"
     ]
    }
   ],
   "source": [
    "orders = [\n",
    "        {\"name\": \"Dhanush\", \"order_id\":1231234, \"price\":123, \"order_items\" : [\"Jeans Pant, Checks Shirt\"], \"address\": \"Madhapur, HYD\"}, \n",
    "        {\"name\": \"Niharika\", \"order_id\":1231235, \"price\":243, \"order_items\" : [\"Check Shirt, Tshirt\"], \"address\": \"Hayath Nagar, HYD\"}, \n",
    "        {\"name\" : \"Harika\",\"order_id\":1231236, \"price\":563, \"order_items\" : [\"Tshirt\"], \"address\": \"Hayath Nagar, HYD\"},\n",
    "        {\"name\" : \"Anusha\",\"order_id\":1231237, \"price\":1767, \"order_items\" : [\"Samsung TV\", \"Soundbar\"], \"address\": \"Madhapur, HYD\"},\n",
    "        {\"name\" : \"Hema\",\"order_id\":1231238, \"price\":156, \"order_items\" : [\"Iphone 14(black)\", \"Charger\"], \"address\": \"Gachibowli, HYD\"},\n",
    "        {\"name\" : \"Ramana\",\"order_id\":1231239, \"price\":897, \"order_items\" : [\"Sony Soundbar\", \"Car Toy\", \"Cricket bat\"], \"address\": \"KPHB Colony, HYD\"},\n",
    "        ]\n",
    "def generate_invoice(name, order_id, price, order_items, address):\n",
    "    print('--------------------------------------')\n",
    "    print('           **INVOICE**                ')\n",
    "    print(\"--------------------------------------\")\n",
    "    print(\"Name :\", name)\n",
    "    print(\"Order ID:\", order_id)\n",
    "    print(\"Total Price:\", price)\n",
    "    print(\"Order Items:\")\n",
    "    for item in order_items:\n",
    "        print(\"\\t\", item)\n",
    "    print(\"Address:\", address)    \n",
    "    print(\"xxxxxxxxxxxxxxxxxxxxxxxxxxxxxxxxxxxxxx\\n\")\n",
    "    \n",
    "for order in orders:\n",
    "    generate_invoice(order['name'], \n",
    "                 order['order_id'], \n",
    "                 order['price'], \n",
    "                 order['order_items'], \n",
    "                 order['address'])"
   ]
  },
  {
   "cell_type": "markdown",
   "id": "4b611589-aff1-4967-9d0c-03123424c8ec",
   "metadata": {},
   "source": [
    "# Lambda Functions\n",
    "* A lambda function is a anonymous function, which can take multple parameters along with single expression.\n",
    "* Lambda function is implemented using lambda keyword."
   ]
  },
  {
   "cell_type": "code",
   "execution_count": 105,
   "id": "8853f177-74d1-4c90-af4e-f54d904ee454",
   "metadata": {},
   "outputs": [],
   "source": [
    "fun_1 = lambda a:print(a)"
   ]
  },
  {
   "cell_type": "code",
   "execution_count": 106,
   "id": "674a5446-0cf8-499d-acce-91e2d305a309",
   "metadata": {},
   "outputs": [
    {
     "name": "stdout",
     "output_type": "stream",
     "text": [
      "10\n"
     ]
    }
   ],
   "source": [
    "fun_1(10)"
   ]
  },
  {
   "cell_type": "code",
   "execution_count": 107,
   "id": "5bf7fde4-a23b-4dfd-99ca-ddbc807371c4",
   "metadata": {},
   "outputs": [
    {
     "name": "stdout",
     "output_type": "stream",
     "text": [
      "Hello\n"
     ]
    }
   ],
   "source": [
    "fun_1(\"Hello\")"
   ]
  },
  {
   "cell_type": "code",
   "execution_count": 108,
   "id": "27219e23-e008-4ae7-8b2b-4d464a8ebddf",
   "metadata": {},
   "outputs": [],
   "source": [
    "fun_2 = lambda a:print(\"Welcome\", a)"
   ]
  },
  {
   "cell_type": "code",
   "execution_count": 109,
   "id": "7291e68f-65d3-4c55-a43e-4c314da7f6d2",
   "metadata": {},
   "outputs": [
    {
     "name": "stdout",
     "output_type": "stream",
     "text": [
      "Welcome Dhanush\n"
     ]
    }
   ],
   "source": [
    "fun_2(\"Dhanush\")"
   ]
  },
  {
   "cell_type": "code",
   "execution_count": 111,
   "id": "e97452a8-867f-429b-b8fc-c841ff57262a",
   "metadata": {},
   "outputs": [
    {
     "name": "stdout",
     "output_type": "stream",
     "text": [
      "Welcome Niharika\n"
     ]
    }
   ],
   "source": [
    "niharika = fun_2(\"Niharika\")"
   ]
  },
  {
   "cell_type": "code",
   "execution_count": 112,
   "id": "97aa15cb-bfd6-4eba-a541-1265c4db33fd",
   "metadata": {},
   "outputs": [],
   "source": [
    "niharika"
   ]
  },
  {
   "cell_type": "code",
   "execution_count": 113,
   "id": "18f5c2ea-e599-4a21-b07f-4380531e8e79",
   "metadata": {},
   "outputs": [],
   "source": [
    "fun_add = lambda a, b, c: a+b+c"
   ]
  },
  {
   "cell_type": "code",
   "execution_count": 115,
   "id": "31d4188e-2d34-402a-95d7-ce1f7c1aaec5",
   "metadata": {},
   "outputs": [],
   "source": [
    "result = fun_add(1,2,4)"
   ]
  },
  {
   "cell_type": "code",
   "execution_count": 116,
   "id": "c8aa0488-dcf9-4c9d-a650-0b7b902fbb33",
   "metadata": {},
   "outputs": [
    {
     "data": {
      "text/plain": [
       "7"
      ]
     },
     "execution_count": 116,
     "metadata": {},
     "output_type": "execute_result"
    }
   ],
   "source": [
    "result"
   ]
  },
  {
   "cell_type": "code",
   "execution_count": 117,
   "id": "b810e317-e070-496c-942a-c28dd9aa6dcf",
   "metadata": {},
   "outputs": [],
   "source": [
    "fun_power = lambda main_value, power_value: main_value**power_value"
   ]
  },
  {
   "cell_type": "code",
   "execution_count": 118,
   "id": "57cccedb-ad5d-4721-b0b3-284345a79d33",
   "metadata": {},
   "outputs": [
    {
     "data": {
      "text/plain": [
       "8"
      ]
     },
     "execution_count": 118,
     "metadata": {},
     "output_type": "execute_result"
    }
   ],
   "source": [
    "fun_power(2, 3)"
   ]
  },
  {
   "cell_type": "code",
   "execution_count": 119,
   "id": "22e10a32-2334-4554-a5cc-e53a37d83691",
   "metadata": {},
   "outputs": [
    {
     "data": {
      "text/plain": [
       "81"
      ]
     },
     "execution_count": 119,
     "metadata": {},
     "output_type": "execute_result"
    }
   ],
   "source": [
    "fun_power(3, 4)"
   ]
  },
  {
   "cell_type": "code",
   "execution_count": null,
   "id": "c2dc6df3-8f6b-4996-bf28-3bab080e1261",
   "metadata": {},
   "outputs": [],
   "source": []
  }
 ],
 "metadata": {
  "kernelspec": {
   "display_name": "Python 3 (ipykernel)",
   "language": "python",
   "name": "python3"
  },
  "language_info": {
   "codemirror_mode": {
    "name": "ipython",
    "version": 3
   },
   "file_extension": ".py",
   "mimetype": "text/x-python",
   "name": "python",
   "nbconvert_exporter": "python",
   "pygments_lexer": "ipython3",
   "version": "3.10.11"
  }
 },
 "nbformat": 4,
 "nbformat_minor": 5
}
