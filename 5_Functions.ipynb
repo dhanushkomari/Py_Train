{
 "cells": [
  {
   "cell_type": "markdown",
   "id": "0bd129fe-1106-43a9-ab46-636c1d5799d7",
   "metadata": {},
   "source": [
    "# Functions\n",
    "* Function can be represented as a block of code\n",
    "* function can be implemented with the help of def keyword\n",
    "* Functions can be mainly two types\n",
    "  1. Pre-built functions         --> for ex.., len(), range(), list()\n",
    "  2. User-defined functions      --> These functions created on our own\n",
    "* One of the main advantages of functions are code reusability, code complexity.\n",
    "* Don't use inbuilt function name, and keywords as our function names.\n",
    "* Types of functions:\n",
    "  1. function without parameters and without return value\n",
    "  2. function with parameters and without return value\n",
    "  3. function without parameters and with return value\n",
    "  4. function with parameters and with return value\n",
    " \n"
   ]
  },
  {
   "cell_type": "code",
   "execution_count": 1,
   "id": "6987d11a-0a03-4cf5-8e8f-7767e4c2b7e6",
   "metadata": {},
   "outputs": [
    {
     "name": "stdout",
     "output_type": "stream",
     "text": [
      "300\n"
     ]
    }
   ],
   "source": [
    "a = 100\n",
    "b = 200\n",
    "print(a+b)"
   ]
  },
  {
   "cell_type": "markdown",
   "id": "9298c286-a7f6-4c74-8a45-a06239c2db3c",
   "metadata": {},
   "source": [
    "### Function with out parameters"
   ]
  },
  {
   "cell_type": "code",
   "execution_count": 29,
   "id": "33698c82-1db9-4e30-8388-e42516ab8d1e",
   "metadata": {},
   "outputs": [],
   "source": [
    "def addition():       \n",
    "    a = 100\n",
    "    b = 200\n",
    "    print(a+b)"
   ]
  },
  {
   "cell_type": "code",
   "execution_count": 3,
   "id": "9fdf3839-71e8-4756-a29e-0d6535da86e3",
   "metadata": {},
   "outputs": [
    {
     "name": "stdout",
     "output_type": "stream",
     "text": [
      "300\n"
     ]
    }
   ],
   "source": [
    "addition()"
   ]
  },
  {
   "cell_type": "code",
   "execution_count": 6,
   "id": "b42ee218-a1f0-433d-b51d-9d7a485cbce4",
   "metadata": {},
   "outputs": [],
   "source": [
    "def addition():\n",
    "    a = int(input(\"Enter a value: \"))\n",
    "    b = int(input(\"Enter b value: \"))\n",
    "    print(a+b)"
   ]
  },
  {
   "cell_type": "code",
   "execution_count": 7,
   "id": "b2794f64-70be-4698-b989-c0aca4efdf92",
   "metadata": {},
   "outputs": [
    {
     "name": "stdin",
     "output_type": "stream",
     "text": [
      "Enter a value:  299\n",
      "Enter b value:  677\n"
     ]
    },
    {
     "name": "stdout",
     "output_type": "stream",
     "text": [
      "976\n"
     ]
    }
   ],
   "source": [
    "addition()"
   ]
  },
  {
   "cell_type": "code",
   "execution_count": 9,
   "id": "c9bef1b4-fee8-4f33-b681-24d5d68ff789",
   "metadata": {},
   "outputs": [],
   "source": [
    "def addition(a, b):           # ---- Here a and b works as arguments\n",
    "    print(\"addition is :\", a+b)"
   ]
  },
  {
   "cell_type": "markdown",
   "id": "d4857174-d297-4ddf-9f90-a2907fd52588",
   "metadata": {},
   "source": [
    "### Functions with parameters"
   ]
  },
  {
   "cell_type": "code",
   "execution_count": 10,
   "id": "f9f67d06-6b2f-4fb7-8e7b-a43e1cde008c",
   "metadata": {},
   "outputs": [
    {
     "ename": "TypeError",
     "evalue": "addition() missing 2 required positional arguments: 'a' and 'b'",
     "output_type": "error",
     "traceback": [
      "\u001b[1;31m---------------------------------------------------------------------------\u001b[0m",
      "\u001b[1;31mTypeError\u001b[0m                                 Traceback (most recent call last)",
      "Cell \u001b[1;32mIn[10], line 1\u001b[0m\n\u001b[1;32m----> 1\u001b[0m \u001b[43maddition\u001b[49m\u001b[43m(\u001b[49m\u001b[43m)\u001b[49m\n",
      "\u001b[1;31mTypeError\u001b[0m: addition() missing 2 required positional arguments: 'a' and 'b'"
     ]
    }
   ],
   "source": [
    "addition()"
   ]
  },
  {
   "cell_type": "code",
   "execution_count": 11,
   "id": "634b8c3c-1926-46da-8e52-858e1fb8ced4",
   "metadata": {},
   "outputs": [
    {
     "name": "stdout",
     "output_type": "stream",
     "text": [
      "addition is : 579\n"
     ]
    }
   ],
   "source": [
    "addition(123, 456)"
   ]
  },
  {
   "cell_type": "code",
   "execution_count": 13,
   "id": "667a2aa9-82cb-47d7-a27c-4ca824590cde",
   "metadata": {},
   "outputs": [
    {
     "name": "stdout",
     "output_type": "stream",
     "text": [
      "addition is : 420\n"
     ]
    }
   ],
   "source": [
    "addition(b = 20, a = 400)"
   ]
  },
  {
   "cell_type": "code",
   "execution_count": 20,
   "id": "334d8e9c-0021-4fc8-afa7-dc7cf9552ab5",
   "metadata": {},
   "outputs": [
    {
     "name": "stdout",
     "output_type": "stream",
     "text": [
      "addition is : 1365\n",
      "subtracting b from a : -233\n"
     ]
    }
   ],
   "source": [
    "def arith(a = 100, b = 200):        # # ---- Here a and be works as keyword arguments\n",
    "    print(\"addition is :\", a+b)\n",
    "    print(\"subtracting b from a :\", b-a)\n",
    "arith(799, 566)"
   ]
  },
  {
   "cell_type": "code",
   "execution_count": 32,
   "id": "9f67042f-0dbc-4119-9a62-693bf4540941",
   "metadata": {},
   "outputs": [],
   "source": [
    "def login(username, password):\n",
    "    print(\"You've entered username :\", username)\n",
    "    print(\"You've entered password :\", password)\n",
    "    if username == 'Dhanush123' and password == 'Dh@nu&2022':\n",
    "        print(\"User logged in\")\n",
    "        print(\"Welcome,\", username)\n",
    "    else:\n",
    "        print(\"Invalid Credentials\")    "
   ]
  },
  {
   "cell_type": "code",
   "execution_count": 33,
   "id": "01273b20-7156-401b-8630-3770784fad58",
   "metadata": {},
   "outputs": [
    {
     "name": "stdout",
     "output_type": "stream",
     "text": [
      "You've entered username : Dhanush123\n",
      "You've entered password : Dh@nu&2022\n",
      "User logged in\n",
      "Welcome, Dhanush123\n"
     ]
    }
   ],
   "source": [
    "login(username = 'Dhanush123', password = 'Dh@nu&2022')"
   ]
  },
  {
   "cell_type": "code",
   "execution_count": 34,
   "id": "17cf7bfc-a02a-4465-ade4-81677ad066a4",
   "metadata": {},
   "outputs": [
    {
     "name": "stdout",
     "output_type": "stream",
     "text": [
      "You've entered username : ahsjfjds\n",
      "You've entered password : asyeuruau\n",
      "Invalid Credentials\n"
     ]
    }
   ],
   "source": [
    "login(\"ahsjfjds\", 'asyeuruau')"
   ]
  },
  {
   "cell_type": "markdown",
   "id": "d606158d-d448-42ac-8e6b-fdb750ad3bdb",
   "metadata": {},
   "source": [
    "### function with and without return"
   ]
  },
  {
   "cell_type": "code",
   "execution_count": 35,
   "id": "0cdb1925-082b-4a13-991c-f18f3e198116",
   "metadata": {},
   "outputs": [],
   "source": [
    "def login(username, password):\n",
    "    print(\"You've entered username :\", username)\n",
    "    print(\"You've entered password :\", password)\n",
    "    if username == 'Dhanush123' and password == 'Dh@nu&2022':\n",
    "        print(\"User logged in\")\n",
    "        print(\"Welcome,\", username)\n",
    "    else:\n",
    "        print(\"Invalid Credentials\") "
   ]
  },
  {
   "cell_type": "code",
   "execution_count": 38,
   "id": "da4cdfad-ba9f-4f24-9478-e38faf185a01",
   "metadata": {},
   "outputs": [
    {
     "name": "stdout",
     "output_type": "stream",
     "text": [
      "You've entered username : Dhanush123\n",
      "You've entered password : Dh@nu&2022\n",
      "User logged in\n",
      "Welcome, Dhanush123\n"
     ]
    }
   ],
   "source": [
    "result = login(\"Dhanush123\", \"Dh@nu&2022\")"
   ]
  },
  {
   "cell_type": "code",
   "execution_count": 40,
   "id": "a01aa97e-79bb-4f59-90ff-bce896d0e4ff",
   "metadata": {},
   "outputs": [],
   "source": [
    "result   # here result function is not getting any result due to we are not used return"
   ]
  },
  {
   "cell_type": "code",
   "execution_count": null,
   "id": "f901d0d5-4727-448a-ac3d-bdbeb73e33b5",
   "metadata": {},
   "outputs": [],
   "source": []
  },
  {
   "cell_type": "code",
   "execution_count": 44,
   "id": "8a870fd5-85f8-46ca-84af-f578511ff786",
   "metadata": {},
   "outputs": [],
   "source": [
    "def login(username, password):\n",
    "    print(\"You've entered username :\", username)\n",
    "    print(\"You've entered password :\", password)\n",
    "    if username == 'Dhanush123' and password == 'Dh@nu&2022':\n",
    "        user = \"Dhanush\"\n",
    "        print(\"User logged in\")\n",
    "        print(\"Welcome,\", username)\n",
    "    else:\n",
    "        user = None\n",
    "        print(\"Invalid Credentials\") \n",
    "    return user"
   ]
  },
  {
   "cell_type": "code",
   "execution_count": 50,
   "id": "b841e173-c8cc-4252-a736-67c21a3cfff1",
   "metadata": {},
   "outputs": [
    {
     "name": "stdout",
     "output_type": "stream",
     "text": [
      "You've entered username : Dhanush123\n",
      "You've entered password : Dh@nu&2022\n",
      "User logged in\n",
      "Welcome, Dhanush123\n"
     ]
    }
   ],
   "source": [
    "result = login(\"Dhanush123\", \"Dh@nu&2022\")"
   ]
  },
  {
   "cell_type": "code",
   "execution_count": 51,
   "id": "a9adee05-34ff-4d08-9097-7655b601cfb5",
   "metadata": {},
   "outputs": [
    {
     "data": {
      "text/plain": [
       "'Dhanush'"
      ]
     },
     "execution_count": 51,
     "metadata": {},
     "output_type": "execute_result"
    }
   ],
   "source": [
    "result"
   ]
  },
  {
   "cell_type": "code",
   "execution_count": 52,
   "id": "0d23d79d-5449-45df-838e-0aba0ed136cc",
   "metadata": {},
   "outputs": [
    {
     "name": "stdout",
     "output_type": "stream",
     "text": [
      "You've entered username : ush123\n",
      "You've entered password : Dh@nu&2022\n",
      "Invalid Credentials\n"
     ]
    }
   ],
   "source": [
    "result = login(\"ush123\", \"Dh@nu&2022\")"
   ]
  },
  {
   "cell_type": "code",
   "execution_count": 53,
   "id": "0289b06e-d868-41b0-9a5a-b07f95a15733",
   "metadata": {},
   "outputs": [],
   "source": [
    "result"
   ]
  },
  {
   "cell_type": "code",
   "execution_count": 54,
   "id": "fef1a0d0-06ba-4594-800d-440ebaf013bf",
   "metadata": {},
   "outputs": [],
   "source": [
    "def addition(a, b):\n",
    "    return a+b"
   ]
  },
  {
   "cell_type": "code",
   "execution_count": 56,
   "id": "aba0e35c-f8c2-422b-9370-c1b046e33905",
   "metadata": {},
   "outputs": [],
   "source": [
    "add = addition(10, 20)"
   ]
  },
  {
   "cell_type": "code",
   "execution_count": 57,
   "id": "e23f4953-42bd-4229-a800-94bcf1e1b6f4",
   "metadata": {},
   "outputs": [
    {
     "data": {
      "text/plain": [
       "30"
      ]
     },
     "execution_count": 57,
     "metadata": {},
     "output_type": "execute_result"
    }
   ],
   "source": [
    "add"
   ]
  },
  {
   "cell_type": "code",
   "execution_count": 59,
   "id": "ac1eb189-1e5f-4ffd-aafb-c8dbc75b2402",
   "metadata": {},
   "outputs": [],
   "source": [
    "def addition(a, b):\n",
    "    print(a+b)"
   ]
  },
  {
   "cell_type": "code",
   "execution_count": 60,
   "id": "047581b9-4c42-49c2-9e7f-bd3752ae656f",
   "metadata": {},
   "outputs": [
    {
     "name": "stdout",
     "output_type": "stream",
     "text": [
      "30\n"
     ]
    }
   ],
   "source": [
    "addition(10, 20)"
   ]
  },
  {
   "cell_type": "code",
   "execution_count": 61,
   "id": "fa3d5926-5d7c-4a2d-a588-527ec51a97b2",
   "metadata": {},
   "outputs": [
    {
     "name": "stdout",
     "output_type": "stream",
     "text": [
      "30\n"
     ]
    }
   ],
   "source": [
    "add_1 = addition(10, 20)"
   ]
  },
  {
   "cell_type": "code",
   "execution_count": 62,
   "id": "e78d0796-9a98-4cdf-a8b0-19200c94b3c8",
   "metadata": {},
   "outputs": [],
   "source": [
    "add_1"
   ]
  },
  {
   "cell_type": "code",
   "execution_count": null,
   "id": "723fce7f-302b-4862-9c66-ee6dffe3ea0e",
   "metadata": {},
   "outputs": [],
   "source": []
  },
  {
   "cell_type": "code",
   "execution_count": 74,
   "id": "88321b8e-6eac-4ab5-9c93-3bdf14770f90",
   "metadata": {},
   "outputs": [],
   "source": [
    "def login(username, password):\n",
    "    # print(\"You've entered username :\", username)\n",
    "    # print(\"You've entered password :\", password)\n",
    "    if username == 'Dhanush123' and password == 'Dh@nu&2022':\n",
    "        user = \"Dhanush\"\n",
    "        # print(\"User logged in\")\n",
    "        # print(\"Welcome,\", user)\n",
    "    elif username == 'Niharika123' and password == 'Nih@rik@2022':\n",
    "        user = \"Niharika\"\n",
    "        # print(\"User logged in\")\n",
    "        # print(\"Welcome,\", user)\n",
    "    else:\n",
    "        user = None\n",
    "        # print(\"Invalid Credentials\") \n",
    "    return user"
   ]
  },
  {
   "cell_type": "code",
   "execution_count": 75,
   "id": "ee23a272-6e26-4833-a07a-f7c1ed87acd6",
   "metadata": {},
   "outputs": [
    {
     "name": "stdout",
     "output_type": "stream",
     "text": [
      "Niharika Liked the post\n"
     ]
    }
   ],
   "source": [
    "### liking a post\n",
    "user = login(\"Niharika123\", \"Nih@rik@2022\")\n",
    "if user is not None:\n",
    "    print(user, \"Liked the post\")\n",
    "else:\n",
    "    print(\"Please login, if you want't to like this post\")"
   ]
  },
  {
   "cell_type": "code",
   "execution_count": 76,
   "id": "fcf035bf-2649-4e97-9706-a90fe601bd53",
   "metadata": {},
   "outputs": [
    {
     "name": "stdout",
     "output_type": "stream",
     "text": [
      "Dhanush Liked the post\n"
     ]
    }
   ],
   "source": [
    "user = login(\"Dhanush123\", \"Dh@nu&2022\")\n",
    "if user is not None:\n",
    "    print(user, \"Liked the post\")\n",
    "else:\n",
    "    print(\"Please login, if you want't to like this post\")"
   ]
  },
  {
   "cell_type": "code",
   "execution_count": 77,
   "id": "953f5184-b505-4da0-a9b0-1cd71fb1f5e5",
   "metadata": {},
   "outputs": [
    {
     "name": "stdout",
     "output_type": "stream",
     "text": [
      "Please login, if you want't to like this post\n"
     ]
    }
   ],
   "source": [
    "user = login(\"sdhfasjkdf\", \"Dh@nu&2022\")\n",
    "if user is not None:\n",
    "    print(user, \"Liked the post\")\n",
    "else:\n",
    "    print(\"Please login, if you want't to like this post\")"
   ]
  },
  {
   "cell_type": "code",
   "execution_count": 18,
   "id": "8d03cd71-db0b-4cfb-82fe-1a9a074f7f70",
   "metadata": {},
   "outputs": [],
   "source": [
    "def electricity_generator(usage, units):    \n",
    "    if usage == \"domestic\":\n",
    "        if (units >= 0) and (units <= 50):\n",
    "            bill = 0\n",
    "            print(\"Bill generated with \", usage ,\"amount :\", bill)\n",
    "        elif (units > 50) and (units <= 100):\n",
    "            bill = units * 5\n",
    "            print(\"Bill generated with \", usage ,\"amount :\", bill)\n",
    "        elif (units > 100) and (units <= 200):\n",
    "            bill = units * 10\n",
    "            print(\"Bill generated with \", usage ,\"amount :\", bill)\n",
    "        \n",
    "        \n",
    "        elif (units > 200) and (units <= 500):\n",
    "            bill = units * 15\n",
    "            print(\"Bill generated with \", usage ,\"amount :\", bill)\n",
    "        \n",
    "        else:\n",
    "            bill = units * 25\n",
    "            print(\"Bill generated with \", usage ,\"amount :\", bill)\n",
    "    elif usage == \"commercial\":\n",
    "        if (units >= 0) and (units <= 200):\n",
    "            charge_per_unit = 25\n",
    "            bill = units * charge_per_unit\n",
    "            print(\"units: \", units)\n",
    "            print(\"Usage: \", usage)\n",
    "            print(units, \"*\", charge_per_unit)\n",
    "            print(\"Amount\", bill)\n",
    "        elif (units >= 201) and (units <= 500):\n",
    "            bill = units * 30\n",
    "            print(\"Bill generated with\", usage, \"amount:\", bill)\n",
    "        else:\n",
    "            bill = units * 40\n",
    "            print(\"Bill generated with\", usage, \"amount:\", bill)\n",
    "    return bill"
   ]
  },
  {
   "cell_type": "code",
   "execution_count": 14,
   "id": "042efac6-e9b1-4435-b288-e7b36cb4a44e",
   "metadata": {},
   "outputs": [
    {
     "name": "stdout",
     "output_type": "stream",
     "text": [
      "Bill generated with  domestic amount : 37475\n"
     ]
    }
   ],
   "source": [
    "bill_generated = electricity_generator(\"domestic\", 1499)"
   ]
  },
  {
   "cell_type": "code",
   "execution_count": 15,
   "id": "9bfd2978-9543-4877-9c35-98eccf7866d3",
   "metadata": {},
   "outputs": [
    {
     "data": {
      "text/plain": [
       "37475"
      ]
     },
     "execution_count": 15,
     "metadata": {},
     "output_type": "execute_result"
    }
   ],
   "source": [
    "bill_generated"
   ]
  },
  {
   "cell_type": "code",
   "execution_count": 19,
   "id": "4798b9d4-3f32-4b7c-b565-6a6773ec82b6",
   "metadata": {},
   "outputs": [
    {
     "name": "stdout",
     "output_type": "stream",
     "text": [
      "Bill generated with commercial amount: 59960\n"
     ]
    }
   ],
   "source": [
    "bill_generated = electricity_generator(\"commercial\", 1499)"
   ]
  },
  {
   "cell_type": "code",
   "execution_count": 20,
   "id": "c988b51f-0b35-4cb2-905c-ddaebb7137cf",
   "metadata": {},
   "outputs": [
    {
     "data": {
      "text/plain": [
       "59960"
      ]
     },
     "execution_count": 20,
     "metadata": {},
     "output_type": "execute_result"
    }
   ],
   "source": [
    "bill_generated"
   ]
  },
  {
   "cell_type": "code",
   "execution_count": 28,
   "id": "bb451eff-4ab0-47e6-a86b-d06587eeffdc",
   "metadata": {},
   "outputs": [],
   "source": [
    "def electricity_generator(usage, units):    \n",
    "    if usage == \"domestic\":\n",
    "        if (units >= 0) and (units <= 50):\n",
    "            bill = 0\n",
    "            print(\"Bill generated with \", usage ,\"amount :\", bill)\n",
    "        elif (units > 50) and (units <= 100):\n",
    "            bill = units * 5\n",
    "            print(\"Bill generated with \", usage ,\"amount :\", bill)\n",
    "        elif (units > 100) and (units <= 200):\n",
    "            bill = units * 10\n",
    "            print(\"Bill generated with \", usage ,\"amount :\", bill)\n",
    "        \n",
    "        \n",
    "        elif (units > 200) and (units <= 500):\n",
    "            bill = units * 15\n",
    "            print(\"Bill generated with \", usage ,\"amount :\", bill)\n",
    "        \n",
    "        else:\n",
    "            bill = units * 25\n",
    "            print(\"Bill generated with \", usage ,\"amount :\", bill)\n",
    "        return bill\n",
    "    elif usage == \"commercial\":\n",
    "        if (units >= 0) and (units <= 200):\n",
    "            charge_per_unit = 25\n",
    "            bill = units * charge_per_unit\n",
    "            print(\"units: \", units)\n",
    "            print(\"Usage: \", usage)\n",
    "            print(units, \"*\", charge_per_unit)\n",
    "            print(\"Amount\", bill)\n",
    "        elif (units >= 201) and (units <= 500):\n",
    "            bill = units * 30\n",
    "            print(\"Bill generated with\", usage, \"amount:\", bill)\n",
    "        else:\n",
    "            bill = units * 40\n",
    "            print(\"Bill generated with\", usage, \"amount:\", bill)\n",
    "    "
   ]
  },
  {
   "cell_type": "code",
   "execution_count": 29,
   "id": "7816abe8-7980-4dfb-a05c-0d49ccfb158a",
   "metadata": {},
   "outputs": [
    {
     "name": "stdout",
     "output_type": "stream",
     "text": [
      "Bill generated with commercial amount: 59960\n"
     ]
    }
   ],
   "source": [
    "bill_generated = electricity_generator(\"commercial\", 1499)"
   ]
  },
  {
   "cell_type": "code",
   "execution_count": 30,
   "id": "48dc145c-ca58-4cd5-9556-78cc80df5728",
   "metadata": {},
   "outputs": [],
   "source": [
    "bill_generated"
   ]
  },
  {
   "cell_type": "code",
   "execution_count": 31,
   "id": "73bf893a-e607-4fbd-97a8-97844abb8f3e",
   "metadata": {},
   "outputs": [
    {
     "name": "stdout",
     "output_type": "stream",
     "text": [
      "Bill generated with  domestic amount : 37475\n"
     ]
    }
   ],
   "source": [
    "bill_generated = electricity_generator(\"domestic\", 1499)"
   ]
  },
  {
   "cell_type": "code",
   "execution_count": 32,
   "id": "6d723508-f4c2-4c64-ba3d-981658f99d7c",
   "metadata": {},
   "outputs": [
    {
     "data": {
      "text/plain": [
       "37475"
      ]
     },
     "execution_count": 32,
     "metadata": {},
     "output_type": "execute_result"
    }
   ],
   "source": [
    "bill_generated"
   ]
  },
  {
   "cell_type": "code",
   "execution_count": 42,
   "id": "791d7e4e-3a4c-43cd-9702-42bf085d43f0",
   "metadata": {},
   "outputs": [],
   "source": [
    "def electricity_generator(usage, units):    \n",
    "    if usage == \"domestic\":\n",
    "        if (units >= 0) and (units <= 50):\n",
    "            bill = 0\n",
    "            print(\"Bill generated with \", usage ,\"amount :\", bill)\n",
    "        elif (units > 50) and (units <= 100):\n",
    "            bill = units * 5\n",
    "            print(\"Bill generated with \", usage ,\"amount :\", bill)\n",
    "        elif (units > 100) and (units <= 200):\n",
    "            bill = units * 10\n",
    "            print(\"Bill generated with \", usage ,\"amount :\", bill)\n",
    "        \n",
    "        \n",
    "        elif (units > 200) and (units <= 500):\n",
    "            bill = units * 15\n",
    "            print(\"Bill generated with \", usage ,\"amount :\", bill)\n",
    "        \n",
    "        else:\n",
    "            bill = units * 25\n",
    "            print(\"Bill generated with \", usage ,\"amount :\", bill)\n",
    "        return bill\n",
    "    elif usage == \"commercial\":\n",
    "        if (units >= 0) and (units <= 200):\n",
    "            charge_per_unit = 25\n",
    "            bill = units * charge_per_unit\n",
    "            print(\"units: \", units)\n",
    "            print(\"Usage: \", usage)\n",
    "            print(units, \"*\", charge_per_unit)\n",
    "            print(\"Amount\", bill)\n",
    "        elif (units >= 201) and (units <= 500):\n",
    "            bill = units * 30\n",
    "            print(\"Bill generated with\", usage, \"amount:\", bill)\n",
    "        else:\n",
    "            bill = units * 40\n",
    "            print(\"Bill generated with\", usage, \"amount:\", bill)\n",
    "        return bill\n",
    "    elif usage == \"logistics\":   \n",
    "        return \"Contact TRANSCO Admin \""
   ]
  },
  {
   "cell_type": "code",
   "execution_count": 37,
   "id": "c68627d0-3896-4a01-9388-fa5c6abb95bd",
   "metadata": {},
   "outputs": [
    {
     "data": {
      "text/plain": [
       "'Contact TRANSCO Admin '"
      ]
     },
     "execution_count": 37,
     "metadata": {},
     "output_type": "execute_result"
    }
   ],
   "source": [
    "electricity_generator(\"logistics\", 9999)"
   ]
  },
  {
   "cell_type": "code",
   "execution_count": 35,
   "id": "bd662ec4-8965-4d3a-976c-83416c4833b5",
   "metadata": {},
   "outputs": [],
   "source": [
    "logistics_bill = electricity_generator(\"logistics\", 9999)"
   ]
  },
  {
   "cell_type": "code",
   "execution_count": 36,
   "id": "df7be079-50ce-4c22-9a36-8d8dd5a525b9",
   "metadata": {},
   "outputs": [
    {
     "data": {
      "text/plain": [
       "'Contact TRANSCO Admin '"
      ]
     },
     "execution_count": 36,
     "metadata": {},
     "output_type": "execute_result"
    }
   ],
   "source": [
    "logistics_bill"
   ]
  },
  {
   "cell_type": "code",
   "execution_count": 38,
   "id": "f0e3a98d-071f-46ce-bda5-53888d737232",
   "metadata": {},
   "outputs": [],
   "source": [
    "logistics_bill = electricity_generator(\"logistics\", 9999)"
   ]
  },
  {
   "cell_type": "code",
   "execution_count": 41,
   "id": "8c7435f0-0499-4a4a-b0ee-865b80179724",
   "metadata": {},
   "outputs": [
    {
     "data": {
      "text/plain": [
       "'Contact TRANSCO Admin '"
      ]
     },
     "execution_count": 41,
     "metadata": {},
     "output_type": "execute_result"
    }
   ],
   "source": [
    "logistics_bill"
   ]
  },
  {
   "cell_type": "code",
   "execution_count": 54,
   "id": "d6dd0dd1-1f25-4bce-baa1-3ac0a2ae433e",
   "metadata": {},
   "outputs": [],
   "source": [
    "def electricity_generator(usage, units):    \n",
    "    if usage == \"domestic\":\n",
    "        if (units >= 0) and (units <= 50):\n",
    "            bill = 0\n",
    "        elif (units > 50) and (units <= 100):\n",
    "            bill = units * 5\n",
    "        elif (units > 100) and (units <= 200):\n",
    "            bill = units * 10        \n",
    "        elif (units > 200) and (units <= 500):\n",
    "            bill = units * 15        \n",
    "        else:\n",
    "            bill = units * 25\n",
    "        return bill\n",
    "    elif usage == \"commercial\":\n",
    "        if (units >= 0) and (units <= 200):\n",
    "            charge_per_unit = 25\n",
    "            bill = units * charge_per_unit\n",
    "            # print(\"units: \", units)\n",
    "            # print(\"Usage: \", usage)\n",
    "            # print(units, \"*\", charge_per_unit)\n",
    "            # print(\"Amount\", bill)\n",
    "        elif (units >= 201) and (units <= 500):\n",
    "            bill = units * 30\n",
    "            # print(\"Bill generated with\", usage, \"amount:\", bill)\n",
    "        else:\n",
    "            bill = units * 40\n",
    "            # print(\"Bill generated with\", usage, \"amount:\", bill)\n",
    "        return bill\n",
    "    elif usage == \"logistics\":   \n",
    "        return \"Contact TRANSCO Admin \""
   ]
  },
  {
   "cell_type": "code",
   "execution_count": 55,
   "id": "fbd01add-791a-4c9e-9089-9c1c57d2360c",
   "metadata": {},
   "outputs": [],
   "source": [
    "elec_accounts = [\n",
    "                {\"name\": \"Dhanush\", \"account_no\":1231234, \"units\":123, \"usage_type\" : \"domestic\"}, \n",
    "                {\"name\": \"Niharika\", \"account_no\":1231235, \"units\":243, \"usage_type\" : \"domestic\"}, \n",
    "                {\"name\" : \"Harika\",\"account_no\":1231236, \"units\":563, \"usage_type\" : \"domestic\"},\n",
    "                {\"name\" : \"Anusha\",\"account_no\":1231237, \"units\":1767, \"usage_type\" : \"commercial\"},\n",
    "                {\"name\" : \"Hema\",\"account_no\":1231238, \"units\":156, \"usage_type\" : \"domestic\"},\n",
    "                {\"name\" : \"Ramana\",\"account_no\":1231239, \"units\":897, \"usage_type\" : \"logistics\"},\n",
    "                ]"
   ]
  },
  {
   "cell_type": "code",
   "execution_count": 59,
   "id": "14c14c4a-e4d5-4445-9430-9a4ab3413401",
   "metadata": {},
   "outputs": [
    {
     "name": "stdout",
     "output_type": "stream",
     "text": [
      "Bill generated for account no : 1231234 is 1230 for 123 units\n",
      "Bill generated for account no : 1231235 is 3645 for 243 units\n",
      "Bill generated for account no : 1231236 is 14075 for 563 units\n",
      "Bill generated for account no : 1231237 is 70680 for 1767 units\n",
      "Bill generated for account no : 1231238 is 1560 for 156 units\n",
      "Contact TRANSCO Admin \n"
     ]
    }
   ],
   "source": [
    "for account in elec_accounts:\n",
    "    name = account['name']\n",
    "    account_number = account['account_no']\n",
    "    units = account['units']\n",
    "    usage = account['usage_type']\n",
    "    electric_bill = electricity_generator(usage, units)\n",
    "    if usage == 'logistics':\n",
    "        print(electric_bill)\n",
    "    else:\n",
    "        print(\"Bill generated for account no :\", account_number, \"is\", electric_bill, \"for\", units, \"units\")"
   ]
  },
  {
   "cell_type": "code",
   "execution_count": 86,
   "id": "672ce731-152f-4acd-a1a4-75f1a2ada3f4",
   "metadata": {},
   "outputs": [],
   "source": [
    "def generate_invoice(name, order_id, price, order_items, address):\n",
    "    print('--------------------------------------')\n",
    "    print('           **INVOICE**                ')\n",
    "    print(\"--------------------------------------\")\n",
    "    print(\"Name :\", name)\n",
    "    print(\"Order ID:\", order_id)\n",
    "    print(\"Total Price:\", price)\n",
    "    print(\"Order Items:\")\n",
    "    for item in order_items:\n",
    "        print(\"\\t\", item)\n",
    "    print(\"Address:\", address)    \n",
    "    print(\"xxxxxxxxxxxxxxxxxxxxxxxxxxxxxxxxxxxxxx\\n\")\n",
    "    "
   ]
  },
  {
   "cell_type": "code",
   "execution_count": 78,
   "id": "6698d755-7332-43a9-a066-5fdc5eb91f45",
   "metadata": {},
   "outputs": [],
   "source": [
    "orders = [\n",
    "        {\"name\": \"Dhanush\", \"order_id\":1231234, \"price\":123, \"order_items\" : [\"Jeans Pant, Checks Shirt\"], \"address\": \"Madhapur, HYD\"}, \n",
    "        {\"name\": \"Niharika\", \"order_id\":1231235, \"price\":243, \"order_items\" : [\"Check Shirt, Tshirt\"], \"address\": \"Hayath Nagar, HYD\"}, \n",
    "        {\"name\" : \"Harika\",\"order_id\":1231236, \"price\":563, \"order_items\" : [\"Tshirt\"], \"address\": \"Hayath Nagar, HYD\"},\n",
    "        {\"name\" : \"Anusha\",\"order_id\":1231237, \"price\":1767, \"order_items\" : [\"Samsung TV\", \"Soundbar\"], \"address\": \"Madhapur, HYD\"},\n",
    "        {\"name\" : \"Hema\",\"order_id\":1231238, \"price\":156, \"order_items\" : [\"Iphone 14(black)\", \"Charger\"], \"address\": \"Gachibowli, HYD\"},\n",
    "        {\"name\" : \"Ramana\",\"order_id\":1231239, \"price\":897, \"order_items\" : [\"Sony Soundbar\", \"Car Toy\", \"Cricket bat\"], \"address\": \"KPHB Colony, HYD\"},\n",
    "        ]"
   ]
  },
  {
   "cell_type": "code",
   "execution_count": 79,
   "id": "1fd439c9-edc1-420b-ad58-f6f6d4803bb9",
   "metadata": {},
   "outputs": [
    {
     "data": {
      "text/plain": [
       "{'name': 'Dhanush',\n",
       " 'order_id': 1231234,\n",
       " 'price': 123,\n",
       " 'order_items': ['Jeans Pant, Checks Shirt'],\n",
       " 'address': 'Madhapur, HYD'}"
      ]
     },
     "execution_count": 79,
     "metadata": {},
     "output_type": "execute_result"
    }
   ],
   "source": [
    "orders[0]"
   ]
  },
  {
   "cell_type": "code",
   "execution_count": 89,
   "id": "fc0ae7d3-d279-4617-b14d-82a8bd83a194",
   "metadata": {},
   "outputs": [
    {
     "name": "stdout",
     "output_type": "stream",
     "text": [
      "--------------------------------------\n",
      "           **INVOICE**                \n",
      "--------------------------------------\n",
      "Name : Dhanush\n",
      "Order ID: 1231234\n",
      "Total Price: 123\n",
      "Order Items:\n",
      "\t Jeans Pant, Checks Shirt\n",
      "Address: Madhapur, HYD\n",
      "xxxxxxxxxxxxxxxxxxxxxxxxxxxxxxxxxxxxxx\n",
      "\n",
      "--------------------------------------\n",
      "           **INVOICE**                \n",
      "--------------------------------------\n",
      "Name : Niharika\n",
      "Order ID: 1231235\n",
      "Total Price: 243\n",
      "Order Items:\n",
      "\t Check Shirt, Tshirt\n",
      "Address: Hayath Nagar, HYD\n",
      "xxxxxxxxxxxxxxxxxxxxxxxxxxxxxxxxxxxxxx\n",
      "\n",
      "--------------------------------------\n",
      "           **INVOICE**                \n",
      "--------------------------------------\n",
      "Name : Harika\n",
      "Order ID: 1231236\n",
      "Total Price: 563\n",
      "Order Items:\n",
      "\t Tshirt\n",
      "Address: Hayath Nagar, HYD\n",
      "xxxxxxxxxxxxxxxxxxxxxxxxxxxxxxxxxxxxxx\n",
      "\n",
      "--------------------------------------\n",
      "           **INVOICE**                \n",
      "--------------------------------------\n",
      "Name : Anusha\n",
      "Order ID: 1231237\n",
      "Total Price: 1767\n",
      "Order Items:\n",
      "\t Samsung TV\n",
      "\t Soundbar\n",
      "Address: Madhapur, HYD\n",
      "xxxxxxxxxxxxxxxxxxxxxxxxxxxxxxxxxxxxxx\n",
      "\n",
      "--------------------------------------\n",
      "           **INVOICE**                \n",
      "--------------------------------------\n",
      "Name : Hema\n",
      "Order ID: 1231238\n",
      "Total Price: 156\n",
      "Order Items:\n",
      "\t Iphone 14(black)\n",
      "\t Charger\n",
      "Address: Gachibowli, HYD\n",
      "xxxxxxxxxxxxxxxxxxxxxxxxxxxxxxxxxxxxxx\n",
      "\n",
      "--------------------------------------\n",
      "           **INVOICE**                \n",
      "--------------------------------------\n",
      "Name : Ramana\n",
      "Order ID: 1231239\n",
      "Total Price: 897\n",
      "Order Items:\n",
      "\t Sony Soundbar\n",
      "\t Car Toy\n",
      "\t Cricket bat\n",
      "Address: KPHB Colony, HYD\n",
      "xxxxxxxxxxxxxxxxxxxxxxxxxxxxxxxxxxxxxx\n",
      "\n"
     ]
    }
   ],
   "source": [
    "orders = [\n",
    "        {\"name\": \"Dhanush\", \"order_id\":1231234, \"price\":123, \"order_items\" : [\"Jeans Pant, Checks Shirt\"], \"address\": \"Madhapur, HYD\"}, \n",
    "        {\"name\": \"Niharika\", \"order_id\":1231235, \"price\":243, \"order_items\" : [\"Check Shirt, Tshirt\"], \"address\": \"Hayath Nagar, HYD\"}, \n",
    "        {\"name\" : \"Harika\",\"order_id\":1231236, \"price\":563, \"order_items\" : [\"Tshirt\"], \"address\": \"Hayath Nagar, HYD\"},\n",
    "        {\"name\" : \"Anusha\",\"order_id\":1231237, \"price\":1767, \"order_items\" : [\"Samsung TV\", \"Soundbar\"], \"address\": \"Madhapur, HYD\"},\n",
    "        {\"name\" : \"Hema\",\"order_id\":1231238, \"price\":156, \"order_items\" : [\"Iphone 14(black)\", \"Charger\"], \"address\": \"Gachibowli, HYD\"},\n",
    "        {\"name\" : \"Ramana\",\"order_id\":1231239, \"price\":897, \"order_items\" : [\"Sony Soundbar\", \"Car Toy\", \"Cricket bat\"], \"address\": \"KPHB Colony, HYD\"},\n",
    "        ]\n",
    "def generate_invoice(name, order_id, price, order_items, address):\n",
    "    print('--------------------------------------')\n",
    "    print('           **INVOICE**                ')\n",
    "    print(\"--------------------------------------\")\n",
    "    print(\"Name :\", name)\n",
    "    print(\"Order ID:\", order_id)\n",
    "    print(\"Total Price:\", price)\n",
    "    print(\"Order Items:\")\n",
    "    for item in order_items:\n",
    "        print(\"\\t\", item)\n",
    "    print(\"Address:\", address)    \n",
    "    print(\"xxxxxxxxxxxxxxxxxxxxxxxxxxxxxxxxxxxxxx\\n\")\n",
    "    \n",
    "for order in orders:\n",
    "    generate_invoice(order['name'], \n",
    "                 order['order_id'], \n",
    "                 order['price'], \n",
    "                 order['order_items'], \n",
    "                 order['address'])"
   ]
  },
  {
   "cell_type": "markdown",
   "id": "4b611589-aff1-4967-9d0c-03123424c8ec",
   "metadata": {},
   "source": [
    "# Lambda Functions\n",
    "* A lambda function is a anonymous function, which can take multple parameters along with single expression.\n",
    "* Lambda function is implemented using lambda keyword."
   ]
  },
  {
   "cell_type": "code",
   "execution_count": 105,
   "id": "8853f177-74d1-4c90-af4e-f54d904ee454",
   "metadata": {},
   "outputs": [],
   "source": [
    "fun_1 = lambda a:print(a)"
   ]
  },
  {
   "cell_type": "code",
   "execution_count": 106,
   "id": "674a5446-0cf8-499d-acce-91e2d305a309",
   "metadata": {},
   "outputs": [
    {
     "name": "stdout",
     "output_type": "stream",
     "text": [
      "10\n"
     ]
    }
   ],
   "source": [
    "fun_1(10)"
   ]
  },
  {
   "cell_type": "code",
   "execution_count": 107,
   "id": "5bf7fde4-a23b-4dfd-99ca-ddbc807371c4",
   "metadata": {},
   "outputs": [
    {
     "name": "stdout",
     "output_type": "stream",
     "text": [
      "Hello\n"
     ]
    }
   ],
   "source": [
    "fun_1(\"Hello\")"
   ]
  },
  {
   "cell_type": "code",
   "execution_count": 108,
   "id": "27219e23-e008-4ae7-8b2b-4d464a8ebddf",
   "metadata": {},
   "outputs": [],
   "source": [
    "fun_2 = lambda a:print(\"Welcome\", a)"
   ]
  },
  {
   "cell_type": "code",
   "execution_count": 109,
   "id": "7291e68f-65d3-4c55-a43e-4c314da7f6d2",
   "metadata": {},
   "outputs": [
    {
     "name": "stdout",
     "output_type": "stream",
     "text": [
      "Welcome Dhanush\n"
     ]
    }
   ],
   "source": [
    "fun_2(\"Dhanush\")"
   ]
  },
  {
   "cell_type": "code",
   "execution_count": 111,
   "id": "e97452a8-867f-429b-b8fc-c841ff57262a",
   "metadata": {},
   "outputs": [
    {
     "name": "stdout",
     "output_type": "stream",
     "text": [
      "Welcome Niharika\n"
     ]
    }
   ],
   "source": [
    "niharika = fun_2(\"Niharika\")"
   ]
  },
  {
   "cell_type": "code",
   "execution_count": 112,
   "id": "97aa15cb-bfd6-4eba-a541-1265c4db33fd",
   "metadata": {},
   "outputs": [],
   "source": [
    "niharika"
   ]
  },
  {
   "cell_type": "code",
   "execution_count": 113,
   "id": "18f5c2ea-e599-4a21-b07f-4380531e8e79",
   "metadata": {},
   "outputs": [],
   "source": [
    "fun_add = lambda a, b, c: a+b+c"
   ]
  },
  {
   "cell_type": "code",
   "execution_count": 115,
   "id": "31d4188e-2d34-402a-95d7-ce1f7c1aaec5",
   "metadata": {},
   "outputs": [],
   "source": [
    "result = fun_add(1,2,4)"
   ]
  },
  {
   "cell_type": "code",
   "execution_count": 116,
   "id": "c8aa0488-dcf9-4c9d-a650-0b7b902fbb33",
   "metadata": {},
   "outputs": [
    {
     "data": {
      "text/plain": [
       "7"
      ]
     },
     "execution_count": 116,
     "metadata": {},
     "output_type": "execute_result"
    }
   ],
   "source": [
    "result"
   ]
  },
  {
   "cell_type": "code",
   "execution_count": 117,
   "id": "b810e317-e070-496c-942a-c28dd9aa6dcf",
   "metadata": {},
   "outputs": [],
   "source": [
    "fun_power = lambda main_value, power_value: main_value**power_value"
   ]
  },
  {
   "cell_type": "code",
   "execution_count": 118,
   "id": "57cccedb-ad5d-4721-b0b3-284345a79d33",
   "metadata": {},
   "outputs": [
    {
     "data": {
      "text/plain": [
       "8"
      ]
     },
     "execution_count": 118,
     "metadata": {},
     "output_type": "execute_result"
    }
   ],
   "source": [
    "fun_power(2, 3)"
   ]
  },
  {
   "cell_type": "code",
   "execution_count": 119,
   "id": "22e10a32-2334-4554-a5cc-e53a37d83691",
   "metadata": {},
   "outputs": [
    {
     "data": {
      "text/plain": [
       "81"
      ]
     },
     "execution_count": 119,
     "metadata": {},
     "output_type": "execute_result"
    }
   ],
   "source": [
    "fun_power(3, 4)"
   ]
  },
  {
   "cell_type": "markdown",
   "id": "e5971fe5-0020-4b30-8d29-f36a294acf96",
   "metadata": {},
   "source": [
    "### Global variables VS Local Variables\n",
    "#### Local Variables\n",
    "* A variable within the function can be defined as a Local Variable\n",
    "* The Scope of the local variable is within the function, so we can use the local variable within the function only.\n",
    "* we can't use local variables outside the function.\n",
    "\n",
    "#### Global Variables\n",
    "* A variable defined outside of any function can be referred as a Global variable.\n",
    "* The Scope of the global variable is in throughout the function, so we can use the global variable wherever we want.\n",
    "* we can use global variable inside or outside of any function."
   ]
  },
  {
   "cell_type": "code",
   "execution_count": 1,
   "id": "0dc0ffa8-6588-4ff4-b6b4-049221b567ae",
   "metadata": {},
   "outputs": [],
   "source": [
    "a = 100      # here a and b are global variables\n",
    "b = 200\n",
    "\n",
    "def addition():\n",
    "    c = 300     # here c is local variable\n",
    "    print(a+b+c)"
   ]
  },
  {
   "cell_type": "code",
   "execution_count": 2,
   "id": "2fe2392c-3a9b-4c62-8431-cc3a9c10e293",
   "metadata": {},
   "outputs": [
    {
     "name": "stdout",
     "output_type": "stream",
     "text": [
      "600\n"
     ]
    }
   ],
   "source": [
    "addition()"
   ]
  },
  {
   "cell_type": "code",
   "execution_count": 3,
   "id": "b58e5071-c928-4bd2-b9a7-8f02f37121da",
   "metadata": {},
   "outputs": [
    {
     "data": {
      "text/plain": [
       "100"
      ]
     },
     "execution_count": 3,
     "metadata": {},
     "output_type": "execute_result"
    }
   ],
   "source": [
    "a"
   ]
  },
  {
   "cell_type": "code",
   "execution_count": 4,
   "id": "78eeb98d-abe9-40d0-9e21-5f3a04e96d52",
   "metadata": {},
   "outputs": [
    {
     "data": {
      "text/plain": [
       "200"
      ]
     },
     "execution_count": 4,
     "metadata": {},
     "output_type": "execute_result"
    }
   ],
   "source": [
    "b"
   ]
  },
  {
   "cell_type": "code",
   "execution_count": 5,
   "id": "4f5020fc-5e4d-460d-9806-fc409c61c714",
   "metadata": {},
   "outputs": [
    {
     "ename": "NameError",
     "evalue": "name 'c' is not defined",
     "output_type": "error",
     "traceback": [
      "\u001b[1;31m---------------------------------------------------------------------------\u001b[0m",
      "\u001b[1;31mNameError\u001b[0m                                 Traceback (most recent call last)",
      "Cell \u001b[1;32mIn[5], line 1\u001b[0m\n\u001b[1;32m----> 1\u001b[0m \u001b[43mc\u001b[49m\n",
      "\u001b[1;31mNameError\u001b[0m: name 'c' is not defined"
     ]
    }
   ],
   "source": [
    "c"
   ]
  },
  {
   "cell_type": "markdown",
   "id": "445ece53-60d9-44e6-989c-5fde1ad3aa9e",
   "metadata": {},
   "source": [
    "## Global Keyword\n",
    "* global keyword is used to make the local variable into a global variable, so that we can access the specified keyword throughout the program."
   ]
  },
  {
   "cell_type": "code",
   "execution_count": 17,
   "id": "5081aa63-51b2-4fab-b402-4b59d99390a4",
   "metadata": {},
   "outputs": [],
   "source": [
    "a = 100      # here a and b are global variables\n",
    "b = 200\n",
    "\n",
    "def addition():\n",
    "    global c   # here we are making c as a global keyword\n",
    "    c = 300     # here c is local variable\n",
    "    print(a+b+c)"
   ]
  },
  {
   "cell_type": "code",
   "execution_count": 18,
   "id": "56041c67-a0dc-47d9-90b7-6b7513d9d33f",
   "metadata": {},
   "outputs": [
    {
     "name": "stdout",
     "output_type": "stream",
     "text": [
      "600\n"
     ]
    }
   ],
   "source": [
    "addition()"
   ]
  },
  {
   "cell_type": "code",
   "execution_count": 19,
   "id": "5980421b-a028-4afe-b7bc-b464ec932f09",
   "metadata": {},
   "outputs": [
    {
     "data": {
      "text/plain": [
       "(100, 200)"
      ]
     },
     "execution_count": 19,
     "metadata": {},
     "output_type": "execute_result"
    }
   ],
   "source": [
    "a, b"
   ]
  },
  {
   "cell_type": "code",
   "execution_count": 20,
   "id": "755efc95-80c4-48df-b6cc-c2391732ea6c",
   "metadata": {},
   "outputs": [
    {
     "data": {
      "text/plain": [
       "300"
      ]
     },
     "execution_count": 20,
     "metadata": {},
     "output_type": "execute_result"
    }
   ],
   "source": [
    "c"
   ]
  },
  {
   "cell_type": "code",
   "execution_count": 39,
   "id": "eda01011-fc08-4473-8e5d-73201b269e83",
   "metadata": {},
   "outputs": [
    {
     "name": "stdout",
     "output_type": "stream",
     "text": [
      "10\n",
      "20\n",
      "30\n",
      "40\n",
      "50\n",
      "60\n",
      "70\n"
     ]
    }
   ],
   "source": [
    "def collec(*a):      #     *a  will take the multiple argument while function calling\n",
    "    for i in a:\n",
    "        print(i)\n",
    "        \n",
    "collec(10, 20, 30, 40, 50, 60, 70)"
   ]
  },
  {
   "cell_type": "code",
   "execution_count": 40,
   "id": "bc16fa28-140b-46dc-b768-178a5a6f1a71",
   "metadata": {},
   "outputs": [
    {
     "name": "stdout",
     "output_type": "stream",
     "text": [
      "Hello\n",
      "Hi\n",
      "How are ypu?\n"
     ]
    }
   ],
   "source": [
    "collec(\"Hello\", \"Hi\", \"How are ypu?\")"
   ]
  },
  {
   "cell_type": "code",
   "execution_count": 35,
   "id": "e6109d07-0efa-4dc5-b465-0007dd99e8e4",
   "metadata": {},
   "outputs": [
    {
     "name": "stdout",
     "output_type": "stream",
     "text": [
      "name Dhanush\n",
      "City Hyd\n"
     ]
    }
   ],
   "source": [
    "def collec2(**b):         #  **b  will take multiple keywrod arguments\n",
    "    for key, value in b.items():\n",
    "        print(key, value)\n",
    "collec2(name = \"Dhanush\", City = \"Hyd\")"
   ]
  },
  {
   "cell_type": "code",
   "execution_count": 42,
   "id": "8957b664-ffe8-4286-b53c-c0ff2e9983f1",
   "metadata": {},
   "outputs": [
    {
     "data": {
      "text/plain": [
       "[10, 20, 30, 40]"
      ]
     },
     "execution_count": 42,
     "metadata": {},
     "output_type": "execute_result"
    }
   ],
   "source": [
    "li1"
   ]
  },
  {
   "cell_type": "code",
   "execution_count": 24,
   "id": "0f4540b8-083d-4a80-b832-dd24e5923751",
   "metadata": {},
   "outputs": [
    {
     "name": "stdout",
     "output_type": "stream",
     "text": [
      "inital sum:  0    current item 10\n",
      "After adding 10    The result sum is : 10 \n",
      "\n",
      "inital sum:  10    current item 20\n",
      "After adding 20    The result sum is : 30 \n",
      "\n",
      "inital sum:  30    current item 30\n",
      "After adding 30    The result sum is : 60 \n",
      "\n",
      "inital sum:  60    current item 40\n",
      "After adding 40    The result sum is : 100 \n",
      "\n"
     ]
    }
   ],
   "source": [
    "sum = 0\n",
    "for i in li1:\n",
    "    print(\"inital sum: \",sum, \"   current item\", i )\n",
    "    sum = sum + i\n",
    "    print(\"After adding\", i, \"   The result sum is :\", sum, '\\n')"
   ]
  },
  {
   "cell_type": "code",
   "execution_count": 41,
   "id": "b4989848-d34a-48c1-8b76-3de486948de4",
   "metadata": {},
   "outputs": [
    {
     "name": "stdout",
     "output_type": "stream",
     "text": [
      "inital mul:  1    current item 10\n",
      "After multiplication 10    The result is : 10 \n",
      "\n",
      "inital mul:  10    current item 20\n",
      "After multiplication 20    The result is : 200 \n",
      "\n",
      "inital mul:  200    current item 30\n",
      "After multiplication 30    The result is : 6000 \n",
      "\n",
      "inital mul:  6000    current item 40\n",
      "After multiplication 40    The result is : 240000 \n",
      "\n"
     ]
    }
   ],
   "source": [
    "mul = 1\n",
    "for i in li1:\n",
    "    print(\"inital mul: \",mul, \"   current item\", i )\n",
    "    mul = mul * i\n",
    "    print(\"After multiplication\", i, \"   The result is :\", mul, '\\n')"
   ]
  },
  {
   "cell_type": "code",
   "execution_count": 25,
   "id": "f5b92421-8420-4ee8-9e16-e7a9f07ae663",
   "metadata": {},
   "outputs": [],
   "source": [
    "### find out out the sum of n natural numbers\n",
    "### way-1 : use formula ---> (n*(n+1))/2\n",
    "### way-2 : use for loop to find the sum "
   ]
  },
  {
   "cell_type": "code",
   "execution_count": 52,
   "id": "fc249177-7d90-4c40-97ea-eac342dfd544",
   "metadata": {},
   "outputs": [],
   "source": [
    "# Define a function with name find addition\n",
    "# Keep parameter as N\n",
    "# o/p print the sum of N numbers"
   ]
  },
  {
   "cell_type": "markdown",
   "id": "1c53cef9-2c22-43ce-932d-6ee41dcd436f",
   "metadata": {},
   "source": [
    "##### find the sum of cubes of n natural numbers\n",
    "\n",
    "1. n = 5\n",
    "2. sum = 0\n",
    "3. result = sum of 1cube + 2 cube + 3cube + 4cube + 5cube = 225"
   ]
  },
  {
   "cell_type": "code",
   "execution_count": 58,
   "id": "c1755bc4-68e8-44f4-98cf-31de903f99f1",
   "metadata": {},
   "outputs": [
    {
     "name": "stdout",
     "output_type": "stream",
     "text": [
      "1 after adding 1 cube\n",
      "9 after adding 2 cube\n",
      "36 after adding 3 cube\n",
      "100 after adding 4 cube\n",
      "225 after adding 5 cube\n",
      "225\n"
     ]
    }
   ],
   "source": [
    "def find_sum_of_cubes(n):\n",
    "    sum = 0\n",
    "    n_numbers = range(1, n+1)\n",
    "    # print(n_numbers, sum)\n",
    "    for item in n_numbers:\n",
    "        cube = item**3\n",
    "        sum = sum +cube\n",
    "        print(sum, \"after adding\", item,\"cube\")\n",
    "    print(sum)\n",
    "find_sum_of_cubes(5)  "
   ]
  },
  {
   "cell_type": "code",
   "execution_count": 63,
   "id": "3a5906c6-ba99-4af0-a44d-a37506e7a575",
   "metadata": {},
   "outputs": [
    {
     "data": {
      "text/plain": [
       "225.0"
      ]
     },
     "execution_count": 63,
     "metadata": {},
     "output_type": "execute_result"
    }
   ],
   "source": [
    "def find_sum_of_cubes_with_form(n):\n",
    "    return ((n**2)*(n+1)**2)/4\n",
    "find_sum_of_cubes_with_form(5)    "
   ]
  },
  {
   "cell_type": "markdown",
   "id": "3dd7da29-8c75-4027-9d4f-5e17d9e26cf0",
   "metadata": {},
   "source": [
    "##### finding sum of even numbers upto n numbers"
   ]
  },
  {
   "cell_type": "code",
   "execution_count": 73,
   "id": "b76586ac-0acd-4afe-8389-23112df915e0",
   "metadata": {},
   "outputs": [
    {
     "data": {
      "text/plain": [
       "30"
      ]
     },
     "execution_count": 73,
     "metadata": {},
     "output_type": "execute_result"
    }
   ],
   "source": [
    "def find_even_sum(n):\n",
    "    sum = 0\n",
    "    for i in range(1, n+1):\n",
    "        if i%2 == 0:\n",
    "            sum = sum + i\n",
    "    return sum\n",
    "find_even_sum(10)"
   ]
  },
  {
   "cell_type": "markdown",
   "id": "8a19b6b4-11c7-4c00-bddb-51ba8c2117c4",
   "metadata": {},
   "source": [
    "## List Comprehension"
   ]
  },
  {
   "cell_type": "code",
   "execution_count": 4,
   "id": "0c51d867-942a-4579-a8f0-2a53085cef6d",
   "metadata": {},
   "outputs": [
    {
     "data": {
      "text/plain": [
       "[1, 2, 3, 4, 5, 6, 7, 8, 9, 10]"
      ]
     },
     "execution_count": 4,
     "metadata": {},
     "output_type": "execute_result"
    }
   ],
   "source": [
    "li = list(range(1, 11))\n",
    "li"
   ]
  },
  {
   "cell_type": "code",
   "execution_count": 16,
   "id": "3b750b0b-1e32-40ea-9361-bed8d0b088bb",
   "metadata": {},
   "outputs": [
    {
     "data": {
      "text/plain": [
       "[1, 4, 9, 16, 25, 36, 49, 64, 81, 100]"
      ]
     },
     "execution_count": 16,
     "metadata": {},
     "output_type": "execute_result"
    }
   ],
   "source": [
    "li1 = [i**2 for i in li]\n",
    "li1"
   ]
  },
  {
   "cell_type": "code",
   "execution_count": 17,
   "id": "9ec1dc1f-253f-4055-a4ca-2506af369346",
   "metadata": {},
   "outputs": [],
   "source": [
    "li1 = [i**2 for i in li if i%2 == 0]"
   ]
  },
  {
   "cell_type": "code",
   "execution_count": 18,
   "id": "c9c3ba8c-5b81-4669-87f7-2042868d7590",
   "metadata": {},
   "outputs": [
    {
     "data": {
      "text/plain": [
       "[4, 16, 36, 64, 100]"
      ]
     },
     "execution_count": 18,
     "metadata": {},
     "output_type": "execute_result"
    }
   ],
   "source": [
    "li1"
   ]
  },
  {
   "cell_type": "code",
   "execution_count": 14,
   "id": "ee216437-c624-4063-b663-18c13242417f",
   "metadata": {},
   "outputs": [],
   "source": [
    "result = []\n",
    "for i in li:\n",
    "    if i%2 == 0:\n",
    "        result.append(i**2)\n",
    "        "
   ]
  },
  {
   "cell_type": "code",
   "execution_count": 15,
   "id": "6231a451-0795-4af7-ba37-c0df18b89834",
   "metadata": {},
   "outputs": [
    {
     "data": {
      "text/plain": [
       "[4, 16, 36, 64, 100]"
      ]
     },
     "execution_count": 15,
     "metadata": {},
     "output_type": "execute_result"
    }
   ],
   "source": [
    "result"
   ]
  },
  {
   "cell_type": "markdown",
   "id": "ac6cd50b-80f6-49af-aebe-9c3f8afe2873",
   "metadata": {},
   "source": [
    "### map\n",
    "* function returns a map object(which is an iterator) of the results after applying the given function to each item of a given iterable (list, tuple etc.)"
   ]
  },
  {
   "cell_type": "code",
   "execution_count": 19,
   "id": "b21edac1-37ee-4e42-b0f4-0d716e07915e",
   "metadata": {},
   "outputs": [
    {
     "data": {
      "text/plain": [
       "[1, 2, 3, 4, 5, 6, 7, 8, 9, 10]"
      ]
     },
     "execution_count": 19,
     "metadata": {},
     "output_type": "execute_result"
    }
   ],
   "source": [
    "li"
   ]
  },
  {
   "cell_type": "code",
   "execution_count": 21,
   "id": "94e7f9d1-b3f4-48be-bf63-87d6b7a492ed",
   "metadata": {},
   "outputs": [
    {
     "data": {
      "text/plain": [
       "[1, 4, 9, 16, 25, 36, 49, 64, 81, 100]"
      ]
     },
     "execution_count": 21,
     "metadata": {},
     "output_type": "execute_result"
    }
   ],
   "source": [
    "list(map(lambda x:x**2, li))"
   ]
  },
  {
   "cell_type": "code",
   "execution_count": 22,
   "id": "942752a8-7ac5-4c28-8e31-0d5b89369e37",
   "metadata": {},
   "outputs": [],
   "source": [
    "names = [\"Komari Dhanush\",\"Nalla Niharika\",\"Nalla Sriharika\",\"Bandarla Anusha\", \"JPV Ramana\"]"
   ]
  },
  {
   "cell_type": "code",
   "execution_count": 28,
   "id": "2f3b3c42-b951-4f58-9bba-ffb0c6aca7ff",
   "metadata": {},
   "outputs": [
    {
     "data": {
      "text/plain": [
       "[False, True, True, False, False]"
      ]
     },
     "execution_count": 28,
     "metadata": {},
     "output_type": "execute_result"
    }
   ],
   "source": [
    "list(map(lambda name:name.startswith(\"Nalla\"), names))"
   ]
  },
  {
   "cell_type": "code",
   "execution_count": 30,
   "id": "f82230e2-51b7-40bd-a2ef-4b0132f38325",
   "metadata": {},
   "outputs": [
    {
     "name": "stdout",
     "output_type": "stream",
     "text": [
      "Nalla Niharika\n",
      "Nalla Sriharika\n"
     ]
    }
   ],
   "source": [
    "for name in names:\n",
    "    if name.startswith(\"Nalla\"):\n",
    "        print(name)"
   ]
  },
  {
   "cell_type": "code",
   "execution_count": 37,
   "id": "a516c56f-fdf5-4fa6-a174-46b577f29d02",
   "metadata": {},
   "outputs": [
    {
     "name": "stdout",
     "output_type": "stream",
     "text": [
      "5\n"
     ]
    },
    {
     "data": {
      "text/plain": [
       "25"
      ]
     },
     "execution_count": 37,
     "metadata": {},
     "output_type": "execute_result"
    }
   ],
   "source": [
    "def square(n):\n",
    "    print(n)\n",
    "    return n*n\n",
    "square(5)"
   ]
  },
  {
   "cell_type": "code",
   "execution_count": 38,
   "id": "9e5dbc83-28bc-40ef-af8b-7b44df93c353",
   "metadata": {},
   "outputs": [
    {
     "name": "stdout",
     "output_type": "stream",
     "text": [
      "1\n",
      "2\n",
      "5\n",
      "20\n"
     ]
    },
    {
     "data": {
      "text/plain": [
       "[1, 4, 25, 400]"
      ]
     },
     "execution_count": 38,
     "metadata": {},
     "output_type": "execute_result"
    }
   ],
   "source": [
    "list(map(square, [1, 2, 5, 20]))"
   ]
  },
  {
   "cell_type": "markdown",
   "id": "cfd23d9d-af63-402e-80ac-e1b412999a7c",
   "metadata": {},
   "source": [
    "### filter\n",
    "* The filter() function returns an iterator where the items are filtered through a function to test if the item is accepted or not."
   ]
  },
  {
   "cell_type": "code",
   "execution_count": 39,
   "id": "c5b84981-1513-4be0-a189-639d9cefd6c3",
   "metadata": {},
   "outputs": [
    {
     "data": {
      "text/plain": [
       "[1, 2, 3, 4, 5, 6, 7, 8, 9, 10]"
      ]
     },
     "execution_count": 39,
     "metadata": {},
     "output_type": "execute_result"
    }
   ],
   "source": [
    "li"
   ]
  },
  {
   "cell_type": "code",
   "execution_count": 42,
   "id": "e42ace8a-0f27-4caf-83d0-f557baf83f92",
   "metadata": {},
   "outputs": [
    {
     "data": {
      "text/plain": [
       "[6, 7, 8, 9, 10]"
      ]
     },
     "execution_count": 42,
     "metadata": {},
     "output_type": "execute_result"
    }
   ],
   "source": [
    "list(filter(lambda x:x>5, li))"
   ]
  },
  {
   "cell_type": "code",
   "execution_count": 43,
   "id": "7c1bdf71-0031-46c0-a5f9-0bf53d3ba798",
   "metadata": {},
   "outputs": [
    {
     "data": {
      "text/plain": [
       "['Nalla Niharika', 'Nalla Sriharika']"
      ]
     },
     "execution_count": 43,
     "metadata": {},
     "output_type": "execute_result"
    }
   ],
   "source": [
    "names = [\"Komari Dhanush\",\"Nalla Niharika\",\"Nalla Sriharika\",\"Bandarla Anusha\", \"JPV Ramana\"]\n",
    "list(filter(lambda name:name.startswith(\"Nalla\"), names))"
   ]
  },
  {
   "cell_type": "markdown",
   "id": "04c35697-434d-4048-99db-1ed693625d9e",
   "metadata": {},
   "source": [
    "### reduce"
   ]
  },
  {
   "cell_type": "code",
   "execution_count": 46,
   "id": "31c86112-6d52-41b9-b2fe-7b6fb32ccbaa",
   "metadata": {},
   "outputs": [
    {
     "data": {
      "text/plain": [
       "-13"
      ]
     },
     "execution_count": 46,
     "metadata": {},
     "output_type": "execute_result"
    }
   ],
   "source": [
    "import functools\n",
    "functools.reduce(lambda a, b: a-b, [1, 2, 3, 4, 5])"
   ]
  },
  {
   "cell_type": "code",
   "execution_count": 49,
   "id": "7e1633f2-52ab-4bd5-a5ae-80fba7c0b752",
   "metadata": {},
   "outputs": [
    {
     "data": {
      "text/plain": [
       "(1, 4, 9, 16, 25, 36, 49, 64, 81, 100)"
      ]
     },
     "execution_count": 49,
     "metadata": {},
     "output_type": "execute_result"
    }
   ],
   "source": [
    " "
   ]
  },
  {
   "cell_type": "code",
   "execution_count": null,
   "id": "10dd4063-81b1-4f8e-8921-4dca0deb99ea",
   "metadata": {},
   "outputs": [],
   "source": []
  }
 ],
 "metadata": {
  "kernelspec": {
   "display_name": "Python 3 (ipykernel)",
   "language": "python",
   "name": "python3"
  },
  "language_info": {
   "codemirror_mode": {
    "name": "ipython",
    "version": 3
   },
   "file_extension": ".py",
   "mimetype": "text/x-python",
   "name": "python",
   "nbconvert_exporter": "python",
   "pygments_lexer": "ipython3",
   "version": "3.10.11"
  }
 },
 "nbformat": 4,
 "nbformat_minor": 5
}
