{
 "cells": [
  {
   "cell_type": "markdown",
   "id": "0bd129fe-1106-43a9-ab46-636c1d5799d7",
   "metadata": {},
   "source": [
    "# Functions\n",
    "* Function can be represented as a block of code\n",
    "* function can be implemented with the help of def keyword\n",
    "* Functions can be mainly two types\n",
    "  1. Pre-built functions         --> for ex.., len(), range(), list()\n",
    "  2. User-defined functions      --> These functions created on our own\n",
    "* One of the main advantage of function is code reusability\n",
    "* Don't use inbuilt function name, and keywords as our function names.\n",
    "* Types of functions:\n",
    "  1. function without parameters and without return value\n",
    "  2. function with parameters and without return value\n",
    "  3. function without parameters and with return value\n",
    "  4. function with parameters and with return value\n",
    " \n"
   ]
  },
  {
   "cell_type": "code",
   "execution_count": 1,
   "id": "6987d11a-0a03-4cf5-8e8f-7767e4c2b7e6",
   "metadata": {},
   "outputs": [
    {
     "name": "stdout",
     "output_type": "stream",
     "text": [
      "300\n"
     ]
    }
   ],
   "source": [
    "a = 100\n",
    "b = 200\n",
    "print(a+b)"
   ]
  },
  {
   "cell_type": "markdown",
   "id": "9298c286-a7f6-4c74-8a45-a06239c2db3c",
   "metadata": {},
   "source": [
    "### Function with out parameters"
   ]
  },
  {
   "cell_type": "code",
   "execution_count": 29,
   "id": "33698c82-1db9-4e30-8388-e42516ab8d1e",
   "metadata": {},
   "outputs": [],
   "source": [
    "def addition():       \n",
    "    a = 100\n",
    "    b = 200\n",
    "    print(a+b)"
   ]
  },
  {
   "cell_type": "code",
   "execution_count": 3,
   "id": "9fdf3839-71e8-4756-a29e-0d6535da86e3",
   "metadata": {},
   "outputs": [
    {
     "name": "stdout",
     "output_type": "stream",
     "text": [
      "300\n"
     ]
    }
   ],
   "source": [
    "addition()"
   ]
  },
  {
   "cell_type": "code",
   "execution_count": 6,
   "id": "b42ee218-a1f0-433d-b51d-9d7a485cbce4",
   "metadata": {},
   "outputs": [],
   "source": [
    "def addition():\n",
    "    a = int(input(\"Enter a value: \"))\n",
    "    b = int(input(\"Enter b value: \"))\n",
    "    print(a+b)"
   ]
  },
  {
   "cell_type": "code",
   "execution_count": 7,
   "id": "b2794f64-70be-4698-b989-c0aca4efdf92",
   "metadata": {},
   "outputs": [
    {
     "name": "stdin",
     "output_type": "stream",
     "text": [
      "Enter a value:  299\n",
      "Enter b value:  677\n"
     ]
    },
    {
     "name": "stdout",
     "output_type": "stream",
     "text": [
      "976\n"
     ]
    }
   ],
   "source": [
    "addition()"
   ]
  },
  {
   "cell_type": "code",
   "execution_count": 9,
   "id": "c9bef1b4-fee8-4f33-b681-24d5d68ff789",
   "metadata": {},
   "outputs": [],
   "source": [
    "def addition(a, b):           # ---- Here a and b works as arguments\n",
    "    print(\"addition is :\", a+b)"
   ]
  },
  {
   "cell_type": "markdown",
   "id": "d4857174-d297-4ddf-9f90-a2907fd52588",
   "metadata": {},
   "source": [
    "### Functions with parameters"
   ]
  },
  {
   "cell_type": "code",
   "execution_count": 10,
   "id": "f9f67d06-6b2f-4fb7-8e7b-a43e1cde008c",
   "metadata": {},
   "outputs": [
    {
     "ename": "TypeError",
     "evalue": "addition() missing 2 required positional arguments: 'a' and 'b'",
     "output_type": "error",
     "traceback": [
      "\u001b[1;31m---------------------------------------------------------------------------\u001b[0m",
      "\u001b[1;31mTypeError\u001b[0m                                 Traceback (most recent call last)",
      "Cell \u001b[1;32mIn[10], line 1\u001b[0m\n\u001b[1;32m----> 1\u001b[0m \u001b[43maddition\u001b[49m\u001b[43m(\u001b[49m\u001b[43m)\u001b[49m\n",
      "\u001b[1;31mTypeError\u001b[0m: addition() missing 2 required positional arguments: 'a' and 'b'"
     ]
    }
   ],
   "source": [
    "addition()"
   ]
  },
  {
   "cell_type": "code",
   "execution_count": 11,
   "id": "634b8c3c-1926-46da-8e52-858e1fb8ced4",
   "metadata": {},
   "outputs": [
    {
     "name": "stdout",
     "output_type": "stream",
     "text": [
      "addition is : 579\n"
     ]
    }
   ],
   "source": [
    "addition(123, 456)"
   ]
  },
  {
   "cell_type": "code",
   "execution_count": 13,
   "id": "667a2aa9-82cb-47d7-a27c-4ca824590cde",
   "metadata": {},
   "outputs": [
    {
     "name": "stdout",
     "output_type": "stream",
     "text": [
      "addition is : 420\n"
     ]
    }
   ],
   "source": [
    "addition(b = 20, a = 400)"
   ]
  },
  {
   "cell_type": "code",
   "execution_count": 20,
   "id": "334d8e9c-0021-4fc8-afa7-dc7cf9552ab5",
   "metadata": {},
   "outputs": [
    {
     "name": "stdout",
     "output_type": "stream",
     "text": [
      "addition is : 1365\n",
      "subtracting b from a : -233\n"
     ]
    }
   ],
   "source": [
    "def arith(a = 100, b = 200):        # # ---- Here a and be works as keyword arguments\n",
    "    print(\"addition is :\", a+b)\n",
    "    print(\"subtracting b from a :\", b-a)\n",
    "arith(799, 566)"
   ]
  },
  {
   "cell_type": "code",
   "execution_count": 32,
   "id": "9f67042f-0dbc-4119-9a62-693bf4540941",
   "metadata": {},
   "outputs": [],
   "source": [
    "def login(username, password):\n",
    "    print(\"You've entered username :\", username)\n",
    "    print(\"You've entered password :\", password)\n",
    "    if username == 'Dhanush123' and password == 'Dh@nu&2022':\n",
    "        print(\"User logged in\")\n",
    "        print(\"Welcome,\", username)\n",
    "    else:\n",
    "        print(\"Invalid Credentials\")    "
   ]
  },
  {
   "cell_type": "code",
   "execution_count": 33,
   "id": "01273b20-7156-401b-8630-3770784fad58",
   "metadata": {},
   "outputs": [
    {
     "name": "stdout",
     "output_type": "stream",
     "text": [
      "You've entered username : Dhanush123\n",
      "You've entered password : Dh@nu&2022\n",
      "User logged in\n",
      "Welcome, Dhanush123\n"
     ]
    }
   ],
   "source": [
    "login(username = 'Dhanush123', password = 'Dh@nu&2022')"
   ]
  },
  {
   "cell_type": "code",
   "execution_count": 34,
   "id": "17cf7bfc-a02a-4465-ade4-81677ad066a4",
   "metadata": {},
   "outputs": [
    {
     "name": "stdout",
     "output_type": "stream",
     "text": [
      "You've entered username : ahsjfjds\n",
      "You've entered password : asyeuruau\n",
      "Invalid Credentials\n"
     ]
    }
   ],
   "source": [
    "login(\"ahsjfjds\", 'asyeuruau')"
   ]
  },
  {
   "cell_type": "markdown",
   "id": "d606158d-d448-42ac-8e6b-fdb750ad3bdb",
   "metadata": {},
   "source": [
    "### function with and without return"
   ]
  },
  {
   "cell_type": "code",
   "execution_count": 35,
   "id": "0cdb1925-082b-4a13-991c-f18f3e198116",
   "metadata": {},
   "outputs": [],
   "source": [
    "def login(username, password):\n",
    "    print(\"You've entered username :\", username)\n",
    "    print(\"You've entered password :\", password)\n",
    "    if username == 'Dhanush123' and password == 'Dh@nu&2022':\n",
    "        print(\"User logged in\")\n",
    "        print(\"Welcome,\", username)\n",
    "    else:\n",
    "        print(\"Invalid Credentials\") "
   ]
  },
  {
   "cell_type": "code",
   "execution_count": 38,
   "id": "da4cdfad-ba9f-4f24-9478-e38faf185a01",
   "metadata": {},
   "outputs": [
    {
     "name": "stdout",
     "output_type": "stream",
     "text": [
      "You've entered username : Dhanush123\n",
      "You've entered password : Dh@nu&2022\n",
      "User logged in\n",
      "Welcome, Dhanush123\n"
     ]
    }
   ],
   "source": [
    "result = login(\"Dhanush123\", \"Dh@nu&2022\")"
   ]
  },
  {
   "cell_type": "code",
   "execution_count": 40,
   "id": "a01aa97e-79bb-4f59-90ff-bce896d0e4ff",
   "metadata": {},
   "outputs": [],
   "source": [
    "result   # here result function is not getting any result due to we are not used return"
   ]
  },
  {
   "cell_type": "code",
   "execution_count": null,
   "id": "f901d0d5-4727-448a-ac3d-bdbeb73e33b5",
   "metadata": {},
   "outputs": [],
   "source": []
  },
  {
   "cell_type": "code",
   "execution_count": 44,
   "id": "8a870fd5-85f8-46ca-84af-f578511ff786",
   "metadata": {},
   "outputs": [],
   "source": [
    "def login(username, password):\n",
    "    print(\"You've entered username :\", username)\n",
    "    print(\"You've entered password :\", password)\n",
    "    if username == 'Dhanush123' and password == 'Dh@nu&2022':\n",
    "        user = \"Dhanush\"\n",
    "        print(\"User logged in\")\n",
    "        print(\"Welcome,\", username)\n",
    "    else:\n",
    "        user = None\n",
    "        print(\"Invalid Credentials\") \n",
    "    return user"
   ]
  },
  {
   "cell_type": "code",
   "execution_count": 50,
   "id": "b841e173-c8cc-4252-a736-67c21a3cfff1",
   "metadata": {},
   "outputs": [
    {
     "name": "stdout",
     "output_type": "stream",
     "text": [
      "You've entered username : Dhanush123\n",
      "You've entered password : Dh@nu&2022\n",
      "User logged in\n",
      "Welcome, Dhanush123\n"
     ]
    }
   ],
   "source": [
    "result = login(\"Dhanush123\", \"Dh@nu&2022\")"
   ]
  },
  {
   "cell_type": "code",
   "execution_count": 51,
   "id": "a9adee05-34ff-4d08-9097-7655b601cfb5",
   "metadata": {},
   "outputs": [
    {
     "data": {
      "text/plain": [
       "'Dhanush'"
      ]
     },
     "execution_count": 51,
     "metadata": {},
     "output_type": "execute_result"
    }
   ],
   "source": [
    "result"
   ]
  },
  {
   "cell_type": "code",
   "execution_count": 52,
   "id": "0d23d79d-5449-45df-838e-0aba0ed136cc",
   "metadata": {},
   "outputs": [
    {
     "name": "stdout",
     "output_type": "stream",
     "text": [
      "You've entered username : ush123\n",
      "You've entered password : Dh@nu&2022\n",
      "Invalid Credentials\n"
     ]
    }
   ],
   "source": [
    "result = login(\"ush123\", \"Dh@nu&2022\")"
   ]
  },
  {
   "cell_type": "code",
   "execution_count": 53,
   "id": "0289b06e-d868-41b0-9a5a-b07f95a15733",
   "metadata": {},
   "outputs": [],
   "source": [
    "result"
   ]
  },
  {
   "cell_type": "code",
   "execution_count": 54,
   "id": "fef1a0d0-06ba-4594-800d-440ebaf013bf",
   "metadata": {},
   "outputs": [],
   "source": [
    "def addition(a, b):\n",
    "    return a+b"
   ]
  },
  {
   "cell_type": "code",
   "execution_count": 56,
   "id": "aba0e35c-f8c2-422b-9370-c1b046e33905",
   "metadata": {},
   "outputs": [],
   "source": [
    "add = addition(10, 20)"
   ]
  },
  {
   "cell_type": "code",
   "execution_count": 57,
   "id": "e23f4953-42bd-4229-a800-94bcf1e1b6f4",
   "metadata": {},
   "outputs": [
    {
     "data": {
      "text/plain": [
       "30"
      ]
     },
     "execution_count": 57,
     "metadata": {},
     "output_type": "execute_result"
    }
   ],
   "source": [
    "add"
   ]
  },
  {
   "cell_type": "code",
   "execution_count": 59,
   "id": "ac1eb189-1e5f-4ffd-aafb-c8dbc75b2402",
   "metadata": {},
   "outputs": [],
   "source": [
    "def addition(a, b):\n",
    "    print(a+b)"
   ]
  },
  {
   "cell_type": "code",
   "execution_count": 60,
   "id": "047581b9-4c42-49c2-9e7f-bd3752ae656f",
   "metadata": {},
   "outputs": [
    {
     "name": "stdout",
     "output_type": "stream",
     "text": [
      "30\n"
     ]
    }
   ],
   "source": [
    "addition(10, 20)"
   ]
  },
  {
   "cell_type": "code",
   "execution_count": 61,
   "id": "fa3d5926-5d7c-4a2d-a588-527ec51a97b2",
   "metadata": {},
   "outputs": [
    {
     "name": "stdout",
     "output_type": "stream",
     "text": [
      "30\n"
     ]
    }
   ],
   "source": [
    "add_1 = addition(10, 20)"
   ]
  },
  {
   "cell_type": "code",
   "execution_count": 62,
   "id": "e78d0796-9a98-4cdf-a8b0-19200c94b3c8",
   "metadata": {},
   "outputs": [],
   "source": [
    "add_1"
   ]
  },
  {
   "cell_type": "code",
   "execution_count": null,
   "id": "723fce7f-302b-4862-9c66-ee6dffe3ea0e",
   "metadata": {},
   "outputs": [],
   "source": []
  },
  {
   "cell_type": "code",
   "execution_count": 74,
   "id": "88321b8e-6eac-4ab5-9c93-3bdf14770f90",
   "metadata": {},
   "outputs": [],
   "source": [
    "def login(username, password):\n",
    "    # print(\"You've entered username :\", username)\n",
    "    # print(\"You've entered password :\", password)\n",
    "    if username == 'Dhanush123' and password == 'Dh@nu&2022':\n",
    "        user = \"Dhanush\"\n",
    "        # print(\"User logged in\")\n",
    "        # print(\"Welcome,\", user)\n",
    "    elif username == 'Niharika123' and password == 'Nih@rik@2022':\n",
    "        user = \"Niharika\"\n",
    "        # print(\"User logged in\")\n",
    "        # print(\"Welcome,\", user)\n",
    "    else:\n",
    "        user = None\n",
    "        # print(\"Invalid Credentials\") \n",
    "    return user"
   ]
  },
  {
   "cell_type": "code",
   "execution_count": 75,
   "id": "ee23a272-6e26-4833-a07a-f7c1ed87acd6",
   "metadata": {},
   "outputs": [
    {
     "name": "stdout",
     "output_type": "stream",
     "text": [
      "Niharika Liked the post\n"
     ]
    }
   ],
   "source": [
    "### liking a post\n",
    "user = login(\"Niharika123\", \"Nih@rik@2022\")\n",
    "if user is not None:\n",
    "    print(user, \"Liked the post\")\n",
    "else:\n",
    "    print(\"Please login, if you want't to like this post\")"
   ]
  },
  {
   "cell_type": "code",
   "execution_count": 76,
   "id": "fcf035bf-2649-4e97-9706-a90fe601bd53",
   "metadata": {},
   "outputs": [
    {
     "name": "stdout",
     "output_type": "stream",
     "text": [
      "Dhanush Liked the post\n"
     ]
    }
   ],
   "source": [
    "user = login(\"Dhanush123\", \"Dh@nu&2022\")\n",
    "if user is not None:\n",
    "    print(user, \"Liked the post\")\n",
    "else:\n",
    "    print(\"Please login, if you want't to like this post\")"
   ]
  },
  {
   "cell_type": "code",
   "execution_count": 77,
   "id": "953f5184-b505-4da0-a9b0-1cd71fb1f5e5",
   "metadata": {},
   "outputs": [
    {
     "name": "stdout",
     "output_type": "stream",
     "text": [
      "Please login, if you want't to like this post\n"
     ]
    }
   ],
   "source": [
    "user = login(\"sdhfasjkdf\", \"Dh@nu&2022\")\n",
    "if user is not None:\n",
    "    print(user, \"Liked the post\")\n",
    "else:\n",
    "    print(\"Please login, if you want't to like this post\")"
   ]
  },
  {
   "cell_type": "code",
   "execution_count": null,
   "id": "8d03cd71-db0b-4cfb-82fe-1a9a074f7f70",
   "metadata": {},
   "outputs": [],
   "source": []
  },
  {
   "cell_type": "code",
   "execution_count": null,
   "id": "042efac6-e9b1-4435-b288-e7b36cb4a44e",
   "metadata": {},
   "outputs": [],
   "source": []
  }
 ],
 "metadata": {
  "kernelspec": {
   "display_name": "Python 3 (ipykernel)",
   "language": "python",
   "name": "python3"
  },
  "language_info": {
   "codemirror_mode": {
    "name": "ipython",
    "version": 3
   },
   "file_extension": ".py",
   "mimetype": "text/x-python",
   "name": "python",
   "nbconvert_exporter": "python",
   "pygments_lexer": "ipython3",
   "version": "3.10.11"
  }
 },
 "nbformat": 4,
 "nbformat_minor": 5
}
